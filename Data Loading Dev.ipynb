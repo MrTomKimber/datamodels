{
 "cells": [
  {
   "cell_type": "code",
   "execution_count": 10,
   "metadata": {},
   "outputs": [],
   "source": [
    "import pandas as pd\n",
    "import owlready2 as owlr \n",
    "#https://pythonhosted.org/Owlready/\n",
    "import rdflib\n",
    "from collections import Counter"
   ]
  },
  {
   "cell_type": "code",
   "execution_count": 2,
   "metadata": {},
   "outputs": [
    {
     "data": {
      "text/plain": [
       "get_ontology(\"http://www.semanticweb.org/tomk/ontologies/2022/9/datamodel#\")"
      ]
     },
     "execution_count": 2,
     "metadata": {},
     "output_type": "execute_result"
    }
   ],
   "source": [
    "onto = owlr.get_ontology(\"datamodels.owl\")\n",
    "onto.load()"
   ]
  },
  {
   "cell_type": "code",
   "execution_count": 3,
   "metadata": {},
   "outputs": [
    {
     "data": {
      "text/plain": [
       "['__class__',\n",
       " '__delattr__',\n",
       " '__dict__',\n",
       " '__dir__',\n",
       " '__doc__',\n",
       " '__enter__',\n",
       " '__eq__',\n",
       " '__exit__',\n",
       " '__format__',\n",
       " '__ge__',\n",
       " '__getattr__',\n",
       " '__getattribute__',\n",
       " '__getitem__',\n",
       " '__gt__',\n",
       " '__hash__',\n",
       " '__init__',\n",
       " '__init_subclass__',\n",
       " '__le__',\n",
       " '__lt__',\n",
       " '__module__',\n",
       " '__ne__',\n",
       " '__new__',\n",
       " '__reduce__',\n",
       " '__reduce_ex__',\n",
       " '__repr__',\n",
       " '__setattr__',\n",
       " '__sizeof__',\n",
       " '__str__',\n",
       " '__subclasshook__',\n",
       " '__weakref__',\n",
       " '_abbreviate',\n",
       " '_add_annotation_axiom',\n",
       " '_add_data_triple_raw_spod',\n",
       " '_add_data_triple_raw_spodsd',\n",
       " '_add_data_triple_spod',\n",
       " '_add_obj_triple_raw_spo',\n",
       " '_add_obj_triple_spo',\n",
       " '_base_iri',\n",
       " '_bnodes',\n",
       " '_del_annotation_axiom',\n",
       " '_del_data_triple_raw_spod',\n",
       " '_del_data_triple_raw_spodsd',\n",
       " '_del_data_triple_spod',\n",
       " '_del_list',\n",
       " '_del_obj_triple_raw_spo',\n",
       " '_del_obj_triple_spo',\n",
       " '_destroy_cached_entities',\n",
       " '_entity_destroyed',\n",
       " '_get_annotation_axioms',\n",
       " '_get_data_triple_sp_od',\n",
       " '_get_data_triples_s_pod',\n",
       " '_get_data_triples_sp_od',\n",
       " '_get_data_triples_spod_spod',\n",
       " '_get_obj_triple_po_s',\n",
       " '_get_obj_triple_sp_o',\n",
       " '_get_obj_triples_cspo',\n",
       " '_get_obj_triples_cspo_cspo',\n",
       " '_get_obj_triples_o_p',\n",
       " '_get_obj_triples_pio_s',\n",
       " '_get_obj_triples_po_s',\n",
       " '_get_obj_triples_s_po',\n",
       " '_get_obj_triples_sp_co',\n",
       " '_get_obj_triples_sp_o',\n",
       " '_get_obj_triples_spi_o',\n",
       " '_get_obj_triples_spo_spo',\n",
       " '_get_obj_triples_transitive_po',\n",
       " '_get_obj_triples_transitive_sp',\n",
       " '_get_obj_triples_transitive_sp_indirect',\n",
       " '_get_obj_triples_transitive_sym',\n",
       " '_get_triple_sp_od',\n",
       " '_get_triples_s_p',\n",
       " '_get_triples_s_pod',\n",
       " '_get_triples_sp_od',\n",
       " '_get_triples_spod_spod',\n",
       " '_has_data_triple_spod',\n",
       " '_has_obj_triple_spo',\n",
       " '_import_changed',\n",
       " '_imported_ontologies',\n",
       " '_load_properties',\n",
       " '_namespaces',\n",
       " '_new_numbered_iri',\n",
       " '_orig_base_iri',\n",
       " '_parse_bnode',\n",
       " '_parse_list',\n",
       " '_parse_list_as_rdf',\n",
       " '_refactor',\n",
       " '_refactor_onto',\n",
       " '_reload_bnode',\n",
       " '_set_data_triple_raw_spod',\n",
       " '_set_data_triple_raw_spodsd',\n",
       " '_set_data_triple_spod',\n",
       " '_set_list',\n",
       " '_set_list_as_rdf',\n",
       " '_set_obj_triple_raw_spo',\n",
       " '_set_obj_triple_spo',\n",
       " '_to_python',\n",
       " '_to_rdf',\n",
       " '_unabbreviate',\n",
       " 'annotation_properties',\n",
       " 'base_iri',\n",
       " 'classes',\n",
       " 'data_properties',\n",
       " 'destroy',\n",
       " 'different_individuals',\n",
       " 'disjoint_classes',\n",
       " 'disjoint_properties',\n",
       " 'disjoints',\n",
       " 'general_axioms',\n",
       " 'get_base_iri',\n",
       " 'get_children_of',\n",
       " 'get_imported_ontologies',\n",
       " 'get_instances_of',\n",
       " 'get_namespace',\n",
       " 'get_parents_of',\n",
       " 'get_python_module',\n",
       " 'get_triples',\n",
       " 'graph',\n",
       " 'imported_ontologies',\n",
       " 'inconsistent_classes',\n",
       " 'indirectly_imported_ontologies',\n",
       " 'individuals',\n",
       " 'load',\n",
       " 'loaded',\n",
       " 'metadata',\n",
       " 'name',\n",
       " 'object_properties',\n",
       " 'ontology',\n",
       " 'properties',\n",
       " 'python_module',\n",
       " 'rules',\n",
       " 'save',\n",
       " 'search',\n",
       " 'search_one',\n",
       " 'set_base_iri',\n",
       " 'set_imported_ontologies',\n",
       " 'set_python_module',\n",
       " 'storid',\n",
       " 'variables',\n",
       " 'world']"
      ]
     },
     "execution_count": 3,
     "metadata": {},
     "output_type": "execute_result"
    }
   ],
   "source": [
    "dir(onto)"
   ]
  },
  {
   "cell_type": "code",
   "execution_count": 6,
   "metadata": {},
   "outputs": [
    {
     "name": "stdout",
     "output_type": "stream",
     "text": [
      "datamodels.DomainModelClassEntityRecord\n",
      "\t datamodels.AttributeMapping [datamodels.Mapping]\n",
      "\t datamodels.ClassMapping [datamodels.Mapping]\n",
      "\t datamodels.DomainMapping [datamodels.Mapping]\n",
      "\t datamodels.ModelMapping [datamodels.Mapping]\n",
      "\t datamodels.hasAttributeMapping [datamodels.Mapping]\n",
      "\t datamodels.hasClassMapping [datamodels.Mapping]\n",
      "\t datamodels.hasDataType [datamodels.Mapping]\n",
      "\t datamodels.hasModelMapping [datamodels.Mapping]\n",
      "\t datamodels.hasModelTypeMapping [datamodels.Mapping]\n"
     ]
    }
   ],
   "source": [
    "individuals = [(i, i.is_a.first()) for i in onto.individuals()]\n",
    "serializations = [i[0] for i in individuals if i[1] == onto.Serialization]\n",
    "for s in serializations:\n",
    "    print(s)\n",
    "    mappings = [m for m in s.SerializationContainsMapping]\n",
    "    for m in mappings:\n",
    "        print (\"\\t\", m, m.is_a)"
   ]
  },
  {
   "cell_type": "code",
   "execution_count": 7,
   "metadata": {},
   "outputs": [
    {
     "name": "stderr",
     "output_type": "stream",
     "text": [
      "* Owlready2 * Running HermiT...\n",
      "    java -Xmx2000M -cp /usr/local/python/py36/lib/python3.6/site-packages/owlready2/hermit:/usr/local/python/py36/lib/python3.6/site-packages/owlready2/hermit/HermiT.jar org.semanticweb.HermiT.cli.CommandLine -c -O -D -I file:////var/folders/rd/q3bhk6_n56x75m05pp2sq7dr0000gn/T/tmpmdu4vifc\n",
      "* Owlready2 * HermiT took 1.145570993423462 seconds\n",
      "* Owlready * Equivalenting: datamodels.Identifier datamodels.r_Identifier\n",
      "* Owlready * Equivalenting: datamodels.r_Identifier datamodels.Identifier\n",
      "* Owlready * Equivalenting: datamodels.PartialIdentifier datamodels.r_PartialIdentifier\n",
      "* Owlready * Equivalenting: datamodels.r_PartialIdentifier datamodels.PartialIdentifier\n",
      "* Owlready * Reparenting datamodels.r_Identifier: {owl.ObjectProperty} => {datamodels.Attribute}\n",
      "* Owlready * Reparenting datamodels.hasModelTypeMapping: {datamodels.Mapping} => {datamodels.PropertyMapping}\n",
      "* Owlready * Reparenting datamodels.hasDataType: {datamodels.Mapping} => {datamodels.PropertyMapping}\n",
      "* Owlready * Reparenting datamodels.DomainMapping: {datamodels.Mapping} => {datamodels.EntityMapping}\n",
      "* Owlready * Reparenting datamodels.hasAttributeMapping: {datamodels.Mapping} => {datamodels.PropertyMapping}\n",
      "* Owlready * Reparenting datamodels.ClassMapping: {datamodels.Mapping} => {datamodels.EntityMapping}\n",
      "* Owlready * Reparenting datamodels.hasClassMapping: {datamodels.Mapping} => {datamodels.PropertyMapping}\n",
      "* Owlready * Reparenting datamodels.hasModelMapping: {datamodels.Mapping} => {datamodels.PropertyMapping}\n",
      "* Owlready * Reparenting datamodels.ModelMapping: {datamodels.Mapping} => {datamodels.EntityMapping}\n",
      "* Owlready * Reparenting datamodels.AttributeMapping: {datamodels.Mapping} => {datamodels.EntityMapping}\n",
      "* Owlready * (NB: only changes on entities loaded in Python are shown, other changes are done but not listed)\n"
     ]
    }
   ],
   "source": [
    "with onto:\n",
    "    owlr.sync_reasoner()"
   ]
  },
  {
   "cell_type": "code",
   "execution_count": 11,
   "metadata": {},
   "outputs": [
    {
     "data": {
      "text/plain": [
       "{'Attribute': datamodels.Attribute,\n",
       " 'Class': datamodels.Class,\n",
       " 'Context': datamodels.Context,\n",
       " 'DataModel': datamodels.DataModel,\n",
       " 'DataType': datamodels.DataType,\n",
       " 'DataTypeSchema': datamodels.DataTypeSchema,\n",
       " 'Mapping': datamodels.Mapping,\n",
       " 'Domain': datamodels.ModelDomain,\n",
       " 'Relationship': datamodels.Relationship,\n",
       " 'Serialization': datamodels.Serialization,\n",
       " 'ModelTypeCode': datamodels.ModelTypeCode,\n",
       " 'hasDataType': datamodels.AttributeHasDataType,\n",
       " 'hasAttribute': datamodels.ClassHasAttribute,\n",
       " 'hasClass': datamodels.ModelContainsClass,\n",
       " 'hasModel': datamodels.ModelDomainContainsModel,\n",
       " 'hasModelType': datamodels.ModelHasModelTypeCode}"
      ]
     },
     "execution_count": 11,
     "metadata": {},
     "output_type": "execute_result"
    }
   ],
   "source": [
    "mapped_things = [(c,c.MappingKey) for c in onto.classes() if len(c.MappingKey) > 0] + \\\n",
    "                [(p, p.MappingKey) for p in onto.properties() if len(p.MappingKey) > 0]\n",
    "mappable_things = {v[0]:k for k,v in mapped_things}\n",
    "assert all([v==1 for v in Counter([b for c in mapped_things for b in c[1]]).values()])\n",
    "del mapped_things\n",
    "mappable_things"
   ]
  },
  {
   "cell_type": "code",
   "execution_count": 13,
   "metadata": {},
   "outputs": [],
   "source": [
    "data_row = { \"Business Domain\" : \"Core\", \n",
    "             \"Model\" : \"Principal Interactions\", \n",
    "           \"ModelType\" : \"Conceptual\", \n",
    "           \"Entity\" : \"Person\", \n",
    "           \"Attribute\" : \"PersonID\", \n",
    "           \"DataType\" : \"xsd:string\"}"
   ]
  },
  {
   "cell_type": "code",
   "execution_count": 26,
   "metadata": {},
   "outputs": [
    {
     "name": "stdout",
     "output_type": "stream",
     "text": [
      "datamodels.DomainModelClassEntityRecord\n",
      "datamodels.AttributeMapping\n",
      "datamodels.ClassMapping\n",
      "datamodels.DomainMapping\n",
      "datamodels.ModelMapping\n",
      "datamodels.hasAttributeMapping\n",
      "datamodels.hasClassMapping\n",
      "datamodels.hasDataType\n",
      "datamodels.hasModelMapping\n",
      "datamodels.hasModelTypeMapping\n",
      "('PersonID', 'rdf:type', datamodels.Attribute)\n",
      "('Person', 'rdf:type', datamodels.Class)\n",
      "('Core', 'rdf:type', datamodels.ModelDomain)\n",
      "('Principal Interactions', 'rdf:type', datamodels.DataModel)\n",
      "\n",
      "('hasAttribute', datamodels.Class, datamodels.ClassHasAttribute, datamodels.Attribute, 'PersonID')\n",
      "('hasClass', datamodels.DataModel, datamodels.ModelContainsClass, datamodels.Class, 'Person')\n",
      "('hasModel', datamodels.ModelDomain, datamodels.ModelDomainContainsModel, datamodels.DataModel, 'Principal Interactions')\n",
      "('hasDataType', datamodels.Attribute, datamodels.AttributeHasDataType, datamodels.DataType, 'xsd:string')\n",
      "('hasModelType', datamodels.DataModel, datamodels.ModelHasModelTypeCode, datamodels.ModelTypeCode, 'Conceptual')\n"
     ]
    }
   ],
   "source": [
    "for s in serializations:\n",
    "    print(s)\n",
    "    mappings = [m for m in s.SerializationContainsMapping]\n",
    "    serials = {}\n",
    "    for m in mappings:\n",
    "        print (m)\n",
    "        s_key = m.SerializationLabel.first()\n",
    "        i_key = m.MappingLabel.first()\n",
    "        if s_key not in serials.keys():\n",
    "            serials[s_key]=[]\n",
    "        if m.is_a.first() == onto.EntityMapping:\n",
    "            o_range = m.MappingRange.first()\n",
    "            serials[s_key].append((data_row[s_key], \"rdf:type\", mappable_things[o_range]))\n",
    "    \n",
    "        elif m.is_a.first() == onto.PropertyMapping:\n",
    "            s_domain = m.MappingDomain.first()\n",
    "            o_range = m.MappingRange.first()\n",
    "            serials[s_key].append((i_key,  mappable_things[s_domain], mappable_things[i_key], mappable_things[o_range], data_row[s_key] ))\n",
    "        else:\n",
    "            print(m.is_a)\n",
    "            print(s_key)\n",
    "            assert False\n",
    "\n",
    "for v in serials.values():\n",
    "    for u in v:\n",
    "        if u[1]==\"rdf:type\":\n",
    "            print(u)\n",
    "\n",
    "print()\n",
    "\n",
    "for v in serials.values():\n",
    "    for u in v:\n",
    "        if u[1]!=\"rdf:type\":\n",
    "            print(u)\n",
    "\n"
   ]
  },
  {
   "cell_type": "code",
   "execution_count": null,
   "metadata": {},
   "outputs": [],
   "source": []
  },
  {
   "cell_type": "code",
   "execution_count": null,
   "metadata": {},
   "outputs": [],
   "source": []
  },
  {
   "cell_type": "code",
   "execution_count": null,
   "metadata": {},
   "outputs": [],
   "source": []
  }
 ],
 "metadata": {
  "kernelspec": {
   "display_name": "Python 3",
   "language": "python",
   "name": "python3"
  },
  "language_info": {
   "codemirror_mode": {
    "name": "ipython",
    "version": 3
   },
   "file_extension": ".py",
   "mimetype": "text/x-python",
   "name": "python",
   "nbconvert_exporter": "python",
   "pygments_lexer": "ipython3",
   "version": "3.6.7"
  }
 },
 "nbformat": 4,
 "nbformat_minor": 2
}
