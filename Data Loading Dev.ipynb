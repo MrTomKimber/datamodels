{
 "cells": [
  {
   "cell_type": "code",
   "execution_count": 1,
   "metadata": {},
   "outputs": [
    {
     "name": "stderr",
     "output_type": "stream",
     "text": [
      "* Owlready2 * Warning: optimized Cython parser module 'owlready2_optimized' is not available, defaulting to slower Python implementation\n"
     ]
    }
   ],
   "source": [
    "import pandas as pd\n",
    "import owlready2 as owlr \n",
    "#https://pythonhosted.org/Owlready/\n",
    "import rdflib\n",
    "from collections import Counter\n",
    "import uuid"
   ]
  },
  {
   "cell_type": "code",
   "execution_count": 2,
   "metadata": {},
   "outputs": [],
   "source": [
    "raw_world = owlr.World(filename='raw_world.sqlite3')\n",
    "rawdms = raw_world.get_ontology(\"datamodels.owl\").load()\n",
    "clean_world = owlr.World(filename='clean_world.sqlite3')\n",
    "cleandms = clean_world.get_ontology(\"datamodels.owl\").load()\n",
    "onto = rawdms"
   ]
  },
  {
   "cell_type": "code",
   "execution_count": null,
   "metadata": {},
   "outputs": [],
   "source": []
  },
  {
   "cell_type": "code",
   "execution_count": 3,
   "metadata": {},
   "outputs": [
    {
     "name": "stdout",
     "output_type": "stream",
     "text": [
      "datamodels.DomainModelClassEntityRecord\n",
      "\t datamodels.AttributeMapping [datamodels.Mapping]\n",
      "\t datamodels.ClassMapping [datamodels.Mapping]\n",
      "\t datamodels.DomainMapping [datamodels.Mapping]\n",
      "\t datamodels.ModelMapping [datamodels.Mapping]\n",
      "\t datamodels.hasAttributeMapping [datamodels.Mapping]\n",
      "\t datamodels.hasClassMapping [datamodels.Mapping]\n",
      "\t datamodels.hasDataTypeMapping [datamodels.Mapping]\n",
      "\t datamodels.hasModelMapping [datamodels.Mapping]\n",
      "\t datamodels.hasModelTypeMapping [datamodels.Mapping]\n"
     ]
    }
   ],
   "source": [
    "onto_dataproperties = list(onto.data_properties())\n",
    "onto_individuals = list (onto.individuals())\n",
    "individuals = [(i, i.is_a.first()) for i in onto_individuals + onto_dataproperties]\n",
    "serializations = [i[0] for i in individuals if i[1] == onto.Serialization]\n",
    "\n",
    "for s in serializations:\n",
    "    print(s)\n",
    "    mappings = [m for m in s.SerializationContainsMapping]\n",
    "    for m in mappings:\n",
    "        print (\"\\t\", m, m.is_a)"
   ]
  },
  {
   "cell_type": "code",
   "execution_count": 4,
   "metadata": {},
   "outputs": [
    {
     "name": "stderr",
     "output_type": "stream",
     "text": [
      "* Owlready2 * Running HermiT...\n",
      "    java -Xmx2000M -cp /usr/local/python/py36/lib/python3.6/site-packages/owlready2/hermit:/usr/local/python/py36/lib/python3.6/site-packages/owlready2/hermit/HermiT.jar org.semanticweb.HermiT.cli.CommandLine -c -O -D -I file:////var/folders/rd/q3bhk6_n56x75m05pp2sq7dr0000gn/T/tmpde4zk1hv\n",
      "* Owlready2 * HermiT took 1.0635490417480469 seconds\n",
      "* Owlready * Equivalenting: datamodels.PartialIdentifier datamodels.r_PartialIdentifier\n",
      "* Owlready * Equivalenting: datamodels.r_PartialIdentifier datamodels.PartialIdentifier\n",
      "* Owlready * Equivalenting: datamodels.Identifier datamodels.r_Identifier\n",
      "* Owlready * Equivalenting: datamodels.r_Identifier datamodels.Identifier\n",
      "* Owlready * Reparenting datamodels.r_PartialIdentifier: {owl.ObjectProperty} => {datamodels.Attribute}\n",
      "* Owlready * Reparenting datamodels.Identifier: {owl.DatatypeProperty} => {datamodels.Attribute}\n",
      "* Owlready * Reparenting datamodels.IdentityClassParentModel: {datamodels.IdentityParent, owl.ObjectProperty} => {datamodels.IdentityParent}\n",
      "* Owlready * Reparenting datamodels.AttributeIsMemberOfClass: {owl.ObjectProperty} => {datamodels.IdentityParent}\n",
      "* Owlready * Reparenting datamodels.hasModelTypeMapping: {datamodels.Mapping} => {datamodels.PropertyMapping}\n",
      "* Owlready * Reparenting datamodels.AttributeMapping: {datamodels.Mapping} => {datamodels.EntityMapping}\n",
      "* Owlready * Reparenting datamodels.DomainMapping: {datamodels.Mapping} => {datamodels.EntityMapping}\n",
      "* Owlready * Reparenting datamodels.hasModelMapping: {datamodels.Mapping} => {datamodels.PropertyMapping}\n",
      "* Owlready * Reparenting datamodels.hasAttributeMapping: {datamodels.Mapping} => {datamodels.PropertyMapping}\n",
      "* Owlready * Reparenting datamodels.hasDataTypeMapping: {datamodels.Mapping} => {datamodels.PropertyMapping}\n",
      "* Owlready * Reparenting datamodels.ClassMapping: {datamodels.Mapping} => {datamodels.EntityMapping}\n",
      "* Owlready * Reparenting datamodels.hasClassMapping: {datamodels.Mapping} => {datamodels.PropertyMapping}\n",
      "* Owlready * Reparenting datamodels.ModelMapping: {datamodels.Mapping} => {datamodels.EntityMapping}\n",
      "* Owlready * (NB: only changes on entities loaded in Python are shown, other changes are done but not listed)\n"
     ]
    }
   ],
   "source": [
    "with onto:\n",
    "    owlr.sync_reasoner(raw_world)"
   ]
  },
  {
   "cell_type": "code",
   "execution_count": null,
   "metadata": {},
   "outputs": [],
   "source": []
  },
  {
   "cell_type": "code",
   "execution_count": 5,
   "metadata": {},
   "outputs": [
    {
     "data": {
      "text/plain": [
       "{'Attribute': datamodels.Attribute,\n",
       " 'Class': datamodels.Class,\n",
       " 'Context': datamodels.Context,\n",
       " 'DataModel': datamodels.DataModel,\n",
       " 'Mapping': datamodels.Mapping,\n",
       " 'Domain': datamodels.ModelDomain,\n",
       " 'Relationship': datamodels.Relationship,\n",
       " 'Serialization': datamodels.Serialization,\n",
       " 'hasDataType': datamodels.DataType,\n",
       " 'hasModelType': datamodels.ModelTypeCode,\n",
       " 'hasAttribute': datamodels.ClassHasAttribute,\n",
       " 'isAttributeParent': datamodels.IdentityAttributeParentClass,\n",
       " 'isClassParent': datamodels.IdentityClassParentModel,\n",
       " 'isRelationshipParent': datamodels.IdentityRelationshipParentModel,\n",
       " 'hasClass': datamodels.ModelContainsClass,\n",
       " 'hasModel': datamodels.ModelDomainContainsModel}"
      ]
     },
     "execution_count": 5,
     "metadata": {},
     "output_type": "execute_result"
    }
   ],
   "source": [
    "mapped_things = [(c,c.MappingKey) for c in onto.classes() if len(c.MappingKey) > 0] + \\\n",
    "                [(p, p.MappingKey) for p in onto.properties() if len(p.MappingKey) > 0]\n",
    "mappable_things = {v[0]:k for k,v in mapped_things}\n",
    "assert all([v==1 for v in Counter([b for c in mapped_things for b in c[1]]).values()])\n",
    "del mapped_things\n",
    "mappable_things"
   ]
  },
  {
   "cell_type": "code",
   "execution_count": 6,
   "metadata": {},
   "outputs": [],
   "source": [
    "data_row = { \"Business Domain\" : \"Core\", \n",
    "             \"Model\" : \"Principal Interactions\", \n",
    "             \"ModelType\" : \"Conceptual\", \n",
    "             \"Entity\" : \"Person\", \n",
    "             \"Attribute\" : \"PersonID\", \n",
    "             \"DataType\" : \"string\"}"
   ]
  },
  {
   "cell_type": "code",
   "execution_count": 7,
   "metadata": {},
   "outputs": [],
   "source": [
    "def instantiate_thing(label, tclass, space, test_for_existing=True):\n",
    "    # Check to see if this object of the same class contains the same label\n",
    "    # if so, then return the first item of that name\n",
    "    if test_for_existing:\n",
    "        matches = [i for i in space.search(type=tclass) if label in i.label]\n",
    "        if len(matches)>0:\n",
    "            return matches[0]\n",
    "    # Otherwise, generate a unique ID, create the item in the space and assign this label\n",
    "    guid = uuid.uuid4().hex\n",
    "    with space:\n",
    "        i = tclass(guid, namespace=space)\n",
    "    i.label=label\n",
    "    return i\n",
    "    "
   ]
  },
  {
   "cell_type": "code",
   "execution_count": 8,
   "metadata": {},
   "outputs": [],
   "source": [
    "def instantiate_property(subject_key, subject_domain, predicate, object_key, object_domain, space):\n",
    "    # Get classes for domains and ranges\n",
    "    sd_list = [c for c in list(space.classes()) if c==subject_domain]\n",
    "    od_list = [c for c in list(space.classes()) if c==object_domain]\n",
    "    \n",
    "    # Get instances of classes that match provided keys\n",
    "    if subject_key is None:\n",
    "        c_s = [s for l in sd_list for s in l.instances()]\n",
    "    else:\n",
    "        c_s = [s for s in sd_list for s in l.instances() if subject_key in s.label]\n",
    "        \n",
    "    if object_key is None:\n",
    "        c_o = [o for l in od_list for o in l.instances()]\n",
    "    else:\n",
    "        print (\"labels\", [(o.label, object_key in o.label, object_key) for o in od_list])\n",
    "        c_o = [o for l in od_list for o in l.instances()if object_key in o.label]\n",
    "    \n",
    "    print(od_list, object_key)\n",
    "    \n",
    "    print(predicate)\n",
    "    predicate.python_name=\"predicate\"\n",
    "    print(c_s[0], predicate)\n",
    "    if len(c_o)==0:\n",
    "        print(\"property_data\", predicate, object_key, od_list)\n",
    "        prop_relation = c_s[0].predicate.append(object_key)\n",
    "    else:\n",
    "        if predicate.is_functional_for(c_o[0]):\n",
    "            prop_relation = c_s[0].predicate=c_o[0]\n",
    "        else:\n",
    "            prop_relation = c_s[0].predicate=[c_o[0]]\n",
    "    predicate.python_name = \"\"\n",
    "    return c_s, predicate, c_o, prop_relation"
   ]
  },
  {
   "cell_type": "code",
   "execution_count": 9,
   "metadata": {},
   "outputs": [],
   "source": [
    "#ont = cleandms\n",
    "#ont = onto\n",
    "#q = instantiate_thing(\"test\", onto.Class, cleandms, True)\n",
    "#q = instantiate_thing(\"test 2\", onto.Class, onto, True)\n",
    "\n",
    "#for i in ont.Class.instances():\n",
    "#    print (i.iri, i.label)"
   ]
  },
  {
   "cell_type": "code",
   "execution_count": 10,
   "metadata": {},
   "outputs": [],
   "source": [
    "#for i in onto.Class.instances():\n",
    "#    print (i.iri, i.label)"
   ]
  },
  {
   "cell_type": "code",
   "execution_count": 11,
   "metadata": {},
   "outputs": [
    {
     "name": "stdout",
     "output_type": "stream",
     "text": [
      "datamodels.DomainModelClassEntityRecord\n",
      "\t datamodels.AttributeMapping Attribute\n",
      "\t\tEntity:datamodels.AttributeMapping\n",
      "\t datamodels.ClassMapping Entity\n",
      "\t\tEntity:datamodels.ClassMapping\n",
      "\t datamodels.DomainMapping Business Domain\n",
      "\t\tEntity:datamodels.DomainMapping\n",
      "\t datamodels.ModelMapping Model\n",
      "\t\tEntity:datamodels.ModelMapping\n",
      "\t datamodels.hasAttributeMapping Attribute\n",
      "\t\tProperty:datamodels.hasAttributeMapping\n",
      "\t datamodels.hasClassMapping Entity\n",
      "\t\tProperty:datamodels.hasClassMapping\n",
      "\t datamodels.hasDataTypeMapping DataType\n",
      "\t\tProperty:datamodels.hasDataTypeMapping\n",
      "\t datamodels.hasModelMapping Model\n",
      "\t\tProperty:datamodels.hasModelMapping\n",
      "\t datamodels.hasModelTypeMapping ModelType\n",
      "\t\tProperty:datamodels.hasModelTypeMapping\n",
      "\n",
      "{'type': 'entity', 'mapping_name': 'Attribute', 'property': 'rdf:type:', 'range': datamodels.Attribute, 'subject_label': 'PersonID'}\n",
      "{'type': 'entity', 'mapping_name': 'Attribute', 'property': 'rdf:type:', 'range': datamodels.Attribute, 'subject_label': 'PersonID'}\n",
      "{'type': 'property', 'mapping_name': 'hasAttribute', 'domain': datamodels.Class, 'property': datamodels.ClassHasAttribute, 'range': datamodels.Attribute, 'range_search_value': 'PersonID'}\n",
      "{'type': 'entity', 'mapping_name': 'Class', 'property': 'rdf:type:', 'range': datamodels.Class, 'subject_label': 'Person'}\n",
      "{'type': 'entity', 'mapping_name': 'Class', 'property': 'rdf:type:', 'range': datamodels.Class, 'subject_label': 'Person'}\n",
      "{'type': 'property', 'mapping_name': 'hasClass', 'domain': datamodels.DataModel, 'property': datamodels.ModelContainsClass, 'range': datamodels.Class, 'range_search_value': 'Person'}\n",
      "{'type': 'entity', 'mapping_name': 'Domain', 'property': 'rdf:type:', 'range': datamodels.ModelDomain, 'subject_label': 'Core'}\n",
      "{'type': 'entity', 'mapping_name': 'Domain', 'property': 'rdf:type:', 'range': datamodels.ModelDomain, 'subject_label': 'Core'}\n",
      "{'type': 'entity', 'mapping_name': 'DataModel', 'property': 'rdf:type:', 'range': datamodels.DataModel, 'subject_label': 'Principal Interactions'}\n",
      "{'type': 'entity', 'mapping_name': 'DataModel', 'property': 'rdf:type:', 'range': datamodels.DataModel, 'subject_label': 'Principal Interactions'}\n",
      "{'type': 'property', 'mapping_name': 'hasModel', 'domain': datamodels.ModelDomain, 'property': datamodels.ModelDomainContainsModel, 'range': datamodels.DataModel, 'range_search_value': 'Principal Interactions'}\n",
      "{'type': 'property', 'mapping_name': 'hasDataType', 'domain': datamodels.Attribute, 'property': datamodels.DataType, 'range': 'DataType', 'range_search_value': 'string'}\n",
      "{'type': 'property', 'mapping_name': 'hasModelType', 'domain': datamodels.DataModel, 'property': datamodels.ModelTypeCode, 'range': 'ModelTypeCode', 'range_search_value': 'Conceptual'}\n",
      "\n",
      "labels [(['Attribute'], False, 'PersonID')]\n",
      "[datamodels.Attribute] PersonID\n",
      "datamodels.ClassHasAttribute\n",
      "datamodels.c4bdba70e078485b9b93b6d3ab507bb6 datamodels.ClassHasAttribute\n",
      "labels [(['Class'], False, 'Person')]\n",
      "[datamodels.Class] Person\n",
      "datamodels.ModelContainsClass\n",
      "datamodels.15a0526ad88b48cb8a5f4841e67f139a datamodels.ModelContainsClass\n",
      "labels [([], False, 'Principal Interactions')]\n",
      "[datamodels.DataModel] Principal Interactions\n",
      "datamodels.ModelDomainContainsModel\n",
      "datamodels.a3374038511e4f91a2bef2412a7a44f4 datamodels.ModelDomainContainsModel\n",
      "labels []\n",
      "[] string\n",
      "datamodels.DataType\n",
      "datamodels.468c634c09a44f4c9bb2f33f4e5fbf69 datamodels.DataType\n",
      "property_data datamodels.DataType string []\n",
      "labels []\n",
      "[] Conceptual\n",
      "datamodels.ModelTypeCode\n",
      "datamodels.15a0526ad88b48cb8a5f4841e67f139a datamodels.ModelTypeCode\n",
      "property_data datamodels.ModelTypeCode Conceptual []\n"
     ]
    },
    {
     "ename": "AttributeError",
     "evalue": "'str' object has no attribute 'storid'",
     "output_type": "error",
     "traceback": [
      "\u001b[0;31m---------------------------------------------------------------------------\u001b[0m",
      "\u001b[0;31mAttributeError\u001b[0m                            Traceback (most recent call last)",
      "\u001b[0;32m<ipython-input-11-6cefc1998658>\u001b[0m in \u001b[0;36m<module>\u001b[0;34m\u001b[0m\n\u001b[1;32m     64\u001b[0m \u001b[0;34m\u001b[0m\u001b[0m\n\u001b[1;32m     65\u001b[0m             \u001b[0mp_objects\u001b[0m\u001b[0;34m.\u001b[0m\u001b[0mappend\u001b[0m\u001b[0;34m(\u001b[0m\u001b[0mu\u001b[0m\u001b[0;34m)\u001b[0m\u001b[0;34m\u001b[0m\u001b[0;34m\u001b[0m\u001b[0m\n\u001b[0;32m---> 66\u001b[0;31m             \u001b[0minstantiate_property\u001b[0m\u001b[0;34m(\u001b[0m\u001b[0;32mNone\u001b[0m\u001b[0;34m,\u001b[0m \u001b[0mu\u001b[0m\u001b[0;34m[\u001b[0m\u001b[0;34m'domain'\u001b[0m\u001b[0;34m]\u001b[0m\u001b[0;34m,\u001b[0m \u001b[0mu\u001b[0m\u001b[0;34m[\u001b[0m\u001b[0;34m'property'\u001b[0m\u001b[0;34m]\u001b[0m\u001b[0;34m,\u001b[0m \u001b[0mu\u001b[0m\u001b[0;34m[\u001b[0m\u001b[0;34m\"range_search_value\"\u001b[0m\u001b[0;34m]\u001b[0m\u001b[0;34m,\u001b[0m \u001b[0mu\u001b[0m\u001b[0;34m[\u001b[0m\u001b[0;34m'range'\u001b[0m\u001b[0;34m]\u001b[0m\u001b[0;34m,\u001b[0m \u001b[0monto\u001b[0m\u001b[0;34m)\u001b[0m\u001b[0;34m\u001b[0m\u001b[0;34m\u001b[0m\u001b[0m\n\u001b[0m",
      "\u001b[0;32m<ipython-input-8-157d07138180>\u001b[0m in \u001b[0;36minstantiate_property\u001b[0;34m(subject_key, subject_domain, predicate, object_key, object_domain, space)\u001b[0m\n\u001b[1;32m     23\u001b[0m     \u001b[0;32mif\u001b[0m \u001b[0mlen\u001b[0m\u001b[0;34m(\u001b[0m\u001b[0mc_o\u001b[0m\u001b[0;34m)\u001b[0m\u001b[0;34m==\u001b[0m\u001b[0;36m0\u001b[0m\u001b[0;34m:\u001b[0m\u001b[0;34m\u001b[0m\u001b[0;34m\u001b[0m\u001b[0m\n\u001b[1;32m     24\u001b[0m         \u001b[0mprint\u001b[0m\u001b[0;34m(\u001b[0m\u001b[0;34m\"property_data\"\u001b[0m\u001b[0;34m,\u001b[0m \u001b[0mpredicate\u001b[0m\u001b[0;34m,\u001b[0m \u001b[0mobject_key\u001b[0m\u001b[0;34m,\u001b[0m \u001b[0mod_list\u001b[0m\u001b[0;34m)\u001b[0m\u001b[0;34m\u001b[0m\u001b[0;34m\u001b[0m\u001b[0m\n\u001b[0;32m---> 25\u001b[0;31m         \u001b[0mprop_relation\u001b[0m \u001b[0;34m=\u001b[0m \u001b[0mc_s\u001b[0m\u001b[0;34m[\u001b[0m\u001b[0;36m0\u001b[0m\u001b[0;34m]\u001b[0m\u001b[0;34m.\u001b[0m\u001b[0mpredicate\u001b[0m\u001b[0;34m.\u001b[0m\u001b[0mappend\u001b[0m\u001b[0;34m(\u001b[0m\u001b[0mobject_key\u001b[0m\u001b[0;34m)\u001b[0m\u001b[0;34m\u001b[0m\u001b[0;34m\u001b[0m\u001b[0m\n\u001b[0m\u001b[1;32m     26\u001b[0m     \u001b[0;32melse\u001b[0m\u001b[0;34m:\u001b[0m\u001b[0;34m\u001b[0m\u001b[0;34m\u001b[0m\u001b[0m\n\u001b[1;32m     27\u001b[0m         \u001b[0;32mif\u001b[0m \u001b[0mpredicate\u001b[0m\u001b[0;34m.\u001b[0m\u001b[0mis_functional_for\u001b[0m\u001b[0;34m(\u001b[0m\u001b[0mc_o\u001b[0m\u001b[0;34m[\u001b[0m\u001b[0;36m0\u001b[0m\u001b[0;34m]\u001b[0m\u001b[0;34m)\u001b[0m\u001b[0;34m:\u001b[0m\u001b[0;34m\u001b[0m\u001b[0;34m\u001b[0m\u001b[0m\n",
      "\u001b[0;32m/usr/local/python/py36/lib/python3.6/site-packages/owlready2/util.py\u001b[0m in \u001b[0;36mappend\u001b[0;34m(self, x)\u001b[0m\n\u001b[1;32m     75\u001b[0m   \u001b[0;32mdef\u001b[0m \u001b[0m_replace\u001b[0m\u001b[0;34m(\u001b[0m\u001b[0mself\u001b[0m\u001b[0;34m,\u001b[0m \u001b[0mold\u001b[0m\u001b[0;34m,\u001b[0m \u001b[0mnew\u001b[0m\u001b[0;34m)\u001b[0m\u001b[0;34m:\u001b[0m \u001b[0msuper\u001b[0m\u001b[0;34m(\u001b[0m\u001b[0;34m)\u001b[0m\u001b[0;34m.\u001b[0m\u001b[0m__setitem__\u001b[0m\u001b[0;34m(\u001b[0m\u001b[0mself\u001b[0m\u001b[0;34m.\u001b[0m\u001b[0mindex\u001b[0m\u001b[0;34m(\u001b[0m\u001b[0mold\u001b[0m\u001b[0;34m)\u001b[0m\u001b[0;34m,\u001b[0m \u001b[0mnew\u001b[0m\u001b[0;34m)\u001b[0m\u001b[0;34m\u001b[0m\u001b[0;34m\u001b[0m\u001b[0m\n\u001b[1;32m     76\u001b[0m   \u001b[0;32mdef\u001b[0m \u001b[0mreinit\u001b[0m\u001b[0;34m(\u001b[0m\u001b[0mself\u001b[0m\u001b[0;34m,\u001b[0m \u001b[0ml\u001b[0m\u001b[0;34m)\u001b[0m\u001b[0;34m:\u001b[0m          \u001b[0mold\u001b[0m \u001b[0;34m=\u001b[0m \u001b[0mlist\u001b[0m\u001b[0;34m(\u001b[0m\u001b[0mself\u001b[0m\u001b[0;34m)\u001b[0m\u001b[0;34m;\u001b[0m \u001b[0msuper\u001b[0m\u001b[0;34m(\u001b[0m\u001b[0;34m)\u001b[0m\u001b[0;34m.\u001b[0m\u001b[0m__init__\u001b[0m\u001b[0;34m(\u001b[0m\u001b[0ml\u001b[0m\u001b[0;34m)\u001b[0m       \u001b[0;34m;\u001b[0m \u001b[0mself\u001b[0m\u001b[0;34m.\u001b[0m\u001b[0m_callback\u001b[0m\u001b[0;34m(\u001b[0m\u001b[0mself\u001b[0m\u001b[0;34m.\u001b[0m\u001b[0m_obj\u001b[0m\u001b[0;34m,\u001b[0m \u001b[0mold\u001b[0m\u001b[0;34m)\u001b[0m\u001b[0;34m\u001b[0m\u001b[0;34m\u001b[0m\u001b[0m\n\u001b[0;32m---> 77\u001b[0;31m   \u001b[0;32mdef\u001b[0m \u001b[0mappend\u001b[0m\u001b[0;34m(\u001b[0m\u001b[0mself\u001b[0m\u001b[0;34m,\u001b[0m \u001b[0mx\u001b[0m\u001b[0;34m)\u001b[0m\u001b[0;34m:\u001b[0m          \u001b[0mold\u001b[0m \u001b[0;34m=\u001b[0m \u001b[0mlist\u001b[0m\u001b[0;34m(\u001b[0m\u001b[0mself\u001b[0m\u001b[0;34m)\u001b[0m\u001b[0;34m;\u001b[0m \u001b[0msuper\u001b[0m\u001b[0;34m(\u001b[0m\u001b[0;34m)\u001b[0m\u001b[0;34m.\u001b[0m\u001b[0mappend\u001b[0m\u001b[0;34m(\u001b[0m\u001b[0mx\u001b[0m\u001b[0;34m)\u001b[0m         \u001b[0;34m;\u001b[0m \u001b[0mself\u001b[0m\u001b[0;34m.\u001b[0m\u001b[0m_callback\u001b[0m\u001b[0;34m(\u001b[0m\u001b[0mself\u001b[0m\u001b[0;34m.\u001b[0m\u001b[0m_obj\u001b[0m\u001b[0;34m,\u001b[0m \u001b[0mold\u001b[0m\u001b[0;34m)\u001b[0m\u001b[0;34m\u001b[0m\u001b[0;34m\u001b[0m\u001b[0m\n\u001b[0m\u001b[1;32m     78\u001b[0m   \u001b[0;32mdef\u001b[0m \u001b[0minsert\u001b[0m\u001b[0;34m(\u001b[0m\u001b[0mself\u001b[0m\u001b[0;34m,\u001b[0m \u001b[0mi\u001b[0m\u001b[0;34m,\u001b[0m \u001b[0mx\u001b[0m\u001b[0;34m)\u001b[0m\u001b[0;34m:\u001b[0m       \u001b[0mold\u001b[0m \u001b[0;34m=\u001b[0m \u001b[0mlist\u001b[0m\u001b[0;34m(\u001b[0m\u001b[0mself\u001b[0m\u001b[0;34m)\u001b[0m\u001b[0;34m;\u001b[0m \u001b[0msuper\u001b[0m\u001b[0;34m(\u001b[0m\u001b[0;34m)\u001b[0m\u001b[0;34m.\u001b[0m\u001b[0minsert\u001b[0m\u001b[0;34m(\u001b[0m\u001b[0mi\u001b[0m\u001b[0;34m,\u001b[0m \u001b[0mx\u001b[0m\u001b[0;34m)\u001b[0m      \u001b[0;34m;\u001b[0m \u001b[0mself\u001b[0m\u001b[0;34m.\u001b[0m\u001b[0m_callback\u001b[0m\u001b[0;34m(\u001b[0m\u001b[0mself\u001b[0m\u001b[0;34m.\u001b[0m\u001b[0m_obj\u001b[0m\u001b[0;34m,\u001b[0m \u001b[0mold\u001b[0m\u001b[0;34m)\u001b[0m\u001b[0;34m\u001b[0m\u001b[0;34m\u001b[0m\u001b[0m\n\u001b[1;32m     79\u001b[0m   \u001b[0;32mdef\u001b[0m \u001b[0mextend\u001b[0m\u001b[0;34m(\u001b[0m\u001b[0mself\u001b[0m\u001b[0;34m,\u001b[0m \u001b[0ml\u001b[0m\u001b[0;34m)\u001b[0m\u001b[0;34m:\u001b[0m          \u001b[0mold\u001b[0m \u001b[0;34m=\u001b[0m \u001b[0mlist\u001b[0m\u001b[0;34m(\u001b[0m\u001b[0mself\u001b[0m\u001b[0;34m)\u001b[0m\u001b[0;34m;\u001b[0m \u001b[0msuper\u001b[0m\u001b[0;34m(\u001b[0m\u001b[0;34m)\u001b[0m\u001b[0;34m.\u001b[0m\u001b[0mextend\u001b[0m\u001b[0;34m(\u001b[0m\u001b[0ml\u001b[0m\u001b[0;34m)\u001b[0m         \u001b[0;34m;\u001b[0m \u001b[0mself\u001b[0m\u001b[0;34m.\u001b[0m\u001b[0m_callback\u001b[0m\u001b[0;34m(\u001b[0m\u001b[0mself\u001b[0m\u001b[0;34m.\u001b[0m\u001b[0m_obj\u001b[0m\u001b[0;34m,\u001b[0m \u001b[0mold\u001b[0m\u001b[0;34m)\u001b[0m\u001b[0;34m\u001b[0m\u001b[0;34m\u001b[0m\u001b[0m\n",
      "\u001b[0;32m/usr/local/python/py36/lib/python3.6/site-packages/owlready2/prop.py\u001b[0m in \u001b[0;36m_callback\u001b[0;34m(self, obj, old)\u001b[0m\n\u001b[1;32m   1118\u001b[0m \u001b[0;34m\u001b[0m\u001b[0m\n\u001b[1;32m   1119\u001b[0m       \u001b[0;32mfor\u001b[0m \u001b[0madded\u001b[0m \u001b[0;32min\u001b[0m \u001b[0mnew\u001b[0m \u001b[0;34m-\u001b[0m \u001b[0mold\u001b[0m\u001b[0;34m:\u001b[0m\u001b[0;34m\u001b[0m\u001b[0;34m\u001b[0m\u001b[0m\n\u001b[0;32m-> 1120\u001b[0;31m         \u001b[0mobj\u001b[0m\u001b[0;34m.\u001b[0m\u001b[0mnamespace\u001b[0m\u001b[0;34m.\u001b[0m\u001b[0montology\u001b[0m\u001b[0;34m.\u001b[0m\u001b[0m_add_obj_triple_spo\u001b[0m\u001b[0;34m(\u001b[0m\u001b[0mobj\u001b[0m\u001b[0;34m.\u001b[0m\u001b[0mstorid\u001b[0m\u001b[0;34m,\u001b[0m \u001b[0mself\u001b[0m\u001b[0;34m.\u001b[0m\u001b[0m_Prop\u001b[0m\u001b[0;34m.\u001b[0m\u001b[0mstorid\u001b[0m\u001b[0;34m,\u001b[0m \u001b[0madded\u001b[0m\u001b[0;34m.\u001b[0m\u001b[0mstorid\u001b[0m\u001b[0;34m)\u001b[0m\u001b[0;34m\u001b[0m\u001b[0;34m\u001b[0m\u001b[0m\n\u001b[0m\u001b[1;32m   1121\u001b[0m         \u001b[0;32mif\u001b[0m \u001b[0mhasattr\u001b[0m\u001b[0;34m(\u001b[0m\u001b[0madded\u001b[0m\u001b[0;34m.\u001b[0m\u001b[0m__dict__\u001b[0m\u001b[0;34m,\u001b[0m \u001b[0;34m\"pop\"\u001b[0m\u001b[0;34m)\u001b[0m\u001b[0;34m:\u001b[0m \u001b[0madded\u001b[0m\u001b[0;34m.\u001b[0m\u001b[0m__dict__\u001b[0m\u001b[0;34m.\u001b[0m\u001b[0mpop\u001b[0m\u001b[0;34m(\u001b[0m\u001b[0minverse_python_name\u001b[0m\u001b[0;34m,\u001b[0m \u001b[0;32mNone\u001b[0m\u001b[0;34m)\u001b[0m \u001b[0;31m# Remove => force reloading; XXX optimizable\u001b[0m\u001b[0;34m\u001b[0m\u001b[0;34m\u001b[0m\u001b[0m\n\u001b[1;32m   1122\u001b[0m \u001b[0;34m\u001b[0m\u001b[0m\n",
      "\u001b[0;31mAttributeError\u001b[0m: 'str' object has no attribute 'storid'"
     ]
    }
   ],
   "source": [
    "s_objects = []\n",
    "p_objects = []\n",
    "for s in serializations:\n",
    "    print(s)\n",
    "    mappings = [m for m in s.SerializationContainsMapping]\n",
    "    serials = {}\n",
    "    for m in mappings:\n",
    "        s_key = m.SerializationLabel.first()\n",
    "        i_key = m.MappingLabel.first()\n",
    "\n",
    "        if s_key not in serials.keys():\n",
    "            serials[s_key]=[]\n",
    "\n",
    "        print (\"\\t\", m, s_key)\n",
    "            \n",
    "        if m.is_a.first() == onto.EntityMapping:\n",
    "            print(\"\\t\\tEntity:{e}\".format(e=m))\n",
    "            o_range = m.MappingRange.first()\n",
    "            property_d = { \"type\" : \"entity\", \n",
    "                           \"mapping_name\" : i_key, \n",
    "                           \"property\" : \"rdf:type:\", \n",
    "                           \"range\" :    mappable_things[o_range], \n",
    "                           \"subject_label\" : data_row[s_key]}\n",
    "#            serials[s_key].append((data_row[s_key], \"rdf:type\", mappable_things[o_range]))\n",
    "            serials[s_key].append(property_d)\n",
    "    \n",
    "        elif m.is_a.first() == onto.PropertyMapping:\n",
    "            print(\"\\t\\tProperty:{e}\".format(e=m))\n",
    "            s_domain = m.MappingDomain.first()\n",
    "            o_range = m.MappingRange.first()\n",
    "            property_d = { \"type\" : \"property\", \n",
    "                           \"mapping_name\" : i_key, \n",
    "                           \"domain\" :   mappable_things[s_domain], \n",
    "                           \"property\" : mappable_things[i_key], \n",
    "                           \"range\" :    mappable_things.get(o_range,o_range), \n",
    "                           \"range_search_value\" : data_row[s_key]}\n",
    "            serials[s_key].append(property_d)\n",
    "            \n",
    "        else:\n",
    "            print(m.is_a)\n",
    "            print(s_key)\n",
    "            assert False\n",
    "            \n",
    "print()\n",
    "\n",
    "# Instantiate temporary versions of all the in-row objects\n",
    "for v in serials.values():\n",
    "    for u in v:\n",
    "        print(u)\n",
    "        if u['type'] == \"entity\":#u[1]==\"rdf:type\":\n",
    "            with onto:\n",
    "                #q = instantiate_thing(\"test\", onto.Class, cleandms, True)\n",
    "                s_objects.append(instantiate_thing(u['subject_label'], u['range'], onto, True))\n",
    "                #s_objects.append(instantiate_thing(u[0], u[2], onto, True))\n",
    "                #u[2](u[0], namespace=onto) # Create instances in the ontology\n",
    "            print(u)\n",
    "\n",
    "print()\n",
    "\n",
    "# Create property links for all identified in-row objects\n",
    "for v in serials.values():\n",
    "    for u in v:\n",
    "        if u['type'] == \"property\":\n",
    "\n",
    "            p_objects.append(u)\n",
    "            instantiate_property(None, u['domain'], u['property'], u[\"range_search_value\"], u['range'], onto)\n"
   ]
  },
  {
   "cell_type": "code",
   "execution_count": 20,
   "metadata": {},
   "outputs": [
    {
     "data": {
      "text/plain": [
       "[([datamodels.EntityMapping], []),\n",
       " ([datamodels.EntityMapping], []),\n",
       " ([datamodels.EntityMapping], []),\n",
       " ([datamodels.Serialization], []),\n",
       " ([datamodels.EntityMapping], []),\n",
       " ([datamodels.PropertyMapping], []),\n",
       " ([datamodels.PropertyMapping], []),\n",
       " ([datamodels.PropertyMapping], []),\n",
       " ([datamodels.PropertyMapping], []),\n",
       " ([datamodels.PropertyMapping], []),\n",
       " ([datamodels.Attribute], ['PersonID']),\n",
       " ([datamodels.Class], ['Person']),\n",
       " ([datamodels.ModelDomain], ['Core']),\n",
       " ([datamodels.DataModel], ['Principal Interactions'])]"
      ]
     },
     "execution_count": 20,
     "metadata": {},
     "output_type": "execute_result"
    }
   ],
   "source": [
    "[(i.is_a, i.label) for i in list(onto.individuals())]"
   ]
  },
  {
   "cell_type": "code",
   "execution_count": null,
   "metadata": {},
   "outputs": [],
   "source": [
    "onto.Class.instances(), onto.Attribute.instances(), onto.DataModel.instances(), onto.ModelDomain.instances()"
   ]
  },
  {
   "cell_type": "code",
   "execution_count": null,
   "metadata": {},
   "outputs": [],
   "source": [
    "#onto.Attribute.instances()[0].AttributeHasDataType=[\"string\"]"
   ]
  },
  {
   "cell_type": "code",
   "execution_count": null,
   "metadata": {},
   "outputs": [],
   "source": [
    "list(onto.Attribute.instances()[0]._get_instance_possible_relations())"
   ]
  },
  {
   "cell_type": "code",
   "execution_count": null,
   "metadata": {},
   "outputs": [],
   "source": [
    "dir(onto.DataModel.instances()[0])"
   ]
  },
  {
   "cell_type": "code",
   "execution_count": 14,
   "metadata": {},
   "outputs": [
    {
     "data": {
      "text/plain": [
       "{datamodels.ModelContainsClass,\n",
       " datamodels.ModelTypeCode,\n",
       " rdf-schema.label,\n",
       " datamodels.ModelIsMemberOfModelDomain}"
      ]
     },
     "execution_count": 14,
     "metadata": {},
     "output_type": "execute_result"
    }
   ],
   "source": [
    "onto.DataModel.instances()[0].get_properties()"
   ]
  },
  {
   "cell_type": "code",
   "execution_count": 13,
   "metadata": {},
   "outputs": [],
   "source": [
    "onto.ModelTypeCode.python_name = \"mtc\"\n",
    "onto.DataModel.instances()[0].mtc=[\"Conceptual\"]"
   ]
  },
  {
   "cell_type": "code",
   "execution_count": 15,
   "metadata": {},
   "outputs": [
    {
     "data": {
      "text/plain": [
       "['Conceptual']"
      ]
     },
     "execution_count": 15,
     "metadata": {},
     "output_type": "execute_result"
    }
   ],
   "source": [
    "onto.DataModel.instances()[0].mtc"
   ]
  },
  {
   "cell_type": "code",
   "execution_count": null,
   "metadata": {},
   "outputs": [],
   "source": [
    "with onto:\n",
    "    owlr.sync_reasoner(raw_world)"
   ]
  },
  {
   "cell_type": "code",
   "execution_count": null,
   "metadata": {},
   "outputs": [],
   "source": [
    "[c for c in list(onto.classes()) if c==p_objects[0]['domain']][0].instances()"
   ]
  },
  {
   "cell_type": "code",
   "execution_count": null,
   "metadata": {},
   "outputs": [],
   "source": [
    "p_objects[0]['property'].is_functional_for(p_objects[0]['range'])"
   ]
  },
  {
   "cell_type": "code",
   "execution_count": null,
   "metadata": {},
   "outputs": [],
   "source": [
    "instantiate_property(None, p_objects[0]['domain'], p_objects[0]['property'], p_objects[0]['range_search_value'], p_objects[0]['range'], onto)"
   ]
  },
  {
   "cell_type": "code",
   "execution_count": null,
   "metadata": {},
   "outputs": [],
   "source": [
    "[(s,s.is_a, s.label) for s in s_objects]"
   ]
  },
  {
   "cell_type": "code",
   "execution_count": null,
   "metadata": {},
   "outputs": [],
   "source": [
    "[(c,c.iri, c.is_a, c.label) for c in onto.Class.instances()]"
   ]
  },
  {
   "cell_type": "code",
   "execution_count": null,
   "metadata": {},
   "outputs": [],
   "source": [
    "assert False"
   ]
  },
  {
   "cell_type": "code",
   "execution_count": null,
   "metadata": {},
   "outputs": [],
   "source": [
    "serials['Entity']"
   ]
  },
  {
   "cell_type": "code",
   "execution_count": null,
   "metadata": {},
   "outputs": [],
   "source": [
    "with onto:\n",
    "    owlr.sync_reasoner()"
   ]
  },
  {
   "cell_type": "code",
   "execution_count": null,
   "metadata": {},
   "outputs": [],
   "source": [
    "onto.get_properties()"
   ]
  },
  {
   "cell_type": "code",
   "execution_count": null,
   "metadata": {},
   "outputs": [],
   "source": [
    "list(onto.inconsistent_classes())"
   ]
  },
  {
   "cell_type": "code",
   "execution_count": null,
   "metadata": {},
   "outputs": [],
   "source": [
    "for c in list(onto.classes()):\n",
    "    print (c, c.instances())"
   ]
  },
  {
   "cell_type": "code",
   "execution_count": null,
   "metadata": {},
   "outputs": [],
   "source": []
  }
 ],
 "metadata": {
  "kernelspec": {
   "display_name": "Python 3",
   "language": "python",
   "name": "python3"
  },
  "language_info": {
   "codemirror_mode": {
    "name": "ipython",
    "version": 3
   },
   "file_extension": ".py",
   "mimetype": "text/x-python",
   "name": "python",
   "nbconvert_exporter": "python",
   "pygments_lexer": "ipython3",
   "version": "3.6.7"
  }
 },
 "nbformat": 4,
 "nbformat_minor": 2
}
