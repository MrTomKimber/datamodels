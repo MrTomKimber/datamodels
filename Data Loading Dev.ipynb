{
 "cells": [
  {
   "cell_type": "code",
   "execution_count": 1,
   "metadata": {},
   "outputs": [
    {
     "name": "stderr",
     "output_type": "stream",
     "text": [
      "* Owlready2 * Warning: optimized Cython parser module 'owlready2_optimized' is not available, defaulting to slower Python implementation\n"
     ]
    }
   ],
   "source": [
    "import pandas as pd\n",
    "import owlready2 as owlr \n",
    "#https://pythonhosted.org/Owlready/"
   ]
  },
  {
   "cell_type": "code",
   "execution_count": 2,
   "metadata": {},
   "outputs": [
    {
     "data": {
      "text/plain": [
       "get_ontology(\"http://www.semanticweb.org/tomk/ontologies/2022/9/datamodel#\")"
      ]
     },
     "execution_count": 2,
     "metadata": {},
     "output_type": "execute_result"
    }
   ],
   "source": [
    "onto = owlr.get_ontology(\"datamodels.owl\")\n",
    "onto.load()"
   ]
  },
  {
   "cell_type": "code",
   "execution_count": 3,
   "metadata": {},
   "outputs": [
    {
     "data": {
      "text/plain": [
       "['__class__',\n",
       " '__delattr__',\n",
       " '__dict__',\n",
       " '__dir__',\n",
       " '__doc__',\n",
       " '__enter__',\n",
       " '__eq__',\n",
       " '__exit__',\n",
       " '__format__',\n",
       " '__ge__',\n",
       " '__getattr__',\n",
       " '__getattribute__',\n",
       " '__getitem__',\n",
       " '__gt__',\n",
       " '__hash__',\n",
       " '__init__',\n",
       " '__init_subclass__',\n",
       " '__le__',\n",
       " '__lt__',\n",
       " '__module__',\n",
       " '__ne__',\n",
       " '__new__',\n",
       " '__reduce__',\n",
       " '__reduce_ex__',\n",
       " '__repr__',\n",
       " '__setattr__',\n",
       " '__sizeof__',\n",
       " '__str__',\n",
       " '__subclasshook__',\n",
       " '__weakref__',\n",
       " '_abbreviate',\n",
       " '_add_annotation_axiom',\n",
       " '_add_data_triple_raw_spod',\n",
       " '_add_data_triple_raw_spodsd',\n",
       " '_add_data_triple_spod',\n",
       " '_add_obj_triple_raw_spo',\n",
       " '_add_obj_triple_spo',\n",
       " '_base_iri',\n",
       " '_bnodes',\n",
       " '_del_annotation_axiom',\n",
       " '_del_data_triple_raw_spod',\n",
       " '_del_data_triple_raw_spodsd',\n",
       " '_del_data_triple_spod',\n",
       " '_del_list',\n",
       " '_del_obj_triple_raw_spo',\n",
       " '_del_obj_triple_spo',\n",
       " '_destroy_cached_entities',\n",
       " '_entity_destroyed',\n",
       " '_get_annotation_axioms',\n",
       " '_get_data_triple_sp_od',\n",
       " '_get_data_triples_s_pod',\n",
       " '_get_data_triples_sp_od',\n",
       " '_get_data_triples_spod_spod',\n",
       " '_get_obj_triple_po_s',\n",
       " '_get_obj_triple_sp_o',\n",
       " '_get_obj_triples_cspo',\n",
       " '_get_obj_triples_cspo_cspo',\n",
       " '_get_obj_triples_o_p',\n",
       " '_get_obj_triples_pio_s',\n",
       " '_get_obj_triples_po_s',\n",
       " '_get_obj_triples_s_po',\n",
       " '_get_obj_triples_sp_co',\n",
       " '_get_obj_triples_sp_o',\n",
       " '_get_obj_triples_spi_o',\n",
       " '_get_obj_triples_spo_spo',\n",
       " '_get_obj_triples_transitive_po',\n",
       " '_get_obj_triples_transitive_sp',\n",
       " '_get_obj_triples_transitive_sp_indirect',\n",
       " '_get_obj_triples_transitive_sym',\n",
       " '_get_triple_sp_od',\n",
       " '_get_triples_s_p',\n",
       " '_get_triples_s_pod',\n",
       " '_get_triples_sp_od',\n",
       " '_get_triples_spod_spod',\n",
       " '_has_data_triple_spod',\n",
       " '_has_obj_triple_spo',\n",
       " '_import_changed',\n",
       " '_imported_ontologies',\n",
       " '_load_properties',\n",
       " '_namespaces',\n",
       " '_new_numbered_iri',\n",
       " '_orig_base_iri',\n",
       " '_parse_bnode',\n",
       " '_parse_list',\n",
       " '_parse_list_as_rdf',\n",
       " '_refactor',\n",
       " '_refactor_onto',\n",
       " '_reload_bnode',\n",
       " '_set_data_triple_raw_spod',\n",
       " '_set_data_triple_raw_spodsd',\n",
       " '_set_data_triple_spod',\n",
       " '_set_list',\n",
       " '_set_list_as_rdf',\n",
       " '_set_obj_triple_raw_spo',\n",
       " '_set_obj_triple_spo',\n",
       " '_to_python',\n",
       " '_to_rdf',\n",
       " '_unabbreviate',\n",
       " 'annotation_properties',\n",
       " 'base_iri',\n",
       " 'classes',\n",
       " 'data_properties',\n",
       " 'destroy',\n",
       " 'different_individuals',\n",
       " 'disjoint_classes',\n",
       " 'disjoint_properties',\n",
       " 'disjoints',\n",
       " 'general_axioms',\n",
       " 'get_base_iri',\n",
       " 'get_children_of',\n",
       " 'get_imported_ontologies',\n",
       " 'get_instances_of',\n",
       " 'get_namespace',\n",
       " 'get_parents_of',\n",
       " 'get_python_module',\n",
       " 'get_triples',\n",
       " 'graph',\n",
       " 'imported_ontologies',\n",
       " 'inconsistent_classes',\n",
       " 'indirectly_imported_ontologies',\n",
       " 'individuals',\n",
       " 'load',\n",
       " 'loaded',\n",
       " 'metadata',\n",
       " 'name',\n",
       " 'object_properties',\n",
       " 'ontology',\n",
       " 'properties',\n",
       " 'python_module',\n",
       " 'rules',\n",
       " 'save',\n",
       " 'search',\n",
       " 'search_one',\n",
       " 'set_base_iri',\n",
       " 'set_imported_ontologies',\n",
       " 'set_python_module',\n",
       " 'storid',\n",
       " 'variables',\n",
       " 'world']"
      ]
     },
     "execution_count": 3,
     "metadata": {},
     "output_type": "execute_result"
    }
   ],
   "source": [
    "dir(onto)"
   ]
  },
  {
   "cell_type": "code",
   "execution_count": 4,
   "metadata": {},
   "outputs": [],
   "source": [
    "q=onto.search(type=onto.DataTypeSchema)[0].iri\n",
    "q\n",
    "q=onto.search(type=onto.DataTypeSchema)[0]"
   ]
  },
  {
   "cell_type": "code",
   "execution_count": 5,
   "metadata": {},
   "outputs": [
    {
     "data": {
      "text/plain": [
       "[datamodels.ansi_CHAR, datamodels.ansi_CHARACTER, datamodels.ansi_DECIMAL, datamodels.ansi_DOUBLE_PRECISION, datamodels.ansi_FLOAT, datamodels.ansi_INT, datamodels.ansi_INTEGER, datamodels.ansi_NCHAR, datamodels.ansi_NUMERIC, datamodels.ansi_REAL, datamodels.ansi_SMALLINT]"
      ]
     },
     "execution_count": 5,
     "metadata": {},
     "output_type": "execute_result"
    }
   ],
   "source": [
    "#onto.search(DataTypeIsMemberOfDataTypeSchema = onto.search(iri=q))\n",
    "onto.search(DataTypeIsMemberOfDataTypeSchema = q)"
   ]
  },
  {
   "cell_type": "code",
   "execution_count": 6,
   "metadata": {},
   "outputs": [
    {
     "data": {
      "text/plain": [
       "{datamodels.DataTypeIsMemberOfDataTypeSchema}"
      ]
     },
     "execution_count": 6,
     "metadata": {},
     "output_type": "execute_result"
    }
   ],
   "source": [
    "onto.ansi_CHAR.get_properties()"
   ]
  },
  {
   "cell_type": "code",
   "execution_count": 7,
   "metadata": {},
   "outputs": [
    {
     "data": {
      "text/plain": [
       "[datamodels.DataHeaderKey, core.definition, core.example]"
      ]
     },
     "execution_count": 7,
     "metadata": {},
     "output_type": "execute_result"
    }
   ],
   "source": [
    "list(onto.annotation_properties())"
   ]
  },
  {
   "cell_type": "code",
   "execution_count": 8,
   "metadata": {},
   "outputs": [],
   "source": [
    "objs = [(c, c.is_a, c.DataHeaderKey) for c in list(onto.classes()) if len(c.DataHeaderKey)>0 ]"
   ]
  },
  {
   "cell_type": "code",
   "execution_count": 9,
   "metadata": {},
   "outputs": [
    {
     "data": {
      "text/plain": [
       "[datamodels.ModelContainsClass,\n",
       " datamodels.ModelIsMemberOfModelDomain,\n",
       " datamodels.RelationshipPartialKeyFromAttribute,\n",
       " datamodels.RelationshipPartialKeyToAttribute,\n",
       " datamodels.r_Identifier,\n",
       " datamodels.r_PartialIdentifier,\n",
       " datamodels.Description,\n",
       " datamodels.Name]"
      ]
     },
     "execution_count": 9,
     "metadata": {},
     "output_type": "execute_result"
    }
   ],
   "source": [
    "i=4\n",
    "list(objs[i][0]._get_instance_possible_relations(objs[i][0]))"
   ]
  },
  {
   "cell_type": "code",
   "execution_count": 10,
   "metadata": {},
   "outputs": [
    {
     "data": {
      "text/plain": [
       "(datamodels.ConceptualDataModel, [datamodels.Model], ['CDM'])"
      ]
     },
     "execution_count": 10,
     "metadata": {},
     "output_type": "execute_result"
    }
   ],
   "source": [
    "objs[i]"
   ]
  },
  {
   "cell_type": "code",
   "execution_count": null,
   "metadata": {},
   "outputs": [],
   "source": [
    "# Get Classes that expose a DataHeaderKey\n",
    "\n",
    "# Get ObjectProperties that expose a DataHeaderKey\n"
   ]
  }
 ],
 "metadata": {
  "kernelspec": {
   "display_name": "Python 3",
   "language": "python",
   "name": "python3"
  },
  "language_info": {
   "codemirror_mode": {
    "name": "ipython",
    "version": 3
   },
   "file_extension": ".py",
   "mimetype": "text/x-python",
   "name": "python",
   "nbconvert_exporter": "python",
   "pygments_lexer": "ipython3",
   "version": "3.6.7"
  }
 },
 "nbformat": 4,
 "nbformat_minor": 2
}
