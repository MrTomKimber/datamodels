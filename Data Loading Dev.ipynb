{
 "cells": [
  {
   "cell_type": "code",
   "execution_count": null,
   "metadata": {},
   "outputs": [],
   "source": [
    "import pandas as pd\n",
    "import owlready2 as owlr \n",
    "#https://pythonhosted.org/Owlready/\n",
    "import rdflib\n",
    "from rdflib import URIRef, Literal\n",
    "from rdflib.namespace import RDF, RDFS\n",
    "from rdflib import Namespace\n",
    "\n",
    "from collections import Counter\n",
    "import uuid\n",
    "\n",
    "import io\n",
    "import pydotplus\n",
    "from IPython.display import display, Image\n",
    "from rdflib.tools.rdf2dot import rdf2dot\n",
    "\n",
    "def visualize(g):\n",
    "    stream = io.StringIO()\n",
    "    rdf2dot(g, stream, opts = {display})\n",
    "    dg = pydotplus.graph_from_dot_data(stream.getvalue())\n",
    "    png = dg.create_png()\n",
    "    display(Image(png))\n",
    "\n",
    "import networkx as nx\n",
    "from rdflib.extras.external_graph_libs import rdflib_to_networkx_multidigraph"
   ]
  },
  {
   "cell_type": "code",
   "execution_count": 2,
   "metadata": {},
   "outputs": [],
   "source": [
    "raw_world = owlr.World(filename='raw_world.sqlite3')\n",
    "rawdms = raw_world.get_ontology(\"datamodels_rdf.owl\").load()\n",
    "DMNS = Namespace(\"datamodels_rdf.owl\")\n",
    "onto = rawdms"
   ]
  },
  {
   "cell_type": "code",
   "execution_count": 3,
   "metadata": {},
   "outputs": [
    {
     "data": {
      "text/plain": [
       "rdflib.term.URIRef('datamodels_rdf.owlDataModel')"
      ]
     },
     "execution_count": 3,
     "metadata": {},
     "output_type": "execute_result"
    }
   ],
   "source": [
    "DMNS.DataModel"
   ]
  },
  {
   "cell_type": "code",
   "execution_count": 4,
   "metadata": {},
   "outputs": [
    {
     "name": "stdout",
     "output_type": "stream",
     "text": [
      "datamodels_rdf.DomainModelClassEntityRecord\n",
      "\t datamodels_rdf.AttributeMapping [datamodels_rdf.Mapping]\n",
      "\t datamodels_rdf.ClassMapping [datamodels_rdf.Mapping]\n",
      "\t datamodels_rdf.DomainMapping [datamodels_rdf.Mapping]\n",
      "\t datamodels_rdf.ModelMapping [datamodels_rdf.Mapping]\n",
      "\t datamodels_rdf.hasAttributeMapping [datamodels_rdf.Mapping]\n",
      "\t datamodels_rdf.hasClassMapping [datamodels_rdf.Mapping]\n",
      "\t datamodels_rdf.hasDataTypeMapping [datamodels_rdf.Mapping]\n",
      "\t datamodels_rdf.hasModelMapping [datamodels_rdf.Mapping]\n",
      "\t datamodels_rdf.hasModelTypeMapping [datamodels_rdf.Mapping]\n"
     ]
    }
   ],
   "source": [
    "onto_dataproperties = list(onto.data_properties())\n",
    "onto_individuals = list (onto.individuals())\n",
    "individuals = [(i, i.is_a.first()) for i in onto_individuals + onto_dataproperties]\n",
    "serializations = [i[0] for i in individuals if i[1] == onto.Serialization]\n",
    "\n",
    "for s in serializations:\n",
    "    print(s)\n",
    "    mappings = [m for m in s.SerializationContainsMapping] \n",
    "    for m in mappings:\n",
    "        print (\"\\t\", m, m.is_a)"
   ]
  },
  {
   "cell_type": "code",
   "execution_count": 5,
   "metadata": {},
   "outputs": [
    {
     "name": "stderr",
     "output_type": "stream",
     "text": [
      "* Owlready2 * Running HermiT...\n",
      "    java -Xmx2000M -cp /usr/local/python/py36/lib/python3.6/site-packages/owlready2/hermit:/usr/local/python/py36/lib/python3.6/site-packages/owlready2/hermit/HermiT.jar org.semanticweb.HermiT.cli.CommandLine -c -O -D -I file:////var/folders/rd/q3bhk6_n56x75m05pp2sq7dr0000gn/T/tmpv17v7lpy\n",
      "* Owlready2 * HermiT took 0.7050328254699707 seconds\n",
      "* Owlready * Reparenting datamodels_rdf.ModelContainsRelationship: {datamodels_rdf.HierarchicalRelations, owl.ObjectProperty} => {datamodels_rdf.HierarchicalRelations}\n",
      "* Owlready * Reparenting datamodels_rdf.ModelContainsClass: {datamodels_rdf.HierarchicalRelations, owl.ObjectProperty} => {datamodels_rdf.HierarchicalRelations}\n",
      "* Owlready * Reparenting datamodels_rdf.ModelDomainContainsModel: {datamodels_rdf.HierarchicalRelations, owl.ObjectProperty} => {datamodels_rdf.HierarchicalRelations}\n",
      "* Owlready * Reparenting datamodels_rdf.IdentityAttributeParentClass: {owl.ObjectProperty, datamodels_rdf.IdentityParent} => {datamodels_rdf.IdentityParent}\n",
      "* Owlready * Reparenting datamodels_rdf.hasModelTypeMapping: {datamodels_rdf.Mapping} => {datamodels_rdf.PropertyMapping}\n",
      "* Owlready * Reparenting datamodels_rdf.AttributeMapping: {datamodels_rdf.Mapping} => {datamodels_rdf.EntityMapping}\n",
      "* Owlready * Reparenting datamodels_rdf.DomainMapping: {datamodels_rdf.Mapping} => {datamodels_rdf.EntityMapping}\n",
      "* Owlready * Reparenting datamodels_rdf.hasModelMapping: {datamodels_rdf.Mapping} => {datamodels_rdf.PropertyMapping}\n",
      "* Owlready * Reparenting datamodels_rdf.hasAttributeMapping: {datamodels_rdf.Mapping} => {datamodels_rdf.PropertyMapping}\n",
      "* Owlready * Reparenting datamodels_rdf.hasDataTypeMapping: {datamodels_rdf.Mapping} => {datamodels_rdf.PropertyMapping}\n",
      "* Owlready * Reparenting datamodels_rdf.ClassMapping: {datamodels_rdf.Mapping} => {datamodels_rdf.EntityMapping}\n",
      "* Owlready * Reparenting datamodels_rdf.hasClassMapping: {datamodels_rdf.Mapping} => {datamodels_rdf.PropertyMapping}\n",
      "* Owlready * Reparenting datamodels_rdf.ModelMapping: {datamodels_rdf.Mapping} => {datamodels_rdf.EntityMapping}\n",
      "* Owlready * (NB: only changes on entities loaded in Python are shown, other changes are done but not listed)\n"
     ]
    }
   ],
   "source": [
    "with onto:\n",
    "    owlr.sync_reasoner(raw_world)"
   ]
  },
  {
   "cell_type": "code",
   "execution_count": 6,
   "metadata": {},
   "outputs": [
    {
     "data": {
      "text/plain": [
       "{'Class': (datamodels_rdf.Class, 'class'),\n",
       " 'Attribute': (datamodels_rdf.Attribute, 'class'),\n",
       " 'Relationship': (datamodels_rdf.Relationship, 'class'),\n",
       " 'DataModel': (datamodels_rdf.DataModel, 'class'),\n",
       " 'Domain': (datamodels_rdf.ModelDomain, 'class'),\n",
       " 'Serialization': (datamodels_rdf.Serialization, 'class'),\n",
       " 'Mapping': (datamodels_rdf.Mapping, 'class'),\n",
       " 'Context': (datamodels_rdf.Context, 'class'),\n",
       " 'DataType': (datamodels_rdf.DataType, 'data'),\n",
       " 'hasDataType': (datamodels_rdf.DataType, 'data'),\n",
       " 'ModelType': (datamodels_rdf.ModelType, 'data'),\n",
       " 'hasModelType': (datamodels_rdf.ModelType, 'data'),\n",
       " 'hasModelType_obsolete': (datamodels_rdf.ModelTypeCode, 'data'),\n",
       " 'hasAttribute': (datamodels_rdf.ClassHasAttribute, 'object'),\n",
       " 'hasClass': (datamodels_rdf.ModelContainsClass, 'object'),\n",
       " 'isAttributeParent': (datamodels_rdf.IdentityAttributeParentClass, 'object'),\n",
       " 'isClassParent': (datamodels_rdf.IdentityClassParentModel, 'object'),\n",
       " 'isRelationshipParent': (datamodels_rdf.IdentityRelationshipParentModel,\n",
       "  'object'),\n",
       " 'hasModel': (datamodels_rdf.ModelDomainContainsModel, 'object')}"
      ]
     },
     "execution_count": 6,
     "metadata": {},
     "output_type": "execute_result"
    }
   ],
   "source": [
    "mapped_things = [(c,c.MappingKey,\"class\") for c in onto.classes() if len(c.MappingKey) > 0] + \\\n",
    "                [(p, p.MappingKey,\"data\") for p in onto.data_properties() if len(p.MappingKey) > 0] + \\\n",
    "                [(p, p.MappingKey,\"object\") for p in onto.object_properties() if len(p.MappingKey) > 0] \n",
    "mappable_things = {vv:k for k,v,t in mapped_things for vv in v}\n",
    "mappable_things_ext = {vv:(k,t) for k,v,t in mapped_things for vv in v}\n",
    "assert all([v==1 for v in Counter([b for c in mapped_things for b in c[1]]).values()])\n",
    "#del mapped_things\n",
    "#mappable_things\n",
    "mappable_things_ext"
   ]
  },
  {
   "cell_type": "code",
   "execution_count": 7,
   "metadata": {},
   "outputs": [
    {
     "data": {
      "text/plain": [
       "[(datamodels_rdf.Class, ['Class'], 'class'),\n",
       " (datamodels_rdf.Attribute, ['Attribute'], 'class'),\n",
       " (datamodels_rdf.Relationship, ['Relationship'], 'class'),\n",
       " (datamodels_rdf.DataModel, ['DataModel'], 'class'),\n",
       " (datamodels_rdf.ModelDomain, ['Domain'], 'class'),\n",
       " (datamodels_rdf.Serialization, ['Serialization'], 'class'),\n",
       " (datamodels_rdf.Mapping, ['Mapping'], 'class'),\n",
       " (datamodels_rdf.Context, ['Context'], 'class'),\n",
       " (datamodels_rdf.DataType, ['DataType', 'hasDataType'], 'data'),\n",
       " (datamodels_rdf.ModelType, ['ModelType', 'hasModelType'], 'data'),\n",
       " (datamodels_rdf.ModelTypeCode, ['hasModelType_obsolete'], 'data'),\n",
       " (datamodels_rdf.ClassHasAttribute, ['hasAttribute'], 'object'),\n",
       " (datamodels_rdf.ModelContainsClass, ['hasClass'], 'object'),\n",
       " (datamodels_rdf.IdentityAttributeParentClass,\n",
       "  ['isAttributeParent'],\n",
       "  'object'),\n",
       " (datamodels_rdf.IdentityClassParentModel, ['isClassParent'], 'object'),\n",
       " (datamodels_rdf.IdentityRelationshipParentModel,\n",
       "  ['isRelationshipParent'],\n",
       "  'object'),\n",
       " (datamodels_rdf.ModelDomainContainsModel, ['hasModel'], 'object')]"
      ]
     },
     "execution_count": 7,
     "metadata": {},
     "output_type": "execute_result"
    }
   ],
   "source": [
    "mapped_things"
   ]
  },
  {
   "cell_type": "code",
   "execution_count": 8,
   "metadata": {},
   "outputs": [],
   "source": [
    "mapping_data = {}\n",
    "for s in serializations:\n",
    "    mapping_data[s.name]={}\n",
    "    mappings = [m for m in s.SerializationContainsMapping] \n",
    "    for m in mappings:\n",
    "        mapping_data[s.name][m.name]={}\n",
    "        for p in m.get_properties():\n",
    "            mapping_data[s.name][m.name][p.name]=p[m].first()\n",
    "    "
   ]
  },
  {
   "cell_type": "code",
   "execution_count": 9,
   "metadata": {},
   "outputs": [
    {
     "data": {
      "text/plain": [
       "{'MappingRange': 'Attribute',\n",
       " 'MappingLabel': 'Attribute',\n",
       " 'MappingSubType': 'Entity',\n",
       " 'SerializationLabel': 'Attribute'}"
      ]
     },
     "execution_count": 9,
     "metadata": {},
     "output_type": "execute_result"
    }
   ],
   "source": [
    "mapping_data['DomainModelClassEntityRecord']['AttributeMapping']"
   ]
  },
  {
   "cell_type": "code",
   "execution_count": 10,
   "metadata": {},
   "outputs": [],
   "source": [
    "data_rows = [{ \"Business Domain\" : \"Core\", \n",
    "             \"Model\" : \"Principal Interactions\", \n",
    "             \"ModelType\" : \"Conceptual\", \n",
    "             \"Entity\" : \"Person\", \n",
    "             \"Attribute\" : \"PersonID\", \n",
    "             \"DataType\" : \"string\"}]"
   ]
  },
  {
   "cell_type": "code",
   "execution_count": 114,
   "metadata": {},
   "outputs": [],
   "source": [
    "def gen_temp_entity_triples_from_row(s_mappings, onto_map, namespace, row):\n",
    "    object_triples=[]\n",
    "    for m_key, m_d in mapping_data['DomainModelClassEntityRecord'].items():\n",
    "        #print(m_key, m_d)\n",
    "        if m_d['MappingSubType']==\"Entity\":\n",
    "#            print(\"Create Temporary Entity\")\n",
    "            if m_d['SerializationLabel'] in row:\n",
    "                data = row[m_d['SerializationLabel']]\n",
    "                e_type = onto_map[m_d['MappingLabel']]\n",
    "#                print(e_type[0], \":\", data)\n",
    "                key = uuid.uuid4().hex\n",
    "                thing_URI = URIRef(key, namespace)\n",
    "                # RDF:type, RDFS:label\n",
    "                props = { RDF.type : URIRef(e_type[0].iri), \n",
    "                          RDFS.label : Literal(data)}\n",
    "\n",
    "                for k,v in props.items():\n",
    "                    object_triples.append((thing_URI, k, v))\n",
    "#                print()\n",
    "    # Create a graph containing the newly created object_triples\n",
    "    row_g = rdflib.Graph()\n",
    "\n",
    "    for triple in object_triples:\n",
    "#        print(triple)\n",
    "        row_g.add(triple)\n",
    "        \n",
    "    property_triples=[]\n",
    "    for m_key, m_d in mapping_data['DomainModelClassEntityRecord'].items():\n",
    "        #print(m_key, m_d)\n",
    "        if m_d['MappingSubType']==\"Property\":\n",
    "#            print(\"Create Property Link\")\n",
    "            if m_d['SerializationLabel'] in row:\n",
    "                data = row[m_d['SerializationLabel']] # Get the value in the row - normally the target object label\n",
    "                prop = onto_map[m_d['MappingLabel']][0] # Get the property being referenced\n",
    "                prop_domain = onto_map[m_d['MappingDomain']][0] # Get the domain class (used for search in the graph)\n",
    "                prop_range = onto_map[m_d['MappingRange']][0] # Get the range class (used for search)\n",
    "                prop_type = onto_map[m_d['MappingRange']][1]\n",
    "#                print(\"!\", prop, prop_domain, prop_range, prop_type)\n",
    "                prop_iri = URIRef(prop.iri)\n",
    "                subj_node = get_thing_from_label_graphsearch(row_g, prop_domain, search_key=None)[0]\n",
    "                if prop_type == \"class\":\n",
    "                    obj_node = get_thing_from_label_graphsearch(row_g, prop_range, search_key=data)[0]\n",
    "                elif prop_type == \"data\" : \n",
    "                    obj_node = Literal(data)\n",
    "#                print (\"triple\", subj_node, prop_iri, obj_node)\n",
    "                property_triples.append((subj_node, prop_iri, obj_node))\n",
    "\n",
    "    for triple in property_triples:\n",
    "#        print(triple)\n",
    "        row_g.add(triple)\n",
    "    \n",
    "    \n",
    "    \n",
    "    return row_g\n",
    "\n",
    "\n",
    "def t2rdflibg(triples): #triples to rdflib graph\n",
    "    g = rdflib.Graph()\n",
    "    for t in triples:\n",
    "        g.add(t)\n",
    "    return g\n",
    "\n",
    "def get_key_values(g, key=RDFS.label, invert=False):\n",
    "    if not invert:\n",
    "        return list([(s, o.value) for s,p,o in g.triples((None, key, None))])\n",
    "    else:\n",
    "        return list([(o.value,s) for s,p,o in g.triples((None, key, None))])\n",
    "    \n",
    "    \n",
    "\n",
    "def get_thing_from_label_graphsearch(graph, domain, search_key=None):\n",
    "    #sd_list = [c for c in list(space.classes()) if c==domain]\n",
    "    \n",
    "    sd_list = [s for s,p,o in graph.triples((None, RDF.type, URIRef(domain.iri)))]\n",
    "#    print(\"sd_list:\", sd_list)\n",
    "    # Get instances of classes that match provided keys\n",
    "    if search_key is None:\n",
    "        c_s = [s for s in sd_list]\n",
    "    else:\n",
    "        c_s = [s for l in sd_list for s,p,o in graph.triples((None, RDFS.label, Literal(search_key)))]\n",
    "    \n",
    "    return c_s\n",
    "\n",
    "def text_process(text):\n",
    "    return text.lower().replace(\" \", \"_\")\n",
    "\n",
    "# Traverse a graph g, from some source s and generate a list of all precursor items.\n",
    "def nx_walk_predecessors(g,s,l=None,invert=False,process=None):\n",
    "    if l is None:\n",
    "        l=[]\n",
    "    nxt=list(ng.predecessors(s))\n",
    "\n",
    "    if process is None:\n",
    "        p_s=s\n",
    "    else:\n",
    "        p_s=process(s)\n",
    "        \n",
    "    if len(nxt)>0:\n",
    "\n",
    "        l.extend([p_s])            \n",
    "\n",
    "        for n in nxt:\n",
    "\n",
    "            nx_walk_predecessors(g,n,l,process=process)\n",
    "    else:\n",
    "        l.extend([p_s])     \n",
    "    if invert:\n",
    "        return l[::-1]\n",
    "    else:\n",
    "        return l\n",
    "\n"
   ]
  },
  {
   "cell_type": "code",
   "execution_count": 115,
   "metadata": {},
   "outputs": [
    {
     "data": {
      "text/plain": [
       "{'Class': (datamodels_rdf.Class, 'class'),\n",
       " 'Attribute': (datamodels_rdf.Attribute, 'class'),\n",
       " 'Relationship': (datamodels_rdf.Relationship, 'class'),\n",
       " 'DataModel': (datamodels_rdf.DataModel, 'class'),\n",
       " 'Domain': (datamodels_rdf.ModelDomain, 'class'),\n",
       " 'Serialization': (datamodels_rdf.Serialization, 'class'),\n",
       " 'Mapping': (datamodels_rdf.Mapping, 'class'),\n",
       " 'Context': (datamodels_rdf.Context, 'class'),\n",
       " 'DataType': (datamodels_rdf.DataType, 'data'),\n",
       " 'hasDataType': (datamodels_rdf.DataType, 'data'),\n",
       " 'ModelType': (datamodels_rdf.ModelType, 'data'),\n",
       " 'hasModelType': (datamodels_rdf.ModelType, 'data'),\n",
       " 'hasModelType_obsolete': (datamodels_rdf.ModelTypeCode, 'data'),\n",
       " 'hasAttribute': (datamodels_rdf.ClassHasAttribute, 'object'),\n",
       " 'hasClass': (datamodels_rdf.ModelContainsClass, 'object'),\n",
       " 'isAttributeParent': (datamodels_rdf.IdentityAttributeParentClass, 'object'),\n",
       " 'isClassParent': (datamodels_rdf.IdentityClassParentModel, 'object'),\n",
       " 'isRelationshipParent': (datamodels_rdf.IdentityRelationshipParentModel,\n",
       "  'object'),\n",
       " 'hasModel': (datamodels_rdf.ModelDomainContainsModel, 'object')}"
      ]
     },
     "execution_count": 115,
     "metadata": {},
     "output_type": "execute_result"
    }
   ],
   "source": [
    "mappable_things_ext"
   ]
  },
  {
   "cell_type": "code",
   "execution_count": 116,
   "metadata": {},
   "outputs": [],
   "source": [
    "row_graph = gen_temp_entity_triples_from_row(mapping_data, mappable_things_ext, \"http://temp\", data_rows[0])\n",
    "\n",
    "\n"
   ]
  },
  {
   "cell_type": "code",
   "execution_count": 117,
   "metadata": {},
   "outputs": [
    {
     "data": {
      "image/png": "[encoded data removed]",
      "text/plain": [
       "<IPython.core.display.Image object>"
      ]
     },
     "metadata": {},
     "output_type": "display_data"
    }
   ],
   "source": [
    "visualize(row_graph)"
   ]
  },
  {
   "cell_type": "code",
   "execution_count": 118,
   "metadata": {},
   "outputs": [],
   "source": [
    "# connect additional context to row-graph\n",
    "row_graph.parse (\"datamodels_rdf.owl\", format='xml')\n",
    "dmns = rdflib.Namespace(onto.base_iri)\n",
    "row_graph.bind('dm', dmns)\n",
    "row_graph.bind('rdfs', RDFS)\n"
   ]
  },
  {
   "cell_type": "code",
   "execution_count": 119,
   "metadata": {},
   "outputs": [
    {
     "name": "stdout",
     "output_type": "stream",
     "text": [
      "[(rdflib.term.Literal('Person'), rdflib.term.Literal('PersonID')), (rdflib.term.Literal('Core'), rdflib.term.Literal('Principal Interactions')), (rdflib.term.Literal('Principal Interactions'), rdflib.term.Literal('Person'))]\n",
      "PersonID\n",
      "['Person', 'PersonID', 'Core', 'Principal Interactions']\n",
      "http://temp/5ef20aca20d44ca3b59cb07ed4629db2 http://www.semanticweb.org/tomk/ontologies/2022/9/datamodel#UniqueIdentifier core.principal_interactions.person.personid\n",
      "http://temp/626aa5deb5da4830a546c61666459711 http://www.semanticweb.org/tomk/ontologies/2022/9/datamodel#UniqueIdentifier core.principal_interactions.person\n",
      "http://temp/7a6c7cb392db47ed9a7d652a68089d6f http://www.semanticweb.org/tomk/ontologies/2022/9/datamodel#UniqueIdentifier core\n",
      "http://temp/2cc10c4c25e74fd1bb1acc4e95c39008 http://www.semanticweb.org/tomk/ontologies/2022/9/datamodel#UniqueIdentifier core.principal_interactions\n"
     ]
    }
   ],
   "source": [
    "\n",
    "# Get container tree\n",
    "row_hierarchy_sparql=\"\"\"SELECT distinct ?sl ?ol\n",
    "WHERE\n",
    "\n",
    "{\n",
    "\n",
    "     {?s ?p ?o .\n",
    "     ?p rdfs:subPropertyOf dm:HierarchicalRelations.\n",
    "     ?s rdfs:label ?sl .\n",
    "     ?o rdfs:label ?ol .    \n",
    "     }\n",
    "     \n",
    "     }\n",
    " \n",
    " \"\"\"\n",
    "\n",
    "get_s_nodes=\"\"\"\n",
    "SELECT ?s ?q ?l\n",
    "WHERE\n",
    "    {\n",
    "    ?s ?p ?o.\n",
    "    ?o rdfs:subClassOf dm:Definition.\n",
    "    BIND ( rdf:type as ?p )\n",
    "    BIND ( dm:UniqueIdentifier as ?q)\n",
    "    ?s rdfs:label ?l\n",
    "    }\n",
    "\n",
    "\"\"\"\n",
    "\n",
    "ng = nx.DiGraph()\n",
    "c_tree = list(row_graph.query(row_hierarchy_sparql, initNs={'dm': dmns, 'rdfs' : RDFS, 'rdf' : RDF}))\n",
    "print(c_tree)\n",
    "for e in [(e[0].value, e[1].value)  for e in c_tree ]:\n",
    "    ng.add_edge(*e)\n",
    "\n",
    "source = [n for n,d in  ng.out_degree() if d==0][0]\n",
    "print(source)\n",
    "print (nx.nodes(ng))\n",
    "list(ng.predecessors(source))\n",
    "\n",
    "\n",
    "\n",
    "for uri, prop, lab in list(row_graph.query(get_s_nodes, initNs={'dm': dmns, 'rdfs' : RDFS, 'rdf' : RDF})):\n",
    "    print(uri, prop, \".\".join(nx_walk_predecessors(ng,lab.value,invert=True,process=text_process)))"
   ]
  },
  {
   "cell_type": "code",
   "execution_count": 120,
   "metadata": {},
   "outputs": [
    {
     "data": {
      "text/plain": [
       "'core.principal_interactions.person.personid'"
      ]
     },
     "execution_count": 120,
     "metadata": {},
     "output_type": "execute_result"
    }
   ],
   "source": [
    "\".\".join(nx_walk_predecessors(ng,source,invert=True,process=text_process))"
   ]
  },
  {
   "cell_type": "code",
   "execution_count": null,
   "metadata": {},
   "outputs": [],
   "source": []
  },
  {
   "cell_type": "code",
   "execution_count": 49,
   "metadata": {},
   "outputs": [
    {
     "name": "stdout",
     "output_type": "stream",
     "text": [
      "(rdflib.term.URIRef('http://temp/1c30954273fe43b790a3e966e9aee784'), rdflib.term.URIRef('http://www.semanticweb.org/tomk/ontologies/2022/9/datamodel#ModelContainsClass'), rdflib.term.URIRef('http://temp/ad21d37f44544e748f373c14f4564945'))\n",
      "\n",
      "(rdflib.term.URIRef('http://temp/ad21d37f44544e748f373c14f4564945'), rdflib.term.URIRef('http://www.semanticweb.org/tomk/ontologies/2022/9/datamodel#ClassHasAttribute'), rdflib.term.URIRef('http://temp/3213618d06ee403ea3fe7e31a0b1af57'))\n",
      "\n",
      "(rdflib.term.URIRef('http://temp/a266ac7a2c4c41619828fe686668cc90'), rdflib.term.URIRef('http://www.semanticweb.org/tomk/ontologies/2022/9/datamodel#ModelDomainContainsModel'), rdflib.term.URIRef('http://temp/1c30954273fe43b790a3e966e9aee784'))\n",
      "\n",
      "(rdflib.term.URIRef('http://temp/1c30954273fe43b790a3e966e9aee784'), rdflib.term.URIRef('http://www.w3.org/2000/01/rdf-schema#label'), rdflib.term.Literal('Principal Interactions'))\n",
      "\n",
      "(rdflib.term.URIRef('http://temp/ad21d37f44544e748f373c14f4564945'), rdflib.term.URIRef('http://www.w3.org/2000/01/rdf-schema#label'), rdflib.term.Literal('Person'))\n",
      "\n",
      "(rdflib.term.URIRef('http://temp/a266ac7a2c4c41619828fe686668cc90'), rdflib.term.URIRef('http://www.w3.org/2000/01/rdf-schema#label'), rdflib.term.Literal('Core'))\n",
      "\n",
      "(rdflib.term.URIRef('http://temp/3213618d06ee403ea3fe7e31a0b1af57'), rdflib.term.URIRef('http://www.w3.org/2000/01/rdf-schema#label'), rdflib.term.Literal('PersonID'))\n",
      "\n",
      "(rdflib.term.URIRef('http://temp/1c30954273fe43b790a3e966e9aee784'), rdflib.term.URIRef('http://www.w3.org/1999/02/22-rdf-syntax-ns#type'), rdflib.term.URIRef('http://www.semanticweb.org/tomk/ontologies/2022/9/datamodel#DataModel'))\n",
      "\n",
      "(rdflib.term.URIRef('http://temp/ad21d37f44544e748f373c14f4564945'), rdflib.term.URIRef('http://www.w3.org/1999/02/22-rdf-syntax-ns#type'), rdflib.term.URIRef('http://www.semanticweb.org/tomk/ontologies/2022/9/datamodel#Class'))\n",
      "\n",
      "(rdflib.term.URIRef('http://temp/a266ac7a2c4c41619828fe686668cc90'), rdflib.term.URIRef('http://www.w3.org/1999/02/22-rdf-syntax-ns#type'), rdflib.term.URIRef('http://www.semanticweb.org/tomk/ontologies/2022/9/datamodel#ModelDomain'))\n",
      "\n",
      "(rdflib.term.URIRef('http://www.semanticweb.org/tomk/ontologies/2022/9/datamodel#DataModel'), rdflib.term.URIRef('http://www.w3.org/2000/01/rdf-schema#subClassOf'), rdflib.term.URIRef('http://www.semanticweb.org/tomk/ontologies/2022/9/datamodel#Definition'))\n",
      "\n",
      "(rdflib.term.URIRef('http://www.semanticweb.org/tomk/ontologies/2022/9/datamodel#Class'), rdflib.term.URIRef('http://www.w3.org/2000/01/rdf-schema#subClassOf'), rdflib.term.URIRef('http://www.semanticweb.org/tomk/ontologies/2022/9/datamodel#Definition'))\n",
      "\n",
      "(rdflib.term.URIRef('http://www.semanticweb.org/tomk/ontologies/2022/9/datamodel#ModelDomain'), rdflib.term.URIRef('http://www.w3.org/2000/01/rdf-schema#subClassOf'), rdflib.term.URIRef('http://www.semanticweb.org/tomk/ontologies/2022/9/datamodel#Definition'))\n",
      "\n"
     ]
    },
    {
     "data": {
      "image/png": "[encoded data removed]",
      "text/plain": [
       "<IPython.core.display.Image object>"
      ]
     },
     "metadata": {},
     "output_type": "display_data"
    }
   ],
   "source": [
    "q=\"\"\"SELECT distinct ?s ?p ?o\n",
    "WHERE\n",
    "    {?s ?p ?o .\n",
    "     ?p rdfs:subPropertyOf dm:HierarchicalRelations.}\n",
    " \n",
    " \"\"\"\n",
    "\n",
    "\n",
    "q=\"\"\"SELECT distinct ?s ?p ?o\n",
    "WHERE\n",
    "\n",
    "{\n",
    "    {?s ?p ?o .\n",
    "     ?p rdfs:subPropertyOf dm:HierarchicalRelations.}\n",
    "     UNION\n",
    "    {?s ?h ?q .\n",
    "     ?h rdfs:subPropertyOf dm:HierarchicalRelations.\n",
    "     BIND (rdfs:label as ?p)\n",
    "    ?s rdfs:label ?o}\n",
    "     UNION\n",
    "    {?q ?h ?s .\n",
    "     ?h rdfs:subPropertyOf dm:HierarchicalRelations.\n",
    "     BIND (rdfs:label as ?p)\n",
    "    ?s rdfs:label ?o}\n",
    "     UNION\n",
    "    {?s ?h ?q .\n",
    "     ?h rdfs:subPropertyOf dm:HierarchicalRelations.\n",
    "     BIND (rdf:type as ?p)\n",
    "     ?s rdf:type ?o .\n",
    "     }\n",
    "     UNION\n",
    "    {?a ?h ?b .\n",
    "     ?h rdfs:subPropertyOf dm:HierarchicalRelations.\n",
    "     ?a rdf:type ?s .\n",
    "     ?s rdfs:subClassOf ?o\n",
    "     BIND (rdfs:subClassOf as ?p)\n",
    "     }\n",
    "     \n",
    "     \n",
    "}\n",
    " \n",
    " \"\"\"\n",
    "\n",
    "for t in row_graph.query(q, initNs={'dm': dmns, 'rdfs' : RDFS, 'rdf' : RDF}):\n",
    "    print(t)\n",
    "    print()\n",
    "\n",
    "qg = t2rdflibg(row_graph.query(q, initNs={'dm': dmns, 'rdfs' : RDFS, 'rdf' : RDF}))\n",
    "\n",
    "visualize(qg)"
   ]
  },
  {
   "cell_type": "code",
   "execution_count": 50,
   "metadata": {},
   "outputs": [
    {
     "name": "stdout",
     "output_type": "stream",
     "text": [
      "[(rdflib.term.Literal('Principal Interactions'), rdflib.term.Literal('Person')), (rdflib.term.Literal('Person'), rdflib.term.Literal('PersonID')), (rdflib.term.Literal('Core'), rdflib.term.Literal('Principal Interactions'))]\n",
      "PersonID\n",
      "['Principal Interactions', 'Person', 'PersonID', 'Core']\n"
     ]
    },
    {
     "data": {
      "text/plain": [
       "['Person']"
      ]
     },
     "execution_count": 50,
     "metadata": {},
     "output_type": "execute_result"
    }
   ],
   "source": []
  },
  {
   "cell_type": "code",
   "execution_count": 39,
   "metadata": {},
   "outputs": [
    {
     "data": {
      "text/plain": [
       "'Core.Principal Interactions.Person.PersonID'"
      ]
     },
     "execution_count": 39,
     "metadata": {},
     "output_type": "execute_result"
    }
   ],
   "source": []
  },
  {
   "cell_type": "code",
   "execution_count": 22,
   "metadata": {},
   "outputs": [
    {
     "data": {
      "text/plain": [
       "[datamodels_rdf.AttributeMapping,\n",
       " datamodels_rdf.ClassMapping,\n",
       " datamodels_rdf.DomainMapping,\n",
       " datamodels_rdf.DomainModelClassEntityRecord,\n",
       " datamodels_rdf.ModelMapping,\n",
       " datamodels_rdf.hasAttributeMapping,\n",
       " datamodels_rdf.hasClassMapping,\n",
       " datamodels_rdf.hasDataTypeMapping,\n",
       " datamodels_rdf.hasModelMapping,\n",
       " datamodels_rdf.hasModelTypeMapping]"
      ]
     },
     "execution_count": 22,
     "metadata": {},
     "output_type": "execute_result"
    }
   ],
   "source": [
    "list(onto.individuals())"
   ]
  },
  {
   "cell_type": "code",
   "execution_count": 23,
   "metadata": {},
   "outputs": [],
   "source": [
    "# Instantiate Empty graph fro this (and only this) data row:\n"
   ]
  },
  {
   "cell_type": "code",
   "execution_count": 24,
   "metadata": {},
   "outputs": [
    {
     "ename": "NameError",
     "evalue": "name 'row_g' is not defined",
     "output_type": "error",
     "traceback": [
      "\u001b[0;31m---------------------------------------------------------------------------\u001b[0m",
      "\u001b[0;31mNameError\u001b[0m                                 Traceback (most recent call last)",
      "\u001b[0;32m<ipython-input-24-2a38354b2ca1>\u001b[0m in \u001b[0;36m<module>\u001b[0;34m\u001b[0m\n\u001b[1;32m      1\u001b[0m \u001b[0;31m# Get all mappings:\u001b[0m\u001b[0;34m\u001b[0m\u001b[0;34m\u001b[0m\u001b[0;34m\u001b[0m\u001b[0m\n\u001b[1;32m      2\u001b[0m \u001b[0;34m\u001b[0m\u001b[0m\n\u001b[0;32m----> 3\u001b[0;31m \u001b[0mdict\u001b[0m\u001b[0;34m(\u001b[0m\u001b[0mget_key_values\u001b[0m\u001b[0;34m(\u001b[0m\u001b[0mrow_g\u001b[0m\u001b[0;34m,\u001b[0m \u001b[0minvert\u001b[0m\u001b[0;34m=\u001b[0m\u001b[0;32mTrue\u001b[0m\u001b[0;34m)\u001b[0m\u001b[0;34m)\u001b[0m\u001b[0;34m\u001b[0m\u001b[0;34m\u001b[0m\u001b[0m\n\u001b[0m",
      "\u001b[0;31mNameError\u001b[0m: name 'row_g' is not defined"
     ]
    }
   ],
   "source": [
    "# Get all mappings:\n",
    "\n",
    "dict(get_key_values(row_g, invert=True))"
   ]
  },
  {
   "cell_type": "code",
   "execution_count": null,
   "metadata": {},
   "outputs": [],
   "source": [
    "del row_g"
   ]
  },
  {
   "cell_type": "code",
   "execution_count": null,
   "metadata": {},
   "outputs": [],
   "source": []
  },
  {
   "cell_type": "code",
   "execution_count": null,
   "metadata": {},
   "outputs": [],
   "source": [
    "def create_thing_triples(thing_label, owl_class, namespace, graph=None, pkey = None, test_for_existing=True):\n",
    "    if graph is None:\n",
    "        graph = rdflib.Graph()\n",
    "    if test_for_existing:\n",
    "        matches = [s for s,l in get_key_values(graph, pkey) if thing_label in l]\n",
    "    if len(matches)>0:\n",
    "        key = matches[0]\n",
    "    else:\n",
    "        key = uuid.uuid4().hex\n",
    "    thing_URI = URIRef(key, namespace)\n",
    "    # RDF:type, RDFS:label\n",
    "    triples=[]\n",
    "    props = { RDF.type : URIRef(owl_class.iri), \n",
    "              RDFS.label : Literal(thing_label)}\n",
    "    for k,v in props.items():\n",
    "        triples.append((thing_URI, k, v))\n",
    "    return triples\n",
    "    \n",
    "def create_subject_spoes(ontology, subject, owl_property, obj_raw, graph=None, pkey = None, test_for_existing=True):\n",
    "    namespace = ontology.base_iri\n",
    "    if graph is None:\n",
    "        graph = rdflib.Graph()\n",
    "    subj_uri = URIRef(subject.iri)\n",
    "    prop_uri = URIRef(owl_property.iri)\n",
    "    if owl_property.is_a[0].iri in ['http://www.w3.org/2002/07/owl#DatatypeProperty']:\n",
    "        obj = Literal(obj_raw)\n",
    "    else:\n",
    "        print(owl_property.is_a[0])\n",
    "        obj = URIRef(obj_raw.iri)\n",
    "    spo = (subj_uri, prop_uri, obj)\n",
    "    return spo\n",
    "    "
   ]
  },
  {
   "cell_type": "code",
   "execution_count": null,
   "metadata": {},
   "outputs": [],
   "source": [
    "def instantiate_thing(label, tclass, space, test_for_existing=True):\n",
    "    # Check to see if this object of the same class contains the same label\n",
    "    # if so, then return the first item of that name\n",
    "    if test_for_existing:\n",
    "        matches = [i for i in space.search(type=tclass) if label in i.label]\n",
    "        if len(matches)>0:\n",
    "            return matches[0]\n",
    "    # Otherwise, generate a unique ID, create the item in the space and assign this label\n",
    "    guid = uuid.uuid4().hex\n",
    "    with space:\n",
    "        i = tclass(guid, namespace=space)\n",
    "    i.label=label\n",
    "    return i\n",
    "    "
   ]
  },
  {
   "cell_type": "code",
   "execution_count": null,
   "metadata": {},
   "outputs": [],
   "source": []
  },
  {
   "cell_type": "code",
   "execution_count": null,
   "metadata": {},
   "outputs": [],
   "source": [
    "\n",
    "def get_thing_from_label_graphsearch(graph, domain, search_key=None):\n",
    "    #sd_list = [c for c in list(space.classes()) if c==domain]\n",
    "    \n",
    "    sd_list = [s for s,p,o in graph.triples((None, RDF.type, URIRef(domain.iri)))]\n",
    "    \n",
    "    # Get instances of classes that match provided keys\n",
    "    if search_key is None:\n",
    "        c_s = [s for l in sd_list for s in l.instances()]\n",
    "    else:\n",
    "        c_s = [s for l in sd_list for s,p,o in graph.triples((None, RDFS.label, Literal(search_key)))]\n",
    "    \n",
    "    return c_s\n",
    "\n",
    "def get_thing_from_label(space, domain, search_key=None):\n",
    "    sd_list = [c for c in list(space.classes()) if c==domain]\n",
    "    \n",
    "    # Get instances of classes that match provided keys\n",
    "    if search_key is None:\n",
    "        c_s = [s for l in sd_list for s in l.instances()]\n",
    "    else:\n",
    "        c_s = [s for l in sd_list for s in l.instances() if search_key in s.label]\n",
    "    \n",
    "    return c_s\n",
    "    \n",
    "\n",
    "def instantiate_property(subject_key, subject_domain, predicate, object_key, object_domain, space):\n",
    "    # Get classes for domains and ranges\n",
    "    sd_list = [c for c in list(space.classes()) if c==subject_domain]\n",
    "    od_list = [c for c in list(space.classes()) if c==object_domain]\n",
    "    \n",
    "    # Get instances of classes that match provided keys\n",
    "    if subject_key is None:\n",
    "        c_s = [s for l in sd_list for s in l.instances()]\n",
    "    else:\n",
    "        c_s = [s for s in sd_list for s in l.instances() if subject_key in s.label]\n",
    "        \n",
    "    if object_key is None:\n",
    "        c_o = [o for l in od_list for o in l.instances()]\n",
    "    else:\n",
    "        print (\"labels\", [(o.label, object_key in o.label, object_key) for o in od_list])\n",
    "        c_o = [o for l in od_list for o in l.instances()if object_key in o.label]\n",
    "    \n",
    "    print(od_list, object_key)\n",
    "    \n",
    "    print(predicate)\n",
    "    predicate.python_name=\"pp\"\n",
    "    print(c_s[0], predicate)\n",
    "    if len(c_o)==0:\n",
    "        print(\"property_data\", predicate, object_key, od_list, predicate.is_a)\n",
    "        # Sometimes fails for data_properties\n",
    "        # prop_relation = c_s[0].pp.append(object_key)\n",
    "        #prop_relation = space._add_obj_triple_spo(c_s[0].storid, predicate.storid, object_key)\n",
    "        try:\n",
    "            prop_relation=predicate[c_s[0]]=[object_key]\n",
    "        except AttributeError as e:\n",
    "            print(e)\n",
    "            prop_relation=predicate[c_s[0]]=[object_key]\n",
    "        print(\"success\", prop_relation)\n",
    "        print(\"value\", predicate[c_s[0]], c_s[0])\n",
    "    else:\n",
    "        if predicate.is_functional_for(c_o[0]):\n",
    "            prop_relation = c_s[0].pp=c_o[0]\n",
    "        else:\n",
    "            prop_relation = c_s[0].pp=[c_o[0]]\n",
    "    predicate.python_name = \"\"\n",
    "    return c_s, predicate, c_o, prop_relation"
   ]
  },
  {
   "cell_type": "code",
   "execution_count": null,
   "metadata": {},
   "outputs": [],
   "source": [
    "#ont = cleandms\n",
    "#ont = onto\n",
    "#q = instantiate_thing(\"test\", onto.Class, cleandms, True)\n",
    "#q = instantiate_thing(\"test 2\", onto.Class, onto, True)\n",
    "\n",
    "#for i in ont.Class.instances():\n",
    "#    print (i.iri, i.label)"
   ]
  },
  {
   "cell_type": "code",
   "execution_count": null,
   "metadata": {},
   "outputs": [],
   "source": [
    "#for i in onto.Class.instances():\n",
    "#    print (i.iri, i.label)"
   ]
  },
  {
   "cell_type": "code",
   "execution_count": null,
   "metadata": {},
   "outputs": [],
   "source": [
    "s_objects = []\n",
    "p_objects = []\n",
    "for s in serializations:\n",
    "    print(s)\n",
    "    mappings = [m for m in s.SerializationContainsMapping]\n",
    "    serials = {}\n",
    "    for m in mappings:\n",
    "        s_key = m.SerializationLabel.first()\n",
    "        i_key = m.MappingLabel.first()\n",
    "\n",
    "        if s_key not in serials.keys():\n",
    "            serials[s_key]=[]\n",
    "\n",
    "        print (\"\\t\", m, s_key)\n",
    "            \n",
    "        if m.is_a.first() == onto.EntityMapping:\n",
    "            print(\"\\t\\tEntity:{e}\".format(e=m))\n",
    "            o_range = m.MappingRange.first()\n",
    "            property_d = { \"type\" : \"entity\", \n",
    "                           \"mapping_name\" : i_key, \n",
    "                           \"property\" : \"rdf:type:\", \n",
    "                           \"range\" :    mappable_things[o_range], \n",
    "                           \"property_type\" : mappable_things_ext[i_key],\n",
    "                           \"subject_label\" : data_row[s_key]}\n",
    "#            serials[s_key].append((data_row[s_key], \"rdf:type\", mappable_things[o_range]))\n",
    "            serials[s_key].append(property_d)\n",
    "    \n",
    "        elif m.is_a.first() == onto.PropertyMapping:\n",
    "            print(\"\\t\\tProperty:{e}\".format(e=m))\n",
    "            s_domain = m.MappingDomain.first()\n",
    "            o_range = m.MappingRange.first()\n",
    "            property_d = { \"type\" : \"property\", \n",
    "                           \"mapping_name\" : i_key, \n",
    "                           \"domain\" :   mappable_things[s_domain], \n",
    "                           \"property\" : mappable_things[i_key], \n",
    "                           \"property_type\" : mappable_things_ext[i_key],\n",
    "                           \"range\" :    mappable_things.get(o_range,o_range), \n",
    "                           \"range_search_value\" : data_row[s_key]}\n",
    "            serials[s_key].append(property_d)\n",
    "            \n",
    "        else:\n",
    "            print(m.is_a)\n",
    "            print(s_key)\n",
    "            assert False\n",
    "            \n",
    "print()\n",
    "\n",
    "# Instantiate temporary versions of all the in-row objects\n",
    "for v in serials.values():\n",
    "    for u in v:\n",
    "        print(u)\n",
    "        if u['type'] == \"entity\":#u[1]==\"rdf:type\":\n",
    "            #with onto:\n",
    "                #q = instantiate_thing(\"test\", onto.Class, cleandms, True)\n",
    "            #s_objects.append(instantiate_thing(u['subject_label'], u['range'], onto, True))\n",
    "            s_objects.append(create_thing_triples(u['subject_label'], u['range'], onto.iri, graph=None, pkey=RDFS.label, test_for_existing=True))\n",
    "                #s_objects.append(instantiate_thing(u[0], u[2], onto, True))\n",
    "                #u[2](u[0], namespace=onto) # Create instances in the ontology\n",
    "            print(u)\n",
    "\n",
    "print()\n"
   ]
  },
  {
   "cell_type": "code",
   "execution_count": null,
   "metadata": {},
   "outputs": [],
   "source": [
    "# Instantiate Empty graph fro this (and only this) data row:\n",
    "row_g = rdflib.Graph()\n",
    "\n",
    "for obj_def in s_objects:\n",
    "    for triple in obj_def:\n",
    "        print(triple)\n",
    "        row_g.add(triple)"
   ]
  },
  {
   "cell_type": "code",
   "execution_count": null,
   "metadata": {},
   "outputs": [],
   "source": []
  },
  {
   "cell_type": "code",
   "execution_count": null,
   "metadata": {},
   "outputs": [],
   "source": [
    "\n",
    "# Create property links for all identified in-row objects\n",
    "for v in serials.values():\n",
    "    for u in v:\n",
    "        if u['type'] == \"property\":\n",
    "\n",
    "            p_objects.append(u)\n",
    "            # instantiate_property(None, u['domain'], u['property'], u[\"range_search_value\"], u['range'], onto)\n",
    "            subject = get_thing_from_label(onto, u['domain'], search_key=None)\n",
    "            print(u['domain'], subject)\n",
    "            cand_obj = get_thing_from_label(onto, u['range'], search_key=u[\"range_search_value\"])\n",
    "            create_subject_spoes(onto, subject, u['property'], cand_obj, graph=None, pkey = None, test_for_existing=True)\n"
   ]
  },
  {
   "cell_type": "code",
   "execution_count": null,
   "metadata": {},
   "outputs": [],
   "source": [
    "g = onto.world.as_rdflib_graph()\n",
    "for s,p,o in g.triples((URIRef(\"http://www.semanticweb.org/tomk/ontologies/2022/9/datamodel#9cd507c514af420ea52a9e7fa46f06f4\"), None, None)):\n",
    "    print(s,p,o)"
   ]
  },
  {
   "cell_type": "code",
   "execution_count": null,
   "metadata": {},
   "outputs": [],
   "source": [
    "for s,p,o in g.triples((None, RDF.type, None)):\n",
    "    print(s,p,o)"
   ]
  },
  {
   "cell_type": "code",
   "execution_count": null,
   "metadata": {},
   "outputs": [],
   "source": [
    "am = list(onto.individuals())[0]"
   ]
  },
  {
   "cell_type": "code",
   "execution_count": null,
   "metadata": {},
   "outputs": [],
   "source": [
    "assert False"
   ]
  },
  {
   "cell_type": "code",
   "execution_count": null,
   "metadata": {},
   "outputs": [],
   "source": [
    "dm=[i for i in onto.individuals() if 'test' in i.label][0]\n",
    "#dm.get_properties()\n",
    "print (dm, dm.is_a)\n",
    "for p in dm.INDIRECT_get_properties():\n",
    "    print(p,p[dm])"
   ]
  },
  {
   "cell_type": "code",
   "execution_count": null,
   "metadata": {},
   "outputs": [],
   "source": [
    "p_objects"
   ]
  },
  {
   "cell_type": "code",
   "execution_count": null,
   "metadata": {},
   "outputs": [],
   "source": [
    "p_objects[-2]"
   ]
  },
  {
   "cell_type": "code",
   "execution_count": null,
   "metadata": {},
   "outputs": [],
   "source": [
    "for p in p_objects:\n",
    "    print(p['property'][attrib])#dm)"
   ]
  },
  {
   "cell_type": "code",
   "execution_count": null,
   "metadata": {},
   "outputs": [],
   "source": [
    "assert False"
   ]
  },
  {
   "cell_type": "code",
   "execution_count": null,
   "metadata": {},
   "outputs": [],
   "source": [
    "onto.ModelTypeCode._python_name"
   ]
  },
  {
   "cell_type": "code",
   "execution_count": null,
   "metadata": {},
   "outputs": [],
   "source": [
    "onto.ModelTypeCode.is_a[0].iri==\"http://www.w3.org/2002/07/owl#DatatypeProperty\""
   ]
  },
  {
   "cell_type": "code",
   "execution_count": null,
   "metadata": {},
   "outputs": [],
   "source": [
    "dir(onto.ModelTypeCode)"
   ]
  },
  {
   "cell_type": "code",
   "execution_count": null,
   "metadata": {},
   "outputs": [],
   "source": [
    "[(i, i.is_a, i.label) for i in list(onto.individuals())]"
   ]
  },
  {
   "cell_type": "code",
   "execution_count": null,
   "metadata": {},
   "outputs": [],
   "source": [
    "attrib=[i for i in onto.individuals() if 'PersonID' in i.label][0]\n",
    "attrib.get_properties()\n"
   ]
  },
  {
   "cell_type": "code",
   "execution_count": null,
   "metadata": {},
   "outputs": [],
   "source": [
    "for p in attrib.INDIRECT_get_properties():\n",
    "    print(p,p[attrib])"
   ]
  },
  {
   "cell_type": "code",
   "execution_count": null,
   "metadata": {},
   "outputs": [],
   "source": [
    "dm=[i for i in onto.individuals() if 'Principal Interactions' in i.label][0]\n",
    "#dm.get_properties()\n",
    "print (dm, dm.is_a)\n",
    "for p in dm.INDIRECT_get_properties():\n",
    "    print(p,p[dm])"
   ]
  },
  {
   "cell_type": "code",
   "execution_count": null,
   "metadata": {},
   "outputs": [],
   "source": [
    "for e,p in enumerate(onto.data_properties()):\n",
    "    print(p[dm])"
   ]
  },
  {
   "cell_type": "code",
   "execution_count": null,
   "metadata": {},
   "outputs": [],
   "source": [
    "assert False"
   ]
  },
  {
   "cell_type": "code",
   "execution_count": null,
   "metadata": {},
   "outputs": [],
   "source": [
    "for e,p in enumerate(onto.data_properties()):\n",
    "    p[dm]=[\"Test\"]\n",
    "    print(e,p==[p for p in list(onto.data_properties()) ][8])\n",
    "print(\"Done\")\n",
    "[p for p in list(onto.data_properties()) ][8][dm]=[\"Tester\"]"
   ]
  },
  {
   "cell_type": "code",
   "execution_count": null,
   "metadata": {},
   "outputs": [],
   "source": [
    "dir(onto)"
   ]
  },
  {
   "cell_type": "code",
   "execution_count": null,
   "metadata": {},
   "outputs": [],
   "source": [
    "onto.Class.instances(), onto.Attribute.instances(), onto.DataModel.instances(), onto.ModelDomain.instances()"
   ]
  },
  {
   "cell_type": "code",
   "execution_count": null,
   "metadata": {},
   "outputs": [],
   "source": [
    "onto.Attribute.instances()[0].get_properties()"
   ]
  },
  {
   "cell_type": "code",
   "execution_count": null,
   "metadata": {},
   "outputs": [],
   "source": [
    "list(onto.Attribute.instances()[0]._get_instance_possible_relations())"
   ]
  },
  {
   "cell_type": "code",
   "execution_count": null,
   "metadata": {},
   "outputs": [],
   "source": [
    "dir(onto.DataModel.instances()[0])"
   ]
  },
  {
   "cell_type": "code",
   "execution_count": null,
   "metadata": {},
   "outputs": [],
   "source": [
    "for p in onto.Attribute.instances()[0].get_properties():\n",
    "    print(p, p.python_name, p[onto.DataModel.instances()[0]])\n",
    "        "
   ]
  },
  {
   "cell_type": "code",
   "execution_count": null,
   "metadata": {},
   "outputs": [],
   "source": [
    "for p in onto.DataModel.instances()[0].get_properties():\n",
    "    print(p, p.python_name, p[onto.DataModel.instances()[0]])\n",
    "        "
   ]
  },
  {
   "cell_type": "code",
   "execution_count": null,
   "metadata": {},
   "outputs": [],
   "source": [
    "onto.ModelTypeCode[onto.DataModel.instances()[0]]=['Test']"
   ]
  },
  {
   "cell_type": "code",
   "execution_count": null,
   "metadata": {},
   "outputs": [],
   "source": [
    "onto.ModelTypeCode.python_name = \"mtc\"\n",
    "#onto.DataModel.instances()[0].mtc=[\"Conceptual\"]"
   ]
  },
  {
   "cell_type": "code",
   "execution_count": null,
   "metadata": {},
   "outputs": [],
   "source": [
    "onto.DataModel.instances()[0].ModelTypeCode"
   ]
  },
  {
   "cell_type": "code",
   "execution_count": null,
   "metadata": {},
   "outputs": [],
   "source": [
    "with onto:\n",
    "    owlr.sync_reasoner(raw_world)"
   ]
  },
  {
   "cell_type": "code",
   "execution_count": null,
   "metadata": {},
   "outputs": [],
   "source": [
    "[c for c in list(onto.classes()) if c==p_objects[0]['domain']][0].instances()"
   ]
  },
  {
   "cell_type": "code",
   "execution_count": null,
   "metadata": {},
   "outputs": [],
   "source": [
    "p_objects[0]['property'].is_functional_for(p_objects[0]['range'])"
   ]
  },
  {
   "cell_type": "code",
   "execution_count": null,
   "metadata": {},
   "outputs": [],
   "source": [
    "instantiate_property(None, p_objects[0]['domain'], p_objects[0]['property'], p_objects[0]['range_search_value'], p_objects[0]['range'], onto)"
   ]
  },
  {
   "cell_type": "code",
   "execution_count": null,
   "metadata": {},
   "outputs": [],
   "source": [
    "[(s,s.is_a, s.label) for s in s_objects]"
   ]
  },
  {
   "cell_type": "code",
   "execution_count": null,
   "metadata": {},
   "outputs": [],
   "source": [
    "[(c,c.iri, c.is_a, c.label) for c in onto.Class.instances()]"
   ]
  },
  {
   "cell_type": "code",
   "execution_count": null,
   "metadata": {},
   "outputs": [],
   "source": [
    "assert False"
   ]
  },
  {
   "cell_type": "code",
   "execution_count": null,
   "metadata": {},
   "outputs": [],
   "source": [
    "serials['Entity']"
   ]
  },
  {
   "cell_type": "code",
   "execution_count": null,
   "metadata": {},
   "outputs": [],
   "source": [
    "with onto:\n",
    "    owlr.sync_reasoner()"
   ]
  },
  {
   "cell_type": "code",
   "execution_count": null,
   "metadata": {},
   "outputs": [],
   "source": [
    "onto.get_properties()"
   ]
  },
  {
   "cell_type": "code",
   "execution_count": null,
   "metadata": {},
   "outputs": [],
   "source": [
    "list(onto.inconsistent_classes())"
   ]
  },
  {
   "cell_type": "code",
   "execution_count": null,
   "metadata": {},
   "outputs": [],
   "source": [
    "for c in list(onto.classes()):\n",
    "    print (c, c.instances())"
   ]
  },
  {
   "cell_type": "code",
   "execution_count": null,
   "metadata": {},
   "outputs": [],
   "source": []
  }
 ],
 "metadata": {
  "kernelspec": {
   "display_name": "Python 3",
   "language": "python",
   "name": "python3"
  },
  "language_info": {
   "codemirror_mode": {
    "name": "ipython",
    "version": 3
   },
   "file_extension": ".py",
   "mimetype": "text/x-python",
   "name": "python",
   "nbconvert_exporter": "python",
   "pygments_lexer": "ipython3",
   "version": "3.6.7"
  }
 },
 "nbformat": 4,
 "nbformat_minor": 2
}
