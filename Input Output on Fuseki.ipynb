{
 "cells": [
  {
   "cell_type": "code",
   "execution_count": 1,
   "metadata": {},
   "outputs": [],
   "source": [
    "from rdflib.plugins.stores import sparqlstore"
   ]
  },
  {
   "cell_type": "code",
   "execution_count": 2,
   "metadata": {},
   "outputs": [
    {
     "name": "stderr",
     "output_type": "stream",
     "text": [
      "* Owlready2 * Warning: optimized Cython parser module 'owlready2_optimized' is not available, defaulting to slower Python implementation\n",
      "* Owlready2 * WARNING: ObjectProperty http://www.semanticweb.org/tomk/ontologies/2022/9/datamodel#RelationshipFromClass belongs to more than one entity types: [owl.ObjectProperty, datamodels_rdf.MetaProperty, datamodels_rdf.RelationshipProperties]; I'm trying to fix it...\n",
      "* Owlready2 * WARNING: ObjectProperty http://www.semanticweb.org/tomk/ontologies/2022/9/datamodel#RelationshipToClass belongs to more than one entity types: [owl.ObjectProperty, datamodels_rdf.MetaProperty, datamodels_rdf.RelationshipProperties]; I'm trying to fix it...\n",
      "* Owlready2 * WARNING: ObjectProperty http://www.semanticweb.org/tomk/ontologies/2022/9/datamodel#Contains belongs to more than one entity types: [owl.ObjectProperty, owl.ObjectProperty, owl.ObjectProperty, datamodels_rdf.MetaProperty]; I'm trying to fix it...\n",
      "* Owlready2 * WARNING: ObjectProperty http://www.semanticweb.org/tomk/ontologies/2022/9/datamodel#MemberOf belongs to more than one entity types: [owl.ObjectProperty, owl.ObjectProperty, owl.ObjectProperty, datamodels_rdf.MetaProperty]; I'm trying to fix it...\n",
      "* Owlready2 * WARNING: ObjectProperty http://www.semanticweb.org/tomk/ontologies/2022/9/datamodel#RelationshipFromAttribute belongs to more than one entity types: [owl.ObjectProperty, datamodels_rdf.MetaProperty, datamodels_rdf.RelationshipProperties]; I'm trying to fix it...\n",
      "* Owlready2 * WARNING: ObjectProperty http://www.semanticweb.org/tomk/ontologies/2022/9/datamodel#RelationshipToAttribute belongs to more than one entity types: [owl.ObjectProperty, datamodels_rdf.MetaProperty, datamodels_rdf.RelationshipProperties]; I'm trying to fix it...\n",
      "* Owlready2 * WARNING: DataProperty http://www.semanticweb.org/tomk/ontologies/2022/9/datamodel#Optionality belongs to more than one entity types: [owl.DatatypeProperty, datamodels_rdf.MetaDataProperty]; I'm trying to fix it...\n",
      "* Owlready2 * WARNING: DataProperty http://www.semanticweb.org/tomk/ontologies/2022/9/datamodel#Cardinality belongs to more than one entity types: [owl.DatatypeProperty, datamodels_rdf.MetaDataProperty]; I'm trying to fix it...\n",
      "* Owlready2 * WARNING: DataProperty http://www.semanticweb.org/tomk/ontologies/2022/9/datamodel#DataType belongs to more than one entity types: [owl.DatatypeProperty, datamodels_rdf.MetaDataProperty]; I'm trying to fix it...\n",
      "* Owlready2 * WARNING: DataProperty http://www.semanticweb.org/tomk/ontologies/2022/9/datamodel#FromCardinality belongs to more than one entity types: [owl.DatatypeProperty, datamodels_rdf.MetaDataProperty, datamodels_rdf.Cardinality]; I'm trying to fix it...\n",
      "* Owlready2 * WARNING: DataProperty http://www.semanticweb.org/tomk/ontologies/2022/9/datamodel#ModelType belongs to more than one entity types: [owl.DatatypeProperty, datamodels_rdf.MetaDataProperty]; I'm trying to fix it...\n",
      "* Owlready2 * WARNING: DataProperty http://www.semanticweb.org/tomk/ontologies/2022/9/datamodel#ToCardinality belongs to more than one entity types: [owl.DatatypeProperty, datamodels_rdf.MetaDataProperty, datamodels_rdf.Cardinality]; I'm trying to fix it...\n",
      "* Owlready2 * Running HermiT...\n",
      "    java -Xmx2000M -cp /usr/local/python/py36/lib/python3.6/site-packages/owlready2/hermit:/usr/local/python/py36/lib/python3.6/site-packages/owlready2/hermit/HermiT.jar org.semanticweb.HermiT.cli.CommandLine -c -O -D -I file:////var/folders/rd/q3bhk6_n56x75m05pp2sq7dr0000gn/T/tmpccu53gwm\n"
     ]
    },
    {
     "name": "stdout",
     "output_type": "stream",
     "text": [
      "datamodels_rdf.Mapping_Attribute [datamodels_rdf.Mapping]\n",
      "datamodels_rdf.Mapping_AttributeHasDataType [datamodels_rdf.Mapping]\n",
      "datamodels_rdf.Mapping_Class [datamodels_rdf.Mapping]\n",
      "datamodels_rdf.Mapping_ClassContainsAttribute [datamodels_rdf.Mapping]\n",
      "datamodels_rdf.Mapping_Context [datamodels_rdf.Mapping]\n",
      "datamodels_rdf.Mapping_ContextContainsClass [datamodels_rdf.Mapping]\n",
      "datamodels_rdf.Mapping_ContextContainsSubContext [datamodels_rdf.Mapping]\n",
      "datamodels_rdf.Mapping_DomainContainsModel [datamodels_rdf.Mapping]\n",
      "datamodels_rdf.Mapping_FromAttribute [datamodels_rdf.Mapping]\n",
      "datamodels_rdf.Mapping_FromClass [datamodels_rdf.Mapping]\n",
      "datamodels_rdf.Mapping_Model [datamodels_rdf.Mapping]\n",
      "datamodels_rdf.Mapping_ModelContainsClass [datamodels_rdf.Mapping]\n",
      "datamodels_rdf.Mapping_ModelContainsContext [datamodels_rdf.Mapping]\n",
      "datamodels_rdf.Mapping_ModelContainsRelationship [datamodels_rdf.Mapping]\n",
      "datamodels_rdf.Mapping_ModelDomain [datamodels_rdf.Mapping]\n",
      "datamodels_rdf.Mapping_ModelHasModelType [datamodels_rdf.Mapping]\n",
      "datamodels_rdf.Mapping_Relationship [datamodels_rdf.Mapping]\n",
      "datamodels_rdf.Mapping_RelationshipFromAttribute [datamodels_rdf.Mapping]\n",
      "datamodels_rdf.Mapping_RelationshipFromCardinality [datamodels_rdf.Mapping]\n",
      "datamodels_rdf.Mapping_RelationshipFromClass [datamodels_rdf.Mapping]\n",
      "datamodels_rdf.Mapping_RelationshipToAttribute [datamodels_rdf.Mapping]\n",
      "datamodels_rdf.Mapping_RelationshipToCardinality [datamodels_rdf.Mapping]\n",
      "datamodels_rdf.Mapping_RelationshipToClass [datamodels_rdf.Mapping]\n",
      "datamodels_rdf.Mapping_SubContext [datamodels_rdf.Mapping]\n",
      "datamodels_rdf.Mapping_ToAttribute [datamodels_rdf.Mapping]\n",
      "datamodels_rdf.Mapping_ToClass [datamodels_rdf.Mapping]\n"
     ]
    },
    {
     "name": "stderr",
     "output_type": "stream",
     "text": [
      "* Owlready2 * HermiT took 0.6517000198364258 seconds\n",
      "* Owlready * Reparenting datamodels_rdf.RelationshipFromAttribute: {datamodels_rdf.RelationshipProperties, owl.ObjectProperty} => {datamodels_rdf.RelationshipProperties, datamodels_rdf.MetaProperty}\n",
      "* Owlready * Reparenting datamodels_rdf.RelationshipToClass: {datamodels_rdf.RelationshipProperties, owl.ObjectProperty} => {datamodels_rdf.RelationshipProperties, datamodels_rdf.MetaProperty}\n",
      "* Owlready * Reparenting datamodels_rdf.RelationshipToAttribute: {datamodels_rdf.RelationshipProperties, owl.ObjectProperty} => {datamodels_rdf.RelationshipProperties, datamodels_rdf.MetaProperty}\n",
      "* Owlready * Reparenting datamodels_rdf.RelationshipToOptionality: {datamodels_rdf.RelationshipProperties, owl.ObjectProperty} => {datamodels_rdf.RelationshipProperties}\n",
      "* Owlready * Reparenting datamodels_rdf.RelationshipFromOptionality: {datamodels_rdf.RelationshipProperties, owl.ObjectProperty} => {datamodels_rdf.RelationshipProperties}\n",
      "* Owlready * Reparenting datamodels_rdf.RelationshipFromClass: {datamodels_rdf.RelationshipProperties, owl.ObjectProperty} => {datamodels_rdf.RelationshipProperties, datamodels_rdf.MetaProperty}\n",
      "* Owlready * Reparenting discourse.Predicate: {discourse.Atom, owl.ObjectProperty} => {discourse.Atom}\n",
      "* Owlready * Reparenting discourse.Object: {discourse.Atom, owl.ObjectProperty} => {discourse.Atom}\n",
      "* Owlready * Reparenting discourse.Subject: {discourse.Atom, owl.ObjectProperty} => {discourse.Atom}\n",
      "* Owlready * Reparenting discourse.Refutes: {discourse.Posits, owl.ObjectProperty} => {discourse.Posits}\n",
      "* Owlready * Reparenting discourse.Asserts: {discourse.Posits, owl.ObjectProperty} => {discourse.Posits}\n",
      "* Owlready * Reparenting datamodels_rdf.ToCardinality: {owl.DatatypeProperty, datamodels_rdf.Cardinality} => {datamodels_rdf.Cardinality, datamodels_rdf.MetaDataProperty}\n",
      "* Owlready * Reparenting datamodels_rdf.FromCardinality: {owl.DatatypeProperty, datamodels_rdf.Cardinality} => {datamodels_rdf.Cardinality, datamodels_rdf.MetaDataProperty}\n",
      "* Owlready * Reparenting datamodels_rdf.Mapping_RelationshipFromAttribute: {datamodels_rdf.Mapping} => {datamodels_rdf.PropertyMapping}\n",
      "* Owlready * Reparenting datamodels_rdf.Mapping_Context: {datamodels_rdf.Mapping} => {datamodels_rdf.EntityMapping}\n",
      "* Owlready * Reparenting datamodels_rdf.Mapping_ClassContainsAttribute: {datamodels_rdf.Mapping} => {datamodels_rdf.PropertyMapping}\n",
      "* Owlready * Reparenting datamodels_rdf.Optionality: {owl.DatatypeProperty} => {datamodels_rdf.MetaDataProperty}\n",
      "* Owlready * Reparenting datamodels_rdf.Mapping_ModelHasModelType: {datamodels_rdf.Mapping} => {datamodels_rdf.DataPropertyMapping}\n",
      "* Owlready * Reparenting datamodels_rdf.MemberOf: {owl.ObjectProperty} => {datamodels_rdf.MetaProperty}\n",
      "* Owlready * Reparenting datamodels_rdf.Mapping_ModelContainsRelationship: {datamodels_rdf.Mapping} => {datamodels_rdf.PropertyMapping}\n",
      "* Owlready * Reparenting datamodels_rdf.Mapping_Relationship: {datamodels_rdf.Mapping} => {datamodels_rdf.EntityMapping}\n",
      "* Owlready * Reparenting datamodels_rdf.Mapping_RelationshipToAttribute: {datamodels_rdf.Mapping} => {datamodels_rdf.PropertyMapping}\n",
      "* Owlready * Reparenting datamodels_rdf.Mapping_FromClass: {datamodels_rdf.Mapping} => {datamodels_rdf.EntityMapping}\n",
      "* Owlready * Reparenting datamodels_rdf.Mapping_Class: {datamodels_rdf.Mapping} => {datamodels_rdf.EntityMapping}\n",
      "* Owlready * Reparenting datamodels_rdf.Mapping_ToAttribute: {datamodels_rdf.Mapping} => {datamodels_rdf.EntityMapping}\n",
      "* Owlready * Reparenting datamodels_rdf.DataType: {owl.DatatypeProperty} => {datamodels_rdf.MetaDataProperty}\n",
      "* Owlready * Reparenting datamodels_rdf.Mapping_Attribute: {datamodels_rdf.Mapping} => {datamodels_rdf.EntityMapping}\n",
      "* Owlready * Reparenting datamodels_rdf.Mapping_Model: {datamodels_rdf.Mapping} => {datamodels_rdf.EntityMapping}\n",
      "* Owlready * Reparenting datamodels_rdf.Mapping_RelationshipFromClass: {datamodels_rdf.Mapping} => {datamodels_rdf.PropertyMapping}\n",
      "* Owlready * Reparenting datamodels_rdf.Mapping_ModelDomain: {datamodels_rdf.Mapping} => {datamodels_rdf.EntityMapping}\n",
      "* Owlready * Reparenting datamodels_rdf.Mapping_ModelContainsContext: {datamodels_rdf.Mapping} => {datamodels_rdf.PropertyMapping}\n",
      "* Owlready * Reparenting datamodels_rdf.Mapping_ContextContainsSubContext: {datamodels_rdf.Mapping} => {datamodels_rdf.PropertyMapping}\n",
      "* Owlready * Reparenting datamodels_rdf.Mapping_FromAttribute: {datamodels_rdf.Mapping} => {datamodels_rdf.EntityMapping}\n",
      "* Owlready * Reparenting datamodels_rdf.Cardinality: {owl.DatatypeProperty} => {datamodels_rdf.MetaDataProperty}\n",
      "* Owlready * Reparenting datamodels_rdf.Mapping_ToClass: {datamodels_rdf.Mapping} => {datamodels_rdf.EntityMapping}\n",
      "* Owlready * Reparenting datamodels_rdf.Mapping_ModelContainsClass: {datamodels_rdf.Mapping} => {datamodels_rdf.PropertyMapping}\n",
      "* Owlready * Reparenting datamodels_rdf.Mapping_DomainContainsModel: {datamodels_rdf.Mapping} => {datamodels_rdf.PropertyMapping}\n",
      "* Owlready * Reparenting datamodels_rdf.Mapping_AttributeHasDataType: {datamodels_rdf.Mapping} => {datamodels_rdf.DataPropertyMapping}\n",
      "* Owlready * Reparenting datamodels_rdf.Contains: {owl.ObjectProperty} => {datamodels_rdf.MetaProperty}\n",
      "* Owlready * Reparenting datamodels_rdf.Mapping_RelationshipToCardinality: {datamodels_rdf.Mapping} => {datamodels_rdf.DataPropertyMapping}\n",
      "* Owlready * Reparenting datamodels_rdf.Mapping_ContextContainsClass: {datamodels_rdf.Mapping} => {datamodels_rdf.PropertyMapping}\n",
      "* Owlready * Reparenting datamodels_rdf.Mapping_RelationshipToClass: {datamodels_rdf.Mapping} => {datamodels_rdf.PropertyMapping}\n",
      "* Owlready * Reparenting datamodels_rdf.Mapping_SubContext: {datamodels_rdf.Mapping} => {datamodels_rdf.EntityMapping}\n",
      "* Owlready * Reparenting datamodels_rdf.ModelType: {owl.DatatypeProperty} => {datamodels_rdf.MetaDataProperty}\n",
      "* Owlready * Reparenting datamodels_rdf.Mapping_RelationshipFromCardinality: {datamodels_rdf.Mapping} => {datamodels_rdf.DataPropertyMapping}\n",
      "* Owlready * (NB: only changes on entities loaded in Python are shown, other changes are done but not listed)\n"
     ]
    }
   ],
   "source": [
    "import rdflib\n",
    "from rdflib import URIRef, Literal, Graph, Dataset\n",
    "\n",
    "import loader\n",
    "import discourse\n",
    "import pandas as pd\n",
    "from rdflib import Graph, Namespace\n",
    "from rdflib.namespace import RDF, RDFS\n",
    "import io\n",
    "import pydotplus\n",
    "from IPython.display import display, Image\n",
    "from rdflib.tools.rdf2dot import rdf2dot\n",
    "from IPython.core.display import HTML\n",
    "\n",
    "\n",
    "def visualize(g):\n",
    "    stream = io.StringIO()\n",
    "    rdf2dot(g, stream, opts = {display})\n",
    "    dg = pydotplus.graph_from_dot_data(stream.getvalue())\n",
    "    png = dg.create_png()\n",
    "\n",
    "    display(Image(png))\n",
    "\n",
    "def t2rdflibg(triples): #triples to rdflib graph\n",
    "    g = Graph()\n",
    "    for t in triples:\n",
    "        g.add(t)\n",
    "    return g\n",
    "\n",
    "\n",
    "def nan2None(value):\n",
    "    if pd.isnull(value) :\n",
    "        return None\n",
    "    else:\n",
    "        return value\n",
    "\n",
    "\n",
    "def get_data_rows(filename):\n",
    "    data_rows_df = pd.read_csv(filename)\n",
    "    data_rows=[]\n",
    "    for i,r in data_rows_df.iterrows():\n",
    "        r_d = {k:nan2None(v) for k,v in dict(r).items()}\n",
    "\n",
    "        data_rows.append(r_d)\n",
    "    del data_rows_df\n",
    "    return data_rows\n",
    "\n",
    "serial_key = { \"Business Domain\" : \"ModelDomain\", \n",
    "               \"Model\" : \"Model\", \n",
    "               \"ModelType\" : \"ModelType\", \n",
    "               \"Entity\" : \"Class\", \n",
    "               \"Attribute\" : \"Attribute\", \n",
    "               \"DataType\" : \"DataType\", \n",
    "               \"Context\" : \"Context\", \n",
    "               \"SubContext\" : \"SubContext\", \n",
    "               \"Relationship\" : \"Relationship\", \n",
    "               \"Entity From\" : \"FromClass\",\n",
    "               \"Attribute From\" : \"FromAttribute\", \n",
    "               \"Cardinality From\" : \"FromCardinality\",\n",
    "               \"Entity To\" : \"ToClass\",\n",
    "               \"Attribute To\" : \"ToAttribute\",\n",
    "               \"Cardinality To\" : \"ToCardinality\"\n",
    "}\n",
    "\n"
   ]
  },
  {
   "cell_type": "code",
   "execution_count": 3,
   "metadata": {},
   "outputs": [],
   "source": [
    "jena = sparqlstore.SPARQLUpdateStore(\"http://localhost:3030/models/query\",context_aware=True)\n",
    "jena.open((\"http://localhost:3030/models/query\", \"http://localhost:3030/models/update\"))"
   ]
  },
  {
   "cell_type": "code",
   "execution_count": 4,
   "metadata": {},
   "outputs": [],
   "source": [
    "# Create a Dataset\n",
    "ds = Dataset(store=jena, default_union=True)\n",
    "# Define a named graph within the dataset, this will contain all nodes contained within the graph referenced, or none if it doesn't exist yet.\n",
    "g = ds.graph(URIRef(\"http://datamodels.raw\"))\n"
   ]
  },
  {
   "cell_type": "code",
   "execution_count": 5,
   "metadata": {},
   "outputs": [],
   "source": [
    "qr = g.query(\"\"\"select ?s ?p ?o where { ?s ?p ?o. }\"\"\")"
   ]
  },
  {
   "cell_type": "code",
   "execution_count": 6,
   "metadata": {},
   "outputs": [
    {
     "data": {
      "text/plain": [
       "[(rdflib.term.URIRef('http://this.com/this'),\n",
       "  rdflib.term.URIRef('http://www.w3.org/1999/02/22-rdf-syntax-ns#type'),\n",
       "  rdflib.term.Literal('another test')),\n",
       " (rdflib.term.URIRef('http://this.com/this'),\n",
       "  rdflib.term.URIRef('http://www.w3.org/1999/02/22-rdf-syntax-ns#type'),\n",
       "  rdflib.term.Literal('test'))]"
      ]
     },
     "execution_count": 6,
     "metadata": {},
     "output_type": "execute_result"
    }
   ],
   "source": [
    "[r for r in qr]"
   ]
  },
  {
   "cell_type": "code",
   "execution_count": 7,
   "metadata": {},
   "outputs": [],
   "source": [
    "g.add((URIRef(\"http://this.com/this\"), RDF.type, Literal(\"test\")))\n",
    "g.add((URIRef(\"http://this.com/this\"), RDF.type, Literal(\"another test\")))"
   ]
  },
  {
   "cell_type": "code",
   "execution_count": 8,
   "metadata": {},
   "outputs": [],
   "source": [
    "qr = g.query(\"\"\"select ?s ?p ?o where { ?s ?p ?o. }\"\"\")"
   ]
  },
  {
   "cell_type": "code",
   "execution_count": 9,
   "metadata": {},
   "outputs": [
    {
     "data": {
      "text/plain": [
       "[(rdflib.term.URIRef('http://this.com/this'),\n",
       "  rdflib.term.URIRef('http://www.w3.org/1999/02/22-rdf-syntax-ns#type'),\n",
       "  rdflib.term.Literal('another test')),\n",
       " (rdflib.term.URIRef('http://this.com/this'),\n",
       "  rdflib.term.URIRef('http://www.w3.org/1999/02/22-rdf-syntax-ns#type'),\n",
       "  rdflib.term.Literal('test'))]"
      ]
     },
     "execution_count": 9,
     "metadata": {},
     "output_type": "execute_result"
    }
   ],
   "source": [
    "qrs=list([r for r in qr])\n",
    "qrs[-5:]"
   ]
  },
  {
   "cell_type": "code",
   "execution_count": 10,
   "metadata": {},
   "outputs": [],
   "source": [
    "# job_def is in the form (Serialization, key, data )\n",
    "job_def_load_entities = (\"Model Load\", loader.onto.EntityAttributeRecord , serial_key, get_data_rows(\"model_entities.csv\")  )\n",
    "batch_manifest = [job_def_load_entities]"
   ]
  },
  {
   "cell_type": "code",
   "execution_count": null,
   "metadata": {},
   "outputs": [],
   "source": [
    "graph = loader.spawn_rdflib_graph()"
   ]
  }
 ],
 "metadata": {
  "kernelspec": {
   "display_name": "Python 3",
   "language": "python",
   "name": "python3"
  },
  "language_info": {
   "codemirror_mode": {
    "name": "ipython",
    "version": 3
   },
   "file_extension": ".py",
   "mimetype": "text/x-python",
   "name": "python",
   "nbconvert_exporter": "python",
   "pygments_lexer": "ipython3",
   "version": "3.6.7"
  }
 },
 "nbformat": 4,
 "nbformat_minor": 2
}
