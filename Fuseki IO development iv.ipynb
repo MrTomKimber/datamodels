{
 "cells": [
  {
   "cell_type": "code",
   "execution_count": 1,
   "metadata": {},
   "outputs": [
    {
     "name": "stderr",
     "output_type": "stream",
     "text": [
      "* Owlready2 * Warning: optimized Cython parser module 'owlready2_optimized' is not available, defaulting to slower Python implementation\n",
      "* Owlready2 * WARNING: ObjectProperty http://www.semanticweb.org/tomk/ontologies/2022/11/serialization#MappingMetaTarget belongs to more than one entity types: [owl.AnnotationProperty, owl.ObjectProperty, owl.topObjectProperty]; I'm trying to fix it...\n",
      "* Owlready2 * Running HermiT...\n",
      "    java -Xmx2000M -cp /usr/local/python/py36/lib/python3.6/site-packages/owlready2/hermit:/usr/local/python/py36/lib/python3.6/site-packages/owlready2/hermit/HermiT.jar org.semanticweb.HermiT.cli.CommandLine -c -O -D -I file:////var/folders/rd/q3bhk6_n56x75m05pp2sq7dr0000gn/T/tmpk6l2w0r9\n"
     ]
    },
    {
     "name": "stdout",
     "output_type": "stream",
     "text": [
      "Serialization.Meta [Serialization.SerializationMetaData]\n",
      "Serialization.Mapping [Serialization.SerializationSpecs]\n",
      "Serialization.BatchDefinition [Serialization.SerializationSpecs]\n",
      "Serialization.SerializationSpecs [Serialization.SerializationMetaData]\n",
      "Serialization.BatchNode [Serialization.DataLoad]\n",
      "Serialization.DataLoad [Serialization.SerializationMetaData]\n",
      "Serialization.SerializationMetaData [owl.Thing]\n",
      "Serialization.DataPropertyMapping [Serialization.Mapping]\n",
      "Serialization.MetaDataProperty [Serialization.Meta]\n",
      "Serialization.EntityMapping [Serialization.Mapping]\n",
      "Serialization.MetaClass [Serialization.Meta]\n",
      "Serialization.JobNode [Serialization.DataLoad]\n",
      "Serialization.MetaProperty [Serialization.Meta]\n",
      "Serialization.PropertyMapping [Serialization.Mapping]\n",
      "Serialization.RowNode [Serialization.DataLoad]\n",
      "Serialization.Serialization [Serialization.SerializationSpecs]\n"
     ]
    },
    {
     "name": "stderr",
     "output_type": "stream",
     "text": [
      "* Owlready2 * HermiT took 0.5391039848327637 seconds\n",
      "* Owlready * (NB: only changes on entities loaded in Python are shown, other changes are done but not listed)\n"
     ]
    }
   ],
   "source": [
    "from rdflib.plugins.stores import sparqlstore\n",
    "import rdflib\n",
    "from rdflib import URIRef, Literal, Graph, Dataset\n",
    "\n",
    "import serialization\n",
    "import discourse\n",
    "\n",
    "import html\n",
    "import loader\n",
    "import discourse\n",
    "import pandas as pd\n",
    "from rdflib import Graph, Namespace\n",
    "from rdflib.namespace import RDF, RDFS\n",
    "import io\n",
    "import pydotplus\n",
    "from IPython.display import display, Image\n",
    "from rdflib.tools.rdf2dot import rdf2dot\n",
    "from IPython.core.display import HTML\n",
    "\n",
    "import uuid\n",
    "\n",
    "from itertools import chain\n",
    "\n",
    "def visualize(g):\n",
    "    stream = io.StringIO()\n",
    "    rdf2dot(g, stream, opts = {display})\n",
    "    dg = pydotplus.graph_from_dot_data(stream.getvalue())\n",
    "    png = dg.create_png()\n",
    "\n",
    "    display(Image(png))\n",
    "\n",
    "def t2rdflibg(triples): #triples to rdflib graph\n",
    "    g = Graph()\n",
    "    for t in triples:\n",
    "        g.add(t)\n",
    "    return g\n",
    "\n",
    "\n",
    "def nan2None(value):\n",
    "    if pd.isnull(value) :\n",
    "        return None\n",
    "    else:\n",
    "        return value\n",
    "\n",
    "\n",
    "def get_data_rows(filename):\n",
    "    data_rows_df = pd.read_csv(filename)\n",
    "    data_rows=[]\n",
    "    for i,r in data_rows_df.iterrows():\n",
    "        r_d = {k:nan2None(v) for k,v in dict(r).items()}\n",
    "\n",
    "        data_rows.append(r_d)\n",
    "    del data_rows_df\n",
    "    return data_rows\n",
    "\n",
    "\n",
    "jena = sparqlstore.SPARQLUpdateStore(\"http://localhost:3030/modelg/query\",context_aware=True)\n",
    "#jena.open((\"http://localhost:3030/modelg/query\", \"http://localhost:3030/modelg/update\"))\n",
    "jena.open((\"http://localhost:3030/models/query\", \"http://localhost:3030/models/update\"))\n",
    "\n",
    "# Create a Dataset\n",
    "ds = Dataset(store=jena, default_union=True, default_graph_base=\"http://base.raw\")\n",
    "#ds = Dataset(store=jena, default_union=True)\n",
    "# Define a named graph within the dataset, this will contain all nodes contained within the graph referenced, or none if it doesn't exist yet.\n",
    "sg = ds.graph(URIRef(\"http://config\"))\n",
    "sg = Graph()\n",
    "master_g = ds.graph(URIRef(\"http://master\"))\n",
    "discourse_g = ds.graph(URIRef(\"http://discourse\"))\n",
    "\n"
   ]
  },
  {
   "cell_type": "code",
   "execution_count": 18,
   "metadata": {},
   "outputs": [],
   "source": [
    "def meta_data_package_template(field_d):\n",
    "    dc_terms_base = \"http://purl.org/dc/terms/\"\n",
    "    rdf_form = {}\n",
    "    for k,v in field_d.items():\n",
    "        rdf_form[URIRef(dc_terms_base + k)] = Literal(v)\n",
    "    return rdf_form\n",
    "\n",
    "\n",
    "def triples_to_quads(triples, graph=\"http://master\"):\n",
    "    for s,p,o, *_ in triples:\n",
    "        yield (s,p,o,URIRef(graph))"
   ]
  },
  {
   "cell_type": "code",
   "execution_count": 16,
   "metadata": {},
   "outputs": [],
   "source": [
    "if len(sg)==0:\n",
    "    sg.parse(\"DMEAR_ser.rdf\")\n",
    "S = serialization.Serialization(sg, \"EntityAttributeRecord\")"
   ]
  },
  {
   "cell_type": "code",
   "execution_count": 13,
   "metadata": {},
   "outputs": [],
   "source": [
    "model_data = pd.read_csv(r\"sample/inventory_v1.csv\", index_col=\"Sequence\").fillna(\"\")\n",
    "d_p = meta_data_package_template( {\"created\" : \"2023-04-10\", \n",
    "                                   \"creator\" : \"tomk\", \n",
    "                                   \"description\" : \"Sample ERD model version 1\", \n",
    "                                   \"title\" : \"inventory\", \n",
    "                                   \"modified\" : \"2023-04-10\"})\n",
    "\n",
    "rows = [dict({rk:html.escape(str(rv)) for rk, rv in r.items()}) for i,r in model_data.iterrows()]"
   ]
  },
  {
   "cell_type": "code",
   "execution_count": 14,
   "metadata": {},
   "outputs": [],
   "source": []
  },
  {
   "cell_type": "code",
   "execution_count": 19,
   "metadata": {},
   "outputs": [
    {
     "name": "stdout",
     "output_type": "stream",
     "text": [
      "0:00:00.146289 for 9\n"
     ]
    }
   ],
   "source": [
    "# Here master_g is a master graph sourced from Fuseki\n",
    "mq,me_m = loader.get_triples(sg, \"EntityAttributeRecord\", rows, master_g, [])\n",
    "p,de,di = loader.generate_discourse(\"Inventory ERD v1.0\", mq, d_p)\n",
    "\n",
    "ds.addN(triples_to_quads(mq, URIRef(\"http://master\")))\n",
    "ds.addN(triples_to_quads(p, URIRef(\"http://discourse\")))\n",
    "ds.addN(triples_to_quads(de, URIRef(\"http://discourse\")))\n",
    "ds.addN(triples_to_quads(di, URIRef(\"http://discourse\")))\n"
   ]
  },
  {
   "cell_type": "code",
   "execution_count": 20,
   "metadata": {},
   "outputs": [
    {
     "name": "stdout",
     "output_type": "stream",
     "text": [
      "0:00:00.197643 for 18\n"
     ]
    }
   ],
   "source": [
    "model_data = pd.read_csv(r\"sample/inventory_v2.csv\", index_col=\"Sequence\").fillna(\"\")\n",
    "d_p = meta_data_package_template( {\"created\" : \"2023-04-11\", \n",
    "                                   \"creator\" : \"tomk\", \n",
    "                                   \"description\" : \"Sample ERD model version 2\", \n",
    "                                   \"title\" : \"inventory ERD\", \n",
    "                                   \"modified\" : \"2023-04-11\"})\n",
    "\n",
    "rows = [dict({rk:html.escape(str(rv)) for rk, rv in r.items()}) for i,r in model_data.iterrows()]\n",
    "\n",
    "# Here master_g is a master graph sourced from Fuseki\n",
    "mq,me_m = loader.get_triples(sg, \"EntityAttributeRecord\", rows, master_g, [])\n",
    "p,de,di = loader.generate_discourse(\"Inventory ERD v2.0\", mq, d_p)\n",
    "\n",
    "ds.addN(triples_to_quads(mq, URIRef(\"http://master\")))\n",
    "ds.addN(triples_to_quads(p, URIRef(\"http://discourse\")))\n",
    "ds.addN(triples_to_quads(de, URIRef(\"http://discourse\")))\n",
    "ds.addN(triples_to_quads(di, URIRef(\"http://discourse\")))\n"
   ]
  },
  {
   "cell_type": "code",
   "execution_count": 21,
   "metadata": {},
   "outputs": [
    {
     "name": "stdout",
     "output_type": "stream",
     "text": [
      "0:00:00.303726 for 44\n"
     ]
    }
   ],
   "source": [
    "model_data = pd.read_csv(r\"sample/inventory_v3.csv\", index_col=\"Sequence\").fillna(\"\")\n",
    "d_p = meta_data_package_template( {\"created\" : \"2023-04-14\", \n",
    "                                   \"creator\" : \"tomk\", \n",
    "                                   \"description\" : \"Sample ERD model version 3\", \n",
    "                                   \"title\" : \"inventory ERD\", \n",
    "                                   \"modified\" : \"2023-04-14\"})\n",
    "\n",
    "rows = [dict({rk:html.escape(str(rv)) for rk, rv in r.items()}) for i,r in model_data.iterrows()]\n",
    "\n",
    "# Here master_g is a master graph sourced from Fuseki\n",
    "mq,me_m = loader.get_triples(sg, \"EntityAttributeRecord\", rows, master_g, [])\n",
    "p,de,di = loader.generate_discourse(\"Inventory ERD v3.0\", mq, d_p)\n",
    "\n",
    "ds.addN(triples_to_quads(mq, URIRef(\"http://master\")))\n",
    "ds.addN(triples_to_quads(p, URIRef(\"http://discourse\")))\n",
    "ds.addN(triples_to_quads(de, URIRef(\"http://discourse\")))\n",
    "ds.addN(triples_to_quads(di, URIRef(\"http://discourse\")))\n"
   ]
  },
  {
   "cell_type": "code",
   "execution_count": 22,
   "metadata": {},
   "outputs": [],
   "source": [
    "# Step 1 - Tell me what discourses are available in the system"
   ]
  },
  {
   "cell_type": "code",
   "execution_count": 35,
   "metadata": {},
   "outputs": [],
   "source": [
    "discourse_details_sparql = \"\"\"\n",
    "PREFIX rdf: <http://www.w3.org/1999/02/22-rdf-syntax-ns#>\n",
    "PREFIX disco: <http://www.semanticweb.org/tomk/ontologies/2022/11/discourse#> \n",
    "PREFIX dcterms: <http://purl.org/dc/terms/> \n",
    "PREFIX rdfs: <http://www.w3.org/2000/01/rdf-schema#> \n",
    "\n",
    "select ?g ?discourse ?name ?title ?description ?created (COUNT(?declaration) as ?declarations) (COUNT(distinct ?psubject) as ?entities)\n",
    "\n",
    "WHERE {\n",
    "  GRAPH ?g\n",
    "  {\n",
    "      ?discourse a disco:Discourse.\n",
    "      ?discourse dcterms:title ?title.\n",
    "      ?discourse rdfs:label ?name.\n",
    "      ?discourse dcterms:description ?description.\n",
    "      ?discourse dcterms:created ?created .\n",
    "      ?discourse disco:DiscourseContains+ ?declaration .\n",
    "      ?declaration a disco:Declaration .\n",
    "      ?posit_type rdfs:subPropertyOf* disco:Posits .\n",
    "      ?declaration disco:Asserts ?assertion.\n",
    "      ?assertion disco:Subject ?psubject.\n",
    "  }\n",
    "}\n",
    "GROUP BY ?g ?discourse ?name ?title ?description ?created \n",
    "\"\"\"\n",
    "\n",
    "qr = ds.query(discourse_details_sparql)"
   ]
  },
  {
   "cell_type": "code",
   "execution_count": 37,
   "metadata": {},
   "outputs": [
    {
     "data": {
      "text/html": [
       "<div>\n",
       "<style scoped>\n",
       "    .dataframe tbody tr th:only-of-type {\n",
       "        vertical-align: middle;\n",
       "    }\n",
       "\n",
       "    .dataframe tbody tr th {\n",
       "        vertical-align: top;\n",
       "    }\n",
       "\n",
       "    .dataframe thead th {\n",
       "        text-align: right;\n",
       "    }\n",
       "</style>\n",
       "<table border=\"1\" class=\"dataframe\">\n",
       "  <thead>\n",
       "    <tr style=\"text-align: right;\">\n",
       "      <th></th>\n",
       "      <th>g</th>\n",
       "      <th>discourse</th>\n",
       "      <th>name</th>\n",
       "      <th>title</th>\n",
       "      <th>description</th>\n",
       "      <th>created</th>\n",
       "      <th>declarations</th>\n",
       "      <th>entities</th>\n",
       "    </tr>\n",
       "  </thead>\n",
       "  <tbody>\n",
       "    <tr>\n",
       "      <th>1</th>\n",
       "      <td>http://discourse</td>\n",
       "      <td>http://www.semanticweb.org/tomk/ontologies/202...</td>\n",
       "      <td>discourse_test_123</td>\n",
       "      <td>some title</td>\n",
       "      <td>test data package</td>\n",
       "      <td>2023-04-01</td>\n",
       "      <td>13775</td>\n",
       "      <td>2534</td>\n",
       "    </tr>\n",
       "    <tr>\n",
       "      <th>2</th>\n",
       "      <td>http://discourse</td>\n",
       "      <td>http://www.semanticweb.org/tomk/ontologies/202...</td>\n",
       "      <td>discourse_test_123</td>\n",
       "      <td>some title</td>\n",
       "      <td>test data package</td>\n",
       "      <td>2023-04-01</td>\n",
       "      <td>13775</td>\n",
       "      <td>2534</td>\n",
       "    </tr>\n",
       "    <tr>\n",
       "      <th>3</th>\n",
       "      <td>http://discourse</td>\n",
       "      <td>http://www.semanticweb.org/tomk/ontologies/202...</td>\n",
       "      <td>discourse_test_123</td>\n",
       "      <td>some title</td>\n",
       "      <td>test data package</td>\n",
       "      <td>2023-04-01</td>\n",
       "      <td>13775</td>\n",
       "      <td>2534</td>\n",
       "    </tr>\n",
       "    <tr>\n",
       "      <th>6</th>\n",
       "      <td>http://discourse</td>\n",
       "      <td>http://www.semanticweb.org/tomk/ontologies/202...</td>\n",
       "      <td>discourse_test_123</td>\n",
       "      <td>some title</td>\n",
       "      <td>test data package</td>\n",
       "      <td>2023-04-01</td>\n",
       "      <td>13775</td>\n",
       "      <td>2534</td>\n",
       "    </tr>\n",
       "    <tr>\n",
       "      <th>7</th>\n",
       "      <td>http://discourse</td>\n",
       "      <td>http://www.semanticweb.org/tomk/ontologies/202...</td>\n",
       "      <td>discourse_test_123</td>\n",
       "      <td>some title</td>\n",
       "      <td>test data package</td>\n",
       "      <td>2023-04-01</td>\n",
       "      <td>13775</td>\n",
       "      <td>2534</td>\n",
       "    </tr>\n",
       "    <tr>\n",
       "      <th>0</th>\n",
       "      <td>http://discourse</td>\n",
       "      <td>http://www.semanticweb.org/tomk/ontologies/202...</td>\n",
       "      <td>discourse_Inventory ERD v1.0</td>\n",
       "      <td>inventory</td>\n",
       "      <td>Sample ERD model version 1</td>\n",
       "      <td>2023-04-10</td>\n",
       "      <td>97</td>\n",
       "      <td>16</td>\n",
       "    </tr>\n",
       "    <tr>\n",
       "      <th>5</th>\n",
       "      <td>http://discourse</td>\n",
       "      <td>http://www.semanticweb.org/tomk/ontologies/202...</td>\n",
       "      <td>discourse_Inventory ERD v2.0</td>\n",
       "      <td>inventory ERD</td>\n",
       "      <td>Sample ERD model version 2</td>\n",
       "      <td>2023-04-11</td>\n",
       "      <td>168</td>\n",
       "      <td>29</td>\n",
       "    </tr>\n",
       "    <tr>\n",
       "      <th>4</th>\n",
       "      <td>http://discourse</td>\n",
       "      <td>http://www.semanticweb.org/tomk/ontologies/202...</td>\n",
       "      <td>discourse_Inventory ERD v3.0</td>\n",
       "      <td>inventory ERD</td>\n",
       "      <td>Sample ERD model version 3</td>\n",
       "      <td>2023-04-14</td>\n",
       "      <td>337</td>\n",
       "      <td>61</td>\n",
       "    </tr>\n",
       "  </tbody>\n",
       "</table>\n",
       "</div>"
      ],
      "text/plain": [
       "                  g                                          discourse  \\\n",
       "1  http://discourse  http://www.semanticweb.org/tomk/ontologies/202...   \n",
       "2  http://discourse  http://www.semanticweb.org/tomk/ontologies/202...   \n",
       "3  http://discourse  http://www.semanticweb.org/tomk/ontologies/202...   \n",
       "6  http://discourse  http://www.semanticweb.org/tomk/ontologies/202...   \n",
       "7  http://discourse  http://www.semanticweb.org/tomk/ontologies/202...   \n",
       "0  http://discourse  http://www.semanticweb.org/tomk/ontologies/202...   \n",
       "5  http://discourse  http://www.semanticweb.org/tomk/ontologies/202...   \n",
       "4  http://discourse  http://www.semanticweb.org/tomk/ontologies/202...   \n",
       "\n",
       "                           name          title                 description  \\\n",
       "1            discourse_test_123     some title           test data package   \n",
       "2            discourse_test_123     some title           test data package   \n",
       "3            discourse_test_123     some title           test data package   \n",
       "6            discourse_test_123     some title           test data package   \n",
       "7            discourse_test_123     some title           test data package   \n",
       "0  discourse_Inventory ERD v1.0      inventory  Sample ERD model version 1   \n",
       "5  discourse_Inventory ERD v2.0  inventory ERD  Sample ERD model version 2   \n",
       "4  discourse_Inventory ERD v3.0  inventory ERD  Sample ERD model version 3   \n",
       "\n",
       "      created declarations entities  \n",
       "1  2023-04-01        13775     2534  \n",
       "2  2023-04-01        13775     2534  \n",
       "3  2023-04-01        13775     2534  \n",
       "6  2023-04-01        13775     2534  \n",
       "7  2023-04-01        13775     2534  \n",
       "0  2023-04-10           97       16  \n",
       "5  2023-04-11          168       29  \n",
       "4  2023-04-14          337       61  "
      ]
     },
     "execution_count": 37,
     "metadata": {},
     "output_type": "execute_result"
    }
   ],
   "source": [
    "pd.DataFrame(qr, columns=[v.n3()[1:] for v in qr.vars]).sort_values(by=\"created\")"
   ]
  },
  {
   "cell_type": "markdown",
   "metadata": {},
   "source": [
    "https://docs.data.world/tutorials/sparql/list-of-sparql-filter-functions.html"
   ]
  },
  {
   "cell_type": "code",
   "execution_count": 62,
   "metadata": {},
   "outputs": [],
   "source": [
    "get_posits_by_discourse_sparql = \"\"\"\n",
    "\n",
    "PREFIX rdf: <http://www.w3.org/1999/02/22-rdf-syntax-ns#>\n",
    "PREFIX disco: <http://www.semanticweb.org/tomk/ontologies/2022/11/discourse#> \n",
    "PREFIX dcterms: <http://purl.org/dc/terms/> \n",
    "PREFIX rdfs: <http://www.w3.org/2000/01/rdf-schema#> \n",
    "\n",
    "select ?g ?discourse ?assertion ?refutation ?posit\n",
    "WHERE {\n",
    "  GRAPH ?g\n",
    "  {\n",
    "      ?discourse a disco:Discourse.\n",
    "      ?discourse disco:DiscourseContains+ ?declaration .\n",
    "      ?declaration a disco:Declaration .\n",
    "        OPTIONAL { ?declaration disco:Asserts ?assertion. }\n",
    "        OPTIONAL { ?declaration disco:Refutes ?refutation. }\n",
    "        OPTIONAL { ?declaration disco:Posits ?posit. }\n",
    "      FILTER (?discourse IN ( <http://www.semanticweb.org/tomk/ontologies/2022/11/ed34219418a041638da83b9fc66b1755>, <http://www.semanticweb.org/tomk/ontologies/2022/11/20efd3b4ce8d4738bb483cb4fb50d708> )) .\n",
    "  }\n",
    "}\n",
    "\n",
    "\"\"\"\n",
    "\n",
    "qr = ds.query(get_posits_by_discourse_sparql)"
   ]
  },
  {
   "cell_type": "code",
   "execution_count": 63,
   "metadata": {},
   "outputs": [],
   "source": [
    "discourse_contents = pd.DataFrame(qr, columns=[v.n3()[1:] for v in qr.vars]).sort_values(by=\"discourse\")"
   ]
  },
  {
   "cell_type": "code",
   "execution_count": 64,
   "metadata": {},
   "outputs": [],
   "source": [
    "d_set_d = discourse_contents.groupby(['discourse'])['assertion'].agg(set).to_dict()"
   ]
  },
  {
   "cell_type": "code",
   "execution_count": 65,
   "metadata": {},
   "outputs": [],
   "source": [
    "key_l = list(d_set_d.keys())"
   ]
  },
  {
   "cell_type": "code",
   "execution_count": 66,
   "metadata": {},
   "outputs": [
    {
     "data": {
      "text/plain": [
       "(97, 240, 0)"
      ]
     },
     "execution_count": 66,
     "metadata": {},
     "output_type": "execute_result"
    }
   ],
   "source": [
    "len(d_set_d[key_l[0]].intersection(d_set_d[key_l[1]])), len(d_set_d[key_l[0]].difference(d_set_d[key_l[1]])), len(d_set_d[key_l[1]].difference(d_set_d[key_l[0]]))\n",
    "\n",
    "\n"
   ]
  },
  {
   "cell_type": "code",
   "execution_count": null,
   "metadata": {},
   "outputs": [],
   "source": []
  }
 ],
 "metadata": {
  "kernelspec": {
   "display_name": "Python 3",
   "language": "python",
   "name": "python3"
  },
  "language_info": {
   "codemirror_mode": {
    "name": "ipython",
    "version": 3
   },
   "file_extension": ".py",
   "mimetype": "text/x-python",
   "name": "python",
   "nbconvert_exporter": "python",
   "pygments_lexer": "ipython3",
   "version": "3.6.7"
  }
 },
 "nbformat": 4,
 "nbformat_minor": 2
}
