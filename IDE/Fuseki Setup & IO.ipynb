{
 "cells": [
  {
   "cell_type": "code",
   "execution_count": 1,
   "id": "39a2d543",
   "metadata": {},
   "outputs": [],
   "source": [
    "# Connect to and Instantiate Fuseki DB\n",
    "import sys, os\n",
    "module_path = os.path.abspath(os.path.join('..'))\n",
    "if module_path not in sys.path:\n",
    "    sys.path.append(module_path)\n",
    "\n",
    "from rdflib import URIRef, Literal, Graph, Dataset\n",
    "    \n",
    "import db_admin\n",
    "from datetime import datetime"
   ]
  },
  {
   "cell_type": "code",
   "execution_count": 2,
   "id": "f4496793",
   "metadata": {},
   "outputs": [
    {
     "name": "stderr",
     "output_type": "stream",
     "text": [
      "* Owlready2 * Warning: optimized Cython parser module 'owlready2_optimized' is not available, defaulting to slower Python implementation\n",
      "* Owlready2 * WARNING: ObjectProperty http://www.semanticweb.org/tomk/ontologies/2022/11/serialization#MappingMetaTarget belongs to more than one entity types: [owl.AnnotationProperty, owl.ObjectProperty, owl.topObjectProperty]; I'm trying to fix it...\n",
      "* Owlready2 * Running HermiT...\n",
      "    java -Xmx2000M -cp /home/tomk/environment/devpy/lib/python3.10/site-packages/owlready2/hermit:/home/tomk/environment/devpy/lib/python3.10/site-packages/owlready2/hermit/HermiT.jar org.semanticweb.HermiT.cli.CommandLine -c -O -D -I file:////tmp/tmp2cg9rtu4\n"
     ]
    },
    {
     "name": "stdout",
     "output_type": "stream",
     "text": [
      "Serialization.Meta [Serialization.SerializationMetaData]\n",
      "Serialization.Mapping [Serialization.SerializationSpecs]\n",
      "Serialization.BatchDefinition [Serialization.SerializationSpecs]\n",
      "Serialization.SerializationSpecs [Serialization.SerializationMetaData]\n",
      "Serialization.BatchNode [Serialization.DataLoad]\n",
      "Serialization.DataLoad [Serialization.SerializationMetaData]\n",
      "Serialization.SerializationMetaData [owl.Thing]\n",
      "Serialization.DataPropertyMapping [Serialization.Mapping]\n",
      "Serialization.MetaDataProperty [Serialization.Meta]\n",
      "Serialization.EntityMapping [Serialization.Mapping]\n",
      "Serialization.MetaClass [Serialization.Meta]\n",
      "Serialization.JobNode [Serialization.DataLoad]\n",
      "Serialization.MetaProperty [Serialization.Meta]\n",
      "Serialization.PropertyMapping [Serialization.Mapping]\n",
      "Serialization.RowNode [Serialization.DataLoad]\n",
      "Serialization.Serialization [Serialization.SerializationSpecs]\n"
     ]
    },
    {
     "name": "stderr",
     "output_type": "stream",
     "text": [
      "* Owlready2 * HermiT took 0.49588918685913086 seconds\n",
      "* Owlready * (NB: only changes on entities loaded in Python are shown, other changes are done but not listed)\n"
     ]
    }
   ],
   "source": [
    "import pandas as pd\n",
    "import html\n",
    "import loader\n",
    "import discourse"
   ]
  },
  {
   "cell_type": "code",
   "execution_count": 3,
   "id": "ef8ce352",
   "metadata": {},
   "outputs": [],
   "source": [
    "DS = db_admin.dataset_handle(\"http://localhost:3030/modelg/query\", \"http://localhost:3030/modelg/update\")"
   ]
  },
  {
   "cell_type": "code",
   "execution_count": 4,
   "id": "bb913639",
   "metadata": {},
   "outputs": [
    {
     "name": "stdout",
     "output_type": "stream",
     "text": [
      "<rdf:RDF xmlns:xml=\"http://www.w3.org/XML/1998/namespace\" xmlns:rdf=\"http://www.w3.org/1999/02/22-rdf-syntax-ns#\" xmlns:dc=\"http://purl.org/dc/elements/1.1/\" xmlns:rdfs=\"http://www.w3.org/2000/01/rdf-schema#\">\n",
      "\t<rdf:Description rdf:about=\"http://master\">\n",
      "\t\t<dc:created>2023-06-29</dc:created>\n",
      "\t\t<dc:description>The master graph is used to store all mastered triples. It acts as a \"soup\" of expressable content, primarily for entities to be identified by their properties for the purposes of identifying unique individuals. </dc:description>\n",
      "\t</rdf:Description>\n",
      "</rdf:RDF>\n"
     ]
    }
   ],
   "source": [
    "namespaces = [('xml' , \"http://www.w3.org/XML/1998/namespace\"), \n",
    "               ('rdf',\"http://www.w3.org/1999/02/22-rdf-syntax-ns#\"),\n",
    "          ('dc',\"http://purl.org/dc/elements/1.1/\"),\n",
    "          ('rdfs',\"http://www.w3.org/2000/01/rdf-schema#\")\n",
    "         ]\n",
    "\n",
    "properties=g_context = { \"dc:created\" : datetime.now().strftime(\"%Y-%m-%d\"),\n",
    "              \"dc:description\":\"\"\"The master graph is used to store all mastered triples. It acts as a \"soup\" of expressable content, primarily for entities to be identified by their properties for the purposes of identifying unique individuals. \"\"\"}\n",
    "\n",
    "\n",
    "print(db_admin.create_named_graph_manifest_rdf_xml(\"http://master\", namespaces, properties))"
   ]
  },
  {
   "cell_type": "code",
   "execution_count": 5,
   "id": "7136d3fb",
   "metadata": {},
   "outputs": [
    {
     "name": "stdout",
     "output_type": "stream",
     "text": [
      ".sparql\n",
      ".sparql\n"
     ]
    }
   ],
   "source": [
    "files = db_admin.read_sparql_repo(\"../SPARQL\")"
   ]
  },
  {
   "cell_type": "code",
   "execution_count": 6,
   "id": "62567df6",
   "metadata": {},
   "outputs": [],
   "source": [
    "import re\n",
    "\n",
    "manifests={}\n",
    "for f in files:\n",
    "    gs = db_admin.read_sparql_manifest(f)\n",
    "    if 'title' in gs:\n",
    "        manifests[gs['title']]=gs\n"
   ]
  },
  {
   "cell_type": "code",
   "execution_count": 7,
   "id": "be798185",
   "metadata": {},
   "outputs": [
    {
     "data": {
      "text/plain": [
       "'select distinct ?g WHERE { GRAPH ?g { ?s ?p ?o .}}'"
      ]
     },
     "execution_count": 7,
     "metadata": {},
     "output_type": "execute_result"
    }
   ],
   "source": [
    "manifests['get_named_graphs']['query']"
   ]
  },
  {
   "cell_type": "code",
   "execution_count": 8,
   "id": "8f424adc",
   "metadata": {},
   "outputs": [
    {
     "data": {
      "text/html": [
       "<div>\n",
       "<style scoped>\n",
       "    .dataframe tbody tr th:only-of-type {\n",
       "        vertical-align: middle;\n",
       "    }\n",
       "\n",
       "    .dataframe tbody tr th {\n",
       "        vertical-align: top;\n",
       "    }\n",
       "\n",
       "    .dataframe thead th {\n",
       "        text-align: right;\n",
       "    }\n",
       "</style>\n",
       "<table border=\"1\" class=\"dataframe\">\n",
       "  <thead>\n",
       "    <tr style=\"text-align: right;\">\n",
       "      <th></th>\n",
       "      <th>0</th>\n",
       "    </tr>\n",
       "  </thead>\n",
       "  <tbody>\n",
       "    <tr>\n",
       "      <th>0</th>\n",
       "      <td>http://config</td>\n",
       "    </tr>\n",
       "    <tr>\n",
       "      <th>1</th>\n",
       "      <td>http://discourse</td>\n",
       "    </tr>\n",
       "    <tr>\n",
       "      <th>2</th>\n",
       "      <td>http://master</td>\n",
       "    </tr>\n",
       "  </tbody>\n",
       "</table>\n",
       "</div>"
      ],
      "text/plain": [
       "                  0\n",
       "0     http://config\n",
       "1  http://discourse\n",
       "2     http://master"
      ]
     },
     "execution_count": 8,
     "metadata": {},
     "output_type": "execute_result"
    }
   ],
   "source": [
    "rs = DS.query(manifests['get_named_graphs']['query'])\n",
    "pd.DataFrame(rs)"
   ]
  },
  {
   "cell_type": "code",
   "execution_count": 9,
   "id": "4ad20006",
   "metadata": {},
   "outputs": [],
   "source": [
    "g_uris_d = { \"config\" : (\"http://config\", { \"dc:created\" : datetime.now().strftime(\"%Y-%m-%d\"),\n",
    "                                           \"dc:description\":\"\"\"The config graph is used to host models and Serialization configuration defining content within the wider graph. \"\"\"}),\n",
    "             \"master\" : (\"http://master\",{ \"dc:created\" : datetime.now().strftime(\"%Y-%m-%d\"),\n",
    "                                           \"dc:description\":\"\"\"The master graph is used to store all mastered triples. It acts as a \"soup\" of expressable content, primarily for entities to be identified by their properties for the purposes of identifying unique individuals. \"\"\"}),\n",
    "             \"discourse\" : (\"http://discourse\", { \"dc:created\" : datetime.now().strftime(\"%Y-%m-%d\"),\n",
    "                                           \"dc:description\":\"\"\"The discourse graph is used to manage discourses, that is, statements and reports loaded into the system in a form that allows them to be compared, even where they may contradict. \"\"\"}), }\n",
    "\n",
    "\n",
    "for k,data in g_uris_d.items():\n",
    "    v, properties = data\n",
    "    gmanifest=db_admin.create_named_graph_manifest_rdf_xml(v, namespaces, properties)\n",
    "    gmanifest=gmanifest\n",
    "    working_g = DS.graph(URIRef(v))\n",
    "    working_g.parse(data=gmanifest, format=\"application/rdf+xml\")"
   ]
  },
  {
   "cell_type": "code",
   "execution_count": 10,
   "id": "d58a7646",
   "metadata": {},
   "outputs": [
    {
     "data": {
      "text/plain": [
       "<Graph identifier=http://config (<class 'rdflib.graph.Graph'>)>"
      ]
     },
     "execution_count": 10,
     "metadata": {},
     "output_type": "execute_result"
    }
   ],
   "source": [
    "# We need to populate the config graph with some contents from an rdf file, if it's not already populated\n",
    "# This method is incredibly slow, but (should) only be necessary on the occasions where the database\n",
    "# is being populated from scratch. There are probably better ways to insert contents of a graph into the db\n",
    "# and this might be something to revisit later on. \n",
    "sg = DS.graph(URIRef(g_uris_d[\"config\"][0]))\n",
    "sg.parse(\"DMEAR_ser.rdf\")\n",
    "#S = serialization.Serialization(sg, \"EntityAttributeRecord\")"
   ]
  },
  {
   "cell_type": "code",
   "execution_count": 11,
   "id": "be1d2984",
   "metadata": {},
   "outputs": [
    {
     "name": "stdout",
     "output_type": "stream",
     "text": [
      "<rdf:RDF xmlns:xml=\"http://www.w3.org/XML/1998/namespace\" xmlns:rdf=\"http://www.w3.org/1999/02/22-rdf-syntax-ns#\" xmlns:dc=\"http://purl.org/dc/elements/1.1/\" xmlns:rdfs=\"http://www.w3.org/2000/01/rdf-schema#\">\n",
      "\t<rdf:Description rdf:about=\"http://discourse\">\n",
      "\t\t<dc:created>2023-06-29</dc:created>\n",
      "\t\t<dc:description>The discourse graph is used to manage discourses, that is, statements and reports loaded into the system in a form that allows them to be compared, even where they may contradict. </dc:description>\n",
      "\t</rdf:Description>\n",
      "</rdf:RDF>\n"
     ]
    }
   ],
   "source": [
    "print(gmanifest)"
   ]
  },
  {
   "cell_type": "code",
   "execution_count": 12,
   "id": "8c8e29dc",
   "metadata": {},
   "outputs": [
    {
     "data": {
      "text/html": [
       "<div>\n",
       "<style scoped>\n",
       "    .dataframe tbody tr th:only-of-type {\n",
       "        vertical-align: middle;\n",
       "    }\n",
       "\n",
       "    .dataframe tbody tr th {\n",
       "        vertical-align: top;\n",
       "    }\n",
       "\n",
       "    .dataframe thead th {\n",
       "        text-align: right;\n",
       "    }\n",
       "</style>\n",
       "<table border=\"1\" class=\"dataframe\">\n",
       "  <thead>\n",
       "    <tr style=\"text-align: right;\">\n",
       "      <th></th>\n",
       "      <th>0</th>\n",
       "    </tr>\n",
       "  </thead>\n",
       "  <tbody>\n",
       "    <tr>\n",
       "      <th>0</th>\n",
       "      <td>http://config</td>\n",
       "    </tr>\n",
       "    <tr>\n",
       "      <th>1</th>\n",
       "      <td>http://discourse</td>\n",
       "    </tr>\n",
       "    <tr>\n",
       "      <th>2</th>\n",
       "      <td>http://master</td>\n",
       "    </tr>\n",
       "  </tbody>\n",
       "</table>\n",
       "</div>"
      ],
      "text/plain": [
       "                  0\n",
       "0     http://config\n",
       "1  http://discourse\n",
       "2     http://master"
      ]
     },
     "execution_count": 12,
     "metadata": {},
     "output_type": "execute_result"
    }
   ],
   "source": [
    "rs = DS.query(manifests['get_named_graphs']['query'])\n",
    "pd.DataFrame(rs)"
   ]
  },
  {
   "cell_type": "code",
   "execution_count": 13,
   "id": "6c3baf0c",
   "metadata": {},
   "outputs": [
    {
     "data": {
      "text/html": [
       "<div>\n",
       "<style scoped>\n",
       "    .dataframe tbody tr th:only-of-type {\n",
       "        vertical-align: middle;\n",
       "    }\n",
       "\n",
       "    .dataframe tbody tr th {\n",
       "        vertical-align: top;\n",
       "    }\n",
       "\n",
       "    .dataframe thead th {\n",
       "        text-align: right;\n",
       "    }\n",
       "</style>\n",
       "<table border=\"1\" class=\"dataframe\">\n",
       "  <thead>\n",
       "    <tr style=\"text-align: right;\">\n",
       "      <th></th>\n",
       "      <th>0</th>\n",
       "      <th>1</th>\n",
       "      <th>2</th>\n",
       "    </tr>\n",
       "  </thead>\n",
       "  <tbody>\n",
       "    <tr>\n",
       "      <th>0</th>\n",
       "      <td>http://config</td>\n",
       "      <td>http://purl.org/dc/elements/1.1/created</td>\n",
       "      <td>2023-06-29</td>\n",
       "    </tr>\n",
       "    <tr>\n",
       "      <th>1</th>\n",
       "      <td>http://config</td>\n",
       "      <td>http://purl.org/dc/elements/1.1/description</td>\n",
       "      <td>The config graph is used to host models and Se...</td>\n",
       "    </tr>\n",
       "    <tr>\n",
       "      <th>2</th>\n",
       "      <td>http://discourse</td>\n",
       "      <td>http://purl.org/dc/elements/1.1/created</td>\n",
       "      <td>2023-06-29</td>\n",
       "    </tr>\n",
       "    <tr>\n",
       "      <th>3</th>\n",
       "      <td>http://discourse</td>\n",
       "      <td>http://purl.org/dc/elements/1.1/description</td>\n",
       "      <td>The discourse graph is used to manage discours...</td>\n",
       "    </tr>\n",
       "    <tr>\n",
       "      <th>4</th>\n",
       "      <td>http://master</td>\n",
       "      <td>http://purl.org/dc/elements/1.1/created</td>\n",
       "      <td>2023-06-29</td>\n",
       "    </tr>\n",
       "    <tr>\n",
       "      <th>5</th>\n",
       "      <td>http://master</td>\n",
       "      <td>http://purl.org/dc/elements/1.1/description</td>\n",
       "      <td>The master graph is used to store all mastered...</td>\n",
       "    </tr>\n",
       "  </tbody>\n",
       "</table>\n",
       "</div>"
      ],
      "text/plain": [
       "                  0                                            1  \\\n",
       "0     http://config      http://purl.org/dc/elements/1.1/created   \n",
       "1     http://config  http://purl.org/dc/elements/1.1/description   \n",
       "2  http://discourse      http://purl.org/dc/elements/1.1/created   \n",
       "3  http://discourse  http://purl.org/dc/elements/1.1/description   \n",
       "4     http://master      http://purl.org/dc/elements/1.1/created   \n",
       "5     http://master  http://purl.org/dc/elements/1.1/description   \n",
       "\n",
       "                                                   2  \n",
       "0                                         2023-06-29  \n",
       "1  The config graph is used to host models and Se...  \n",
       "2                                         2023-06-29  \n",
       "3  The discourse graph is used to manage discours...  \n",
       "4                                         2023-06-29  \n",
       "5  The master graph is used to store all mastered...  "
      ]
     },
     "execution_count": 13,
     "metadata": {},
     "output_type": "execute_result"
    }
   ],
   "source": [
    "rs = DS.query('select ?g ?p ?o WHERE { GRAPH ?g { ?g ?p ?o .}}')\n",
    "pd.DataFrame(rs)"
   ]
  },
  {
   "cell_type": "code",
   "execution_count": null,
   "id": "e9475b9b",
   "metadata": {},
   "outputs": [],
   "source": []
  },
  {
   "cell_type": "code",
   "execution_count": 14,
   "id": "89bde2f4",
   "metadata": {},
   "outputs": [
    {
     "data": {
      "text/plain": [
       "{'9c6b3c3a52c5-a373-0c14-5a07a1419d17': rdflib.term.URIRef('http://www.semanticweb.org/tomk/ontologies/2022/11/2173357ae21240129013aca6eb89c504')}"
      ]
     },
     "execution_count": 14,
     "metadata": {},
     "output_type": "execute_result"
    }
   ],
   "source": [
    "discourse_details_sparql = \"\"\"\n",
    "PREFIX rdf: <http://www.w3.org/1999/02/22-rdf-syntax-ns#>\n",
    "PREFIX disco: <http://www.semanticweb.org/tomk/ontologies/2022/11/discourse#> \n",
    "PREFIX dcterms: <http://purl.org/dc/terms/> \n",
    "PREFIX rdfs: <http://www.w3.org/2000/01/rdf-schema#> \n",
    "\n",
    "select ?g ?discourse ?name ?title ?description ?created ?hash (COUNT(?declaration) as ?declarations) (COUNT(distinct ?psubject) as ?entities)\n",
    "\n",
    "WHERE {\n",
    "  GRAPH ?g\n",
    "  {\n",
    "      ?discourse a disco:Discourse.\n",
    "      ?discourse dcterms:title ?title.\n",
    "      ?discourse rdfs:label ?name.\n",
    "      ?discourse dcterms:description ?description.\n",
    "      ?discourse dcterms:created ?created .\n",
    "      ?discourse disco:DiscourseHash ?hash .\n",
    "      ?discourse disco:DiscourseContains+ ?declaration .\n",
    "      ?declaration a disco:Declaration .\n",
    "      ?posit_type rdfs:subPropertyOf* disco:Posits .\n",
    "      ?declaration disco:Asserts ?assertion.\n",
    "      ?assertion disco:Subject ?psubject.\n",
    "  }\n",
    "}\n",
    "GROUP BY ?g ?discourse ?name ?title ?description ?created ?hash\n",
    "\"\"\"\n",
    "\n",
    "qr = DS.query(discourse_details_sparql)\n",
    "discourse_df = pd.DataFrame(qr, columns=[v.n3()[1:] for v in qr.vars]).sort_values(by=\"created\")\n",
    "discourse_df[\"hash_vals\"]=discourse_df['hash'].apply(lambda x : x.n3()[1:-1])\n",
    "discourse_df.set_index(\"discourse\", inplace=True)\n",
    "discourse_df\n",
    "hash_discourse_mapping = {v:k for k,v in dict(discourse_df['hash'].apply(lambda x : x.n3()[1:-1])).items()}\n",
    "hash_discourse_mapping"
   ]
  },
  {
   "cell_type": "code",
   "execution_count": 15,
   "id": "2e303175",
   "metadata": {},
   "outputs": [],
   "source": [
    "file_dtypes = {'ModelDomain': str,\n",
    " 'Model': str,\n",
    " 'ModelType': str,\n",
    " 'Class': str,\n",
    " 'ClassDescription': str,\n",
    " 'Attribute': str,\n",
    " 'AttributeDescription': str,\n",
    " 'DataType': str,\n",
    " 'Context': str,\n",
    " 'SubContext': str,\n",
    " 'Nulls': str,\n",
    " 'Is PK': str,\n",
    " 'Relationship': str,\n",
    " 'FromClass': str,\n",
    " 'FromAttribute': str,\n",
    " 'FromCardinality': str,\n",
    " 'ToClass': str,\n",
    " 'ToAttribute': str,\n",
    " 'ToCardinality': str}"
   ]
  },
  {
   "cell_type": "code",
   "execution_count": 16,
   "id": "93dec207",
   "metadata": {},
   "outputs": [],
   "source": [
    "def get_field(v):\n",
    "    if isinstance(v,str):\n",
    "        return html.escape(str(v))\n",
    "    elif isinstance(v,(int, float)):\n",
    "        if pd.isnull(v):\n",
    "            return None\n",
    "        else:\n",
    "            return v\n",
    "    elif v is None or isinstance(v,pd.Null):\n",
    "        return None"
   ]
  },
  {
   "cell_type": "code",
   "execution_count": 17,
   "id": "06b82dd3",
   "metadata": {},
   "outputs": [],
   "source": [
    "def meta_data_package_template(field_d):\n",
    "    dc_terms_base = \"http://purl.org/dc/terms/\"\n",
    "    rdf_form = {}\n",
    "    for k,v in field_d.items():\n",
    "        rdf_form[URIRef(dc_terms_base + k)] = Literal(v)\n",
    "    return rdf_form\n",
    "\n",
    "\n",
    "def triples_to_quads(triples, graph=\"http://master\"):\n",
    "    for s,p,o, *_ in triples:\n",
    "        yield (s,p,o,URIRef(graph))"
   ]
  },
  {
   "cell_type": "code",
   "execution_count": 18,
   "id": "65b5987f",
   "metadata": {},
   "outputs": [
    {
     "name": "stdout",
     "output_type": "stream",
     "text": [
      "0:00:00.125759 for 9\n",
      "self.members: 75\n",
      "This data is already loaded! - Aborting\n"
     ]
    }
   ],
   "source": [
    "title = \"Inventory ERD v1.0\"\n",
    "model_data = pd.read_csv(r\"../sample/inventory_v1.csv\", index_col=\"Sequence\", dtype=file_dtypes)\n",
    "rows = [dict({rk:get_field(rv) for rk, rv in r.items()}) for i,r in model_data.iterrows()]\n",
    "md_p = meta_data_package_template( {\"created\" : \"2023-04-10\", \n",
    "                                   \"creator\" : \"tomk\", \n",
    "                                   \"description\" : \"Sample ERD model version 1\", \n",
    "                                   \"title\" : \"inventory ERD\", \n",
    "                                   \"modified\" : \"2023-04-10\"})\n",
    "\n",
    "loader.load_to_graph(DS, g_uris_d[\"config\"][0], \"EntityAttributeRecord\", rows, g_uris_d[\"master\"][0], g_uris_d[\"discourse\"][0], title, md_p, hash_discourse_mapping, override_duplicate=False)\n",
    "\n"
   ]
  },
  {
   "cell_type": "code",
   "execution_count": 19,
   "id": "3aa375b5",
   "metadata": {},
   "outputs": [
    {
     "data": {
      "text/plain": [
       "'http://discourse'"
      ]
     },
     "execution_count": 19,
     "metadata": {},
     "output_type": "execute_result"
    }
   ],
   "source": [
    "g_uris_d[\"discourse\"][0]"
   ]
  },
  {
   "cell_type": "code",
   "execution_count": null,
   "id": "3221bb3d",
   "metadata": {},
   "outputs": [],
   "source": []
  }
 ],
 "metadata": {
  "kernelspec": {
   "display_name": "devpy",
   "language": "python",
   "name": "devpy"
  },
  "language_info": {
   "codemirror_mode": {
    "name": "ipython",
    "version": 3
   },
   "file_extension": ".py",
   "mimetype": "text/x-python",
   "name": "python",
   "nbconvert_exporter": "python",
   "pygments_lexer": "ipython3",
   "version": "3.10.6"
  }
 },
 "nbformat": 4,
 "nbformat_minor": 5
}
