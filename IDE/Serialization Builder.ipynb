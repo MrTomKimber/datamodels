{
 "cells": [
  {
   "cell_type": "markdown",
   "id": "8517f812",
   "metadata": {},
   "source": [
    "# Serialization Builder\n",
    "\n",
    "After an ontology model is developed, there needs to be a method of uploading data that fits the model in question. \n",
    "\n",
    "This data load process is often fed by flat or tree-like datafiles - perhaps simple CSV, XML or JSON documents. \n",
    "\n",
    "A serialization helps marshall structured data into a given ontologically defined graph format. \n",
    "\n",
    "The serialization has a name, and contains multiple mappings. \n",
    "\n",
    "Each mapping describes some link between named attributes in the input file, and their equivalent ontological markup. Some inputs describe entities of a given type, while others describe relations between these entities, and others describe simple data-properties those entities might have. \n",
    "\n"
   ]
  },
  {
   "cell_type": "code",
   "execution_count": 29,
   "id": "6393dbd3",
   "metadata": {},
   "outputs": [],
   "source": [
    "import owlready2 as owlr\n",
    "\n",
    "import xml.etree.ElementTree as ET"
   ]
  },
  {
   "cell_type": "code",
   "execution_count": 10,
   "id": "26912cc9",
   "metadata": {},
   "outputs": [],
   "source": [
    "sample_onto_file = \"../sample_ontology.owl\"\n",
    "sample = owlr.get_ontology(sample_onto_file).load()"
   ]
  },
  {
   "cell_type": "code",
   "execution_count": 16,
   "id": "6c6e6cfc",
   "metadata": {},
   "outputs": [
    {
     "name": "stderr",
     "output_type": "stream",
     "text": [
      "* Owlready2 * WARNING: ObjectProperty http://www.semanticweb.org/tomk/ontologies/2022/11/serialization#MappingMetaTarget belongs to more than one entity types: [owl.AnnotationProperty, owl.ObjectProperty, owl.topObjectProperty]; I'm trying to fix it...\n"
     ]
    }
   ],
   "source": [
    "sample_ser_file = \"../Serialization.owl\"\n",
    "serial = owlr.get_ontology(sample_ser_file).load()"
   ]
  },
  {
   "cell_type": "code",
   "execution_count": 17,
   "id": "af789b2f",
   "metadata": {},
   "outputs": [
    {
     "data": {
      "text/plain": [
       "['__class__',\n",
       " '__delattr__',\n",
       " '__dict__',\n",
       " '__dir__',\n",
       " '__doc__',\n",
       " '__enter__',\n",
       " '__eq__',\n",
       " '__exit__',\n",
       " '__format__',\n",
       " '__ge__',\n",
       " '__getattr__',\n",
       " '__getattribute__',\n",
       " '__getitem__',\n",
       " '__gt__',\n",
       " '__hash__',\n",
       " '__init__',\n",
       " '__init_subclass__',\n",
       " '__le__',\n",
       " '__lt__',\n",
       " '__module__',\n",
       " '__ne__',\n",
       " '__new__',\n",
       " '__reduce__',\n",
       " '__reduce_ex__',\n",
       " '__repr__',\n",
       " '__setattr__',\n",
       " '__sizeof__',\n",
       " '__str__',\n",
       " '__subclasshook__',\n",
       " '__weakref__',\n",
       " '_abbreviate',\n",
       " '_add_annotation_axiom',\n",
       " '_add_data_triple_raw_spod',\n",
       " '_add_data_triple_raw_spodsd',\n",
       " '_add_data_triple_spod',\n",
       " '_add_obj_triple_raw_spo',\n",
       " '_add_obj_triple_spo',\n",
       " '_base_iri',\n",
       " '_bnodes',\n",
       " '_del_annotation_axiom',\n",
       " '_del_data_triple_raw_spod',\n",
       " '_del_data_triple_raw_spodsd',\n",
       " '_del_data_triple_spod',\n",
       " '_del_list',\n",
       " '_del_obj_triple_raw_spo',\n",
       " '_del_obj_triple_spo',\n",
       " '_destroy_cached_entities',\n",
       " '_entity_destroyed',\n",
       " '_get_annotation_axioms',\n",
       " '_get_data_triple_sp_od',\n",
       " '_get_data_triples_s_pod',\n",
       " '_get_data_triples_sp_od',\n",
       " '_get_data_triples_spod_spod',\n",
       " '_get_obj_triple_po_s',\n",
       " '_get_obj_triple_sp_o',\n",
       " '_get_obj_triples_cspo',\n",
       " '_get_obj_triples_cspo_cspo',\n",
       " '_get_obj_triples_o_p',\n",
       " '_get_obj_triples_pio_s',\n",
       " '_get_obj_triples_po_s',\n",
       " '_get_obj_triples_s_po',\n",
       " '_get_obj_triples_sp_co',\n",
       " '_get_obj_triples_sp_o',\n",
       " '_get_obj_triples_spi_o',\n",
       " '_get_obj_triples_spo_spo',\n",
       " '_get_obj_triples_transitive_po',\n",
       " '_get_obj_triples_transitive_sp',\n",
       " '_get_obj_triples_transitive_sp_indirect',\n",
       " '_get_obj_triples_transitive_sym',\n",
       " '_get_triple_sp_od',\n",
       " '_get_triples_s_p',\n",
       " '_get_triples_s_pod',\n",
       " '_get_triples_sp_od',\n",
       " '_get_triples_spod_spod',\n",
       " '_has_data_triple_spod',\n",
       " '_has_obj_triple_spo',\n",
       " '_import_changed',\n",
       " '_imported_ontologies',\n",
       " '_load_properties',\n",
       " '_namespaces',\n",
       " '_new_numbered_iri',\n",
       " '_orig_base_iri',\n",
       " '_parse_bnode',\n",
       " '_parse_list',\n",
       " '_parse_list_as_rdf',\n",
       " '_refactor',\n",
       " '_refactor_onto',\n",
       " '_reload_bnode',\n",
       " '_set_data_triple_raw_spod',\n",
       " '_set_data_triple_raw_spodsd',\n",
       " '_set_data_triple_spod',\n",
       " '_set_list',\n",
       " '_set_list_as_rdf',\n",
       " '_set_obj_triple_raw_spo',\n",
       " '_set_obj_triple_spo',\n",
       " '_to_python',\n",
       " '_to_rdf',\n",
       " '_unabbreviate',\n",
       " 'annotation_properties',\n",
       " 'base_iri',\n",
       " 'classes',\n",
       " 'data_properties',\n",
       " 'destroy',\n",
       " 'different_individuals',\n",
       " 'disjoint_classes',\n",
       " 'disjoint_properties',\n",
       " 'disjoints',\n",
       " 'general_axioms',\n",
       " 'get_base_iri',\n",
       " 'get_children_of',\n",
       " 'get_imported_ontologies',\n",
       " 'get_instances_of',\n",
       " 'get_namespace',\n",
       " 'get_parents_of',\n",
       " 'get_python_module',\n",
       " 'get_triples',\n",
       " 'graph',\n",
       " 'imported_ontologies',\n",
       " 'inconsistent_classes',\n",
       " 'indirectly_imported_ontologies',\n",
       " 'individuals',\n",
       " 'load',\n",
       " 'loaded',\n",
       " 'metadata',\n",
       " 'name',\n",
       " 'object_properties',\n",
       " 'ontology',\n",
       " 'properties',\n",
       " 'python_module',\n",
       " 'rules',\n",
       " 'save',\n",
       " 'search',\n",
       " 'search_one',\n",
       " 'set_base_iri',\n",
       " 'set_imported_ontologies',\n",
       " 'set_python_module',\n",
       " 'storid',\n",
       " 'variables',\n",
       " 'world']"
      ]
     },
     "execution_count": 17,
     "metadata": {},
     "output_type": "execute_result"
    }
   ],
   "source": [
    "dir(sample)"
   ]
  },
  {
   "cell_type": "code",
   "execution_count": 52,
   "id": "08af9251",
   "metadata": {},
   "outputs": [
    {
     "data": {
      "text/plain": [
       "[Serialization.GeneratedOn,\n",
       " Serialization.MappingDomain,\n",
       " Serialization.MappingLabel,\n",
       " Serialization.MappingRange,\n",
       " Serialization.MappingSubType,\n",
       " Serialization.SerializationLabel,\n",
       " Serialization.SerializationParentLabel,\n",
       " Serialization.UniqueIdentifier,\n",
       " Serialization.MappingMetaTarget,\n",
       " Serialization.ContainsMapping,\n",
       " Serialization.MappingMemberOf,\n",
       " Serialization.MappingMetaTarget]"
      ]
     },
     "execution_count": 52,
     "metadata": {},
     "output_type": "execute_result"
    }
   ],
   "source": [
    "list(serial.properties())"
   ]
  },
  {
   "cell_type": "code",
   "execution_count": 21,
   "id": "4d67ef14",
   "metadata": {},
   "outputs": [
    {
     "data": {
      "text/plain": [
       "'http://www.semanticweb.org/tomk/ontologies/2022/11/serialization#MetaClass'"
      ]
     },
     "execution_count": 21,
     "metadata": {},
     "output_type": "execute_result"
    }
   ],
   "source": [
    "serial.MetaClass.iri"
   ]
  },
  {
   "cell_type": "code",
   "execution_count": 19,
   "id": "d3e40c17",
   "metadata": {},
   "outputs": [
    {
     "data": {
      "text/plain": [
       "([sample_ontology.SomeClass],\n",
       " [sample_ontology.someProperty],\n",
       " [sample_ontology.someDataProperty])"
      ]
     },
     "execution_count": 19,
     "metadata": {},
     "output_type": "execute_result"
    }
   ],
   "source": [
    "list(sample.classes()), list(sample.object_properties()), list(sample.data_properties())"
   ]
  },
  {
   "cell_type": "code",
   "execution_count": 62,
   "id": "f9e8a6d2",
   "metadata": {},
   "outputs": [],
   "source": [
    "def generate_meta_definitions(onto):\n",
    "    meta_defs = []\n",
    "    for mc in [(serial.MetaClass, onto.classes), (serial.MetaProperty, onto.object_properties), (serial.MetaDataProperty, onto.data_properties)]:\n",
    "        for c in mc[1]():\n",
    "            meta_defs.append((c.iri,mc[0].iri))\n",
    "    return meta_defs\n",
    "        "
   ]
  },
  {
   "cell_type": "code",
   "execution_count": 63,
   "id": "e37a3e00",
   "metadata": {},
   "outputs": [
    {
     "data": {
      "text/plain": [
       "[('http://www.semanticweb.org/tomk/ontologies/2023/6/sample#SomeClass',\n",
       "  'http://www.semanticweb.org/tomk/ontologies/2022/11/serialization#MetaClass'),\n",
       " ('http://www.semanticweb.org/tomk/ontologies/2023/6/sample#someProperty',\n",
       "  'http://www.semanticweb.org/tomk/ontologies/2022/11/serialization#MetaProperty'),\n",
       " ('http://www.semanticweb.org/tomk/ontologies/2023/6/sample#someDataProperty',\n",
       "  'http://www.semanticweb.org/tomk/ontologies/2022/11/serialization#MetaDataProperty')]"
      ]
     },
     "execution_count": 63,
     "metadata": {},
     "output_type": "execute_result"
    }
   ],
   "source": [
    "generate_meta_definitions(sample)"
   ]
  },
  {
   "cell_type": "code",
   "execution_count": 68,
   "id": "a7731886",
   "metadata": {},
   "outputs": [],
   "source": [
    "def generate_xml_for_serialization(namespaces):\n",
    "    X = ET.Element('rdf:RDF')\n",
    "    default_namespace='http://www.company.com'\n",
    "    for prefix, uri  in namespaces:\n",
    "        X.set(\"xmlns:\" + prefix, uri)\n",
    "        \n",
    "        \n",
    "    ## Add block for serialization objects:\n",
    "    for iri in [serial.Serialization.iri, \n",
    "              serial.Mapping.iri,\n",
    "              serial.MetaClass.iri,             \n",
    "              serial.MetaProperty.iri,\n",
    "              serial.MetaDataProperty.iri]:\n",
    "        q = ET.SubElement(X, \"Class\")\n",
    "        q.set(\"rdf:about\", iri)\n",
    "        \n",
    "    for iri in [ serial.ContainsMapping.iri,               \n",
    "                 serial.MappingMetaTarget.iri,\n",
    "                 serial.MappingDomain.iri,\n",
    "                 serial.MappingRange.iri,\n",
    "                 serial.MappingMetaTarget.iri,\n",
    "                 serial.SerializationLabel.iri,\n",
    "                 serial.SerializationParentLabel.iri]:\n",
    "        q = ET.SubElement(X, \"AnnotationProperty\")\n",
    "        q.set(\"rdf:about\", iri)\n",
    "    for iri,tp in generate_meta_definitions(sample):\n",
    "        q = ET.SubElement(X, \"NamedIndividual\")\n",
    "        q.set(\"rdf:about\", iri)\n",
    "        p = ET.SubElement(q, \"rdf:type\")\n",
    "        p.set(\"rdf:resource\", tp)\n",
    "        \n",
    "    ET.indent(X, space=\"\\t\", level=0)\n",
    "    return ET.tostring(X).decode()"
   ]
  },
  {
   "cell_type": "code",
   "execution_count": 83,
   "id": "8818003d",
   "metadata": {},
   "outputs": [],
   "source": [
    "def create_mapping(name, target, ttype, properties=None):\n",
    "    X = ET.Element(\"NamedIndividual\")\n",
    "    X.set(\"rdf:about\", name)\n",
    "    q = ET.SubElement(X,\"rdf:type\")\n",
    "    q.set(\"rdf:resource\", serial.Mapping.iri)\n",
    "    q = ET.SubElement(X,\"ser:MappingMetaTarget\")\n",
    "    q.set(\"rdf:resource\", target)\n",
    "    for k,v in properties.items():\n",
    "        q = ET.SubElement(X,k)\n",
    "        q.text =str(v)\n",
    "    return X"
   ]
  },
  {
   "cell_type": "code",
   "execution_count": 84,
   "id": "935069d6",
   "metadata": {},
   "outputs": [
    {
     "name": "stdout",
     "output_type": "stream",
     "text": [
      "<rdf:RDF xmlns:=\"http://www.w3.org/2002/07/owl#\" xmlns:xml:base=\"http://www.w3.org/2002/07/owl\" xmlns:rdf=\"http://www.w3.org/1999/02/22-rdf-syntax-ns#\" xmlns:xml:owl=\"http://www.w3.org/2002/07/owl#\" xmlns:dc=\"http://purl.org/dc/elements/1.1/\" xmlns:rdfs=\"http://www.w3.org/2000/01/rdf-schema#\">\n",
      "\t<Class rdf:about=\"http://www.semanticweb.org/tomk/ontologies/2022/11/serialization#Serialization\" />\n",
      "\t<Class rdf:about=\"http://www.semanticweb.org/tomk/ontologies/2022/11/serialization#Mapping\" />\n",
      "\t<Class rdf:about=\"http://www.semanticweb.org/tomk/ontologies/2022/11/serialization#MetaClass\" />\n",
      "\t<Class rdf:about=\"http://www.semanticweb.org/tomk/ontologies/2022/11/serialization#MetaProperty\" />\n",
      "\t<Class rdf:about=\"http://www.semanticweb.org/tomk/ontologies/2022/11/serialization#MetaDataProperty\" />\n",
      "\t<AnnotationProperty rdf:about=\"http://www.semanticweb.org/tomk/ontologies/2022/11/serialization#ContainsMapping\" />\n",
      "\t<AnnotationProperty rdf:about=\"http://www.semanticweb.org/tomk/ontologies/2022/11/serialization#MappingMetaTarget\" />\n",
      "\t<AnnotationProperty rdf:about=\"http://www.semanticweb.org/tomk/ontologies/2022/11/serialization#MappingDomain\" />\n",
      "\t<AnnotationProperty rdf:about=\"http://www.semanticweb.org/tomk/ontologies/2022/11/serialization#MappingRange\" />\n",
      "\t<AnnotationProperty rdf:about=\"http://www.semanticweb.org/tomk/ontologies/2022/11/serialization#MappingMetaTarget\" />\n",
      "\t<AnnotationProperty rdf:about=\"http://www.semanticweb.org/tomk/ontologies/2022/11/serialization#SerializationLabel\" />\n",
      "\t<AnnotationProperty rdf:about=\"http://www.semanticweb.org/tomk/ontologies/2022/11/serialization#SerializationParentLabel\" />\n",
      "\t<NamedIndividual rdf:about=\"http://www.semanticweb.org/tomk/ontologies/2023/6/sample#SomeClass\">\n",
      "\t\t<rdf:type rdf:resource=\"http://www.semanticweb.org/tomk/ontologies/2022/11/serialization#MetaClass\" />\n",
      "\t</NamedIndividual>\n",
      "\t<NamedIndividual rdf:about=\"http://www.semanticweb.org/tomk/ontologies/2023/6/sample#someProperty\">\n",
      "\t\t<rdf:type rdf:resource=\"http://www.semanticweb.org/tomk/ontologies/2022/11/serialization#MetaProperty\" />\n",
      "\t</NamedIndividual>\n",
      "\t<NamedIndividual rdf:about=\"http://www.semanticweb.org/tomk/ontologies/2023/6/sample#someDataProperty\">\n",
      "\t\t<rdf:type rdf:resource=\"http://www.semanticweb.org/tomk/ontologies/2022/11/serialization#MetaDataProperty\" />\n",
      "\t</NamedIndividual>\n",
      "</rdf:RDF>\n"
     ]
    }
   ],
   "source": [
    "ns_map = [('',\"http://www.w3.org/2002/07/owl#\"),\n",
    "          ('xml:base',\"http://www.w3.org/2002/07/owl\"),\n",
    "          ('rdf',\"http://www.w3.org/1999/02/22-rdf-syntax-ns#\"),\n",
    "          ('xml:owl',\"http://www.w3.org/2002/07/owl#\"),\n",
    "          ('dc',\"http://purl.org/dc/elements/1.1/\"),\n",
    "          ('rdfs',\"http://www.w3.org/2000/01/rdf-schema#\")\n",
    "         ]\n",
    "print(generate_xml_for_serialization(ns_map))"
   ]
  },
  {
   "cell_type": "code",
   "execution_count": 92,
   "id": "32950aa0",
   "metadata": {},
   "outputs": [
    {
     "name": "stdout",
     "output_type": "stream",
     "text": [
      "<NamedIndividual rdf:about=\"mapping_test\">\n",
      "\t<rdf:type rdf:resource=\"http://www.semanticweb.org/tomk/ontologies/2022/11/serialization#Mapping\" />\n",
      "\t<ser:MappingMetaTarget rdf:resource=\"test\" />\n",
      "\t<ser:SerializationLabel>Class</ser:SerializationLabel>\n",
      "\t<ser:SerializationParentLabel>ParentClass</ser:SerializationParentLabel>\n",
      "</NamedIndividual>\n"
     ]
    }
   ],
   "source": [
    "Q = create_mapping(\"mapping_test\", \"test\" , \"class\", {\"ser:SerializationLabel\" : \"Class\",\n",
    "                                                      \"ser:SerializationParentLabel\" : \"ParentClass\"})\n",
    "ET.indent(Q, space=\"\\t\", level=0)\n",
    "print(ET.tostring(Q).decode())"
   ]
  },
  {
   "cell_type": "code",
   "execution_count": null,
   "id": "a36e24d5",
   "metadata": {},
   "outputs": [],
   "source": []
  },
  {
   "cell_type": "code",
   "execution_count": null,
   "id": "352f8544",
   "metadata": {},
   "outputs": [],
   "source": []
  }
 ],
 "metadata": {
  "kernelspec": {
   "display_name": "devpy",
   "language": "python",
   "name": "devpy"
  },
  "language_info": {
   "codemirror_mode": {
    "name": "ipython",
    "version": 3
   },
   "file_extension": ".py",
   "mimetype": "text/x-python",
   "name": "python",
   "nbconvert_exporter": "python",
   "pygments_lexer": "ipython3",
   "version": "3.10.6"
  }
 },
 "nbformat": 4,
 "nbformat_minor": 5
}
