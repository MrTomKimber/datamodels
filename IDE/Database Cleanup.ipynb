{
 "cells": [
  {
   "cell_type": "code",
   "execution_count": 1,
   "id": "def9629a-9c93-45bf-95e0-64f2482f7e9c",
   "metadata": {},
   "outputs": [
    {
     "name": "stdout",
     "output_type": "stream",
     "text": [
      "['/usr/lib/python310.zip', '/usr/lib/python3.10', '/usr/lib/python3.10/lib-dynload', '', '/home/tomk/environment/devpy/lib/python3.10/site-packages', '/home/tomk/Documents/Coding/gitHub/daglit/src', '/home/tomk/Documents/Coding/gitHub/datamodels/src']\n",
      "Serialization.Meta [Serialization.SerializationMetaData]\n",
      "Serialization.Serialization [Serialization.SerializationSpecs]\n",
      "Serialization.Mapping [Serialization.SerializationSpecs]\n",
      "Serialization.TranslationMapping [Serialization.SerializationSpecs]\n",
      "Serialization.MappingKVPair [Serialization.SerializationSpecs]\n",
      "Serialization.MetaClass [Serialization.Meta]\n",
      "Serialization.MetaDataProperty [Serialization.Meta]\n",
      "Serialization.MetaProperty [Serialization.Meta]\n",
      "Serialization.MetaStaticProperty [Serialization.Meta]\n",
      "Serialization.BatchDefinition [Serialization.SerializationSpecs]\n",
      "Serialization.SerializationSpecs [Serialization.SerializationMetaData]\n",
      "Serialization.BatchNode [Serialization.DataLoad]\n",
      "Serialization.DataLoad [Serialization.SerializationMetaData]\n",
      "Serialization.SerializationMetaData [owl.Thing]\n",
      "Serialization.DataPropertyMapping [Serialization.Mapping]\n",
      "Serialization.EntityMapping [Serialization.Mapping]\n",
      "Serialization.JobNode [Serialization.DataLoad]\n",
      "Serialization.PropertyMapping [Serialization.Mapping]\n",
      "Serialization.RowNode [Serialization.DataLoad]\n"
     ]
    },
    {
     "name": "stderr",
     "output_type": "stream",
     "text": [
      "* Owlready2 * WARNING: ObjectProperty http://www.tkltd.org/ontologies/serialization#MappingMetaTarget belongs to more than one entity types: [owl.AnnotationProperty, owl.ObjectProperty, owl.topObjectProperty]; I'm trying to fix it...\n",
      "* Owlready2 * Running HermiT...\n",
      "    java -Xmx2000M -cp /home/tomk/environment/devpy/lib/python3.10/site-packages/owlready2/hermit:/home/tomk/environment/devpy/lib/python3.10/site-packages/owlready2/hermit/HermiT.jar org.semanticweb.HermiT.cli.CommandLine -c -O -D -I file:////tmp/tmpylz533k5\n",
      "* Owlready2 * HermiT took 0.705092191696167 seconds\n",
      "* Owlready * (NB: only changes on entities loaded in Python are shown, other changes are done but not listed)\n"
     ]
    }
   ],
   "source": [
    "# Fuseki IO Development V\n",
    "## Refinement\n",
    "\n",
    "# Attach dir one above to handle IDE subdir\n",
    "import sys, os\n",
    "module_path = os.path.abspath(os.path.join('../src/'))\n",
    "if module_path not in sys.path:\n",
    "    sys.path.append(module_path)\n",
    "\n",
    "print(sys.path)\n",
    "    \n",
    "import repository\n",
    "from rdflib import URIRef, Graph, Namespace\n",
    "\n",
    "#from DMEAR import DMEAR_vis \n",
    "from visualize_model import visualize, t2rdflibg, get_field\n",
    "\n",
    "import pandas as pd\n",
    "import html\n",
    "import io\n",
    "import pydotplus\n",
    "from rdflib.tools.rdf2dot import rdf2dot\n",
    "from IPython.display import display, Image, HTML\n",
    "import difflib\n",
    "from urllib.error import HTTPError\n",
    "\n",
    "from datetime import datetime\n",
    "\n",
    "start = datetime.now()\n",
    "import text_utils"
   ]
  },
  {
   "cell_type": "code",
   "execution_count": 2,
   "id": "412f9d59-2fc3-4867-b5fa-9059cf3d9f88",
   "metadata": {},
   "outputs": [],
   "source": [
    "store_type=\"jena\"\n",
    "#store_type=\"memory\"\n",
    "repo = repository.Repository(store_type=store_type)"
   ]
  },
  {
   "cell_type": "code",
   "execution_count": 3,
   "id": "2d6dfa28-9340-4af8-8940-21036f466263",
   "metadata": {},
   "outputs": [
    {
     "data": {
      "text/plain": [
       "[{'g': 'http://config', 'triples': 830},\n",
       " {'g': 'http://discourse', 'triples': 764875},\n",
       " {'g': 'http://master', 'triples': 27205},\n",
       " {'g': 'http://ontologies', 'triples': 2},\n",
       " {'g': 'http://server/unset-base/None', 'triples': 840}]"
      ]
     },
     "execution_count": 3,
     "metadata": {},
     "output_type": "execute_result"
    }
   ],
   "source": [
    "qqr = repo.run_adhoc_query(\"\"\"\n",
    "PREFIX rdf: <http://www.w3.org/1999/02/22-rdf-syntax-ns#> \n",
    "PREFIX rdfs: <http://www.w3.org/2000/01/rdf-schema#> \n",
    "PREFIX owl: <http://www.w3.org/2002/07/owl#> \n",
    "\n",
    "select ?g  (COUNT (?p) as ?triples)\n",
    "    WHERE\n",
    "    {GRAPH ?g { ?s ?p ?o. }\n",
    "}\n",
    "GROUP BY ?g \n",
    "ORDER BY ?g \"\"\")\n",
    "\n",
    "qqr"
   ]
  },
  {
   "cell_type": "code",
   "execution_count": 4,
   "id": "7e09fa20-28c7-4981-8fba-01825ce99d3b",
   "metadata": {},
   "outputs": [],
   "source": [
    "# Clear named graphs\n",
    "repo.truncate_graph(repo.registered_serializations_uri)\n",
    "repo.truncate_graph(repo.master_graph_uri)\n",
    "repo.truncate_graph(repo.discourse_graph_uri)\n",
    "repo.truncate_graph(repo.ontology_graph_uri)\n",
    "repo.truncate_graph('http://server/unset-base/None')"
   ]
  },
  {
   "cell_type": "code",
   "execution_count": null,
   "id": "dfde6420-4d27-4674-8a69-fd5f53cdc36f",
   "metadata": {},
   "outputs": [],
   "source": []
  }
 ],
 "metadata": {
  "kernelspec": {
   "display_name": "devpy",
   "language": "python",
   "name": "devpy"
  },
  "language_info": {
   "codemirror_mode": {
    "name": "ipython",
    "version": 3
   },
   "file_extension": ".py",
   "mimetype": "text/x-python",
   "name": "python",
   "nbconvert_exporter": "python",
   "pygments_lexer": "ipython3",
   "version": "3.10.12"
  }
 },
 "nbformat": 4,
 "nbformat_minor": 5
}
