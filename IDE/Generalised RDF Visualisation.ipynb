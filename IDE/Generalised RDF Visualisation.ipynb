{
 "cells": [
  {
   "cell_type": "code",
   "execution_count": 1,
   "id": "9f02c26b",
   "metadata": {},
   "outputs": [
    {
     "name": "stdout",
     "output_type": "stream",
     "text": [
      "['/usr/lib/python310.zip', '/usr/lib/python3.10', '/usr/lib/python3.10/lib-dynload', '', '/home/tomk/environment/devpy/lib/python3.10/site-packages', '/home/tomk/Documents/Coding/gitHub/daglit/src', '/home/tomk/Documents/Coding/gitHub/datamodels/src']\n"
     ]
    },
    {
     "ename": "IndentationError",
     "evalue": "expected an indented block after 'elif' statement on line 418 (serialization.py, line 421)",
     "output_type": "error",
     "traceback": [
      "Traceback \u001b[0;36m(most recent call last)\u001b[0m:\n",
      "\u001b[0m  File \u001b[1;32m~/environment/devpy/lib/python3.10/site-packages/IPython/core/interactiveshell.py:3553\u001b[0m in \u001b[1;35mrun_code\u001b[0m\n    exec(code_obj, self.user_global_ns, self.user_ns)\u001b[0m\n",
      "\u001b[0m  Cell \u001b[1;32mIn[1], line 12\u001b[0m\n    import repository\u001b[0m\n",
      "\u001b[0;36m  File \u001b[0;32m~/Documents/Coding/gitHub/datamodels/src/repository.py:7\u001b[0;36m\n\u001b[0;31m    from models.core.serialization import serialization\u001b[0;36m\n",
      "\u001b[0;36m  File \u001b[0;32m~/Documents/Coding/gitHub/datamodels/src/models/core/serialization/serialization.py:421\u001b[0;36m\u001b[0m\n\u001b[0;31m    def extract_raw_triples(self, row, entity_mappings=None):\u001b[0m\n\u001b[0m    ^\u001b[0m\n\u001b[0;31mIndentationError\u001b[0m\u001b[0;31m:\u001b[0m expected an indented block after 'elif' statement on line 418\n"
     ]
    }
   ],
   "source": [
    "# Fuseki IO Development V\n",
    "## Refinement\n",
    "\n",
    "# Attach dir one above to handle IDE subdir\n",
    "import sys, os\n",
    "module_path = os.path.abspath(os.path.join('../src/'))\n",
    "if module_path not in sys.path:\n",
    "    sys.path.append(module_path)\n",
    "\n",
    "print(sys.path)\n",
    "    \n",
    "import repository\n",
    "import loader\n",
    "from rdflib import URIRef, Graph, Namespace\n",
    "\n",
    "#from models.DMEAR import DMEAR_vis \n",
    "from visualize_model import visualize, t2rdflibg, get_field\n",
    "\n",
    "import vis_rdf\n",
    "\n",
    "import gravis as gv\n",
    "\n",
    "import pandas as pd\n",
    "import html\n",
    "import io\n",
    "import pydotplus\n",
    "from rdflib.tools.rdf2dot import rdf2dot\n",
    "from rdflib import URIRef, Graph, Namespace, Literal\n",
    "from IPython.display import display, Image, HTML\n",
    "import difflib\n",
    "from urllib.error import HTTPError\n",
    "from itertools import product\n",
    "import re\n",
    "from datetime import datetime\n",
    "\n",
    "start = datetime.now()\n",
    "import text_utils"
   ]
  },
  {
   "cell_type": "code",
   "execution_count": null,
   "id": "a7d85a49",
   "metadata": {},
   "outputs": [],
   "source": [
    "store_type=\"jena\"\n",
    "#store_type=\"memory\"\n",
    "repo = repository.Repository(store_type=store_type)"
   ]
  },
  {
   "cell_type": "code",
   "execution_count": null,
   "id": "0765b8b4",
   "metadata": {},
   "outputs": [],
   "source": [
    "discourse_e=URIRef(\"http://www.tkltd.org/ontologies/1635226058024d1e81c1070ee48143a5\")\n",
    "discourse_e=URIRef(\"http://www.tkltd.org/ontologies/749f90d34efa47c1ac3bda900a29d636\")\n",
    "\n",
    "\n",
    "qr = repo.run_cached_query(\"get_discourse_posits_parms_discourse_iris.sparql\", parameters=[discourse_e.n3()], native_rdflib=True)\n",
    "pd.DataFrame(qr)\n",
    "g=Graph()\n",
    "for row in qr:\n",
    "    g.add((row['s'], row['p'], row['o']))"
   ]
  },
  {
   "cell_type": "code",
   "execution_count": null,
   "id": "81529b65",
   "metadata": {},
   "outputs": [],
   "source": [
    "gjgf=vis_rdf.process_graph(g)\n",
    "\n",
    "model_html = gv.d3(gjgf, \n",
    "      node_label_data_source='label',\n",
    "      show_edge_label=True,\n",
    "      edge_label_size_factor=0.7,\n",
    "      edge_label_data_source='label',\n",
    "      edge_curvature=0.25,\n",
    "     links_force_strength=0.8, \n",
    "     links_force_distance=55, \n",
    "     use_collision_force=True, \n",
    "     collision_force_radius=10, \n",
    "    collision_force_strength=1.0,\n",
    "     many_body_force_strength=-1300,\n",
    "                   many_body_force_theta=1.61, \n",
    "                   use_many_body_force_min_distance=True,\n",
    "                   many_body_force_min_distance=0.01,\n",
    "                   use_many_body_force_max_distance=False,\n",
    "                   many_body_force_max_distance=40000,\n",
    "                   use_x_positioning_force=True,\n",
    "                   x_positioning_force_strength=0.21,\n",
    "                   use_y_positioning_force=True,\n",
    "                   y_positioning_force_strength=0.21\n",
    "     ).to_html_partial()\n",
    "\n",
    "HTML(model_html)"
   ]
  },
  {
   "cell_type": "code",
   "execution_count": null,
   "id": "2d7e6901",
   "metadata": {},
   "outputs": [],
   "source": [
    "vis_rdf.get_literal_properties_set(g)"
   ]
  },
  {
   "cell_type": "code",
   "execution_count": null,
   "id": "af1816fa",
   "metadata": {},
   "outputs": [],
   "source": [
    "def get_literals_to_table(graph, entity):\n",
    "    lit_kvs = [(t[1][t[1].find(\"#\")+1:], t[2].toPython()) for t in graph.triples((entity, None, None)) if isinstance(t[2], Literal)]\n",
    "    table_html_template=\"\"\"\n",
    "<table xmlns=\"http://www.w3.org/1999/xhtml\"><thead><tr><th>Property</th><th>Value</th></tr></thead>\n",
    "<tbody>\n",
    "{rows}\n",
    "</tbody>\n",
    "</table>\n",
    "    \"\"\"\n",
    "    \n",
    "    rows=[]\n",
    "    row_html_template=\"\"\"<tr><th>{k}</th><td>{v}</td></tr>\"\"\"\n",
    "    for k,v in lit_kvs:\n",
    "        \n",
    "        rows.append(row_html_template.format(k=k,v=(v+v)))\n",
    "    rows = \"\".join(rows)\n",
    "    return table_html_template.format(rows=rows)"
   ]
  },
  {
   "cell_type": "code",
   "execution_count": null,
   "id": "af829a17",
   "metadata": {},
   "outputs": [],
   "source": [
    "literals_table = get_literals_to_table(g, URIRef(\"http://www.tkltd.org/ontologies/37bf07d15e264bdc8c3fb17369bef0c6\"))\n",
    "\n",
    "HTML(literals_table)"
   ]
  },
  {
   "cell_type": "code",
   "execution_count": null,
   "id": "5403c50a",
   "metadata": {},
   "outputs": [],
   "source": []
  },
  {
   "cell_type": "code",
   "execution_count": null,
   "id": "54a03c9f-61e2-44d6-8902-957de472e19f",
   "metadata": {},
   "outputs": [],
   "source": [
    "from panel import Panel\n",
    "import gradients"
   ]
  },
  {
   "cell_type": "code",
   "execution_count": null,
   "id": "a5ad43e7-a18a-4661-80bf-f493f541fb0b",
   "metadata": {},
   "outputs": [],
   "source": [
    "def make_path(panel, title_style, panel_style):\n",
    "    path1 = \" \".join(panel._title_path_steps())\n",
    "    path2 = \" \".join(panel._panel_path_steps())\n",
    "    #stroke:none; fill:url(#pink_white);\n",
    "    #stroke:none; fill:url(#blue);\n",
    "    svg_path1 = \"\"\"<path style=\"{style}\" d=\"{p}\"> </path> \"\"\".format(p=path1, style=title_style)\n",
    "    svg_path2 = \"\"\"<path style=\"{style}\" d=\"{p}\"> </path> \"\"\".format(p=path2, style=panel_style)\n",
    "    return svg_path1 + svg_path2"
   ]
  },
  {
   "cell_type": "code",
   "execution_count": null,
   "id": "0ae8f753-0a94-4cdb-9010-cc1420169e8c",
   "metadata": {},
   "outputs": [],
   "source": [
    "def foreign_object(shape, content):\n",
    "    fo = \"\"\"<foreignObject x=\"0\" y=\"0\" width=\"400px\" height=\"100%\">\n",
    "    <div width=\"80%\">{content}</div>\n",
    "    </foreignObject>\n",
    "\"\"\"    \n",
    "    return fo.format(content=content)\n"
   ]
  },
  {
   "cell_type": "code",
   "execution_count": null,
   "id": "b789a13e-f067-4419-a281-67e875838871",
   "metadata": {},
   "outputs": [],
   "source": [
    "x=0\n",
    "y=0\n",
    "scale = 1\n",
    "\n",
    "p=Panel(loc= ((x*scale)+5,(y*scale)+5), size=(400, 200), corner_radius_ratio=7, title_panel_ratio=0.25)\n",
    "\n",
    "panel_paths = make_path(p, \"stroke:black; stroke-width:1; fill:url(#white);\", \"stroke:black; stroke-width:1; fill:lightblue;\")"
   ]
  },
  {
   "cell_type": "code",
   "execution_count": null,
   "id": "b552ad6d-6cfe-4fc7-86fc-a1cb229863e8",
   "metadata": {},
   "outputs": [],
   "source": [
    "g_defs = gradients.rainbow_gradient() + gradients.miami_gradient() + gradients.blue_gradient_td() + gradients.blue_gradient_bu() + gradients.pink_orange_gradient() + gradients.pink_white_gradient_td()+ gradients.pink_white_gradient_bu()"
   ]
  },
  {
   "cell_type": "code",
   "execution_count": null,
   "id": "f0f15da5-702f-41e7-94bf-5c6d7023b97d",
   "metadata": {},
   "outputs": [],
   "source": [
    "svg_chunk = \"\"\"<svg version=\"1.1\" xmlns=\"http://www.w3.org/2000/svg\"\n",
    "xmlns:xlink=\"http://www.w3.org/1999/xlink\" x=\"20\" y=\"20\"\n",
    "width=\"500\" height=\"500\" viewBox=\"0 0 600 300\">\n",
    "{defs}\n",
    "  <g id=\"Layer_1\">\n",
    "    <g>{contents}\n",
    "    </g>\n",
    "  </g>\n",
    "  {extras}\n",
    "  </svg>\n",
    "    \"\"\""
   ]
  },
  {
   "cell_type": "code",
   "execution_count": null,
   "id": "268b778b-533b-4b0e-ab2f-3c91e00c8b98",
   "metadata": {},
   "outputs": [],
   "source": [
    "HTML(svg_chunk.format(defs=g_defs, contents = panel_paths + foreign_object(\"x\", literals_table) , extras=None))"
   ]
  },
  {
   "cell_type": "code",
   "execution_count": null,
   "id": "6a56dc30-597e-4c58-af75-a1d9bf4073fa",
   "metadata": {},
   "outputs": [],
   "source": []
  },
  {
   "cell_type": "code",
   "execution_count": null,
   "id": "666578bd-8c22-4d18-b6a5-0e53b25bdd6a",
   "metadata": {},
   "outputs": [],
   "source": [
    "\n",
    "\n",
    "HTML(f\"\"\"<svg version=\"1.1\" xmlns=\"http://www.w3.org/2000/svg\"\n",
    "\n",
    "    \n",
    "xmlns:xlink=\"http://www.w3.org/1999/xlink\" x=\"0\" y=\"0\"\n",
    "    \n",
    "width=\"900\" height=\"600\" \n",
    "viewBox=\"-1, -1, 200, 200\">\n",
    "<defs>\n",
    "<linearGradient id=\"miami\" x1=\"0%\" y1=\"0%\" x2=\"0%\" y2=\"80%\" spreadMethod=\"pad\">\n",
    "            <stop stop-color=\"#20F\" offset=\"0\"/>\n",
    "            <stop stop-color=\"#60fff0\" offset=\"0.25\"/>\n",
    "            <stop stop-color=\"#80ffff\" offset=\"0.5\"/>\n",
    "            <stop stop-color=\"#fff324\" offset=\"0.7667\"/>\n",
    "            <stop stop-color=\"#fb24b3\" offset=\"1\"/>\n",
    "            </linearGradient>\n",
    "</defs>\n",
    "<path style=\"fill: #FFAA00;\" d=\"{title_path}\"/><path class=\"stroke_red\" d=\"{panel_path}\"/></svg>\"\"\")"
   ]
  },
  {
   "cell_type": "code",
   "execution_count": 3,
   "id": "6b22983e-e295-4682-9f6d-00a6c39a0d6d",
   "metadata": {},
   "outputs": [],
   "source": [
    "import re"
   ]
  },
  {
   "cell_type": "code",
   "execution_count": 16,
   "id": "84f7e74a-903b-4164-9fb1-c162621668df",
   "metadata": {},
   "outputs": [],
   "source": [
    "payload_regex=re.compile(\"#LINK\\((.+)\\)\")\n",
    "payload_strings=payload_regex.findall(\"#LINK(data_1, data-2,data_3\")"
   ]
  },
  {
   "cell_type": "code",
   "execution_count": 24,
   "id": "0228777b-d9ca-45a0-8253-4ab6d90e2243",
   "metadata": {},
   "outputs": [],
   "source": [
    "def resolve_label(label, row):\n",
    "    if not str(label).startswith(\"#\"):\n",
    "        return row.get(label)\n",
    "    elif str(label).startswith(\"#LINK\"):\n",
    "        # Perform LINK function to join input labels\n",
    "        payload_regex=re.compile(\"(?:#LINK)\\((.+)\\)\")\n",
    "        payload_strings=payload_regex.findall(label)\n",
    "        if len(payload_strings)==1:\n",
    "            labels=[s.strip() for s in payload_strings[0].split(\",\")]\n",
    "            print(labels)\n",
    "            return \".\".join([str(row.get(l,\"_\")) for l in labels])\n"
   ]
  },
  {
   "cell_type": "code",
   "execution_count": 25,
   "id": "ba256a25-c575-420e-9734-41c4a600f338",
   "metadata": {},
   "outputs": [
    {
     "name": "stdout",
     "output_type": "stream",
     "text": [
      "['data_1', 'data-2']\n"
     ]
    },
    {
     "data": {
      "text/plain": [
       "'1.2'"
      ]
     },
     "execution_count": 25,
     "metadata": {},
     "output_type": "execute_result"
    }
   ],
   "source": [
    "row_d = {\"data_1\":1, \"data-2\" : 2, \"data_3\" : 3}\n",
    "resolve_label(\"#LINK(data_1, data-2)\", row_d)"
   ]
  },
  {
   "cell_type": "code",
   "execution_count": null,
   "id": "93bebfa8-0e6d-4543-89cf-4c644142f86c",
   "metadata": {},
   "outputs": [],
   "source": []
  }
 ],
 "metadata": {
  "kernelspec": {
   "display_name": "devpy",
   "language": "python",
   "name": "devpy"
  },
  "language_info": {
   "codemirror_mode": {
    "name": "ipython",
    "version": 3
   },
   "file_extension": ".py",
   "mimetype": "text/x-python",
   "name": "python",
   "nbconvert_exporter": "python",
   "pygments_lexer": "ipython3",
   "version": "3.10.12"
  }
 },
 "nbformat": 4,
 "nbformat_minor": 5
}
