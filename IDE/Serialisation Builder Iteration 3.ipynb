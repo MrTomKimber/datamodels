{
 "cells": [
  {
   "cell_type": "markdown",
   "id": "c190dc10-6166-45dd-8f08-cd08c4c5aa0e",
   "metadata": {},
   "source": [
    "# Serialization Builder\n",
    "\n",
    "After an ontology model is developed, there needs to be a method of uploading data that fits the model in question. \n",
    "\n",
    "This data load process is often fed by flat or tree-like datafiles - perhaps simple CSV, XML or JSON documents. \n",
    "\n",
    "A serialization helps marshall structured data into a given ontologically defined graph format. \n",
    "\n",
    "The serialization has a name, and contains multiple mappings. \n",
    "\n",
    "Each mapping describes some link between named attributes in the input file, and their equivalent ontological markup. Some inputs describe entities of a given type, while others describe relations between these entities, and others describe simple data-properties those entities might have. "
   ]
  },
  {
   "cell_type": "code",
   "execution_count": 1,
   "id": "3b19d59f-ec33-4598-869e-6d12c7cf7af6",
   "metadata": {},
   "outputs": [
    {
     "data": {
      "text/plain": [
       "'<http://www.tkltd.org/tomk/ontologies/serialization#test>'"
      ]
     },
     "execution_count": 1,
     "metadata": {},
     "output_type": "execute_result"
    }
   ],
   "source": [
    "\n",
    "# Reset and Start again from here. \n",
    "# Let's use the json sourced data file to construct the mapping details.\n",
    "#1. Load config from json serialisation file\n",
    "#2. Validate sections of the serialisation file using ontology\n",
    "#3. Build the serialisation rdf file. \n",
    "\n",
    "\n",
    "\n",
    "import jsonschema\n",
    "import json\n",
    "\n",
    "#import owlready2 as owlr\n",
    "\n",
    "import xml.etree.ElementTree as ET\n",
    "\n",
    "from rdflib import URIRef, Literal, Graph, Namespace\n",
    "ns_tuple=(\"ser\", \"http://www.tkltd.org/tomk/ontologies/serialization#\")\n",
    "URIRef(\"ser:test\").n3().replace(ns_tuple[0]+\":\",ns_tuple[1])"
   ]
  },
  {
   "cell_type": "code",
   "execution_count": 2,
   "id": "8b0068f1-76fc-4320-8530-b594620d7b43",
   "metadata": {},
   "outputs": [
    {
     "name": "stdout",
     "output_type": "stream",
     "text": [
      "['/usr/lib/python310.zip', '/usr/lib/python3.10', '/usr/lib/python3.10/lib-dynload', '', '/home/tomk/environment/devpy/lib/python3.10/site-packages', '/home/tomk/Documents/Coding/gitHub/datamodels/src/models/core/serialization']\n"
     ]
    },
    {
     "name": "stderr",
     "output_type": "stream",
     "text": [
      "* Owlready2 * WARNING: ObjectProperty http://www.tkltd.org/ontologies/serialization#MappingMetaTarget belongs to more than one entity types: [owl.AnnotationProperty, owl.ObjectProperty, owl.topObjectProperty]; I'm trying to fix it...\n"
     ]
    }
   ],
   "source": [
    "import sys, os\n",
    "module_path = os.path.abspath(os.path.join('../src/models/core/serialization'))\n",
    "if module_path not in sys.path:\n",
    "    sys.path.append(module_path)\n",
    "print(sys.path)\n",
    "import serialization_builder as s_b"
   ]
  },
  {
   "cell_type": "code",
   "execution_count": 3,
   "id": "66eace53-dee1-4fb7-9a68-d273d72fce63",
   "metadata": {},
   "outputs": [],
   "source": [
    "schemafilename = '/home/tomk/Documents/Coding/gitHub/datamodels/src/models/DMEAR/DMEAR_ser.json'\n",
    "with open(schemafilename, 'r') as file:\n",
    "    jdata = json.load(file)\n",
    "label_d = dict()\n",
    "for m in s_b.fetch_mapping_values(jdata):\n",
    "    try:\n",
    "        label_d[m[3]['ser:SerializationLabel']]=set()\n",
    "        #print(m[3]['ser:SerializationLabel'])\n",
    "    except:\n",
    "        #print(m[3]['ser:MappingDomain'], m[3]['ser:MappingRange'])\n",
    "        if m[3]['ser:MappingDomain'] in label_d.keys():\n",
    "            label_d[m[3]['ser:MappingDomain']].add(m[3]['ser:MappingRange'])\n",
    "        else:\n",
    "            label_d[m[3]['ser:MappingDomain']]=set([(m[3]['ser:MappingRange'])])\n"
   ]
  },
  {
   "cell_type": "code",
   "execution_count": 4,
   "id": "40ed3569-7a85-40b5-a304-ce333a00182f",
   "metadata": {},
   "outputs": [
    {
     "name": "stdout",
     "output_type": "stream",
     "text": [
      "Namespace\n",
      "\t NamespaceDescription\n",
      "\t NamespaceLabel\n",
      "Model\n",
      "\t ModelType\n",
      "\t ModelDescription\n",
      "\t ModelLabel\n",
      "Attribute\n",
      "\t DataType\n",
      "\t IsPK\n",
      "\t AttributeLabel\n",
      "\t Nulls\n",
      "\t Sequence\n",
      "\t AttributeDescription\n",
      "Class\n",
      "\t ClassLabel\n",
      "\t ClassDescription\n",
      "Relationship\n",
      "\t ToClass\n",
      "\t RelationshipLabel\n",
      "\t ToCardinality\n",
      "\t FromAttribute\n",
      "\t ToAttribute\n",
      "\t FromCardinality\n",
      "\t FromClass\n",
      "\t RelationshipDescription\n",
      "DomainParticipant\n",
      "\t DomainParticipantDescription\n",
      "\t DomainParticipantLabel\n",
      "ParentDomain\n",
      "DomainEvent\n",
      "\t DomainEventLabel\n",
      "\t DomainEventDescription\n",
      "Domain\n",
      "\t DomainLabel\n",
      "\t DomainDescription\n"
     ]
    }
   ],
   "source": [
    "for k in {s for s in label_d.keys() if len(s)>0}:\n",
    "    if len(label_d[k])>0:\n",
    "        print(k)\n",
    "    for v in label_d[k]:\n",
    "        if v not in {s for s in label_d.keys() if len(label_d[s])>0}:\n",
    "            print (\"\\t\", v)"
   ]
  },
  {
   "cell_type": "code",
   "execution_count": 5,
   "id": "f7ca4ed7-31e6-4ae4-942c-79d78178f050",
   "metadata": {},
   "outputs": [
    {
     "data": {
      "text/plain": [
       "{'Namespace': {'Class',\n",
       "  'Domain',\n",
       "  'Model',\n",
       "  'NamespaceDescription',\n",
       "  'NamespaceLabel',\n",
       "  'Relationship'},\n",
       " 'Model': {'Class',\n",
       "  'ModelDescription',\n",
       "  'ModelLabel',\n",
       "  'ModelType',\n",
       "  'Relationship'},\n",
       " 'Class': {'Attribute', 'ClassDescription', 'ClassLabel', 'Domain', 'Model'},\n",
       " 'Attribute': {'AttributeDescription',\n",
       "  'AttributeLabel',\n",
       "  'Class',\n",
       "  'DataType',\n",
       "  'IsPK',\n",
       "  'Nulls',\n",
       "  'Sequence'},\n",
       " 'Domain': {'Class',\n",
       "  'DomainDescription',\n",
       "  'DomainEvent',\n",
       "  'DomainLabel',\n",
       "  'DomainParticipant',\n",
       "  'ParentDomain'},\n",
       " 'ParentDomain': {'Domain'},\n",
       " 'Relationship': {'FromAttribute',\n",
       "  'FromCardinality',\n",
       "  'FromClass',\n",
       "  'Model',\n",
       "  'RelationshipDescription',\n",
       "  'RelationshipLabel',\n",
       "  'ToAttribute',\n",
       "  'ToCardinality',\n",
       "  'ToClass'},\n",
       " 'DomainEvent': {'Domain', 'DomainEventDescription', 'DomainEventLabel'},\n",
       " 'FromClass': set(),\n",
       " 'ToClass': set(),\n",
       " 'FromAttribute': set(),\n",
       " 'ToAttribute': set(),\n",
       " 'DomainParticipant': {'Domain',\n",
       "  'DomainParticipantDescription',\n",
       "  'DomainParticipantLabel'}}"
      ]
     },
     "execution_count": 5,
     "metadata": {},
     "output_type": "execute_result"
    }
   ],
   "source": [
    "label_d"
   ]
  },
  {
   "cell_type": "code",
   "execution_count": null,
   "id": "fea87f93-f7c6-44e2-a431-49ce7ffa507d",
   "metadata": {},
   "outputs": [],
   "source": []
  },
  {
   "cell_type": "code",
   "execution_count": null,
   "id": "ba513c4b-61f6-4832-bdf1-7ef33b8e9b03",
   "metadata": {},
   "outputs": [],
   "source": []
  },
  {
   "cell_type": "code",
   "execution_count": null,
   "id": "e06a595c-4dc8-4f22-8c57-cd21b2bdaef4",
   "metadata": {},
   "outputs": [],
   "source": []
  }
 ],
 "metadata": {
  "kernelspec": {
   "display_name": "devpy",
   "language": "python",
   "name": "devpy"
  },
  "language_info": {
   "codemirror_mode": {
    "name": "ipython",
    "version": 3
   },
   "file_extension": ".py",
   "mimetype": "text/x-python",
   "name": "python",
   "nbconvert_exporter": "python",
   "pygments_lexer": "ipython3",
   "version": "3.10.12"
  }
 },
 "nbformat": 4,
 "nbformat_minor": 5
}
