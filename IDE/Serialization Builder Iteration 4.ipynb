{
 "cells": [
  {
   "cell_type": "code",
   "execution_count": 1,
   "id": "45159f66-96d7-4f89-8805-bf92d3104f57",
   "metadata": {},
   "outputs": [
    {
     "data": {
      "text/plain": [
       "'<http://www.tkltd.org/tomk/ontologies/serialization#test>'"
      ]
     },
     "execution_count": 1,
     "metadata": {},
     "output_type": "execute_result"
    }
   ],
   "source": [
    "import jsonschema\n",
    "import json\n",
    "\n",
    "#import owlready2 as owlr\n",
    "\n",
    "import xml.etree.ElementTree as ET\n",
    "\n",
    "from rdflib import URIRef, Literal, Graph, Namespace\n",
    "ns_tuple=(\"ser\", \"http://www.tkltd.org/tomk/ontologies/serialization#\")\n",
    "URIRef(\"ser:test\").n3().replace(ns_tuple[0]+\":\",ns_tuple[1])"
   ]
  },
  {
   "cell_type": "code",
   "execution_count": 2,
   "id": "2da01b5b-b2f1-43f9-9224-889e75c651a8",
   "metadata": {},
   "outputs": [
    {
     "name": "stdout",
     "output_type": "stream",
     "text": [
      "['/usr/lib/python310.zip', '/usr/lib/python3.10', '/usr/lib/python3.10/lib-dynload', '', '/home/tomk/environment/devpy/lib/python3.10/site-packages', '/home/tomk/Documents/Coding/gitHub/datamodels/src/models/core/serialization']\n"
     ]
    },
    {
     "name": "stderr",
     "output_type": "stream",
     "text": [
      "* Owlready2 * WARNING: ObjectProperty http://www.tkltd.org/ontologies/serialization#MappingMetaTarget belongs to more than one entity types: [owl.AnnotationProperty, owl.ObjectProperty, owl.topObjectProperty]; I'm trying to fix it...\n"
     ]
    }
   ],
   "source": [
    "import sys, os\n",
    "module_path = os.path.abspath(os.path.join('../src/models/core/serialization'))\n",
    "if module_path not in sys.path:\n",
    "    sys.path.append(module_path)\n",
    "print(sys.path)\n",
    "import serialization_builder as s_b"
   ]
  },
  {
   "cell_type": "code",
   "execution_count": 3,
   "id": "013fda2e-ab13-4b7e-aad8-3612c71e49a3",
   "metadata": {},
   "outputs": [],
   "source": [
    "serialization_filename = os.path.abspath(os.path.join('../src/models/DMCAR/DMCAR_ser.json'))"
   ]
  },
  {
   "cell_type": "code",
   "execution_count": 4,
   "id": "836294ba-7f49-4e9a-a1a9-a2c90ac8299b",
   "metadata": {},
   "outputs": [
    {
     "name": "stdout",
     "output_type": "stream",
     "text": [
      "Namespace\n",
      "Model\n",
      "Namespace\n",
      "Class\n",
      "Namespace\n",
      "Attribute\n",
      "Class\n",
      "Domain\n",
      "Namespace\n",
      "ParentDomain\n",
      "Namespace\n",
      "Relationship\n",
      "Namespace\n",
      "DomainEvent\n",
      "Namespace\n",
      "DomainParticipant\n",
      "Namespace\n",
      "FromClass\n",
      "FromNamespace\n",
      "ToClass\n",
      "ToNamespace\n",
      "FromAttribute\n",
      "FromClass\n",
      "ToAttribute\n",
      "ToClass\n",
      "domain: Namespace\n",
      "range: Domain\n",
      "domain: Namespace\n",
      "range: Model\n",
      "domain: Namespace\n",
      "range: Class\n",
      "domain: Namespace\n",
      "range: Relationship\n",
      "domain: Class\n",
      "range: Attribute\n",
      "domain: Attribute\n",
      "range: Class\n",
      "domain: Domain\n",
      "range: Class\n",
      "domain: Class\n",
      "range: Domain\n",
      "domain: ParentDomain\n",
      "range: Domain\n",
      "domain: Domain\n",
      "range: ParentDomain\n",
      "domain: Domain\n",
      "range: DomainEvent\n",
      "domain: DomainEvent\n",
      "range: Domain\n",
      "domain: Domain\n",
      "range: DomainParticipant\n",
      "domain: DomainParticipant\n",
      "range: Domain\n",
      "domain: Model\n",
      "range: Class\n",
      "domain: Class\n",
      "range: Model\n",
      "domain: Relationship\n",
      "range: RelationshipLabel\n",
      "domain: Relationship\n",
      "range: RelationshipDescription\n",
      "domain: Model\n",
      "range: Relationship\n",
      "domain: Relationship\n",
      "range: Model\n",
      "domain: Relationship\n",
      "range: FromClass\n",
      "domain: Relationship\n",
      "range: ToClass\n",
      "domain: Relationship\n",
      "range: FromAttribute\n",
      "domain: Relationship\n",
      "range: ToAttribute\n",
      "domain: Relationship\n",
      "range: FromCardinality\n",
      "domain: Relationship\n",
      "range: ToCardinality\n",
      "domain: Model\n",
      "range: ModelType\n",
      "domain: Namespace\n",
      "range: NamespaceLabel\n",
      "domain: Namespace\n",
      "range: NamespaceDescription\n",
      "domain: Model\n",
      "range: ModelLabel\n",
      "domain: Model\n",
      "range: ModelDescription\n",
      "domain: Domain\n",
      "range: DomainLabel\n",
      "domain: Domain\n",
      "range: DomainDescription\n",
      "domain: DomainParticipant\n",
      "range: DomainParticipantLabel\n",
      "domain: DomainParticipant\n",
      "range: DomainParticipantDescription\n",
      "domain: DomainEvent\n",
      "range: DomainEventDescription\n",
      "domain: DomainEvent\n",
      "range: DomainEventLabel\n",
      "domain: DomainEvent\n",
      "range: DomainEventDescription\n",
      "domain: Class\n",
      "range: ClassLabel\n",
      "domain: Class\n",
      "range: ClassDescription\n",
      "domain: Attribute\n",
      "range: AttributeLabel\n",
      "domain: Attribute\n",
      "range: AttributeDescription\n",
      "domain: Attribute\n",
      "range: Sequence\n",
      "domain: Attribute\n",
      "range: DataType\n",
      "domain: Attribute\n",
      "range: Nulls\n",
      "domain: Attribute\n",
      "range: IsPK\n"
     ]
    }
   ],
   "source": [
    "label_set=set()\n",
    "for record in s_b.gen_serialisation_template(serialization_filename):\n",
    "    if 'ser:SerializationLabel' in record[3].keys():\n",
    "        print(record[3]['ser:SerializationLabel'])\n",
    "        label_set.add(record[3]['ser:SerializationLabel'])\n",
    "    if 'ser:SerializationParentLabel' in record[3].keys():\n",
    "        print(record[3]['ser:SerializationParentLabel'])\n",
    "        label_set.add(record[3]['ser:SerializationParentLabel'])\n",
    "    if  'ser:MappingDomain' in record[3].keys():\n",
    "        print(\"domain:\", record[3]['ser:MappingDomain'])\n",
    "        label_set.add(record[3]['ser:MappingDomain'])\n",
    "    if  'ser:MappingRange' in record[3].keys():\n",
    "        print(\"range:\", record[3]['ser:MappingRange'])\n",
    "        label_set.add(record[3]['ser:MappingRange'])\n"
   ]
  },
  {
   "cell_type": "code",
   "execution_count": 5,
   "id": "f614fdee-fa76-4860-8989-4b8703499e12",
   "metadata": {},
   "outputs": [
    {
     "data": {
      "text/plain": [
       "{'Attribute',\n",
       " 'AttributeDescription',\n",
       " 'AttributeLabel',\n",
       " 'Class',\n",
       " 'ClassDescription',\n",
       " 'ClassLabel',\n",
       " 'DataType',\n",
       " 'Domain',\n",
       " 'DomainDescription',\n",
       " 'DomainEvent',\n",
       " 'DomainEventDescription',\n",
       " 'DomainEventLabel',\n",
       " 'DomainLabel',\n",
       " 'DomainParticipant',\n",
       " 'DomainParticipantDescription',\n",
       " 'DomainParticipantLabel',\n",
       " 'FromAttribute',\n",
       " 'FromCardinality',\n",
       " 'FromClass',\n",
       " 'FromNamespace',\n",
       " 'IsPK',\n",
       " 'Model',\n",
       " 'ModelDescription',\n",
       " 'ModelLabel',\n",
       " 'ModelType',\n",
       " 'Namespace',\n",
       " 'NamespaceDescription',\n",
       " 'NamespaceLabel',\n",
       " 'Nulls',\n",
       " 'ParentDomain',\n",
       " 'Relationship',\n",
       " 'RelationshipDescription',\n",
       " 'RelationshipLabel',\n",
       " 'Sequence',\n",
       " 'ToAttribute',\n",
       " 'ToCardinality',\n",
       " 'ToClass',\n",
       " 'ToNamespace'}"
      ]
     },
     "execution_count": 5,
     "metadata": {},
     "output_type": "execute_result"
    }
   ],
   "source": [
    "label_set"
   ]
  },
  {
   "cell_type": "code",
   "execution_count": 6,
   "id": "6c71d99e-3198-4da3-9c03-d4fceb2342b6",
   "metadata": {},
   "outputs": [],
   "source": [
    "test_label_set = {\n",
    "    'Namespace',\t\n",
    "    'NamespaceLabel',\t\n",
    "    'NamespaceDescription',\t\n",
    "    'Domain',\n",
    "'DomainLabel',\n",
    "'DomainDescription',\n",
    "'ParentDomain',\n",
    "'DomainEvent',\n",
    "'DomainEventLabel',\n",
    "'DomainEventDescription',\t\n",
    "'DomainParticipant'\t,\n",
    "'DomainParticipantLabel'\t,\n",
    "'DomainParticipantDescription'\t,\n",
    "'Model'\t,\n",
    "'ModelLabel'\t,\n",
    "'ModelDescription'\t,\n",
    "'ModelType'\t,\n",
    "'Class'\t,\n",
    "'ClassLabel'\t,\n",
    "'ClassDescription'\t,\n",
    "'Attribute'\t,\n",
    "'AttributeLabel'\t,\n",
    "'AttributeDescription'\t,\n",
    "'Sequence'\t,\n",
    "'DataType'\t,\n",
    "'Nulls'\t,\n",
    "'IsPK'\t,\n",
    "'Relationship'\t,\n",
    "'RelationshipLabel'\t,\n",
    "'RelationshipDescription'\t,\n",
    "'FromNamespace'\t,\n",
    "'FromClass'\t,\n",
    "'FromAttribute'\t,\n",
    "'FromCardinality'\t,\n",
    "'ToNamespace'\t,\n",
    "'ToClass'\t,\n",
    "'ToAttribute'\t,\n",
    "'ToCardinality'\n",
    "\n",
    "}"
   ]
  },
  {
   "cell_type": "code",
   "execution_count": 7,
   "id": "ee0cdf79-c892-404c-8e04-35fcd8eefd6d",
   "metadata": {},
   "outputs": [
    {
     "data": {
      "text/plain": [
       "set()"
      ]
     },
     "execution_count": 7,
     "metadata": {},
     "output_type": "execute_result"
    }
   ],
   "source": [
    "test_label_set-label_set"
   ]
  },
  {
   "cell_type": "code",
   "execution_count": 8,
   "id": "d2c66f44-25b1-445c-80ea-dabb58e6c9ab",
   "metadata": {},
   "outputs": [
    {
     "data": {
      "text/plain": [
       "set()"
      ]
     },
     "execution_count": 8,
     "metadata": {},
     "output_type": "execute_result"
    }
   ],
   "source": [
    "label_set-test_label_set"
   ]
  },
  {
   "cell_type": "code",
   "execution_count": null,
   "id": "69bf6c02-8a35-46e2-b134-caef311e7167",
   "metadata": {},
   "outputs": [],
   "source": []
  },
  {
   "cell_type": "code",
   "execution_count": null,
   "id": "19215ae8-6301-4900-8a4d-9848a61bf222",
   "metadata": {},
   "outputs": [],
   "source": []
  }
 ],
 "metadata": {
  "kernelspec": {
   "display_name": "devpy",
   "language": "python",
   "name": "devpy"
  },
  "language_info": {
   "codemirror_mode": {
    "name": "ipython",
    "version": 3
   },
   "file_extension": ".py",
   "mimetype": "text/x-python",
   "name": "python",
   "nbconvert_exporter": "python",
   "pygments_lexer": "ipython3",
   "version": "3.10.12"
  }
 },
 "nbformat": 4,
 "nbformat_minor": 5
}
