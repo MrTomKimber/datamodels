{
 "cells": [
  {
   "cell_type": "code",
   "execution_count": 1,
   "metadata": {},
   "outputs": [
    {
     "name": "stderr",
     "output_type": "stream",
     "text": [
      "* Owlready2 * Warning: optimized Cython parser module 'owlready2_optimized' is not available, defaulting to slower Python implementation\n",
      "* Owlready2 * WARNING: ObjectProperty http://www.semanticweb.org/tomk/ontologies/2022/11/serialization#MappingMetaTarget belongs to more than one entity types: [owl.AnnotationProperty, owl.ObjectProperty, owl.topObjectProperty]; I'm trying to fix it...\n",
      "* Owlready2 * Running HermiT...\n",
      "    java -Xmx2000M -cp /home/tomk/environment/devpy/lib/python3.10/site-packages/owlready2/hermit:/home/tomk/environment/devpy/lib/python3.10/site-packages/owlready2/hermit/HermiT.jar org.semanticweb.HermiT.cli.CommandLine -c -O -D -I file:////tmp/tmp_hyz8od6\n"
     ]
    },
    {
     "name": "stdout",
     "output_type": "stream",
     "text": [
      "Serialization.Meta [Serialization.SerializationMetaData]\n",
      "Serialization.TranslationMapping [Serialization.SerializationSpecs]\n",
      "Serialization.MappingKVPair [Serialization.SerializationSpecs]\n",
      "Serialization.Serialization [Serialization.SerializationSpecs]\n",
      "Serialization.Mapping [Serialization.SerializationSpecs]\n",
      "Serialization.BatchDefinition [Serialization.SerializationSpecs]\n",
      "Serialization.SerializationSpecs [Serialization.SerializationMetaData]\n",
      "Serialization.BatchNode [Serialization.DataLoad]\n",
      "Serialization.DataLoad [Serialization.SerializationMetaData]\n",
      "Serialization.SerializationMetaData [owl.Thing]\n",
      "Serialization.DataPropertyMapping [Serialization.Mapping]\n",
      "Serialization.MetaDataProperty [Serialization.Meta]\n",
      "Serialization.EntityMapping [Serialization.Mapping]\n",
      "Serialization.MetaClass [Serialization.Meta]\n",
      "Serialization.JobNode [Serialization.DataLoad]\n",
      "Serialization.MetaProperty [Serialization.Meta]\n",
      "Serialization.MetaStaticProperty [Serialization.Meta]\n",
      "Serialization.PropertyMapping [Serialization.Mapping]\n",
      "Serialization.RowNode [Serialization.DataLoad]\n"
     ]
    },
    {
     "name": "stderr",
     "output_type": "stream",
     "text": [
      "* Owlready2 * HermiT took 0.6106603145599365 seconds\n",
      "* Owlready * (NB: only changes on entities loaded in Python are shown, other changes are done but not listed)\n"
     ]
    }
   ],
   "source": [
    "import sys, os\n",
    "module_path = os.path.abspath(os.path.join('..'))\n",
    "if module_path not in sys.path:\n",
    "    sys.path.append(module_path)\n",
    "\n",
    "from rdflib.plugins.stores import sparqlstore, memory\n",
    "import rdflib\n",
    "from rdflib import URIRef, Literal, Graph, Dataset\n",
    "\n",
    "import serialization\n",
    "import discourse\n",
    "\n",
    "import html\n",
    "import loader\n",
    "import discourse\n",
    "import pandas as pd\n",
    "from rdflib import Graph, Namespace\n",
    "from rdflib.namespace import RDF, RDFS\n",
    "import io\n",
    "import pydotplus\n",
    "from IPython.display import display, Image\n",
    "from rdflib.tools.rdf2dot import rdf2dot\n",
    "from IPython.core.display import HTML\n",
    "\n",
    "import uuid\n",
    "\n",
    "from urllib.error import HTTPError\n",
    "import xml.etree.ElementTree as ET\n",
    "\n",
    "from itertools import chain\n",
    "\n",
    "from datetime import datetime\n",
    "\n",
    "def visualize(g):\n",
    "    stream = io.StringIO()\n",
    "    rdf2dot(g, stream, opts = {display})\n",
    "    dg = pydotplus.graph_from_dot_data(stream.getvalue())\n",
    "    png = dg.create_png()\n",
    "\n",
    "    display(Image(png))\n",
    "\n",
    "def t2rdflibg(triples): #triples to rdflib graph\n",
    "    g = Graph()\n",
    "    for t in triples:\n",
    "        g.add(t)\n",
    "    return g\n",
    "\n",
    "\n",
    "def nan2None(value):\n",
    "    if pd.isnull(value) :\n",
    "        return None\n",
    "    else:\n",
    "        return value\n",
    "\n",
    "\n",
    "def get_data_rows(filename):\n",
    "    data_rows_df = pd.read_csv(filename)\n",
    "    data_rows=[]\n",
    "    for i,r in data_rows_df.iterrows():\n",
    "        r_d = {k:nan2None(v) for k,v in dict(r).items()}\n",
    "\n",
    "        data_rows.append(r_d)\n",
    "    del data_rows_df\n",
    "    return data_rows\n",
    "\n",
    "store_type=\"memory\"\n",
    "\n",
    "if store_type==\"jena\":\n",
    "    g_store = sparqlstore.SPARQLUpdateStore(\"http://localhost:3030/modelg/query\",context_aware=True)\n",
    "    g_store.open((\"http://localhost:3030/modelg/query\", \"http://localhost:3030/modelg/update\"))\n",
    "    #jena.open((\"http://localhost:3030/models/query\", \"http://localhost:3030/models/update\"))\n",
    "elif store_type==\"memory\":\n",
    "    g_store = memory.Memory()\n",
    "\n",
    "\n",
    "# Create a Dataset\n",
    "ds = Dataset(store=g_store, default_union=True, default_graph_base=\"http://base.raw\")\n",
    "#ds = Dataset(store=jena, default_union=True)\n",
    "# Define a named graph within the dataset, this will contain all nodes contained within the graph referenced, or none if it doesn't exist yet.\n",
    "sg_uri = \"http://config\"\n",
    "masterg_uri = \"http://master\"\n",
    "discourseg_uri = \"http://discourse\"\n",
    "\n"
   ]
  },
  {
   "cell_type": "code",
   "execution_count": 2,
   "metadata": {},
   "outputs": [],
   "source": [
    "def meta_data_package_template(field_d):\n",
    "    dc_terms_base = \"http://purl.org/dc/terms/\"\n",
    "    rdf_form = {}\n",
    "    for k,v in field_d.items():\n",
    "        rdf_form[URIRef(dc_terms_base + k)] = Literal(v)\n",
    "    return rdf_form\n",
    "\n",
    "\n",
    "def triples_to_quads(triples, graph=\"http://master\"):\n",
    "    for s,p,o, *_ in triples:\n",
    "        yield (s,p,o,URIRef(graph))"
   ]
  },
  {
   "cell_type": "code",
   "execution_count": 3,
   "metadata": {},
   "outputs": [],
   "source": [
    "# We need to populate the config graph with some contents from an rdf file, if it's not already populated\n",
    "# This method is incredibly slow, but (should) only be necessary on the occasions where the database\n",
    "# is being populated from scratch. There are probably better ways to insert contents of a graph into the db\n",
    "# and this might be something to revisit later on. \n",
    "sg = ds.graph(URIRef(sg_uri))\n",
    "if len(sg)==0:\n",
    "    sg.parse(\"DMEAR_ser.rdf\")\n",
    "#S = serialization.Serialization(sg, \"EntityAttributeRecord\")"
   ]
  },
  {
   "cell_type": "code",
   "execution_count": 4,
   "metadata": {},
   "outputs": [],
   "source": [
    "mg = ds.graph(URIRef(masterg_uri))\n",
    "if len(mg)==0:\n",
    "    mg.parse(\"master_graph.rdf\")"
   ]
  },
  {
   "cell_type": "code",
   "execution_count": 5,
   "metadata": {},
   "outputs": [],
   "source": [
    "dg = ds.graph(URIRef(discourseg_uri))\n",
    "if len(dg)==0:\n",
    "    dg.parse(\"discourse_graph.rdf\")"
   ]
  },
  {
   "cell_type": "code",
   "execution_count": 6,
   "metadata": {},
   "outputs": [],
   "source": [
    "file_dtypes = {'ModelDomain': str,\n",
    " 'Model': str,\n",
    " 'ModelType': str,\n",
    " 'Class': str,\n",
    " 'ClassDescription': str,\n",
    " 'Attribute': str,\n",
    " 'AttributeDescription': str,\n",
    " 'DataType': str,\n",
    " 'Context': str,\n",
    " 'SubContext': str,\n",
    " 'Nulls': str,\n",
    " 'Is PK': str,\n",
    " 'Relationship': str,\n",
    " 'FromClass': str,\n",
    " 'FromAttribute': str,\n",
    " 'FromCardinality': str,\n",
    " 'ToClass': str,\n",
    " 'ToAttribute': str,\n",
    " 'ToCardinality': str}"
   ]
  },
  {
   "cell_type": "code",
   "execution_count": 7,
   "metadata": {},
   "outputs": [],
   "source": [
    "def get_field(v):\n",
    "    if isinstance(v,str):\n",
    "        return html.escape(str(v))\n",
    "    elif isinstance(v,(int, float)):\n",
    "        if pd.isnull(v):\n",
    "            return None\n",
    "        else:\n",
    "            return v\n",
    "    elif v is None or isinstance(v,pd.Null):\n",
    "        return None"
   ]
  },
  {
   "cell_type": "code",
   "execution_count": null,
   "metadata": {},
   "outputs": [],
   "source": []
  },
  {
   "cell_type": "code",
   "execution_count": null,
   "metadata": {},
   "outputs": [],
   "source": []
  },
  {
   "cell_type": "code",
   "execution_count": 8,
   "metadata": {},
   "outputs": [],
   "source": [
    "# Optional Delete data hosted in master and discourse database graphs\n",
    "do=\"Yes\"\n",
    "#do=\"No\"\n",
    "\n",
    "if do == \"Yes\" and store_type != \"memory\":\n",
    "    try:\n",
    "        ds.update(\"\"\"CLEAR GRAPH <http://master>\"\"\")\n",
    "    except HTTPError:\n",
    "        pass\n",
    "    ds.update(\"\"\"CREATE GRAPH <http://master>\"\"\")\n",
    "    try:\n",
    "        ds.update(\"\"\"CLEAR GRAPH <http://discourse>\"\"\")\n",
    "    except HTTPError:\n",
    "        pass\n",
    "    ds.update(\"\"\"CREATE GRAPH <http://discourse>\"\"\")"
   ]
  },
  {
   "cell_type": "code",
   "execution_count": 9,
   "metadata": {
    "scrolled": true
   },
   "outputs": [
    {
     "data": {
      "text/plain": [
       "{'http://config', 'http://discourse', 'http://master'}"
      ]
     },
     "execution_count": 9,
     "metadata": {},
     "output_type": "execute_result"
    }
   ],
   "source": [
    "#ds = Dataset(store=jena, default_union=True, default_graph_base=\"http://base.raw\")\n",
    "#master_g = ds.graph(URIRef(\"http://master\"))\n",
    "#discourse_g = ds.graph(URIRef(\"http://discourse\"))\n",
    "\n",
    "### Is this necessary? If graphs are created when master and discourse graph rdf files are parsed?\n",
    "\n",
    "rs = ds.query(\"\"\"select distinct ?g WHERE { GRAPH ?g { ?s ?p ?o .}}\"\"\")\n",
    "rg_set = set(pd.DataFrame(rs, columns=[\"graph\"])['graph'].apply(lambda x : x.n3()[1:-1]))\n",
    "required_graphs = [\"http://master\", \"http://discourse\"]\n",
    "\n",
    "\n",
    "\n",
    "for g in required_graphs:\n",
    "    if g not in rg_set:\n",
    "        print(g)\n",
    "#        tg = ds.graph(URIRef(g))\n",
    "        if store_type == \"jena\":\n",
    "            create_graph_sparql = \"\"\"CREATE GRAPH {gn}\"\"\".format(gn=URIRef(g).n3())\n",
    "            print(create_graph_sparql)\n",
    "            ds.update(create_graph_sparql)\n",
    "\n",
    "rs = ds.query(\"\"\"select distinct ?g WHERE { GRAPH ?g { ?s ?p ?o .}}\"\"\")\n",
    "rg_set = set(pd.DataFrame(rs, columns=[\"graph\"])['graph'].apply(lambda x : x.n3()[1:-1]))\n",
    "rg_set"
   ]
  },
  {
   "cell_type": "code",
   "execution_count": 10,
   "metadata": {},
   "outputs": [],
   "source": [
    "discourse_details_sparql = \"\"\"\n",
    "PREFIX rdf: <http://www.w3.org/1999/02/22-rdf-syntax-ns#>\n",
    "PREFIX disco: <http://www.semanticweb.org/tomk/ontologies/2022/11/discourse#> \n",
    "PREFIX dcterms: <http://purl.org/dc/terms/> \n",
    "PREFIX rdfs: <http://www.w3.org/2000/01/rdf-schema#> \n",
    "\n",
    "select ?g ?discourse ?name ?title ?description ?created ?hash (COUNT(?declaration) as ?declarations) (COUNT(distinct ?psubject) as ?entities)\n",
    "\n",
    "WHERE {\n",
    "  GRAPH ?g\n",
    "  {\n",
    "      ?discourse a disco:Discourse.\n",
    "      ?discourse dcterms:title ?title.\n",
    "      ?discourse rdfs:label ?name.\n",
    "      ?discourse dcterms:description ?description.\n",
    "      ?discourse dcterms:created ?created .\n",
    "      ?discourse disco:DiscourseHash ?hash .\n",
    "      ?discourse disco:DiscourseContains+ ?declaration .\n",
    "      ?declaration a disco:Declaration .\n",
    "      ?posit_type rdfs:subPropertyOf* disco:Posits .\n",
    "      ?declaration disco:Asserts ?assertion.\n",
    "      ?assertion disco:Subject ?psubject.\n",
    "  }\n",
    "}\n",
    "GROUP BY ?g ?discourse ?name ?title ?description ?created ?hash\n",
    "\"\"\"\n",
    "\n",
    "qr = ds.query(discourse_details_sparql)\n",
    "discourse_df = pd.DataFrame(qr, columns=[v.n3()[1:] for v in qr.vars]).sort_values(by=\"created\")\n",
    "discourse_df[\"hash_vals\"]=discourse_df['hash'].apply(lambda x : x.n3()[1:-1])\n",
    "discourse_df.set_index(\"discourse\", inplace=True)\n",
    "discourse_df\n",
    "hash_discourse_mapping = {v:k for k,v in dict(discourse_df['hash'].apply(lambda x : x.n3()[1:-1])).items()}\n"
   ]
  },
  {
   "cell_type": "code",
   "execution_count": 11,
   "metadata": {},
   "outputs": [
    {
     "data": {
      "text/plain": [
       "{}"
      ]
     },
     "execution_count": 11,
     "metadata": {},
     "output_type": "execute_result"
    }
   ],
   "source": [
    "hash_discourse_mapping"
   ]
  },
  {
   "cell_type": "code",
   "execution_count": 12,
   "metadata": {},
   "outputs": [
    {
     "data": {
      "text/plain": [
       "rdflib.term.URIRef('http://master')"
      ]
     },
     "execution_count": 12,
     "metadata": {},
     "output_type": "execute_result"
    }
   ],
   "source": [
    "mg._Graph__identifier"
   ]
  },
  {
   "cell_type": "code",
   "execution_count": 13,
   "metadata": {},
   "outputs": [
    {
     "ename": "AssertionError",
     "evalue": "",
     "output_type": "error",
     "traceback": [
      "\u001b[0;31m---------------------------------------------------------------------------\u001b[0m",
      "\u001b[0;31mAssertionError\u001b[0m                            Traceback (most recent call last)",
      "Cell \u001b[0;32mIn [13], line 1\u001b[0m\n\u001b[0;32m----> 1\u001b[0m \u001b[38;5;28;01massert\u001b[39;00m \u001b[38;5;28;01mFalse\u001b[39;00m\n",
      "\u001b[0;31mAssertionError\u001b[0m: "
     ]
    }
   ],
   "source": [
    "assert False"
   ]
  },
  {
   "cell_type": "code",
   "execution_count": null,
   "metadata": {},
   "outputs": [],
   "source": [
    "title = \"Inventory ERD v1.0\"\n",
    "model_data = pd.read_csv(r\"../sample/inventory_v1.csv\", index_col=\"Sequence\", dtype=file_dtypes)\n",
    "rows = [dict({rk:get_field(rv) for rk, rv in r.items()}) for i,r in model_data.iterrows()]\n",
    "md_p = meta_data_package_template( {\"created\" : \"2023-04-10\", \n",
    "                                   \"creator\" : \"tomk\", \n",
    "                                   \"description\" : \"Sample ERD model version 1\", \n",
    "                                   \"title\" : \"inventory ERD\", \n",
    "                                   \"modified\" : \"2023-04-10\"})\n",
    "\n",
    "loader.load_to_graph(ds, sg_uri, \"EntityAttributeRecord\", rows, masterg_uri, discourseg_uri, title, md_p, hash_discourse_mapping, override_duplicate=False)\n",
    "\n"
   ]
  },
  {
   "cell_type": "code",
   "execution_count": null,
   "metadata": {},
   "outputs": [],
   "source": [
    "rows"
   ]
  },
  {
   "cell_type": "code",
   "execution_count": 14,
   "metadata": {},
   "outputs": [],
   "source": [
    "rows=[{\"ParentClass\" : \"Human\", \n",
    "       \"Class\" : \"Grandad\", \n",
    "       \"SubClassPointer\" : \"a\", \n",
    "       \"Property\" : \"Granny\", \n",
    "       \"DataProperty\" : \"Tony\"},\n",
    "      {\"ParentClass\" : \"Human\", \n",
    "       \"Class\" : \"Granny\", \n",
    "       \"SubClassPointer\" : \"b\", \n",
    "       \"Property\" : \"Grandad\", \n",
    "       \"DataProperty\" : \"Audrey\"},\n",
    "       {\"ParentClass\" : \"Human\", \n",
    "       \"Class\" : \"Me\", \n",
    "       \"SubClassPointer\" : \"c\", \n",
    "       \"Property\" : \"Lisa\", \n",
    "       \"DataProperty\" : \"Tom\"},\n",
    "       {\"ParentClass\" : \"Human\", \n",
    "       \"Class\" : \"Freddie\", \n",
    "       \"SubClassPointer\" : \"a\", \n",
    "       \"Property\" : \"Me\", \n",
    "       \"DataProperty\" : \"Fred\"}, \n",
    "       {\"ParentClass\" : \"Human\", \n",
    "       \"Class\" : \"Lisa\", \n",
    "       \"SubClassPointer\" : \"a\", \n",
    "       \"Property\" : \"Me\", \n",
    "       \"DataProperty\" : \"Test\"}\n",
    "]"
   ]
  },
  {
   "cell_type": "code",
   "execution_count": 15,
   "metadata": {},
   "outputs": [
    {
     "data": {
      "text/plain": [
       "True"
      ]
     },
     "execution_count": 15,
     "metadata": {},
     "output_type": "execute_result"
    }
   ],
   "source": [
    "\"http://www.semanticweb.org/tomk/ontologies/2022/11/serialization#MetaClass\"=='http://www.semanticweb.org/tomk/ontologies/2022/11/serialization#MetaClass'"
   ]
  },
  {
   "cell_type": "code",
   "execution_count": 16,
   "metadata": {},
   "outputs": [
    {
     "name": "stdout",
     "output_type": "stream",
     "text": [
      "Parent_Class_Mapping is a  class\n",
      "Class_Mapping is a  class\n",
      "SubClassProperty_Mapping is a  staticproperty\n",
      "Property_Mapping is a  property\n",
      "{rdflib.term.URIRef('http://www.w3.org/2002/07/owl#NamedIndividual'), rdflib.term.URIRef('http://www.semanticweb.org/tomk/ontologies/2022/11/serialization#MetaDataProperty')}\n",
      "dataproperty\n",
      "DataProperty_Mapping\n",
      "DataProperty_Mapping is a  dataproperty\n",
      "translation_mapping_ids ['http://www.semanticweb.org/tomk/ontologies/2023/6/sample#Sample_Serialisationb74fc8d126b2456bafd1e1e7282b5a61', 'http://www.semanticweb.org/tomk/ontologies/2023/6/sample#Sample_Serialisation392abdadb4a1431dae794d39ae2d99c5']\n",
      "http://www.semanticweb.org/tomk/ontologies/2023/6/sample#Sample_Serialisationb74fc8d126b2456bafd1e1e7282b5a61\n",
      "http://www.semanticweb.org/tomk/ontologies/2023/6/sample#Sample_Serialisation392abdadb4a1431dae794d39ae2d99c5\n",
      "****************************************\n",
      "<http://config> a rdfg:Graph;rdflib:storage [a rdflib:Store;rdfs:label 'Memory'].\n",
      "This is the Serialization __init__ method\n",
      "<http://config> a rdfg:Graph;rdflib:storage [a rdflib:Store;rdfs:label 'Memory']. Sample Serialisation\n",
      "<class 'rdflib.graph.Graph'>\n",
      "['http://www.semanticweb.org/tomk/ontologies/2022/9/datamodel#Attribute', 'http://www.semanticweb.org/tomk/ontologies/2022/9/datamodel#Class', 'http://www.semanticweb.org/tomk/ontologies/2022/9/datamodel#Context', 'http://www.semanticweb.org/tomk/ontologies/2022/9/datamodel#Model', 'http://www.semanticweb.org/tomk/ontologies/2022/9/datamodel#ModelDomain', 'http://www.semanticweb.org/tomk/ontologies/2022/9/datamodel#Relationship', 'http://www.semanticweb.org/tomk/ontologies/2023/6/sample#someClass', 'http://www.semanticweb.org/tomk/ontologies/2023/6/sample#SubClassA', 'http://www.semanticweb.org/tomk/ontologies/2023/6/sample#SubClassB', 'http://www.semanticweb.org/tomk/ontologies/2023/6/sample#SubClassC'] ['http://www.semanticweb.org/tomk/ontologies/2022/9/datamodel#Contains', 'http://www.semanticweb.org/tomk/ontologies/2022/9/datamodel#MemberOf', 'http://www.semanticweb.org/tomk/ontologies/2022/9/datamodel#RelationshipFromAttribute', 'http://www.semanticweb.org/tomk/ontologies/2022/9/datamodel#RelationshipFromClass', 'http://www.semanticweb.org/tomk/ontologies/2022/9/datamodel#RelationshipToAttribute', 'http://www.semanticweb.org/tomk/ontologies/2022/9/datamodel#RelationshipToClass', 'http://www.semanticweb.org/tomk/ontologies/2023/6/sample#someProperty'] ['http://www.semanticweb.org/tomk/ontologies/2022/9/datamodel#Cardinality', 'http://www.semanticweb.org/tomk/ontologies/2022/9/datamodel#DataType', 'http://www.semanticweb.org/tomk/ontologies/2022/9/datamodel#FromCardinality', 'http://www.semanticweb.org/tomk/ontologies/2022/9/datamodel#ModelType', 'http://www.semanticweb.org/tomk/ontologies/2022/9/datamodel#Optionality', 'http://www.semanticweb.org/tomk/ontologies/2022/9/datamodel#ToCardinality', 'http://www.semanticweb.org/tomk/ontologies/2023/6/sample#someDataProperty'] ['http://www.w3.org/1999/02/22-rdf-syntax-ns#type']\n",
      "****************************************\n"
     ]
    }
   ],
   "source": [
    "alt_sg = None\n",
    "alt_sg = ds.graph(URIRef(sg_uri))\n",
    "serns = Namespace(serialization.serial.base_iri)\n",
    "alt_sg.bind('ser', serns, override=True, replace=True)\n",
    "alt_sg.parse(\"../sample_ser.rdf\")\n",
    "serialization_graph_uri = sg_uri\n",
    "S = serialization.Serialization(alt_sg, \"Sample Serialisation\")"
   ]
  },
  {
   "cell_type": "code",
   "execution_count": 17,
   "metadata": {},
   "outputs": [
    {
     "data": {
      "text/plain": [
       "('http://www.semanticweb.org/tomk/ontologies/2022/11/serialization#TranslationMapping',\n",
       " 'http://www.semanticweb.org/tomk/ontologies/2022/11/serialization#TranslationMapping')"
      ]
     },
     "execution_count": 17,
     "metadata": {},
     "output_type": "execute_result"
    }
   ],
   "source": [
    "serialization.serial.TranslationMapping.iri, \"http://www.semanticweb.org/tomk/ontologies/2022/11/serialization#TranslationMapping\""
   ]
  },
  {
   "cell_type": "code",
   "execution_count": 20,
   "metadata": {},
   "outputs": [
    {
     "name": "stdout",
     "output_type": "stream",
     "text": [
      "Parent_Class_Mapping is a  class\n",
      "Class_Mapping is a  class\n",
      "SubClassProperty_Mapping is a  staticproperty\n",
      "Property_Mapping is a  property\n",
      "{rdflib.term.URIRef('http://www.w3.org/2002/07/owl#NamedIndividual'), rdflib.term.URIRef('http://www.semanticweb.org/tomk/ontologies/2022/11/serialization#MetaDataProperty')}\n",
      "dataproperty\n",
      "DataProperty_Mapping\n",
      "DataProperty_Mapping is a  dataproperty\n",
      "translation_mapping_ids ['http://www.semanticweb.org/tomk/ontologies/2023/6/sample#Sample_Serialisationb74fc8d126b2456bafd1e1e7282b5a61', 'http://www.semanticweb.org/tomk/ontologies/2023/6/sample#Sample_Serialisation392abdadb4a1431dae794d39ae2d99c5']\n",
      "http://www.semanticweb.org/tomk/ontologies/2023/6/sample#Sample_Serialisationb74fc8d126b2456bafd1e1e7282b5a61\n",
      "http://www.semanticweb.org/tomk/ontologies/2023/6/sample#Sample_Serialisation392abdadb4a1431dae794d39ae2d99c5\n",
      "****************************************\n",
      "<http://config> a rdfg:Graph;rdflib:storage [a rdflib:Store;rdfs:label 'Memory'].\n",
      "This is the Serialization __init__ method\n",
      "<http://config> a rdfg:Graph;rdflib:storage [a rdflib:Store;rdfs:label 'Memory']. Sample Serialisation\n",
      "<class 'rdflib.graph.Graph'>\n",
      "['http://www.semanticweb.org/tomk/ontologies/2022/9/datamodel#Attribute', 'http://www.semanticweb.org/tomk/ontologies/2022/9/datamodel#Class', 'http://www.semanticweb.org/tomk/ontologies/2022/9/datamodel#Context', 'http://www.semanticweb.org/tomk/ontologies/2022/9/datamodel#Model', 'http://www.semanticweb.org/tomk/ontologies/2022/9/datamodel#ModelDomain', 'http://www.semanticweb.org/tomk/ontologies/2022/9/datamodel#Relationship', 'http://www.semanticweb.org/tomk/ontologies/2023/6/sample#someClass', 'http://www.semanticweb.org/tomk/ontologies/2023/6/sample#SubClassA', 'http://www.semanticweb.org/tomk/ontologies/2023/6/sample#SubClassB', 'http://www.semanticweb.org/tomk/ontologies/2023/6/sample#SubClassC'] ['http://www.semanticweb.org/tomk/ontologies/2022/9/datamodel#Contains', 'http://www.semanticweb.org/tomk/ontologies/2022/9/datamodel#MemberOf', 'http://www.semanticweb.org/tomk/ontologies/2022/9/datamodel#RelationshipFromAttribute', 'http://www.semanticweb.org/tomk/ontologies/2022/9/datamodel#RelationshipFromClass', 'http://www.semanticweb.org/tomk/ontologies/2022/9/datamodel#RelationshipToAttribute', 'http://www.semanticweb.org/tomk/ontologies/2022/9/datamodel#RelationshipToClass', 'http://www.semanticweb.org/tomk/ontologies/2023/6/sample#someProperty'] ['http://www.semanticweb.org/tomk/ontologies/2022/9/datamodel#Cardinality', 'http://www.semanticweb.org/tomk/ontologies/2022/9/datamodel#DataType', 'http://www.semanticweb.org/tomk/ontologies/2022/9/datamodel#FromCardinality', 'http://www.semanticweb.org/tomk/ontologies/2022/9/datamodel#ModelType', 'http://www.semanticweb.org/tomk/ontologies/2022/9/datamodel#Optionality', 'http://www.semanticweb.org/tomk/ontologies/2022/9/datamodel#ToCardinality', 'http://www.semanticweb.org/tomk/ontologies/2023/6/sample#someDataProperty'] ['http://www.w3.org/1999/02/22-rdf-syntax-ns#type']\n",
      "****************************************\n",
      "[rdflib.term.Literal('Human'), rdflib.term.Literal('Human.Grandad')]\n",
      "SubClassProperty_Mapping\n",
      "/////STATICPROPERTY/////\n",
      "<serialization.Entity object at 0x7fc767e42710> http://www.w3.org/1999/02/22-rdf-syntax-ns#type\n",
      "********\n",
      "['MappingDomain', 'MappingRange', 'TranslationMappingName', '__class__', '__delattr__', '__dict__', '__dir__', '__doc__', '__eq__', '__format__', '__ge__', '__getattribute__', '__gt__', '__hash__', '__init__', '__init_subclass__', '__le__', '__lt__', '__module__', '__ne__', '__new__', '__reduce__', '__reduce_ex__', '__repr__', '__setattr__', '__sizeof__', '__str__', '__subclasshook__', '__weakref__', '_apply_mapping', 'defs', 'graph', 'mapping_meta_target', 'mapping_subtype', 'name', 'ontology', 'serialization', 'unbind_ns_strings']\n",
      "********\n",
      "{'ParentClass': <serialization.Entity object at 0x7fc767e40d00>, 'Class': <serialization.Entity object at 0x7fc767e42710>} {'ParentClass': 'Human', 'Class': 'Grandad', 'SubClassPointer': 'a', 'Property': 'Granny', 'DataProperty': 'Tony'} subclasses\n",
      "/////////\\\\\\\\\\\n",
      "{'subclasses': {'a': rdflib.term.URIRef('http://www.semanticweb.org/tomk/ontologies/2023/6/sample#SubClassA'), 'b': rdflib.term.URIRef('http://www.semanticweb.org/tomk/ontologies/2023/6/sample#SubClassB'), 'c': rdflib.term.URIRef('http://www.semanticweb.org/tomk/ontologies/2023/6/sample#SubClassC')}, 'testcontents': {'1': 'X', '2': 'Y', '3': 'Z'}}\n",
      "/////////\\\\\\\\\\\n",
      "subclasses {'a': rdflib.term.URIRef('http://www.semanticweb.org/tomk/ontologies/2023/6/sample#SubClassA'), 'b': rdflib.term.URIRef('http://www.semanticweb.org/tomk/ontologies/2023/6/sample#SubClassB'), 'c': rdflib.term.URIRef('http://www.semanticweb.org/tomk/ontologies/2023/6/sample#SubClassC')}\n",
      "\n",
      "subclasses SubClassPointer\n",
      "{'ParentClass': 'Human', 'Class': 'Grandad', 'SubClassPointer': 'a', 'Property': 'Granny', 'DataProperty': 'Tony'}\n",
      "Property_Mapping\n",
      "Property processing property http://www.semanticweb.org/tomk/ontologies/2023/6/sample#someProperty None\n",
      "{'ParentClass': <serialization.Entity object at 0x7fc767e40d00>, 'Class': <serialization.Entity object at 0x7fc767e42710>}\n",
      "ParentClass Human\n",
      "Class Grandad\n",
      "DataProperty_Mapping\n",
      "[rdflib.term.Literal('Human'), rdflib.term.Literal('Human.Grandad'), rdflib.term.Literal('Human.Granny')]\n",
      "SubClassProperty_Mapping\n",
      "/////STATICPROPERTY/////\n",
      "<serialization.Entity object at 0x7fc767e43370> http://www.w3.org/1999/02/22-rdf-syntax-ns#type\n",
      "********\n",
      "['MappingDomain', 'MappingRange', 'TranslationMappingName', '__class__', '__delattr__', '__dict__', '__dir__', '__doc__', '__eq__', '__format__', '__ge__', '__getattribute__', '__gt__', '__hash__', '__init__', '__init_subclass__', '__le__', '__lt__', '__module__', '__ne__', '__new__', '__reduce__', '__reduce_ex__', '__repr__', '__setattr__', '__sizeof__', '__str__', '__subclasshook__', '__weakref__', '_apply_mapping', 'defs', 'graph', 'mapping_meta_target', 'mapping_subtype', 'name', 'ontology', 'serialization', 'unbind_ns_strings']\n",
      "********\n",
      "{'ParentClass': <serialization.Entity object at 0x7fc767e42110>, 'Class': <serialization.Entity object at 0x7fc767e43370>} {'ParentClass': 'Human', 'Class': 'Granny', 'SubClassPointer': 'b', 'Property': 'Grandad', 'DataProperty': 'Audrey'} subclasses\n",
      "/////////\\\\\\\\\\\n",
      "{'subclasses': {'a': rdflib.term.URIRef('http://www.semanticweb.org/tomk/ontologies/2023/6/sample#SubClassA'), 'b': rdflib.term.URIRef('http://www.semanticweb.org/tomk/ontologies/2023/6/sample#SubClassB'), 'c': rdflib.term.URIRef('http://www.semanticweb.org/tomk/ontologies/2023/6/sample#SubClassC')}, 'testcontents': {'1': 'X', '2': 'Y', '3': 'Z'}}\n",
      "/////////\\\\\\\\\\\n",
      "subclasses {'a': rdflib.term.URIRef('http://www.semanticweb.org/tomk/ontologies/2023/6/sample#SubClassA'), 'b': rdflib.term.URIRef('http://www.semanticweb.org/tomk/ontologies/2023/6/sample#SubClassB'), 'c': rdflib.term.URIRef('http://www.semanticweb.org/tomk/ontologies/2023/6/sample#SubClassC')}\n",
      "\n",
      "subclasses SubClassPointer\n",
      "{'ParentClass': 'Human', 'Class': 'Granny', 'SubClassPointer': 'b', 'Property': 'Grandad', 'DataProperty': 'Audrey'}\n",
      "Property_Mapping\n",
      "Property processing property http://www.semanticweb.org/tomk/ontologies/2023/6/sample#someProperty None\n",
      "{'ParentClass': <serialization.Entity object at 0x7fc767e42110>, 'Class': <serialization.Entity object at 0x7fc767e43370>}\n",
      "ParentClass Human\n",
      "Class Granny\n",
      "DataProperty_Mapping\n",
      "[rdflib.term.Literal('Human'), rdflib.term.Literal('Human.Grandad'), rdflib.term.Literal('Human.Granny'), rdflib.term.Literal('Human.Me')]\n",
      "SubClassProperty_Mapping\n",
      "/////STATICPROPERTY/////\n",
      "<serialization.Entity object at 0x7fc767e42710> http://www.w3.org/1999/02/22-rdf-syntax-ns#type\n",
      "********\n",
      "['MappingDomain', 'MappingRange', 'TranslationMappingName', '__class__', '__delattr__', '__dict__', '__dir__', '__doc__', '__eq__', '__format__', '__ge__', '__getattribute__', '__gt__', '__hash__', '__init__', '__init_subclass__', '__le__', '__lt__', '__module__', '__ne__', '__new__', '__reduce__', '__reduce_ex__', '__repr__', '__setattr__', '__sizeof__', '__str__', '__subclasshook__', '__weakref__', '_apply_mapping', 'defs', 'graph', 'mapping_meta_target', 'mapping_subtype', 'name', 'ontology', 'serialization', 'unbind_ns_strings']\n",
      "********\n",
      "{'ParentClass': <serialization.Entity object at 0x7fc767e40d00>, 'Class': <serialization.Entity object at 0x7fc767e42710>} {'ParentClass': 'Human', 'Class': 'Me', 'SubClassPointer': 'c', 'Property': 'Lisa', 'DataProperty': 'Tom'} subclasses\n",
      "/////////\\\\\\\\\\\n",
      "{'subclasses': {'a': rdflib.term.URIRef('http://www.semanticweb.org/tomk/ontologies/2023/6/sample#SubClassA'), 'b': rdflib.term.URIRef('http://www.semanticweb.org/tomk/ontologies/2023/6/sample#SubClassB'), 'c': rdflib.term.URIRef('http://www.semanticweb.org/tomk/ontologies/2023/6/sample#SubClassC')}, 'testcontents': {'1': 'X', '2': 'Y', '3': 'Z'}}\n",
      "/////////\\\\\\\\\\\n",
      "subclasses {'a': rdflib.term.URIRef('http://www.semanticweb.org/tomk/ontologies/2023/6/sample#SubClassA'), 'b': rdflib.term.URIRef('http://www.semanticweb.org/tomk/ontologies/2023/6/sample#SubClassB'), 'c': rdflib.term.URIRef('http://www.semanticweb.org/tomk/ontologies/2023/6/sample#SubClassC')}\n",
      "\n",
      "subclasses SubClassPointer\n",
      "{'ParentClass': 'Human', 'Class': 'Me', 'SubClassPointer': 'c', 'Property': 'Lisa', 'DataProperty': 'Tom'}\n",
      "Property_Mapping\n",
      "Property processing property http://www.semanticweb.org/tomk/ontologies/2023/6/sample#someProperty None\n",
      "{'ParentClass': <serialization.Entity object at 0x7fc767e40d00>, 'Class': <serialization.Entity object at 0x7fc767e42710>}\n",
      "ParentClass Human\n",
      "Class Me\n",
      "DataProperty_Mapping\n",
      "[rdflib.term.Literal('Human'), rdflib.term.Literal('Human.Grandad'), rdflib.term.Literal('Human.Granny'), rdflib.term.Literal('Human.Me'), rdflib.term.Literal('Human.Freddie')]\n",
      "SubClassProperty_Mapping\n",
      "/////STATICPROPERTY/////\n",
      "<serialization.Entity object at 0x7fc767e43370> http://www.w3.org/1999/02/22-rdf-syntax-ns#type\n",
      "********\n",
      "['MappingDomain', 'MappingRange', 'TranslationMappingName', '__class__', '__delattr__', '__dict__', '__dir__', '__doc__', '__eq__', '__format__', '__ge__', '__getattribute__', '__gt__', '__hash__', '__init__', '__init_subclass__', '__le__', '__lt__', '__module__', '__ne__', '__new__', '__reduce__', '__reduce_ex__', '__repr__', '__setattr__', '__sizeof__', '__str__', '__subclasshook__', '__weakref__', '_apply_mapping', 'defs', 'graph', 'mapping_meta_target', 'mapping_subtype', 'name', 'ontology', 'serialization', 'unbind_ns_strings']\n",
      "********\n",
      "{'ParentClass': <serialization.Entity object at 0x7fc767e42110>, 'Class': <serialization.Entity object at 0x7fc767e43370>} {'ParentClass': 'Human', 'Class': 'Freddie', 'SubClassPointer': 'a', 'Property': 'Me', 'DataProperty': 'Fred'} subclasses\n",
      "/////////\\\\\\\\\\\n",
      "{'subclasses': {'a': rdflib.term.URIRef('http://www.semanticweb.org/tomk/ontologies/2023/6/sample#SubClassA'), 'b': rdflib.term.URIRef('http://www.semanticweb.org/tomk/ontologies/2023/6/sample#SubClassB'), 'c': rdflib.term.URIRef('http://www.semanticweb.org/tomk/ontologies/2023/6/sample#SubClassC')}, 'testcontents': {'1': 'X', '2': 'Y', '3': 'Z'}}\n",
      "/////////\\\\\\\\\\\n",
      "subclasses {'a': rdflib.term.URIRef('http://www.semanticweb.org/tomk/ontologies/2023/6/sample#SubClassA'), 'b': rdflib.term.URIRef('http://www.semanticweb.org/tomk/ontologies/2023/6/sample#SubClassB'), 'c': rdflib.term.URIRef('http://www.semanticweb.org/tomk/ontologies/2023/6/sample#SubClassC')}\n",
      "\n",
      "subclasses SubClassPointer\n",
      "{'ParentClass': 'Human', 'Class': 'Freddie', 'SubClassPointer': 'a', 'Property': 'Me', 'DataProperty': 'Fred'}\n",
      "Property_Mapping\n",
      "Property processing property http://www.semanticweb.org/tomk/ontologies/2023/6/sample#someProperty None\n",
      "{'ParentClass': <serialization.Entity object at 0x7fc767e42110>, 'Class': <serialization.Entity object at 0x7fc767e43370>}\n",
      "ParentClass Human\n",
      "Class Freddie\n",
      "DataProperty_Mapping\n",
      "[rdflib.term.Literal('Human'), rdflib.term.Literal('Human.Grandad'), rdflib.term.Literal('Human.Granny'), rdflib.term.Literal('Human.Me'), rdflib.term.Literal('Human.Freddie'), rdflib.term.Literal('Human.Lisa')]\n",
      "SubClassProperty_Mapping\n",
      "/////STATICPROPERTY/////\n",
      "<serialization.Entity object at 0x7fc767e42710> http://www.w3.org/1999/02/22-rdf-syntax-ns#type\n",
      "********\n",
      "['MappingDomain', 'MappingRange', 'TranslationMappingName', '__class__', '__delattr__', '__dict__', '__dir__', '__doc__', '__eq__', '__format__', '__ge__', '__getattribute__', '__gt__', '__hash__', '__init__', '__init_subclass__', '__le__', '__lt__', '__module__', '__ne__', '__new__', '__reduce__', '__reduce_ex__', '__repr__', '__setattr__', '__sizeof__', '__str__', '__subclasshook__', '__weakref__', '_apply_mapping', 'defs', 'graph', 'mapping_meta_target', 'mapping_subtype', 'name', 'ontology', 'serialization', 'unbind_ns_strings']\n",
      "********\n",
      "{'ParentClass': <serialization.Entity object at 0x7fc767e40d00>, 'Class': <serialization.Entity object at 0x7fc767e42710>} {'ParentClass': 'Human', 'Class': 'Lisa', 'SubClassPointer': 'a', 'Property': 'Me', 'DataProperty': 'Test'} subclasses\n",
      "/////////\\\\\\\\\\\n",
      "{'subclasses': {'a': rdflib.term.URIRef('http://www.semanticweb.org/tomk/ontologies/2023/6/sample#SubClassA'), 'b': rdflib.term.URIRef('http://www.semanticweb.org/tomk/ontologies/2023/6/sample#SubClassB'), 'c': rdflib.term.URIRef('http://www.semanticweb.org/tomk/ontologies/2023/6/sample#SubClassC')}, 'testcontents': {'1': 'X', '2': 'Y', '3': 'Z'}}\n",
      "/////////\\\\\\\\\\\n",
      "subclasses {'a': rdflib.term.URIRef('http://www.semanticweb.org/tomk/ontologies/2023/6/sample#SubClassA'), 'b': rdflib.term.URIRef('http://www.semanticweb.org/tomk/ontologies/2023/6/sample#SubClassB'), 'c': rdflib.term.URIRef('http://www.semanticweb.org/tomk/ontologies/2023/6/sample#SubClassC')}\n",
      "\n",
      "subclasses SubClassPointer\n",
      "{'ParentClass': 'Human', 'Class': 'Lisa', 'SubClassPointer': 'a', 'Property': 'Me', 'DataProperty': 'Test'}\n",
      "Property_Mapping\n",
      "Property processing property http://www.semanticweb.org/tomk/ontologies/2023/6/sample#someProperty None\n",
      "{'ParentClass': <serialization.Entity object at 0x7fc767e40d00>, 'Class': <serialization.Entity object at 0x7fc767e42710>}\n",
      "ParentClass Human\n",
      "Class Lisa\n",
      "DataProperty_Mapping\n",
      "0:00:00.010549 for 28 from 5\n",
      "[(rdflib.term.URIRef('http://www.semanticweb.org/tomk/ontologies/2022/11/f3c20564cc964cd9ba8e0f04aaeb8927'), rdflib.term.URIRef('http://www.semanticweb.org/tomk/ontologies/2023/6/sample#someDataProperty'), rdflib.term.Literal('Tom')), (rdflib.term.URIRef('http://www.semanticweb.org/tomk/ontologies/2022/11/a74ac3c0e5fa4a5aad36a800d7d41648'), rdflib.term.URIRef('http://www.w3.org/2000/01/rdf-schema#label'), rdflib.term.Literal('Freddie')), (rdflib.term.URIRef('http://www.semanticweb.org/tomk/ontologies/2022/11/f3c20564cc964cd9ba8e0f04aaeb8927'), rdflib.term.URIRef('http://www.w3.org/1999/02/22-rdf-syntax-ns#type'), rdflib.term.URIRef('http://www.semanticweb.org/tomk/ontologies/2023/6/sample#SubClassC')), (rdflib.term.URIRef('http://www.semanticweb.org/tomk/ontologies/2022/11/69881028fb26422abdb1bc915a87ade7'), rdflib.term.URIRef('http://www.w3.org/2000/01/rdf-schema#label'), rdflib.term.Literal('Human')), (rdflib.term.URIRef('http://www.semanticweb.org/tomk/ontologies/2022/11/2f6c834eec704165b54019e22f8ede4d'), rdflib.term.URIRef('http://www.w3.org/1999/02/22-rdf-syntax-ns#type'), rdflib.term.URIRef('http://www.semanticweb.org/tomk/ontologies/2023/6/sample#SubClassB')), (rdflib.term.URIRef('http://www.semanticweb.org/tomk/ontologies/2022/11/f3c20564cc964cd9ba8e0f04aaeb8927'), rdflib.term.URIRef('http://www.w3.org/1999/02/22-rdf-syntax-ns#type'), rdflib.term.URIRef('http://www.semanticweb.org/tomk/ontologies/2023/6/sample#someClass')), (rdflib.term.URIRef('http://www.semanticweb.org/tomk/ontologies/2022/11/7ede6aa395284642b4274c8ebd791dc3'), rdflib.term.URIRef('http://www.semanticweb.org/tomk/ontologies/2022/11/serialization#UniqueIdentifier'), rdflib.term.Literal('Human.Lisa')), (rdflib.term.URIRef('http://www.semanticweb.org/tomk/ontologies/2022/11/a74ac3c0e5fa4a5aad36a800d7d41648'), rdflib.term.URIRef('http://www.w3.org/1999/02/22-rdf-syntax-ns#type'), rdflib.term.URIRef('http://www.semanticweb.org/tomk/ontologies/2023/6/sample#someClass')), (rdflib.term.URIRef('http://www.semanticweb.org/tomk/ontologies/2022/11/2f6c834eec704165b54019e22f8ede4d'), rdflib.term.URIRef('http://www.w3.org/1999/02/22-rdf-syntax-ns#type'), rdflib.term.URIRef('http://www.semanticweb.org/tomk/ontologies/2023/6/sample#someClass')), (rdflib.term.URIRef('http://www.semanticweb.org/tomk/ontologies/2022/11/2f6c834eec704165b54019e22f8ede4d'), rdflib.term.URIRef('http://www.semanticweb.org/tomk/ontologies/2022/11/serialization#UniqueIdentifier'), rdflib.term.Literal('Human.Granny')), (rdflib.term.URIRef('http://www.semanticweb.org/tomk/ontologies/2022/11/f293a14a11684c91a819dcacb3b5596d'), rdflib.term.URIRef('http://www.semanticweb.org/tomk/ontologies/2022/11/serialization#UniqueIdentifier'), rdflib.term.Literal('Human.Grandad')), (rdflib.term.URIRef('http://www.semanticweb.org/tomk/ontologies/2022/11/7ede6aa395284642b4274c8ebd791dc3'), rdflib.term.URIRef('http://www.semanticweb.org/tomk/ontologies/2023/6/sample#someDataProperty'), rdflib.term.Literal('Test')), (rdflib.term.URIRef('http://www.semanticweb.org/tomk/ontologies/2022/11/69881028fb26422abdb1bc915a87ade7'), rdflib.term.URIRef('http://www.semanticweb.org/tomk/ontologies/2022/11/serialization#UniqueIdentifier'), rdflib.term.Literal('Human')), (rdflib.term.URIRef('http://www.semanticweb.org/tomk/ontologies/2022/11/7ede6aa395284642b4274c8ebd791dc3'), rdflib.term.URIRef('http://www.w3.org/1999/02/22-rdf-syntax-ns#type'), rdflib.term.URIRef('http://www.semanticweb.org/tomk/ontologies/2023/6/sample#SubClassA')), (rdflib.term.URIRef('http://www.semanticweb.org/tomk/ontologies/2022/11/7ede6aa395284642b4274c8ebd791dc3'), rdflib.term.URIRef('http://www.w3.org/2000/01/rdf-schema#label'), rdflib.term.Literal('Lisa')), (rdflib.term.URIRef('http://www.semanticweb.org/tomk/ontologies/2022/11/f293a14a11684c91a819dcacb3b5596d'), rdflib.term.URIRef('http://www.w3.org/1999/02/22-rdf-syntax-ns#type'), rdflib.term.URIRef('http://www.semanticweb.org/tomk/ontologies/2023/6/sample#SubClassA')), (rdflib.term.URIRef('http://www.semanticweb.org/tomk/ontologies/2022/11/f293a14a11684c91a819dcacb3b5596d'), rdflib.term.URIRef('http://www.semanticweb.org/tomk/ontologies/2023/6/sample#someDataProperty'), rdflib.term.Literal('Tony')), (rdflib.term.URIRef('http://www.semanticweb.org/tomk/ontologies/2022/11/f3c20564cc964cd9ba8e0f04aaeb8927'), rdflib.term.URIRef('http://www.w3.org/2000/01/rdf-schema#label'), rdflib.term.Literal('Me')), (rdflib.term.URIRef('http://www.semanticweb.org/tomk/ontologies/2022/11/2f6c834eec704165b54019e22f8ede4d'), rdflib.term.URIRef('http://www.semanticweb.org/tomk/ontologies/2023/6/sample#someDataProperty'), rdflib.term.Literal('Audrey')), (rdflib.term.URIRef('http://www.semanticweb.org/tomk/ontologies/2022/11/a74ac3c0e5fa4a5aad36a800d7d41648'), rdflib.term.URIRef('http://www.semanticweb.org/tomk/ontologies/2023/6/sample#someDataProperty'), rdflib.term.Literal('Fred')), (rdflib.term.URIRef('http://www.semanticweb.org/tomk/ontologies/2022/11/2f6c834eec704165b54019e22f8ede4d'), rdflib.term.URIRef('http://www.w3.org/2000/01/rdf-schema#label'), rdflib.term.Literal('Granny')), (rdflib.term.URIRef('http://www.semanticweb.org/tomk/ontologies/2022/11/a74ac3c0e5fa4a5aad36a800d7d41648'), rdflib.term.URIRef('http://www.semanticweb.org/tomk/ontologies/2022/11/serialization#UniqueIdentifier'), rdflib.term.Literal('Human.Freddie')), (rdflib.term.URIRef('http://www.semanticweb.org/tomk/ontologies/2022/11/f3c20564cc964cd9ba8e0f04aaeb8927'), rdflib.term.URIRef('http://www.semanticweb.org/tomk/ontologies/2022/11/serialization#UniqueIdentifier'), rdflib.term.Literal('Human.Me')), (rdflib.term.URIRef('http://www.semanticweb.org/tomk/ontologies/2022/11/a74ac3c0e5fa4a5aad36a800d7d41648'), rdflib.term.URIRef('http://www.w3.org/1999/02/22-rdf-syntax-ns#type'), rdflib.term.URIRef('http://www.semanticweb.org/tomk/ontologies/2023/6/sample#SubClassA')), (rdflib.term.URIRef('http://www.semanticweb.org/tomk/ontologies/2022/11/69881028fb26422abdb1bc915a87ade7'), rdflib.term.URIRef('http://www.w3.org/1999/02/22-rdf-syntax-ns#type'), rdflib.term.URIRef('http://www.semanticweb.org/tomk/ontologies/2023/6/sample#someClass')), (rdflib.term.URIRef('http://www.semanticweb.org/tomk/ontologies/2022/11/f293a14a11684c91a819dcacb3b5596d'), rdflib.term.URIRef('http://www.w3.org/1999/02/22-rdf-syntax-ns#type'), rdflib.term.URIRef('http://www.semanticweb.org/tomk/ontologies/2023/6/sample#someClass')), (rdflib.term.URIRef('http://www.semanticweb.org/tomk/ontologies/2022/11/f293a14a11684c91a819dcacb3b5596d'), rdflib.term.URIRef('http://www.w3.org/2000/01/rdf-schema#label'), rdflib.term.Literal('Grandad')), (rdflib.term.URIRef('http://www.semanticweb.org/tomk/ontologies/2022/11/7ede6aa395284642b4274c8ebd791dc3'), rdflib.term.URIRef('http://www.w3.org/1999/02/22-rdf-syntax-ns#type'), rdflib.term.URIRef('http://www.semanticweb.org/tomk/ontologies/2023/6/sample#someClass'))]\n",
      "self.members: 28\n",
      "0:00:00.030504 for 373 triples\n"
     ]
    },
    {
     "data": {
      "text/plain": [
       "True"
      ]
     },
     "execution_count": 20,
     "metadata": {},
     "output_type": "execute_result"
    }
   ],
   "source": [
    "md_p = meta_data_package_template( {\"created\" : \"2023-08-17\", \n",
    "                                   \"creator\" : \"tomk\", \n",
    "                                   \"description\" : \"Test sample serialization\", \n",
    "                                   \"title\" : \"test3\", \n",
    "                                   \"modified\" : \"2023-04-10\"})\n",
    "\n",
    "loader.load_to_graph(ds, sg_uri, \"Sample Serialisation\", rows, masterg_uri, discourseg_uri, \"sample test\", md_p, hash_discourse_mapping, override_duplicate=False)\n",
    "\n"
   ]
  },
  {
   "cell_type": "code",
   "execution_count": null,
   "metadata": {},
   "outputs": [],
   "source": [
    "#g = rdflib.Graph()\n",
    "#g.parse(\"sample_ser.rdf\")"
   ]
  },
  {
   "cell_type": "code",
   "execution_count": null,
   "metadata": {},
   "outputs": [],
   "source": [
    "sg.bind('ser', serialization.serial.base_iri, override=True, replace=True)\n",
    "q_results = sg.query(\"\"\"SELECT distinct ?s\n",
    "                                WHERE {\n",
    "                                ?s <rdf:type> ser:TranslationMapping .\n",
    "                                } \"\"\")\n",
    "pd.DataFrame(q_results)"
   ]
  },
  {
   "cell_type": "code",
   "execution_count": null,
   "metadata": {},
   "outputs": [],
   "source": [
    "title = \"Inventory ERD v2.0\"\n",
    "model_data = pd.read_csv(r\"../sample/inventory_v2.csv\", index_col=\"Sequence\", dtype=file_dtypes)\n",
    "rows = [dict({rk:get_field(rv) for rk, rv in r.items()}) for i,r in model_data.iterrows()]\n",
    "md_p = meta_data_package_template( {\"created\" : \"2023-04-11\", \n",
    "                                   \"creator\" : \"tomk\", \n",
    "                                   \"description\" : \"Sample ERD model version 2\", \n",
    "                                   \"title\" : \"inventory ERD\", \n",
    "                                   \"modified\" : \"2023-04-11\"})\n",
    "\n",
    "loader.load_to_graph(ds, sg_uri, \"EntityAttributeRecord\", rows, masterg_uri, discourseg_uri, title, md_p, hash_discourse_mapping, override_duplicate=False)\n",
    "\n"
   ]
  },
  {
   "cell_type": "code",
   "execution_count": null,
   "metadata": {},
   "outputs": [],
   "source": [
    "title = \"Inventory ERD v3.0\"\n",
    "model_data = pd.read_csv(r\"../sample/inventory_v3.csv\", index_col=\"Sequence\", dtype=file_dtypes)\n",
    "rows = [dict({rk:get_field(rv) for rk, rv in r.items()}) for i,r in model_data.iterrows()]\n",
    "md_p = meta_data_package_template( {\"created\" : \"2023-04-14\", \n",
    "                                   \"creator\" : \"tomk\", \n",
    "                                   \"description\" : \"Sample ERD model version 3\", \n",
    "                                   \"title\" : \"inventory ERD\", \n",
    "                                   \"modified\" : \"2023-04-14\"})\n",
    "\n",
    "loader.load_to_graph(ds, sg_uri, \"EntityAttributeRecord\", rows, masterg_uri, discourseg_uri, title, md_p, hash_discourse_mapping, override_duplicate=False)\n",
    "\n"
   ]
  },
  {
   "cell_type": "code",
   "execution_count": null,
   "metadata": {},
   "outputs": [],
   "source": [
    "# Step 1 - Tell me what discourses are available in the system"
   ]
  },
  {
   "cell_type": "code",
   "execution_count": null,
   "metadata": {},
   "outputs": [],
   "source": [
    "discourse_details_sparql = \"\"\"\n",
    "PREFIX rdf: <http://www.w3.org/1999/02/22-rdf-syntax-ns#>\n",
    "PREFIX disco: <http://www.semanticweb.org/tomk/ontologies/2022/11/discourse#> \n",
    "PREFIX dcterms: <http://purl.org/dc/terms/> \n",
    "PREFIX rdfs: <http://www.w3.org/2000/01/rdf-schema#> \n",
    "\n",
    "select ?g ?discourse ?name ?title ?description ?created ?hash (COUNT(?declaration) as ?declarations) (COUNT(distinct ?psubject) as ?entities)\n",
    "\n",
    "WHERE {\n",
    "  GRAPH ?g\n",
    "  {\n",
    "      ?discourse a disco:Discourse.\n",
    "      ?discourse dcterms:title ?title.\n",
    "      ?discourse rdfs:label ?name.\n",
    "      ?discourse dcterms:description ?description.\n",
    "      ?discourse dcterms:created ?created .\n",
    "      ?discourse disco:DiscourseHash ?hash .\n",
    "      ?discourse disco:DiscourseContains+ ?declaration .\n",
    "      ?declaration a disco:Declaration .\n",
    "      ?posit_type rdfs:subPropertyOf* disco:Posits .\n",
    "      ?declaration disco:Asserts ?assertion.\n",
    "      ?assertion disco:Subject ?psubject.\n",
    "  }\n",
    "}\n",
    "GROUP BY ?g ?discourse ?name ?title ?description ?created ?hash\n",
    "\"\"\"\n",
    "\n",
    "qr = ds.query(discourse_details_sparql)"
   ]
  },
  {
   "cell_type": "code",
   "execution_count": null,
   "metadata": {},
   "outputs": [],
   "source": [
    "discourse_df = pd.DataFrame(qr, columns=[v.n3()[1:] for v in qr.vars]).sort_values(by=\"created\")\n",
    "discourse_df"
   ]
  },
  {
   "cell_type": "code",
   "execution_count": null,
   "metadata": {},
   "outputs": [],
   "source": [
    "discourse_details_sparql = \"\"\"\n",
    "PREFIX rdf: <http://www.w3.org/1999/02/22-rdf-syntax-ns#>\n",
    "PREFIX disco: <http://www.semanticweb.org/tomk/ontologies/2022/11/discourse#> \n",
    "PREFIX dcterms: <http://purl.org/dc/terms/> \n",
    "PREFIX rdfs: <http://www.w3.org/2000/01/rdf-schema#> \n",
    "\n",
    "select ?g ?discourse ?name ?title ?description ?created ?hash (COUNT(?declaration) as ?declarations) (COUNT(distinct ?psubject) as ?entities)\n",
    "\n",
    "WHERE {\n",
    "  GRAPH ?g\n",
    "  {\n",
    "      ?discourse a disco:Discourse.\n",
    "      ?discourse dcterms:title ?title.\n",
    "      ?discourse rdfs:label ?name.\n",
    "      ?discourse dcterms:description ?description.\n",
    "      ?discourse dcterms:created ?created .\n",
    "      ?discourse disco:DiscourseHash ?hash .\n",
    "      ?discourse disco:DiscourseContains+ ?declaration .\n",
    "      ?declaration a disco:Declaration .\n",
    "      ?posit_type rdfs:subPropertyOf* disco:Posits .\n",
    "      ?declaration disco:Asserts ?assertion.\n",
    "      ?assertion disco:Subject ?psubject.\n",
    "  }\n",
    "}\n",
    "GROUP BY ?g ?discourse ?name ?title ?description ?created ?hash\n",
    "\"\"\"\n",
    "\n",
    "qr = ds.query(discourse_details_sparql)\n",
    "discourse_df = pd.DataFrame(qr, columns=[v.n3()[1:] for v in qr.vars]).sort_values(by=\"created\")\n",
    "discourse_df[\"hash_vals\"]=discourse_df['hash'].apply(lambda x : x.n3()[1:-1])\n",
    "discourse_df.set_index(\"discourse\", inplace=True)\n",
    "discourse_df\n",
    "hash_discourse_mapping = {v:k for k,v in dict(discourse_df['hash'].apply(lambda x : x.n3()[1:-1])).items()}\n"
   ]
  },
  {
   "cell_type": "code",
   "execution_count": null,
   "metadata": {},
   "outputs": [],
   "source": [
    "title = \"Inventory ERD v1.0\"\n",
    "model_data = pd.read_csv(r\"../sample/inventory_v1.csv\", index_col=\"Sequence\", dtype=file_dtypes)\n",
    "rows = [dict({rk:get_field(rv) for rk, rv in r.items()}) for i,r in model_data.iterrows()]\n",
    "md_p = meta_data_package_template( {\"created\" : \"2023-04-10\", \n",
    "                                   \"creator\" : \"tomk\", \n",
    "                                   \"description\" : \"Sample ERD model version 1\", \n",
    "                                   \"title\" : \"inventory ERD\", \n",
    "                                   \"modified\" : \"2023-04-10\"})\n",
    "\n",
    "loader.load_to_graph(ds, sg_uri, \"EntityAttributeRecord\", rows, masterg_uri, discourseg_uri, title, md_p, hash_discourse_mapping, override_duplicate=True)\n",
    "\n"
   ]
  },
  {
   "cell_type": "markdown",
   "metadata": {},
   "source": [
    "https://docs.data.world/tutorials/sparql/list-of-sparql-filter-functions.html"
   ]
  },
  {
   "cell_type": "code",
   "execution_count": 22,
   "metadata": {},
   "outputs": [
    {
     "data": {
      "text/html": [
       "<div>\n",
       "<style scoped>\n",
       "    .dataframe tbody tr th:only-of-type {\n",
       "        vertical-align: middle;\n",
       "    }\n",
       "\n",
       "    .dataframe tbody tr th {\n",
       "        vertical-align: top;\n",
       "    }\n",
       "\n",
       "    .dataframe thead th {\n",
       "        text-align: right;\n",
       "    }\n",
       "</style>\n",
       "<table border=\"1\" class=\"dataframe\">\n",
       "  <thead>\n",
       "    <tr style=\"text-align: right;\">\n",
       "      <th></th>\n",
       "      <th>g</th>\n",
       "      <th>name</th>\n",
       "      <th>title</th>\n",
       "      <th>description</th>\n",
       "      <th>created</th>\n",
       "      <th>hash</th>\n",
       "      <th>declarations</th>\n",
       "      <th>entities</th>\n",
       "      <th>hash_vals</th>\n",
       "    </tr>\n",
       "    <tr>\n",
       "      <th>discourse</th>\n",
       "      <th></th>\n",
       "      <th></th>\n",
       "      <th></th>\n",
       "      <th></th>\n",
       "      <th></th>\n",
       "      <th></th>\n",
       "      <th></th>\n",
       "      <th></th>\n",
       "      <th></th>\n",
       "    </tr>\n",
       "  </thead>\n",
       "  <tbody>\n",
       "    <tr>\n",
       "      <th>http://www.semanticweb.org/tomk/ontologies/2022/11/a91d420770c0491e8dd433247dfdff71</th>\n",
       "      <td>http://discourse</td>\n",
       "      <td>discourse_sample test</td>\n",
       "      <td>test3</td>\n",
       "      <td>Test sample serialization</td>\n",
       "      <td>2023-08-17</td>\n",
       "      <td>6889242f6d41-ca26-5156-3cc6d78e7e65</td>\n",
       "      <td>28</td>\n",
       "      <td>6</td>\n",
       "      <td>6889242f6d41-ca26-5156-3cc6d78e7e65</td>\n",
       "    </tr>\n",
       "  </tbody>\n",
       "</table>\n",
       "</div>"
      ],
      "text/plain": [
       "                                                                   g  \\\n",
       "discourse                                                              \n",
       "http://www.semanticweb.org/tomk/ontologies/2022...  http://discourse   \n",
       "\n",
       "                                                                     name  \\\n",
       "discourse                                                                   \n",
       "http://www.semanticweb.org/tomk/ontologies/2022...  discourse_sample test   \n",
       "\n",
       "                                                    title  \\\n",
       "discourse                                                   \n",
       "http://www.semanticweb.org/tomk/ontologies/2022...  test3   \n",
       "\n",
       "                                                                  description  \\\n",
       "discourse                                                                       \n",
       "http://www.semanticweb.org/tomk/ontologies/2022...  Test sample serialization   \n",
       "\n",
       "                                                       created  \\\n",
       "discourse                                                        \n",
       "http://www.semanticweb.org/tomk/ontologies/2022...  2023-08-17   \n",
       "\n",
       "                                                                                   hash  \\\n",
       "discourse                                                                                 \n",
       "http://www.semanticweb.org/tomk/ontologies/2022...  6889242f6d41-ca26-5156-3cc6d78e7e65   \n",
       "\n",
       "                                                   declarations entities  \\\n",
       "discourse                                                                  \n",
       "http://www.semanticweb.org/tomk/ontologies/2022...           28        6   \n",
       "\n",
       "                                                                              hash_vals  \n",
       "discourse                                                                                \n",
       "http://www.semanticweb.org/tomk/ontologies/2022...  6889242f6d41-ca26-5156-3cc6d78e7e65  "
      ]
     },
     "execution_count": 22,
     "metadata": {},
     "output_type": "execute_result"
    }
   ],
   "source": [
    "discourse_details_sparql = \"\"\"\n",
    "PREFIX rdf: <http://www.w3.org/1999/02/22-rdf-syntax-ns#>\n",
    "PREFIX disco: <http://www.semanticweb.org/tomk/ontologies/2022/11/discourse#> \n",
    "PREFIX dcterms: <http://purl.org/dc/terms/> \n",
    "PREFIX rdfs: <http://www.w3.org/2000/01/rdf-schema#> \n",
    "\n",
    "select ?g ?discourse ?name ?title ?description ?created ?hash (COUNT(?declaration) as ?declarations) (COUNT(distinct ?psubject) as ?entities)\n",
    "\n",
    "WHERE {\n",
    "  GRAPH ?g\n",
    "  {\n",
    "      ?discourse a disco:Discourse.\n",
    "      ?discourse dcterms:title ?title.\n",
    "      ?discourse rdfs:label ?name.\n",
    "      ?discourse dcterms:description ?description.\n",
    "      ?discourse dcterms:created ?created .\n",
    "      ?discourse disco:DiscourseHash ?hash .\n",
    "      ?discourse disco:DiscourseContains+ ?declaration .\n",
    "      ?declaration a disco:Declaration .\n",
    "      ?posit_type rdfs:subPropertyOf* disco:Posits .\n",
    "      ?declaration disco:Asserts ?assertion.\n",
    "      ?assertion disco:Subject ?psubject.\n",
    "  }\n",
    "}\n",
    "GROUP BY ?g ?discourse ?name ?title ?description ?created ?hash\n",
    "\"\"\"\n",
    "\n",
    "qr = ds.query(discourse_details_sparql)\n",
    "discourse_df = pd.DataFrame(qr, columns=[v.n3()[1:] for v in qr.vars]).sort_values(by=\"created\")\n",
    "discourse_df[\"hash_vals\"]=discourse_df['hash'].apply(lambda x : x.n3()[1:-1])\n",
    "discourse_df.set_index(\"discourse\", inplace=True)\n",
    "discourse_df\n",
    "#hash_discourse_mapping = {v:k for k,v in dict(discourse_df['hash'].apply(lambda x : x.n3()[1:-1])).items()}\n",
    "discourse_df"
   ]
  },
  {
   "cell_type": "code",
   "execution_count": 23,
   "metadata": {},
   "outputs": [
    {
     "data": {
      "text/plain": [
       "[rdflib.term.URIRef('http://www.semanticweb.org/tomk/ontologies/2022/11/a91d420770c0491e8dd433247dfdff71')]"
      ]
     },
     "execution_count": 23,
     "metadata": {},
     "output_type": "execute_result"
    }
   ],
   "source": [
    "discourses = list(discourse_df.index)\n",
    "discourses"
   ]
  },
  {
   "cell_type": "code",
   "execution_count": 24,
   "metadata": {},
   "outputs": [
    {
     "ename": "NameError",
     "evalue": "name 'd82658e7a30c497a9a341890208d6d47' is not defined",
     "output_type": "error",
     "traceback": [
      "\u001b[0;31m---------------------------------------------------------------------------\u001b[0m",
      "\u001b[0;31mNameError\u001b[0m                                 Traceback (most recent call last)",
      "Cell \u001b[0;32mIn [24], line 1\u001b[0m\n\u001b[0;32m----> 1\u001b[0m \u001b[43md82658e7a30c497a9a341890208d6d47\u001b[49m\n",
      "\u001b[0;31mNameError\u001b[0m: name 'd82658e7a30c497a9a341890208d6d47' is not defined"
     ]
    }
   ],
   "source": [
    "d82658e7a30c497a9a341890208d6d47"
   ]
  },
  {
   "cell_type": "code",
   "execution_count": 25,
   "metadata": {},
   "outputs": [
    {
     "data": {
      "text/html": [
       "<div>\n",
       "<style scoped>\n",
       "    .dataframe tbody tr th:only-of-type {\n",
       "        vertical-align: middle;\n",
       "    }\n",
       "\n",
       "    .dataframe tbody tr th {\n",
       "        vertical-align: top;\n",
       "    }\n",
       "\n",
       "    .dataframe thead th {\n",
       "        text-align: right;\n",
       "    }\n",
       "</style>\n",
       "<table border=\"1\" class=\"dataframe\">\n",
       "  <thead>\n",
       "    <tr style=\"text-align: right;\">\n",
       "      <th></th>\n",
       "      <th></th>\n",
       "      <th>a</th>\n",
       "      <th>r</th>\n",
       "      <th>p</th>\n",
       "    </tr>\n",
       "    <tr>\n",
       "      <th>g</th>\n",
       "      <th>d</th>\n",
       "      <th></th>\n",
       "      <th></th>\n",
       "      <th></th>\n",
       "    </tr>\n",
       "  </thead>\n",
       "  <tbody>\n",
       "    <tr>\n",
       "      <th>http://discourse</th>\n",
       "      <th>http://www.semanticweb.org/tomk/ontologies/2022/11/a91d420770c0491e8dd433247dfdff71</th>\n",
       "      <td>{http://www.semanticweb.org/tomk/ontologies/20...</td>\n",
       "      <td>{None}</td>\n",
       "      <td>{None}</td>\n",
       "    </tr>\n",
       "  </tbody>\n",
       "</table>\n",
       "</div>"
      ],
      "text/plain": [
       "                                                                                                                     a  \\\n",
       "g                d                                                                                                       \n",
       "http://discourse http://www.semanticweb.org/tomk/ontologies/2022...  {http://www.semanticweb.org/tomk/ontologies/20...   \n",
       "\n",
       "                                                                          r  \\\n",
       "g                d                                                            \n",
       "http://discourse http://www.semanticweb.org/tomk/ontologies/2022...  {None}   \n",
       "\n",
       "                                                                          p  \n",
       "g                d                                                           \n",
       "http://discourse http://www.semanticweb.org/tomk/ontologies/2022...  {None}  "
      ]
     },
     "execution_count": 25,
     "metadata": {},
     "output_type": "execute_result"
    }
   ],
   "source": [
    "\n",
    "\n",
    "get_discourse_posits_sparql = \"\"\"\n",
    "\n",
    "PREFIX rdf: <http://www.w3.org/1999/02/22-rdf-syntax-ns#>\n",
    "PREFIX disco: <http://www.semanticweb.org/tomk/ontologies/2022/11/discourse#> \n",
    "PREFIX dcterms: <http://purl.org/dc/terms/> \n",
    "PREFIX rdfs: <http://www.w3.org/2000/01/rdf-schema#> \n",
    "\n",
    "\n",
    "select ?g ?discourse ?a ?r ?p\n",
    "WHERE {\n",
    "  GRAPH ?g\n",
    "  {\n",
    "      ?discourse a disco:Discourse.\n",
    "      ?discourse disco:DiscourseContains+ ?declaration .\n",
    "      ?declaration a disco:Declaration .\n",
    "        OPTIONAL { ?declaration disco:Asserts ?a. \n",
    "                   }\n",
    "        OPTIONAL { ?declaration disco:Refutes ?r. \n",
    "                   }\n",
    "        OPTIONAL { ?declaration disco:Posits ?p. \n",
    "        }\n",
    "      \n",
    "  }\n",
    "}\n",
    "\n",
    "\"\"\"\n",
    "\n",
    "qr = ds.query(get_discourse_posits_sparql)\n",
    "\n",
    "pd.DataFrame(qr, columns=[\"g\",\"d\",\"a\",\"r\",\"p\"]).groupby([\"g\",\"d\"]).agg(set)#.iloc[2]['a']\n"
   ]
  },
  {
   "cell_type": "code",
   "execution_count": 26,
   "metadata": {},
   "outputs": [],
   "source": [
    "av = pd.DataFrame(qr, columns=[\"g\",\"d\",\"a\",\"r\",\"p\"]).groupby([\"g\",\"d\"]).agg(set)[['a']].values\n",
    "for i,x in enumerate(av):\n",
    "    for j,y in enumerate(av):\n",
    "        if i!=j:\n",
    "            print((i,j),len(set(x[0]).difference(set(y[0]))), len(set(x[0]).intersection(set(y[0]))), len(set(y[0]).difference(set(x[0]))))\n",
    "        "
   ]
  },
  {
   "cell_type": "code",
   "execution_count": 27,
   "metadata": {},
   "outputs": [],
   "source": [
    "# Given two discourse urls, d1, d2, pull all the discourse-data associated \n",
    "# - including the reified triples they reference\n",
    "\n",
    "\n",
    "get_posits_by_discourse_sparql = \"\"\"\n",
    "\n",
    "PREFIX rdf: <http://www.w3.org/1999/02/22-rdf-syntax-ns#>\n",
    "PREFIX disco: <http://www.semanticweb.org/tomk/ontologies/2022/11/discourse#> \n",
    "PREFIX dcterms: <http://purl.org/dc/terms/> \n",
    "PREFIX rdfs: <http://www.w3.org/2000/01/rdf-schema#> \n",
    "\n",
    "select ?g ?discourse ?assertion ?refutation ?posit ?s ?p ?o\n",
    "WHERE {\n",
    "  GRAPH ?g\n",
    "  {\n",
    "      ?discourse a disco:Discourse.\n",
    "      ?discourse disco:DiscourseContains+ ?declaration .\n",
    "      ?declaration a disco:Declaration .\n",
    "        OPTIONAL { ?declaration disco:Asserts ?assertion. \n",
    "                   ?assertion disco:Subject ?s.\n",
    "                   ?assertion disco:Predicate ?p.\n",
    "                   ?assertion disco:Object ?o.\n",
    "                   }\n",
    "        OPTIONAL { ?declaration disco:Refutes ?refutation. \n",
    "                   ?refutation disco:Subject ?s.\n",
    "                   ?refutation disco:Predicate ?p.\n",
    "                   ?refutation disco:Object ?o.\n",
    "                   }\n",
    "        OPTIONAL { ?declaration disco:Posits ?posit. \n",
    "                   ?posit disco:Subject ?s.\n",
    "                   ?posit disco:Predicate ?p.\n",
    "                   ?posit disco:Object ?o.\n",
    "        }\n",
    "      FILTER (?discourse IN ( %%d1%%, %%d2%% )) .\n",
    "      \n",
    "  }\n",
    "}\n",
    "\n",
    "\"\"\".replace(\"%%d1%%\",discourses[0].n3()).replace(\"%%d2%%\", discourses[0].n3())\n",
    "\n",
    "qr = ds.query(get_posits_by_discourse_sparql)"
   ]
  },
  {
   "cell_type": "code",
   "execution_count": 28,
   "metadata": {},
   "outputs": [
    {
     "data": {
      "text/plain": [
       "['?g', '?discourse', '?assertion', '?refutation', '?posit', '?s', '?p', '?o']"
      ]
     },
     "execution_count": 28,
     "metadata": {},
     "output_type": "execute_result"
    }
   ],
   "source": [
    "[v.n3() for v in qr.vars]"
   ]
  },
  {
   "cell_type": "code",
   "execution_count": 29,
   "metadata": {},
   "outputs": [
    {
     "data": {
      "text/plain": [
       "{rdflib.term.URIRef('http://www.semanticweb.org/tomk/ontologies/2022/11/a91d420770c0491e8dd433247dfdff71')}"
      ]
     },
     "execution_count": 29,
     "metadata": {},
     "output_type": "execute_result"
    }
   ],
   "source": [
    "def return_vars(var_cols):\n",
    "    if store_type==\"memory\":\n",
    "        varpul=lambda x : x[1:]\n",
    "    else:\n",
    "        varpul=lambda x : x\n",
    "    return [varpul(v.n3())for v in var_cols]\n",
    "    \n",
    "discourse_contents = pd.DataFrame(qr, columns=return_vars(qr.vars))#.sort_values(by=\"discourse\")\n",
    "set(discourse_contents['discourse'])\n",
    "#discourse_contents"
   ]
  },
  {
   "cell_type": "code",
   "execution_count": 30,
   "metadata": {},
   "outputs": [
    {
     "data": {
      "text/plain": [
       "{rdflib.term.URIRef('http://www.semanticweb.org/tomk/ontologies/2022/11/serialization#UniqueIdentifier'),\n",
       " rdflib.term.URIRef('http://www.semanticweb.org/tomk/ontologies/2023/6/sample#someDataProperty'),\n",
       " rdflib.term.URIRef('http://www.w3.org/1999/02/22-rdf-syntax-ns#type'),\n",
       " rdflib.term.URIRef('http://www.w3.org/2000/01/rdf-schema#label')}"
      ]
     },
     "execution_count": 30,
     "metadata": {},
     "output_type": "execute_result"
    }
   ],
   "source": [
    "set(discourse_contents.set_index(\"discourse\").loc[rdflib.term.URIRef('http://www.semanticweb.org/tomk/ontologies/2022/11/a91d420770c0491e8dd433247dfdff71')]['p'].values)"
   ]
  },
  {
   "cell_type": "code",
   "execution_count": 31,
   "metadata": {},
   "outputs": [],
   "source": [
    "discourse_contents['triple'] = discourse_contents.apply(lambda x : tuple([x['s'], x['p'], x['o']]), axis=1)"
   ]
  },
  {
   "cell_type": "code",
   "execution_count": 32,
   "metadata": {},
   "outputs": [],
   "source": [
    "d_set_d = discourse_contents.groupby(['discourse'])['triple'].agg(set).to_dict()\n",
    "\n",
    "\n",
    "#d_set_d = discourse_contents.groupby(['discourse']).agg(set).to_dict()\n"
   ]
  },
  {
   "cell_type": "code",
   "execution_count": 33,
   "metadata": {},
   "outputs": [
    {
     "data": {
      "text/plain": [
       "[rdflib.term.URIRef('http://www.semanticweb.org/tomk/ontologies/2022/11/a91d420770c0491e8dd433247dfdff71')]"
      ]
     },
     "execution_count": 33,
     "metadata": {},
     "output_type": "execute_result"
    }
   ],
   "source": [
    "key_l = list(d_set_d.keys())\n",
    "key_l"
   ]
  },
  {
   "cell_type": "code",
   "execution_count": 34,
   "metadata": {},
   "outputs": [],
   "source": [
    "def diffset(S1, S2):\n",
    "    # Given two input sets, s1 and s2, return the Left difference, Intersection and Right difference between them\n",
    "    L = S1.difference(S2)\n",
    "    I = S1.intersection(S2)\n",
    "    R = S2.difference(S1)\n",
    "    return L,I,R\n",
    "\n",
    "def LIR_to_lookup(L,I,R):\n",
    "    # Given three input sets of triples, recombine them into a single\n",
    "    # dictionary, where each triple acts as a key, referencing a string\n",
    "    # value in the set {\"L\", \"I\", \"R\"} to return the source of the triple\n",
    "    # The same effect could be performed by running a series of 'in' tests\n",
    "    # to see which set a given triple resides, but here a dictionary is \n",
    "    # provided to support this operation.\n",
    "    lir_dict = {}\n",
    "    lir_labels = [\"L\",\"I\",\"R\"]\n",
    "    for e,d in enumerate([L,I,R]):\n",
    "        for t in d:\n",
    "            lir_dict[t]=lir_labels[e]\n",
    "    return lir_dict\n",
    "    "
   ]
  },
  {
   "cell_type": "code",
   "execution_count": 35,
   "metadata": {},
   "outputs": [],
   "source": [
    "import hashlib"
   ]
  },
  {
   "cell_type": "code",
   "execution_count": 36,
   "metadata": {},
   "outputs": [
    {
     "name": "stdout",
     "output_type": "stream",
     "text": [
      "(left_diff, intersection, right_diff)\n"
     ]
    },
    {
     "data": {
      "text/plain": [
       "{(rdflib.term.URIRef('http://www.semanticweb.org/tomk/ontologies/2022/11/7ede6aa395284642b4274c8ebd791dc3'),\n",
       "  rdflib.term.URIRef('http://www.w3.org/1999/02/22-rdf-syntax-ns#type'),\n",
       "  rdflib.term.URIRef('http://www.semanticweb.org/tomk/ontologies/2023/6/sample#someClass')): 'I',\n",
       " (rdflib.term.URIRef('http://www.semanticweb.org/tomk/ontologies/2022/11/f3c20564cc964cd9ba8e0f04aaeb8927'),\n",
       "  rdflib.term.URIRef('http://www.w3.org/2000/01/rdf-schema#label'),\n",
       "  rdflib.term.Literal('Me')): 'I',\n",
       " (rdflib.term.URIRef('http://www.semanticweb.org/tomk/ontologies/2022/11/f3c20564cc964cd9ba8e0f04aaeb8927'),\n",
       "  rdflib.term.URIRef('http://www.semanticweb.org/tomk/ontologies/2023/6/sample#someDataProperty'),\n",
       "  rdflib.term.Literal('Tom')): 'I',\n",
       " (rdflib.term.URIRef('http://www.semanticweb.org/tomk/ontologies/2022/11/a74ac3c0e5fa4a5aad36a800d7d41648'),\n",
       "  rdflib.term.URIRef('http://www.w3.org/2000/01/rdf-schema#label'),\n",
       "  rdflib.term.Literal('Freddie')): 'I',\n",
       " (rdflib.term.URIRef('http://www.semanticweb.org/tomk/ontologies/2022/11/2f6c834eec704165b54019e22f8ede4d'),\n",
       "  rdflib.term.URIRef('http://www.semanticweb.org/tomk/ontologies/2023/6/sample#someDataProperty'),\n",
       "  rdflib.term.Literal('Audrey')): 'I',\n",
       " (rdflib.term.URIRef('http://www.semanticweb.org/tomk/ontologies/2022/11/f3c20564cc964cd9ba8e0f04aaeb8927'),\n",
       "  rdflib.term.URIRef('http://www.w3.org/1999/02/22-rdf-syntax-ns#type'),\n",
       "  rdflib.term.URIRef('http://www.semanticweb.org/tomk/ontologies/2023/6/sample#SubClassC')): 'I',\n",
       " (rdflib.term.URIRef('http://www.semanticweb.org/tomk/ontologies/2022/11/a74ac3c0e5fa4a5aad36a800d7d41648'),\n",
       "  rdflib.term.URIRef('http://www.semanticweb.org/tomk/ontologies/2023/6/sample#someDataProperty'),\n",
       "  rdflib.term.Literal('Fred')): 'I',\n",
       " (rdflib.term.URIRef('http://www.semanticweb.org/tomk/ontologies/2022/11/2f6c834eec704165b54019e22f8ede4d'),\n",
       "  rdflib.term.URIRef('http://www.w3.org/2000/01/rdf-schema#label'),\n",
       "  rdflib.term.Literal('Granny')): 'I',\n",
       " (rdflib.term.URIRef('http://www.semanticweb.org/tomk/ontologies/2022/11/69881028fb26422abdb1bc915a87ade7'),\n",
       "  rdflib.term.URIRef('http://www.w3.org/2000/01/rdf-schema#label'),\n",
       "  rdflib.term.Literal('Human')): 'I',\n",
       " (rdflib.term.URIRef('http://www.semanticweb.org/tomk/ontologies/2022/11/2f6c834eec704165b54019e22f8ede4d'),\n",
       "  rdflib.term.URIRef('http://www.w3.org/1999/02/22-rdf-syntax-ns#type'),\n",
       "  rdflib.term.URIRef('http://www.semanticweb.org/tomk/ontologies/2023/6/sample#SubClassB')): 'I',\n",
       " (rdflib.term.URIRef('http://www.semanticweb.org/tomk/ontologies/2022/11/a74ac3c0e5fa4a5aad36a800d7d41648'),\n",
       "  rdflib.term.URIRef('http://www.semanticweb.org/tomk/ontologies/2022/11/serialization#UniqueIdentifier'),\n",
       "  rdflib.term.Literal('Human.Freddie')): 'I',\n",
       " (rdflib.term.URIRef('http://www.semanticweb.org/tomk/ontologies/2022/11/f3c20564cc964cd9ba8e0f04aaeb8927'),\n",
       "  rdflib.term.URIRef('http://www.w3.org/1999/02/22-rdf-syntax-ns#type'),\n",
       "  rdflib.term.URIRef('http://www.semanticweb.org/tomk/ontologies/2023/6/sample#someClass')): 'I',\n",
       " (rdflib.term.URIRef('http://www.semanticweb.org/tomk/ontologies/2022/11/f3c20564cc964cd9ba8e0f04aaeb8927'),\n",
       "  rdflib.term.URIRef('http://www.semanticweb.org/tomk/ontologies/2022/11/serialization#UniqueIdentifier'),\n",
       "  rdflib.term.Literal('Human.Me')): 'I',\n",
       " (rdflib.term.URIRef('http://www.semanticweb.org/tomk/ontologies/2022/11/7ede6aa395284642b4274c8ebd791dc3'),\n",
       "  rdflib.term.URIRef('http://www.semanticweb.org/tomk/ontologies/2022/11/serialization#UniqueIdentifier'),\n",
       "  rdflib.term.Literal('Human.Lisa')): 'I',\n",
       " (rdflib.term.URIRef('http://www.semanticweb.org/tomk/ontologies/2022/11/a74ac3c0e5fa4a5aad36a800d7d41648'),\n",
       "  rdflib.term.URIRef('http://www.w3.org/1999/02/22-rdf-syntax-ns#type'),\n",
       "  rdflib.term.URIRef('http://www.semanticweb.org/tomk/ontologies/2023/6/sample#someClass')): 'I',\n",
       " (rdflib.term.URIRef('http://www.semanticweb.org/tomk/ontologies/2022/11/2f6c834eec704165b54019e22f8ede4d'),\n",
       "  rdflib.term.URIRef('http://www.w3.org/1999/02/22-rdf-syntax-ns#type'),\n",
       "  rdflib.term.URIRef('http://www.semanticweb.org/tomk/ontologies/2023/6/sample#someClass')): 'I',\n",
       " (rdflib.term.URIRef('http://www.semanticweb.org/tomk/ontologies/2022/11/a74ac3c0e5fa4a5aad36a800d7d41648'),\n",
       "  rdflib.term.URIRef('http://www.w3.org/1999/02/22-rdf-syntax-ns#type'),\n",
       "  rdflib.term.URIRef('http://www.semanticweb.org/tomk/ontologies/2023/6/sample#SubClassA')): 'I',\n",
       " (rdflib.term.URIRef('http://www.semanticweb.org/tomk/ontologies/2022/11/2f6c834eec704165b54019e22f8ede4d'),\n",
       "  rdflib.term.URIRef('http://www.semanticweb.org/tomk/ontologies/2022/11/serialization#UniqueIdentifier'),\n",
       "  rdflib.term.Literal('Human.Granny')): 'I',\n",
       " (rdflib.term.URIRef('http://www.semanticweb.org/tomk/ontologies/2022/11/f293a14a11684c91a819dcacb3b5596d'),\n",
       "  rdflib.term.URIRef('http://www.semanticweb.org/tomk/ontologies/2022/11/serialization#UniqueIdentifier'),\n",
       "  rdflib.term.Literal('Human.Grandad')): 'I',\n",
       " (rdflib.term.URIRef('http://www.semanticweb.org/tomk/ontologies/2022/11/7ede6aa395284642b4274c8ebd791dc3'),\n",
       "  rdflib.term.URIRef('http://www.semanticweb.org/tomk/ontologies/2023/6/sample#someDataProperty'),\n",
       "  rdflib.term.Literal('Test')): 'I',\n",
       " (rdflib.term.URIRef('http://www.semanticweb.org/tomk/ontologies/2022/11/69881028fb26422abdb1bc915a87ade7'),\n",
       "  rdflib.term.URIRef('http://www.semanticweb.org/tomk/ontologies/2022/11/serialization#UniqueIdentifier'),\n",
       "  rdflib.term.Literal('Human')): 'I',\n",
       " (rdflib.term.URIRef('http://www.semanticweb.org/tomk/ontologies/2022/11/69881028fb26422abdb1bc915a87ade7'),\n",
       "  rdflib.term.URIRef('http://www.w3.org/1999/02/22-rdf-syntax-ns#type'),\n",
       "  rdflib.term.URIRef('http://www.semanticweb.org/tomk/ontologies/2023/6/sample#someClass')): 'I',\n",
       " (rdflib.term.URIRef('http://www.semanticweb.org/tomk/ontologies/2022/11/7ede6aa395284642b4274c8ebd791dc3'),\n",
       "  rdflib.term.URIRef('http://www.w3.org/1999/02/22-rdf-syntax-ns#type'),\n",
       "  rdflib.term.URIRef('http://www.semanticweb.org/tomk/ontologies/2023/6/sample#SubClassA')): 'I',\n",
       " (rdflib.term.URIRef('http://www.semanticweb.org/tomk/ontologies/2022/11/f293a14a11684c91a819dcacb3b5596d'),\n",
       "  rdflib.term.URIRef('http://www.w3.org/1999/02/22-rdf-syntax-ns#type'),\n",
       "  rdflib.term.URIRef('http://www.semanticweb.org/tomk/ontologies/2023/6/sample#someClass')): 'I',\n",
       " (rdflib.term.URIRef('http://www.semanticweb.org/tomk/ontologies/2022/11/f293a14a11684c91a819dcacb3b5596d'),\n",
       "  rdflib.term.URIRef('http://www.w3.org/2000/01/rdf-schema#label'),\n",
       "  rdflib.term.Literal('Grandad')): 'I',\n",
       " (rdflib.term.URIRef('http://www.semanticweb.org/tomk/ontologies/2022/11/7ede6aa395284642b4274c8ebd791dc3'),\n",
       "  rdflib.term.URIRef('http://www.w3.org/2000/01/rdf-schema#label'),\n",
       "  rdflib.term.Literal('Lisa')): 'I',\n",
       " (rdflib.term.URIRef('http://www.semanticweb.org/tomk/ontologies/2022/11/f293a14a11684c91a819dcacb3b5596d'),\n",
       "  rdflib.term.URIRef('http://www.w3.org/1999/02/22-rdf-syntax-ns#type'),\n",
       "  rdflib.term.URIRef('http://www.semanticweb.org/tomk/ontologies/2023/6/sample#SubClassA')): 'I',\n",
       " (rdflib.term.URIRef('http://www.semanticweb.org/tomk/ontologies/2022/11/f293a14a11684c91a819dcacb3b5596d'),\n",
       "  rdflib.term.URIRef('http://www.semanticweb.org/tomk/ontologies/2023/6/sample#someDataProperty'),\n",
       "  rdflib.term.Literal('Tony')): 'I'}"
      ]
     },
     "execution_count": 36,
     "metadata": {},
     "output_type": "execute_result"
    }
   ],
   "source": [
    "print(\"(left_diff, intersection, right_diff)\")\n",
    "s1,s2 = d_set_d[key_l[0]], d_set_d[key_l[0]]\n",
    "diffs = diffset(s1,s2)\n",
    "[len(d) for d in diffs], len(s1), len(s2)\n",
    "LIR_to_lookup(*diffs)"
   ]
  },
  {
   "cell_type": "code",
   "execution_count": 37,
   "metadata": {},
   "outputs": [],
   "source": [
    "def get_atom_set(triple_set, indx):\n",
    "    subjects=set()\n",
    "    for t in triple_set:\n",
    "        subjects.add(t[indx])\n",
    "    return subjects\n",
    "\n",
    "def get_subjects(triple_set):\n",
    "    return get_atom_set(triple_set, 0)\n",
    "\n",
    "def get_predicates(triple_set):\n",
    "    return get_atom_set(triple_set, 1)\n",
    "\n",
    "def get_objects(triple_set):\n",
    "    return get_atom_set(triple_set, 2)\n",
    "\n",
    "def get_type_atoms(triple_set, indx):\n",
    "    typed=set()\n",
    "    for t in triple_set:\n",
    "        if t[1]==URIRef(\"http://www.w3.org/1999/02/22-rdf-syntax-ns#type\"):\n",
    "            typed.add(t[indx])\n",
    "    return typed\n",
    "\n",
    "def filter_type_triples(triple_set):\n",
    "    typed=set()\n",
    "    for t in triple_set:\n",
    "        if t[1]==URIRef(\"http://www.w3.org/1999/02/22-rdf-syntax-ns#type\"):\n",
    "            typed.add(t)\n",
    "    return typed\n",
    "    \n",
    "\n",
    "def get_types(triple_set):\n",
    "    return get_type_atoms(triple_set, 2)\n",
    "\n",
    "def get_typed_objects(triple_set):\n",
    "    return get_type_atoms(triple_set, 0)\n"
   ]
  },
  {
   "cell_type": "code",
   "execution_count": 38,
   "metadata": {},
   "outputs": [],
   "source": [
    "def _addN(graph, triples):\n",
    "    for t in triples:\n",
    "        graph.add(t)\n",
    "    return graph\n",
    "\n",
    "# Feed diffset split sets of SPO triples\n",
    "def visualise_ERD_diffset(L, I, R):\n",
    "#    L = original only\n",
    "#    I = both\n",
    "#    R = new only\n",
    "    lir_graphs = _addN(Graph(), L), _addN(Graph(), I), _addN(Graph(), R)\n",
    "    # Extract identifiers for all main model components\n",
    "    lir_entities = [[s for s,p,o in gg.triples((None, URIRef('http://www.w3.org/1999/02/22-rdf-syntax-ns#type'), URIRef('http://www.semanticweb.org/tomk/ontologies/2022/9/datamodel#Class')))] for gg in lir_graphs]\n",
    "    lir_attributes = [[s for s,p,o in gg.triples((None, URIRef('http://www.w3.org/1999/02/22-rdf-syntax-ns#type'), URIRef('http://www.semanticweb.org/tomk/ontologies/2022/9/datamodel#Attribute')))] for gg in lir_graphs]\n",
    "    \n",
    "    print(lir_entities, \"\\n\\n\", lir_models)\n",
    "    return l_graph\n",
    "    \n",
    "\n",
    "\n",
    "def process_diffs(S1, S2):\n",
    "    # Accepting two sets of triples as input, \n",
    "    # Decompose into a dictionary keyed on rdf:type whose values \n",
    "    # are the subjects of those types, segmented into L,I,R \n",
    "    # { rdf:type : ( subject, {L,I,R}label)}\n",
    "    # From there, the user can cycle over entities of interest\n",
    "    \n",
    "    rdftype_uri = URIRef('http://www.w3.org/1999/02/22-rdf-syntax-ns#type')\n",
    "    U = S1.union(S2)\n",
    "    class_d = LIR_to_lookup(*diffset(S1, S2))\n",
    "    U_g = _addN(Graph(),U)\n",
    "    type_s = get_types(U)\n",
    "    t_subjs={}\n",
    "    for t in type_s: # Create a dictionary, whose keys are type, and whose values are the subjects of those types.\n",
    "        t_subjs[t]=[(s,class_d[(s,p,o)]) for s,p,o in U_g.triples((None, rdftype_uri, t))]\n",
    "        \n",
    "\n",
    "    mdk = rdflib.term.URIRef('http://www.semanticweb.org/tomk/ontologies/2022/9/datamodel#Class')\n",
    "    for v in t_subjs[mdk]: \n",
    "        t_list = list(U_g.triples((v[0], None, None)))\n",
    "        #print(t_list)\n",
    "    \n",
    "    \n",
    "    return t_subjs\n"
   ]
  },
  {
   "cell_type": "code",
   "execution_count": 39,
   "metadata": {},
   "outputs": [
    {
     "ename": "KeyError",
     "evalue": "rdflib.term.URIRef('http://www.semanticweb.org/tomk/ontologies/2022/9/datamodel#Class')",
     "output_type": "error",
     "traceback": [
      "\u001b[0;31m---------------------------------------------------------------------------\u001b[0m",
      "\u001b[0;31mKeyError\u001b[0m                                  Traceback (most recent call last)",
      "Cell \u001b[0;32mIn [39], line 1\u001b[0m\n\u001b[0;32m----> 1\u001b[0m t_subjs \u001b[38;5;241m=\u001b[39m \u001b[43mprocess_diffs\u001b[49m\u001b[43m(\u001b[49m\u001b[43ms1\u001b[49m\u001b[43m,\u001b[49m\u001b[43m \u001b[49m\u001b[43ms2\u001b[49m\u001b[43m)\u001b[49m\n\u001b[1;32m      2\u001b[0m \u001b[38;5;66;03m#t_subjs[rdflib.term.URIRef('http://www.semanticweb.org/tomk/ontologies/2022/9/datamodel#ModelDomain')]\u001b[39;00m\n\u001b[1;32m      3\u001b[0m t_subjs[rdflib\u001b[38;5;241m.\u001b[39mterm\u001b[38;5;241m.\u001b[39mURIRef(\u001b[38;5;124m'\u001b[39m\u001b[38;5;124mhttp://www.semanticweb.org/tomk/ontologies/2022/9/datamodel#Model\u001b[39m\u001b[38;5;124m'\u001b[39m)]\n",
      "Cell \u001b[0;32mIn [38], line 39\u001b[0m, in \u001b[0;36mprocess_diffs\u001b[0;34m(S1, S2)\u001b[0m\n\u001b[1;32m     35\u001b[0m     t_subjs[t]\u001b[38;5;241m=\u001b[39m[(s,class_d[(s,p,o)]) \u001b[38;5;28;01mfor\u001b[39;00m s,p,o \u001b[38;5;129;01min\u001b[39;00m U_g\u001b[38;5;241m.\u001b[39mtriples((\u001b[38;5;28;01mNone\u001b[39;00m, rdftype_uri, t))]\n\u001b[1;32m     38\u001b[0m mdk \u001b[38;5;241m=\u001b[39m rdflib\u001b[38;5;241m.\u001b[39mterm\u001b[38;5;241m.\u001b[39mURIRef(\u001b[38;5;124m'\u001b[39m\u001b[38;5;124mhttp://www.semanticweb.org/tomk/ontologies/2022/9/datamodel#Class\u001b[39m\u001b[38;5;124m'\u001b[39m)\n\u001b[0;32m---> 39\u001b[0m \u001b[38;5;28;01mfor\u001b[39;00m v \u001b[38;5;129;01min\u001b[39;00m \u001b[43mt_subjs\u001b[49m\u001b[43m[\u001b[49m\u001b[43mmdk\u001b[49m\u001b[43m]\u001b[49m: \n\u001b[1;32m     40\u001b[0m     t_list \u001b[38;5;241m=\u001b[39m \u001b[38;5;28mlist\u001b[39m(U_g\u001b[38;5;241m.\u001b[39mtriples((v[\u001b[38;5;241m0\u001b[39m], \u001b[38;5;28;01mNone\u001b[39;00m, \u001b[38;5;28;01mNone\u001b[39;00m)))\n\u001b[1;32m     41\u001b[0m     \u001b[38;5;66;03m#print(t_list)\u001b[39;00m\n",
      "\u001b[0;31mKeyError\u001b[0m: rdflib.term.URIRef('http://www.semanticweb.org/tomk/ontologies/2022/9/datamodel#Class')"
     ]
    }
   ],
   "source": [
    "t_subjs = process_diffs(s1, s2)\n",
    "#t_subjs[rdflib.term.URIRef('http://www.semanticweb.org/tomk/ontologies/2022/9/datamodel#ModelDomain')]\n",
    "t_subjs[rdflib.term.URIRef('http://www.semanticweb.org/tomk/ontologies/2022/9/datamodel#Model')]"
   ]
  },
  {
   "cell_type": "code",
   "execution_count": 40,
   "metadata": {},
   "outputs": [
    {
     "data": {
      "text/plain": [
       "{rdflib.term.URIRef('http://www.semanticweb.org/tomk/ontologies/2022/11/2f6c834eec704165b54019e22f8ede4d'),\n",
       " rdflib.term.URIRef('http://www.semanticweb.org/tomk/ontologies/2022/11/69881028fb26422abdb1bc915a87ade7'),\n",
       " rdflib.term.URIRef('http://www.semanticweb.org/tomk/ontologies/2022/11/7ede6aa395284642b4274c8ebd791dc3'),\n",
       " rdflib.term.URIRef('http://www.semanticweb.org/tomk/ontologies/2022/11/a74ac3c0e5fa4a5aad36a800d7d41648'),\n",
       " rdflib.term.URIRef('http://www.semanticweb.org/tomk/ontologies/2022/11/f293a14a11684c91a819dcacb3b5596d'),\n",
       " rdflib.term.URIRef('http://www.semanticweb.org/tomk/ontologies/2022/11/f3c20564cc964cd9ba8e0f04aaeb8927'),\n",
       " rdflib.term.Literal('Audrey'),\n",
       " rdflib.term.Literal('Fred'),\n",
       " rdflib.term.Literal('Freddie'),\n",
       " rdflib.term.Literal('Grandad'),\n",
       " rdflib.term.Literal('Granny'),\n",
       " rdflib.term.Literal('Human'),\n",
       " rdflib.term.Literal('Human.Freddie'),\n",
       " rdflib.term.Literal('Human.Grandad'),\n",
       " rdflib.term.Literal('Human.Granny'),\n",
       " rdflib.term.Literal('Human.Lisa'),\n",
       " rdflib.term.Literal('Human.Me'),\n",
       " rdflib.term.Literal('Lisa'),\n",
       " rdflib.term.Literal('Me'),\n",
       " rdflib.term.Literal('Test'),\n",
       " rdflib.term.Literal('Tom'),\n",
       " rdflib.term.Literal('Tony')}"
      ]
     },
     "execution_count": 40,
     "metadata": {},
     "output_type": "execute_result"
    }
   ],
   "source": [
    "L,I,R = diffset(s1, s2)\n",
    "subset = get_subjects(I)\n",
    "predset = get_predicates(I) \n",
    "obset = get_objects(I)\n",
    "typeset = get_typed_objects(I)\n",
    "types = get_types(I)\n",
    "\n",
    "typeset.symmetric_difference(obset).symmetric_difference(types)\n",
    "#list(ds.triples((URIRef('http://www.semanticweb.org/tomk/ontologies/2022/11/b3b0fd89605e4d04a3f698d974d3579f'), None, None)))"
   ]
  },
  {
   "cell_type": "code",
   "execution_count": 41,
   "metadata": {},
   "outputs": [
    {
     "data": {
      "image/png": "[encoded data removed]",
      "text/plain": [
       "<IPython.core.display.Image object>"
      ]
     },
     "metadata": {},
     "output_type": "display_data"
    }
   ],
   "source": [
    "visualize(t2rdflibg(s2))"
   ]
  },
  {
   "cell_type": "code",
   "execution_count": null,
   "metadata": {},
   "outputs": [],
   "source": [
    "[len(q) for q in [L,I,R]]"
   ]
  },
  {
   "cell_type": "code",
   "execution_count": null,
   "metadata": {},
   "outputs": [],
   "source": [
    "#discourse_contents[discourse_contents['p']==][['s','p','o']]\n",
    "discourse_contents[['s','p','o']].groupby(\"p\").agg(set).loc[URIRef('http://www.w3.org/1999/02/22-rdf-syntax-ns#type')]['o']\n",
    "\n"
   ]
  },
  {
   "cell_type": "code",
   "execution_count": null,
   "metadata": {},
   "outputs": [],
   "source": [
    "discourses"
   ]
  },
  {
   "cell_type": "code",
   "execution_count": null,
   "metadata": {},
   "outputs": [],
   "source": [
    "visualize(t2rdflibg( discourse_contents[discourse_contents['discourse']==discourses[1]][['s','p','o']].values))"
   ]
  },
  {
   "cell_type": "code",
   "execution_count": null,
   "metadata": {},
   "outputs": [],
   "source": []
  },
  {
   "cell_type": "code",
   "execution_count": null,
   "metadata": {},
   "outputs": [],
   "source": [
    "dir(ET)"
   ]
  },
  {
   "cell_type": "code",
   "execution_count": null,
   "metadata": {},
   "outputs": [],
   "source": [
    "ET.register_namespace('rdf',\"http://www.w3.org/1999/02/22-rdf-syntax-ns#\")\n",
    "\n",
    "\n",
    "\n"
   ]
  },
  {
   "cell_type": "code",
   "execution_count": null,
   "metadata": {},
   "outputs": [],
   "source": [
    "ns_map = [('rdf',\"http://www.w3.org/1999/02/22-rdf-syntax-ns#\"),\n",
    "          ('dc',\"http://purl.org/dc/elements/1.1/\"),\n",
    "          ('rdfs',\"http://www.w3.org/2000/01/rdf-schema#\")\n",
    "         ]\n",
    "name = \"http://master\"\n",
    "g_context = { \"dc:created\" : datetime.now().strftime(\"%Y-%m-%d\"),\n",
    "              \"dc:description\":\"\"\"The master graph is used to store all mastered triples. It acts as a \"soup\" of expressable content, primarily for entities to be identified by their properties for the purposes of identifying unique individuals. \"\"\"}\n",
    "\n",
    "g_context"
   ]
  },
  {
   "cell_type": "code",
   "execution_count": null,
   "metadata": {},
   "outputs": [],
   "source": [
    "\n",
    "def create_named_graph_manifest_rdf_xml(graph_uri, namespaces, properties):\n",
    "    X = ET.Element('rdf:RDF')\n",
    "    for prefix, uri  in namespaces:\n",
    "        X.set(\"xmlns:\" + prefix, uri)\n",
    "    q = ET.SubElement(X, \"rdf:Description\")\n",
    "    q.set(\"rdf:about\", graph_uri)\n",
    "    for t,v in g_context.items():\n",
    "        a = ET.SubElement(q, t)\n",
    "        a.text = v\n",
    "    ET.indent(X, space=\"\\t\", level=0)\n",
    "    return ET.tostring(X).decode()"
   ]
  },
  {
   "cell_type": "code",
   "execution_count": null,
   "metadata": {},
   "outputs": [],
   "source": [
    "xml_text = create_named_graph_manifest_rdf_xml(\"http://master\", ns_map, g_context)\n",
    "print(xml_text)"
   ]
  },
  {
   "cell_type": "code",
   "execution_count": null,
   "metadata": {},
   "outputs": [],
   "source": []
  }
 ],
 "metadata": {
  "kernelspec": {
   "display_name": "Python 3 (ipykernel)",
   "language": "python",
   "name": "python3"
  },
  "language_info": {
   "codemirror_mode": {
    "name": "ipython",
    "version": 3
   },
   "file_extension": ".py",
   "mimetype": "text/x-python",
   "name": "python",
   "nbconvert_exporter": "python",
   "pygments_lexer": "ipython3",
   "version": "3.10.12"
  }
 },
 "nbformat": 4,
 "nbformat_minor": 2
}
