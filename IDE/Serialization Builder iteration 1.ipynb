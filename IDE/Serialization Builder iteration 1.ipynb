{
 "cells": [
  {
   "cell_type": "markdown",
   "id": "8517f812",
   "metadata": {},
   "source": [
    "# Serialization Builder\n",
    "\n",
    "After an ontology model is developed, there needs to be a method of uploading data that fits the model in question. \n",
    "\n",
    "This data load process is often fed by flat or tree-like datafiles - perhaps simple CSV, XML or JSON documents. \n",
    "\n",
    "A serialization helps marshall structured data into a given ontologically defined graph format. \n",
    "\n",
    "The serialization has a name, and contains multiple mappings. \n",
    "\n",
    "Each mapping describes some link between named attributes in the input file, and their equivalent ontological markup. Some inputs describe entities of a given type, while others describe relations between these entities, and others describe simple data-properties those entities might have. \n",
    "\n"
   ]
  },
  {
   "cell_type": "code",
   "execution_count": 1,
   "id": "6393dbd3",
   "metadata": {},
   "outputs": [
    {
     "name": "stderr",
     "output_type": "stream",
     "text": [
      "* Owlready2 * Warning: optimized Cython parser module 'owlready2_optimized' is not available, defaulting to slower Python implementation\n"
     ]
    }
   ],
   "source": [
    "import owlready2 as owlr\n",
    "\n",
    "import xml.etree.ElementTree as ET"
   ]
  },
  {
   "cell_type": "code",
   "execution_count": 2,
   "id": "26912cc9",
   "metadata": {},
   "outputs": [],
   "source": [
    "sample_onto_file = \"../sample_ontology.owl\"\n",
    "#sample_onto_file = \"../Serialization.owl\"\n",
    "sample = owlr.get_ontology(sample_onto_file).load()"
   ]
  },
  {
   "cell_type": "code",
   "execution_count": 3,
   "id": "6c6e6cfc",
   "metadata": {},
   "outputs": [
    {
     "name": "stderr",
     "output_type": "stream",
     "text": [
      "* Owlready2 * WARNING: ObjectProperty http://www.semanticweb.org/tomk/ontologies/2022/11/serialization#MappingMetaTarget belongs to more than one entity types: [owl.AnnotationProperty, owl.ObjectProperty, owl.topObjectProperty]; I'm trying to fix it...\n"
     ]
    }
   ],
   "source": [
    "sample_ser_file = \"../Serialization.owl\"\n",
    "serial = owlr.get_ontology(sample_ser_file).load()"
   ]
  },
  {
   "cell_type": "code",
   "execution_count": 4,
   "id": "97681227",
   "metadata": {},
   "outputs": [
    {
     "data": {
      "text/plain": [
       "'http://www.semanticweb.org/tomk/ontologies/2023/6/sample#'"
      ]
     },
     "execution_count": 4,
     "metadata": {},
     "output_type": "execute_result"
    }
   ],
   "source": [
    "sample.base_iri"
   ]
  },
  {
   "cell_type": "code",
   "execution_count": 5,
   "id": "08af9251",
   "metadata": {},
   "outputs": [
    {
     "data": {
      "text/plain": [
       "[Serialization.GeneratedOn,\n",
       " Serialization.MappingDomain,\n",
       " Serialization.MappingLabel,\n",
       " Serialization.MappingRange,\n",
       " Serialization.MappingSubType,\n",
       " Serialization.SerializationLabel,\n",
       " Serialization.SerializationParentLabel,\n",
       " Serialization.UniqueIdentifier,\n",
       " Serialization.MappingMetaTarget,\n",
       " Serialization.ContainsMapping,\n",
       " Serialization.MappingMemberOf,\n",
       " Serialization.MappingMetaTarget]"
      ]
     },
     "execution_count": 5,
     "metadata": {},
     "output_type": "execute_result"
    }
   ],
   "source": [
    "list(serial.properties())"
   ]
  },
  {
   "cell_type": "code",
   "execution_count": 6,
   "id": "4d67ef14",
   "metadata": {},
   "outputs": [
    {
     "data": {
      "text/plain": [
       "'http://www.semanticweb.org/tomk/ontologies/2022/11/serialization#'"
      ]
     },
     "execution_count": 6,
     "metadata": {},
     "output_type": "execute_result"
    }
   ],
   "source": [
    "serial.base_iri"
   ]
  },
  {
   "cell_type": "code",
   "execution_count": 7,
   "id": "d3e40c17",
   "metadata": {},
   "outputs": [
    {
     "data": {
      "text/plain": [
       "([sample_ontology.someClass],\n",
       " [sample_ontology.someProperty],\n",
       " [sample_ontology.someDataProperty])"
      ]
     },
     "execution_count": 7,
     "metadata": {},
     "output_type": "execute_result"
    }
   ],
   "source": [
    "list(sample.classes()), list(sample.object_properties()), list(sample.data_properties())"
   ]
  },
  {
   "cell_type": "code",
   "execution_count": 8,
   "id": "f9e8a6d2",
   "metadata": {},
   "outputs": [],
   "source": [
    "def generate_meta_definitions(onto):\n",
    "    meta_defs = []\n",
    "    for mc in [(serial.MetaClass, onto.classes), (serial.MetaProperty, onto.object_properties), (serial.MetaDataProperty, onto.data_properties)]:\n",
    "        for c in mc[1]():\n",
    "            meta_defs.append((c.iri,mc[0].iri))\n",
    "    return meta_defs\n",
    "        "
   ]
  },
  {
   "cell_type": "code",
   "execution_count": 9,
   "id": "e37a3e00",
   "metadata": {},
   "outputs": [
    {
     "data": {
      "text/plain": [
       "[('http://www.semanticweb.org/tomk/ontologies/2023/6/sample#someClass',\n",
       "  'http://www.semanticweb.org/tomk/ontologies/2022/11/serialization#MetaClass'),\n",
       " ('http://www.semanticweb.org/tomk/ontologies/2023/6/sample#someProperty',\n",
       "  'http://www.semanticweb.org/tomk/ontologies/2022/11/serialization#MetaProperty'),\n",
       " ('http://www.semanticweb.org/tomk/ontologies/2023/6/sample#someDataProperty',\n",
       "  'http://www.semanticweb.org/tomk/ontologies/2022/11/serialization#MetaDataProperty')]"
      ]
     },
     "execution_count": 9,
     "metadata": {},
     "output_type": "execute_result"
    }
   ],
   "source": [
    "generate_meta_definitions(sample)"
   ]
  },
  {
   "cell_type": "code",
   "execution_count": 10,
   "id": "a7731886",
   "metadata": {},
   "outputs": [],
   "source": [
    "def generate_xml_for_serialization(namespaces, ontology):\n",
    "    X = ET.Element('rdf:RDF')\n",
    "    default_namespace='http://www.company.com'\n",
    "    for prefix, uri  in namespaces:\n",
    "        X.set(\"xmlns:\" + prefix, uri)\n",
    "        \n",
    "        \n",
    "    ## Add block for serialization objects:\n",
    "    for iri in [serial.Serialization.iri, \n",
    "              serial.Mapping.iri,\n",
    "              serial.MetaClass.iri,             \n",
    "              serial.MetaProperty.iri,\n",
    "              serial.MetaDataProperty.iri]:\n",
    "        q = ET.SubElement(X, \"Class\")\n",
    "        q.set(\"rdf:about\", iri)\n",
    "        \n",
    "    for iri in [ serial.ContainsMapping.iri,               \n",
    "                 serial.MappingMetaTarget.iri,\n",
    "                 serial.MappingDomain.iri,\n",
    "                 serial.MappingRange.iri,\n",
    "                 serial.MappingMetaTarget.iri,\n",
    "                 serial.SerializationLabel.iri,\n",
    "                 serial.SerializationParentLabel.iri]:\n",
    "        q = ET.SubElement(X, \"AnnotationProperty\")\n",
    "        q.set(\"rdf:about\", iri)\n",
    "    for iri,tp in generate_meta_definitions(ontology):\n",
    "        q = ET.SubElement(X, \"NamedIndividual\")\n",
    "        q.set(\"rdf:about\", iri)\n",
    "        p = ET.SubElement(q, \"rdf:type\")\n",
    "        p.set(\"rdf:resource\", tp)\n",
    "        \n",
    "    ET.indent(X, space=\"\\t\", level=0)\n",
    "    return ET.tostring(X).decode()"
   ]
  },
  {
   "cell_type": "code",
   "execution_count": 11,
   "id": "8818003d",
   "metadata": {},
   "outputs": [],
   "source": [
    "def create_mapping(name, target, ttype, properties={}):\n",
    "    X = ET.Element(\"NamedIndividual\")\n",
    "    X.set(\"rdf:about\", name)\n",
    "    q = ET.SubElement(X,\"rdf:type\")\n",
    "    q.set(\"rdf:resource\", serial.Mapping.iri)\n",
    "    q = ET.SubElement(X,\"ser:MappingMetaTarget\")\n",
    "    q.set(\"rdf:resource\", target)\n",
    "    \n",
    "    for k,v in properties.items():\n",
    "        q = ET.SubElement(X,k)\n",
    "        q.text =str(v)\n",
    "    return X"
   ]
  },
  {
   "cell_type": "code",
   "execution_count": 12,
   "id": "935069d6",
   "metadata": {},
   "outputs": [
    {
     "name": "stdout",
     "output_type": "stream",
     "text": [
      "<rdf:RDF xmlns:=\"http://www.w3.org/2002/07/owl#\" xmlns:xml:base=\"http://www.w3.org/2002/07/owl\" xmlns:rdf=\"http://www.w3.org/1999/02/22-rdf-syntax-ns#\" xmlns:xml:owl=\"http://www.w3.org/2002/07/owl#\" xmlns:dc=\"http://purl.org/dc/elements/1.1/\" xmlns:rdfs=\"http://www.w3.org/2000/01/rdf-schema#\">\n",
      "\t<Class rdf:about=\"http://www.semanticweb.org/tomk/ontologies/2022/11/serialization#Serialization\" />\n",
      "\t<Class rdf:about=\"http://www.semanticweb.org/tomk/ontologies/2022/11/serialization#Mapping\" />\n",
      "\t<Class rdf:about=\"http://www.semanticweb.org/tomk/ontologies/2022/11/serialization#MetaClass\" />\n",
      "\t<Class rdf:about=\"http://www.semanticweb.org/tomk/ontologies/2022/11/serialization#MetaProperty\" />\n",
      "\t<Class rdf:about=\"http://www.semanticweb.org/tomk/ontologies/2022/11/serialization#MetaDataProperty\" />\n",
      "\t<AnnotationProperty rdf:about=\"http://www.semanticweb.org/tomk/ontologies/2022/11/serialization#ContainsMapping\" />\n",
      "\t<AnnotationProperty rdf:about=\"http://www.semanticweb.org/tomk/ontologies/2022/11/serialization#MappingMetaTarget\" />\n",
      "\t<AnnotationProperty rdf:about=\"http://www.semanticweb.org/tomk/ontologies/2022/11/serialization#MappingDomain\" />\n",
      "\t<AnnotationProperty rdf:about=\"http://www.semanticweb.org/tomk/ontologies/2022/11/serialization#MappingRange\" />\n",
      "\t<AnnotationProperty rdf:about=\"http://www.semanticweb.org/tomk/ontologies/2022/11/serialization#MappingMetaTarget\" />\n",
      "\t<AnnotationProperty rdf:about=\"http://www.semanticweb.org/tomk/ontologies/2022/11/serialization#SerializationLabel\" />\n",
      "\t<AnnotationProperty rdf:about=\"http://www.semanticweb.org/tomk/ontologies/2022/11/serialization#SerializationParentLabel\" />\n",
      "\t<NamedIndividual rdf:about=\"http://www.semanticweb.org/tomk/ontologies/2023/6/sample#someClass\">\n",
      "\t\t<rdf:type rdf:resource=\"http://www.semanticweb.org/tomk/ontologies/2022/11/serialization#MetaClass\" />\n",
      "\t</NamedIndividual>\n",
      "\t<NamedIndividual rdf:about=\"http://www.semanticweb.org/tomk/ontologies/2023/6/sample#someProperty\">\n",
      "\t\t<rdf:type rdf:resource=\"http://www.semanticweb.org/tomk/ontologies/2022/11/serialization#MetaProperty\" />\n",
      "\t</NamedIndividual>\n",
      "\t<NamedIndividual rdf:about=\"http://www.semanticweb.org/tomk/ontologies/2023/6/sample#someDataProperty\">\n",
      "\t\t<rdf:type rdf:resource=\"http://www.semanticweb.org/tomk/ontologies/2022/11/serialization#MetaDataProperty\" />\n",
      "\t</NamedIndividual>\n",
      "</rdf:RDF>\n"
     ]
    }
   ],
   "source": [
    "ns_map = [('',\"http://www.w3.org/2002/07/owl#\"),\n",
    "          ('xml:base',\"http://www.w3.org/2002/07/owl\"),\n",
    "          ('rdf',\"http://www.w3.org/1999/02/22-rdf-syntax-ns#\"),\n",
    "          ('xml:owl',\"http://www.w3.org/2002/07/owl#\"),\n",
    "          ('dc',\"http://purl.org/dc/elements/1.1/\"),\n",
    "          ('rdfs',\"http://www.w3.org/2000/01/rdf-schema#\")\n",
    "         ]\n",
    "print(generate_xml_for_serialization(ns_map, sample ))"
   ]
  },
  {
   "cell_type": "code",
   "execution_count": 13,
   "id": "32950aa0",
   "metadata": {},
   "outputs": [
    {
     "name": "stdout",
     "output_type": "stream",
     "text": [
      "<NamedIndividual rdf:about=\"mapping_test\">\n",
      "\t<rdf:type rdf:resource=\"http://www.semanticweb.org/tomk/ontologies/2022/11/serialization#Mapping\" />\n",
      "\t<ser:MappingMetaTarget rdf:resource=\"test\" />\n",
      "\t<ser:SerializationLabel>Class</ser:SerializationLabel>\n",
      "\t<ser:SerializationParentLabel>ParentClass</ser:SerializationParentLabel>\n",
      "</NamedIndividual>\n"
     ]
    }
   ],
   "source": [
    "Q = create_mapping(\"mapping_test\", \"test\" , \"class\", {\"ser:SerializationLabel\" : \"Class\",\n",
    "                                                      \"ser:SerializationParentLabel\" : \"ParentClass\"})\n",
    "ET.indent(Q, space=\"\\t\", level=0)\n",
    "print(ET.tostring(Q).decode())"
   ]
  },
  {
   "cell_type": "code",
   "execution_count": 14,
   "id": "d1010871",
   "metadata": {},
   "outputs": [],
   "source": [
    "\n",
    "# Reset and Start again from here. \n",
    "# Let's use the json sourced data file to construct the mapping details.\n",
    "#1. Load config from json serialisation file\n",
    "#2. Validate sections of the serialisation file using ontology\n",
    "#3. Build the serialisation rdf file. \n",
    "\n",
    "\n",
    "\n",
    "import jsonschema\n",
    "import json\n",
    "\n",
    "import owlready2 as owlr\n",
    "\n",
    "import xml.etree.ElementTree as ET\n",
    "\n"
   ]
  },
  {
   "cell_type": "code",
   "execution_count": 15,
   "id": "31d7bbc6",
   "metadata": {},
   "outputs": [],
   "source": [
    "with open('/home/tomk/Documents/Coding/gitHub/datamodels/serialisation_schema.json', 'r') as file:\n",
    "    schema = json.load(file)\n",
    "    \n",
    "with open('/home/tomk/Documents/Coding/gitHub/datamodels/sample_ser.json', 'r') as file:\n",
    "    data = json.load(file)\n"
   ]
  },
  {
   "cell_type": "code",
   "execution_count": 16,
   "id": "ed537d38",
   "metadata": {},
   "outputs": [],
   "source": [
    "jsonschema.validate(instance=data, schema=schema)"
   ]
  },
  {
   "cell_type": "code",
   "execution_count": 17,
   "id": "1e9d9a9e",
   "metadata": {},
   "outputs": [
    {
     "data": {
      "text/plain": [
       "{'$schema': 'serialisation_schema.json',\n",
       " 'serialization_iri': 'http://www.semanticweb.org/tomk/ontologies/2023/6/sample#Sample_Serialisation',\n",
       " 'serialization_label': 'Sample Serialisation',\n",
       " 'targetOntology': 'http://www.semanticweb.org/tomk/ontologies/2023/6/sample',\n",
       " 'targetClasses': ['http://www.semanticweb.org/tomk/ontologies/2023/6/sample#someClass'],\n",
       " 'targetProperties': ['http://www.semanticweb.org/tomk/ontologies/2023/6/sample#someProperty'],\n",
       " 'targetDataProperties': ['http://www.semanticweb.org/tomk/ontologies/2023/6/sample#someDataProperty'],\n",
       " 'serialization_mappings': [{'mapping_name': 'Parent_Class_Mapping',\n",
       "   'label': 'ParentClass',\n",
       "   'target': 'http://www.semanticweb.org/tomk/ontologies/2023/6/sample#someClass'},\n",
       "  {'mapping_name': 'Class_Mapping',\n",
       "   'label': 'Class',\n",
       "   'target': 'http://www.semanticweb.org/tomk/ontologies/2023/6/sample#someClass',\n",
       "   'parent_label': 'ParentClass'},\n",
       "  {'mapping_name': 'Property_Mapping',\n",
       "   'target': 'http://www.semanticweb.org/tomk/ontologies/2023/6/sample#someProperty',\n",
       "   'domain': 'Class',\n",
       "   'range': 'Property'},\n",
       "  {'mapping_name': 'DataProperty_Mapping',\n",
       "   'target': 'http://www.semanticweb.org/tomk/ontologies/2023/6/sample#someDataProperty',\n",
       "   'domain': 'Class',\n",
       "   'range': 'DataProperty'}]}"
      ]
     },
     "execution_count": 17,
     "metadata": {},
     "output_type": "execute_result"
    }
   ],
   "source": [
    "data"
   ]
  },
  {
   "cell_type": "code",
   "execution_count": 18,
   "id": "ac830848",
   "metadata": {},
   "outputs": [],
   "source": [
    "def create_mapping(name, target, ttype, properties={}):\n",
    "    X = ET.Element(\"NamedIndividual\")\n",
    "    X.set(\"rdf:about\", name)\n",
    "    q = ET.SubElement(X,\"rdf:type\")\n",
    "    q.set(\"rdf:resource\", serial.Mapping.iri)\n",
    "    q = ET.SubElement(X,\"ser:MappingMetaTarget\")\n",
    "    q.set(\"rdf:resource\", target)\n",
    "    \n",
    "    for k,v in properties.items():\n",
    "        q = ET.SubElement(X,k)\n",
    "        q.text =str(v)\n",
    "    return X\n",
    "\n",
    "def generate_meta_definitions(onto):\n",
    "    meta_defs = []\n",
    "    for mc in [(serial.MetaClass, onto.classes), (serial.MetaProperty, onto.object_properties), (serial.MetaDataProperty, onto.data_properties)]:\n",
    "        for c in mc[1]():\n",
    "            meta_defs.append((c.iri,mc[0].iri))\n",
    "    return meta_defs\n",
    "\n",
    "def generate_serialization_contents(serialization_label, serialization_iri, mappings):\n",
    "    X = ET.Element(\"NamedIndividual\")\n",
    "    X.set(\"rdf:about\", serialization_iri)\n",
    "    q = ET.SubElement(X,\"rdf:type\")\n",
    "    q.set(\"rdf:resource\", serial.Serialization.iri)\n",
    "    for m in mappings:\n",
    "        q = ET.SubElement(X,\"ser:ContainsMapping\")\n",
    "        q.set(\"rdf:resource\", m[0])\n",
    "        \n",
    "    q = ET.SubElement(X,\"rdfs:label\")\n",
    "    q.text=serialization_label\n",
    "    return X\n",
    "    \n",
    "        \n",
    "    \n",
    "def generate_elemtree_header(serialization_label, serialization_iri, namespaces, ontology, mappings):\n",
    "    X = ET.Element('rdf:RDF')\n",
    "    default_namespace='http://www.company.com'\n",
    "    for prefix, uri  in namespaces:\n",
    "        X.set(\"xmlns:\" + prefix, uri)\n",
    "        \n",
    "    c = ET.Comment(\"\"\"///////////////////////////////////////////////////////////////////////////////////////\n",
    "    //\n",
    "    // Serialization Classes - these should remain static\n",
    "    // High level serialization classes defined to describe a given Serialization\n",
    "    //\n",
    "    ///////////////////////////////////////////////////////////////////////////////////////\"\"\") \n",
    "    X.append(c)\n",
    "    ## Add block for serialization objects:\n",
    "    for iri in [serial.Serialization.iri, \n",
    "              serial.Mapping.iri,\n",
    "              serial.MetaClass.iri,             \n",
    "              serial.MetaProperty.iri,\n",
    "              serial.MetaDataProperty.iri]:\n",
    "        q = ET.SubElement(X, \"Class\")\n",
    "        q.set(\"rdf:about\", iri)\n",
    "    \n",
    "    \n",
    "    \n",
    "    comment = \"\"\"///////////////////////////////////////////////////////////////////////////////////////\n",
    "    //\n",
    "    // Annotation properties - these should remain static\n",
    "    // These are the internal technical components used by the loading/serialization process\n",
    "    //\n",
    "    ///////////////////////////////////////////////////////////////////////////////////////\"\"\"\n",
    "    c = ET.Comment(comment)\n",
    "    X.append(c)\n",
    "    \n",
    "    for iri in [ serial.ContainsMapping.iri,               \n",
    "                 serial.MappingMetaTarget.iri,\n",
    "                 serial.MappingDomain.iri,\n",
    "                 serial.MappingRange.iri,\n",
    "                 serial.MappingMetaTarget.iri,\n",
    "                 serial.SerializationLabel.iri,\n",
    "                 serial.SerializationParentLabel.iri]:\n",
    "        q = ET.SubElement(X, \"AnnotationProperty\")\n",
    "        q.set(\"rdf:about\", iri)\n",
    "        \n",
    "    comment = \"\"\"\n",
    "    \n",
    "    ///////////////////////////////////////////////////////////////////////////////////////\n",
    "    //\n",
    "    // Individuals - here define all the final target classes and properties \n",
    "    // (Using the MetaClass, MetaProperty and MetaDataProperty that will be \n",
    "    // referenced by the serialization and populated by individual Mapping elements\n",
    "    // using the MappingMetaTarget pointer. ) \n",
    "    // For any given ontology (or ontologies) this collection identifies and names key\n",
    "    // Classes, Properties and Data Properties that the Serialization function will populate. \n",
    "    //\n",
    "    ///////////////////////////////////////////////////////////////////////////////////////\n",
    "     \"\"\"\n",
    "    c = ET.Comment(comment)\n",
    "    X.append(c)\n",
    "    \n",
    "    for iri,tp in generate_meta_definitions(ontology):\n",
    "        q = ET.SubElement(X, \"NamedIndividual\")\n",
    "        q.set(\"rdf:about\", iri)\n",
    "        p = ET.SubElement(q, \"rdf:type\")\n",
    "        p.set(\"rdf:resource\", tp)\n",
    "        \n",
    "    comment = \"\"\"\n",
    "    \n",
    "    ///////////////////////////////////////////////////////////////////////////////////////\n",
    "    //\n",
    "    // Mappings - define all the Mappings that will be collated by this serialisation to\n",
    "    // pull content from the `flat` recordset and assign it to classes, properties or \n",
    "    // data properties as defined in the overarching ontology. \n",
    "    //\n",
    "    ///////////////////////////////////////////////////////////////////////////////////////\n",
    "     \"\"\"\n",
    "    c = ET.Comment(comment)\n",
    "    X.append(c)\n",
    "    \n",
    "    for m in mappings:\n",
    "        X.append(m[1])\n",
    "    \n",
    "    comment = \"\"\"<!--\n",
    "    \n",
    "    ///////////////////////////////////////////////////////////////////////////////////////\n",
    "    //\n",
    "    // Serialization - define the named Serialization Object and assign the set of \n",
    "    // mappings that belong to that object.\n",
    "    //\n",
    "    ///////////////////////////////////////////////////////////////////////////////////////\n",
    "     -->\"\"\"\n",
    "    c = ET.Comment(comment)\n",
    "    X.append(c)\n",
    "    \n",
    "    X.append(generate_serialization_contents(serialization_label, serialization_iri, mappings))\n",
    "    \n",
    "    ET.indent(X, space=\"\\t\", level=0)\n",
    "    return X\n",
    "\n",
    "\n",
    "\n",
    "def find_match(value, match_set_list):\n",
    "    for e,t_set in enumerate(match_set_list):\n",
    "        if value in t_set:\n",
    "            return e\n",
    "    return None\n",
    "        \n",
    "sample_ser_file = \"../Serialization.owl\"\n",
    "serial = owlr.get_ontology(sample_ser_file).load()\n",
    "\n",
    "def process_serialisation(json_data):\n",
    "    s_label = json_data['serialization_label']\n",
    "    s_iri = json_data['serialization_iri']\n",
    "    s_onto = json_data['targetOntology']\n",
    "    _fix_me_ontology_file = \"../sample_ontology.owl\"\n",
    "    ontol = owlr.get_ontology(_fix_me_ontology_file).load()\n",
    "    uri_base = ontol.base_iri\n",
    "    \n",
    "    ns_map = [('',\"http://www.w3.org/2002/07/owl#\"),\n",
    "              ('xml:base',\"http://www.w3.org/2002/07/owl\"),\n",
    "              ('rdf',\"http://www.w3.org/1999/02/22-rdf-syntax-ns#\"),\n",
    "              ('xml:owl',\"http://www.w3.org/2002/07/owl#\"),\n",
    "              ('dc',\"http://purl.org/dc/elements/1.1/\"),\n",
    "              ('rdfs',\"http://www.w3.org/2000/01/rdf-schema#\"), \n",
    "              ('ser', serial.base_iri)\n",
    "             ]\n",
    "\n",
    "    o_classes = [c.iri for c in ontol.classes()]\n",
    "    o_properties =[p.iri for p in ontol.object_properties()]\n",
    "    o_dataproperties = [d.iri for d in ontol.data_properties()]\n",
    "    t_classes, t_properties, t_data_properties = json_data['targetClasses'], json_data['targetProperties'], json_data['targetDataProperties']\n",
    "    if all([c in o_classes for c in t_classes]):\n",
    "        print(\"classes ok\")\n",
    "    else:\n",
    "        print(set(o_classes).symmetric_difference(set(t_classes)))\n",
    "        \n",
    "    if all([c in o_properties for c in t_properties]):\n",
    "        print(\"properties ok\")\n",
    "    else:\n",
    "        print(set(o_properties).symmetric_difference(set(t_properties)))\n",
    "        \n",
    "        \n",
    "    if all([d in o_dataproperties for d in t_data_properties]):\n",
    "        print(\"data properties ok\")\n",
    "    else:\n",
    "        print(set(o_dataproperties).symmetric_difference(set(t_data_properties)))\n",
    "    #print (t_classes, t_properties, t_data_properties)\n",
    "    mapping_list = []\n",
    "    for mapping in json_data['serialization_mappings']:\n",
    "        t_match=find_match(mapping['target'],[t_classes, t_properties, t_data_properties])\n",
    "        print(mapping, t_match)\n",
    "        mapping_name = \"\".join([uri_base, mapping['mapping_name']])\n",
    "        match t_match:\n",
    "            case 0:\n",
    "                # Classes\n",
    "                properties = {k:v for k,v in {\"ser:SerializationLabel\" : mapping.get(\"label\"),\n",
    "                              \"ser:SerializationParentLabel\" : mapping.get(\"parent_label\")}.items() if v is not None}\n",
    "                \n",
    "                mapping_list.append((mapping_name, create_mapping(mapping_name, mapping['target'], t_match, properties)))\n",
    "            case 1:\n",
    "                # Properties\n",
    "                properties = {k:v for k,v in {\"ser:MappingDomain\" : mapping.get(\"domain\"),\n",
    "                              \"ser:MappingRange\" : mapping.get(\"range\")}.items() if v is not None}\n",
    "                mapping_list.append((mapping_name,create_mapping(mapping_name, mapping['target'], t_match, properties)))\n",
    "                \n",
    "            case 2:\n",
    "                # Data Properties\n",
    "                properties = {k:v for k,v in {\"ser:MappingDomain\" : mapping.get(\"domain\"),\n",
    "                              \"ser:MappingRange\" : mapping.get(\"range\")}.items() if v is not None}\n",
    "                mapping_list.append((mapping_name,create_mapping(mapping_name, mapping['target'], t_match, properties)))\n",
    "                \n",
    "            case None:\n",
    "                # No Match\n",
    "                print(\"**********************************************\")\n",
    "                print(\"**                                          **\")\n",
    "                print(\"**         This mapping not matched         **\")\n",
    "                print(\"**                                          **\")\n",
    "                print(\"**********************************************\")\n",
    "                print(mapping)\n",
    "                print(\"**********************************************\")\n",
    "                print()\n",
    "                print()\n",
    "                assert False\n",
    "    \n",
    "    X = generate_elemtree_header(s_label, s_iri, ns_map, ontol, mapping_list)\n",
    "                \n",
    "    return X"
   ]
  },
  {
   "cell_type": "code",
   "execution_count": 19,
   "id": "8e9c08d5",
   "metadata": {},
   "outputs": [
    {
     "name": "stdout",
     "output_type": "stream",
     "text": [
      "classes ok\n",
      "properties ok\n",
      "data properties ok\n",
      "{'mapping_name': 'Parent_Class_Mapping', 'label': 'ParentClass', 'target': 'http://www.semanticweb.org/tomk/ontologies/2023/6/sample#someClass'} 0\n",
      "{'mapping_name': 'Class_Mapping', 'label': 'Class', 'target': 'http://www.semanticweb.org/tomk/ontologies/2023/6/sample#someClass', 'parent_label': 'ParentClass'} 0\n",
      "{'mapping_name': 'Property_Mapping', 'target': 'http://www.semanticweb.org/tomk/ontologies/2023/6/sample#someProperty', 'domain': 'Class', 'range': 'Property'} 1\n",
      "{'mapping_name': 'DataProperty_Mapping', 'target': 'http://www.semanticweb.org/tomk/ontologies/2023/6/sample#someDataProperty', 'domain': 'Class', 'range': 'DataProperty'} 2\n"
     ]
    }
   ],
   "source": [
    "r = process_serialisation(data)"
   ]
  },
  {
   "cell_type": "code",
   "execution_count": 24,
   "id": "bab097b2",
   "metadata": {},
   "outputs": [
    {
     "name": "stdout",
     "output_type": "stream",
     "text": [
      "<?xml version='1.0' encoding='utf-8'?>\n",
      "<!--\n",
      "Sample Schema Name\n",
      "-->\n",
      "<rdf:RDF xmlns:=\"http://www.w3.org/2002/07/owl#\" xmlns:xml:base=\"http://www.w3.org/2002/07/owl\" xmlns:rdf=\"http://www.w3.org/1999/02/22-rdf-syntax-ns#\" xmlns:xml:owl=\"http://www.w3.org/2002/07/owl#\" xmlns:dc=\"http://purl.org/dc/elements/1.1/\" xmlns:rdfs=\"http://www.w3.org/2000/01/rdf-schema#\" xmlns:ser=\"http://www.semanticweb.org/tomk/ontologies/2022/11/serialization#\">\n",
      "\t<!--///////////////////////////////////////////////////////////////////////////////////////\n",
      "    //\n",
      "    // Serialization Classes - these should remain static\n",
      "    // High level serialization classes defined to describe a given Serialization\n",
      "    //\n",
      "    ///////////////////////////////////////////////////////////////////////////////////////-->\n",
      "\t<Class rdf:about=\"http://www.semanticweb.org/tomk/ontologies/2022/11/serialization#Serialization\" />\n",
      "\t<Class rdf:about=\"http://www.semanticweb.org/tomk/ontologies/2022/11/serialization#Mapping\" />\n",
      "\t<Class rdf:about=\"http://www.semanticweb.org/tomk/ontologies/2022/11/serialization#MetaClass\" />\n",
      "\t<Class rdf:about=\"http://www.semanticweb.org/tomk/ontologies/2022/11/serialization#MetaProperty\" />\n",
      "\t<Class rdf:about=\"http://www.semanticweb.org/tomk/ontologies/2022/11/serialization#MetaDataProperty\" />\n",
      "\t<!--///////////////////////////////////////////////////////////////////////////////////////\n",
      "    //\n",
      "    // Annotation properties - these should remain static\n",
      "    // These are the internal technical components used by the loading/serialization process\n",
      "    //\n",
      "    ///////////////////////////////////////////////////////////////////////////////////////-->\n",
      "\t<AnnotationProperty rdf:about=\"http://www.semanticweb.org/tomk/ontologies/2022/11/serialization#ContainsMapping\" />\n",
      "\t<AnnotationProperty rdf:about=\"http://www.semanticweb.org/tomk/ontologies/2022/11/serialization#MappingMetaTarget\" />\n",
      "\t<AnnotationProperty rdf:about=\"http://www.semanticweb.org/tomk/ontologies/2022/11/serialization#MappingDomain\" />\n",
      "\t<AnnotationProperty rdf:about=\"http://www.semanticweb.org/tomk/ontologies/2022/11/serialization#MappingRange\" />\n",
      "\t<AnnotationProperty rdf:about=\"http://www.semanticweb.org/tomk/ontologies/2022/11/serialization#MappingMetaTarget\" />\n",
      "\t<AnnotationProperty rdf:about=\"http://www.semanticweb.org/tomk/ontologies/2022/11/serialization#SerializationLabel\" />\n",
      "\t<AnnotationProperty rdf:about=\"http://www.semanticweb.org/tomk/ontologies/2022/11/serialization#SerializationParentLabel\" />\n",
      "\t<!--\n",
      "    \n",
      "    ///////////////////////////////////////////////////////////////////////////////////////\n",
      "    //\n",
      "    // Individuals - here define all the final target classes and properties \n",
      "    // (Using the MetaClass, MetaProperty and MetaDataProperty that will be \n",
      "    // referenced by the serialization and populated by individual Mapping elements\n",
      "    // using the MappingMetaTarget pointer. ) \n",
      "    // For any given ontology (or ontologies) this collection identifies and names key\n",
      "    // Classes, Properties and Data Properties that the Serialization function will populate. \n",
      "    //\n",
      "    ///////////////////////////////////////////////////////////////////////////////////////\n",
      "     -->\n",
      "\t<NamedIndividual rdf:about=\"http://www.semanticweb.org/tomk/ontologies/2023/6/sample#someClass\">\n",
      "\t\t<rdf:type rdf:resource=\"http://www.semanticweb.org/tomk/ontologies/2022/11/serialization#MetaClass\" />\n",
      "\t</NamedIndividual>\n",
      "\t<NamedIndividual rdf:about=\"http://www.semanticweb.org/tomk/ontologies/2023/6/sample#someProperty\">\n",
      "\t\t<rdf:type rdf:resource=\"http://www.semanticweb.org/tomk/ontologies/2022/11/serialization#MetaProperty\" />\n",
      "\t</NamedIndividual>\n",
      "\t<NamedIndividual rdf:about=\"http://www.semanticweb.org/tomk/ontologies/2023/6/sample#someDataProperty\">\n",
      "\t\t<rdf:type rdf:resource=\"http://www.semanticweb.org/tomk/ontologies/2022/11/serialization#MetaDataProperty\" />\n",
      "\t</NamedIndividual>\n",
      "\t<!--\n",
      "    \n",
      "    ///////////////////////////////////////////////////////////////////////////////////////\n",
      "    //\n",
      "    // Mappings - define all the Mappings that will be collated by this serialisation to\n",
      "    // pull content from the `flat` recordset and assign it to classes, properties or \n",
      "    // data properties as defined in the overarching ontology. \n",
      "    //\n",
      "    ///////////////////////////////////////////////////////////////////////////////////////\n",
      "     -->\n",
      "\t<NamedIndividual rdf:about=\"http://www.semanticweb.org/tomk/ontologies/2023/6/sample#Parent_Class_Mapping\">\n",
      "\t\t<rdf:type rdf:resource=\"http://www.semanticweb.org/tomk/ontologies/2022/11/serialization#Mapping\" />\n",
      "\t\t<ser:MappingMetaTarget rdf:resource=\"http://www.semanticweb.org/tomk/ontologies/2023/6/sample#someClass\" />\n",
      "\t\t<ser:SerializationLabel>ParentClass</ser:SerializationLabel>\n",
      "\t</NamedIndividual>\n",
      "\t<NamedIndividual rdf:about=\"http://www.semanticweb.org/tomk/ontologies/2023/6/sample#Class_Mapping\">\n",
      "\t\t<rdf:type rdf:resource=\"http://www.semanticweb.org/tomk/ontologies/2022/11/serialization#Mapping\" />\n",
      "\t\t<ser:MappingMetaTarget rdf:resource=\"http://www.semanticweb.org/tomk/ontologies/2023/6/sample#someClass\" />\n",
      "\t\t<ser:SerializationLabel>Class</ser:SerializationLabel>\n",
      "\t\t<ser:SerializationParentLabel>ParentClass</ser:SerializationParentLabel>\n",
      "\t</NamedIndividual>\n",
      "\t<NamedIndividual rdf:about=\"http://www.semanticweb.org/tomk/ontologies/2023/6/sample#Property_Mapping\">\n",
      "\t\t<rdf:type rdf:resource=\"http://www.semanticweb.org/tomk/ontologies/2022/11/serialization#Mapping\" />\n",
      "\t\t<ser:MappingMetaTarget rdf:resource=\"http://www.semanticweb.org/tomk/ontologies/2023/6/sample#someProperty\" />\n",
      "\t\t<ser:MappingDomain>Class</ser:MappingDomain>\n",
      "\t\t<ser:MappingRange>Property</ser:MappingRange>\n",
      "\t</NamedIndividual>\n",
      "\t<NamedIndividual rdf:about=\"http://www.semanticweb.org/tomk/ontologies/2023/6/sample#DataProperty_Mapping\">\n",
      "\t\t<rdf:type rdf:resource=\"http://www.semanticweb.org/tomk/ontologies/2022/11/serialization#Mapping\" />\n",
      "\t\t<ser:MappingMetaTarget rdf:resource=\"http://www.semanticweb.org/tomk/ontologies/2023/6/sample#someDataProperty\" />\n",
      "\t\t<ser:MappingDomain>Class</ser:MappingDomain>\n",
      "\t\t<ser:MappingRange>DataProperty</ser:MappingRange>\n",
      "\t</NamedIndividual>\n",
      "\t<!--<!--\n",
      "    \n",
      "    ///////////////////////////////////////////////////////////////////////////////////////\n",
      "    //\n",
      "    // Serialization - define the named Serialization Object and assign the set of \n",
      "    // mappings that belong to that object.\n",
      "    //\n",
      "    ///////////////////////////////////////////////////////////////////////////////////////\n",
      "     -->-->\n",
      "\t<NamedIndividual rdf:about=\"http://www.semanticweb.org/tomk/ontologies/2023/6/sample#Sample_Serialisation\">\n",
      "\t\t<rdf:type rdf:resource=\"http://www.semanticweb.org/tomk/ontologies/2022/11/serialization#Serialization\" />\n",
      "\t\t<ser:ContainsMapping rdf:resource=\"http://www.semanticweb.org/tomk/ontologies/2023/6/sample#Parent_Class_Mapping\" />\n",
      "\t\t<ser:ContainsMapping rdf:resource=\"http://www.semanticweb.org/tomk/ontologies/2023/6/sample#Class_Mapping\" />\n",
      "\t\t<ser:ContainsMapping rdf:resource=\"http://www.semanticweb.org/tomk/ontologies/2023/6/sample#Property_Mapping\" />\n",
      "\t\t<ser:ContainsMapping rdf:resource=\"http://www.semanticweb.org/tomk/ontologies/2023/6/sample#DataProperty_Mapping\" />\n",
      "\t\t<rdfs:label>Sample Serialisation</rdfs:label>\n",
      "\t</NamedIndividual>\n",
      "</rdf:RDF>\n"
     ]
    }
   ],
   "source": [
    "ET.indent(r, space=\"\\t\", level=0)\n",
    "comment = \"\"\"<!--\n",
    "Sample Schema Name\n",
    "-->\\n\"\"\"\n",
    "xml_text = \"\"\"<?xml version='1.0' encoding='utf-8'?>\\n\"\"\" + comment + ET.tostring(r).decode()\n",
    "print(xml_text)"
   ]
  },
  {
   "cell_type": "code",
   "execution_count": null,
   "id": "ca0c4b45",
   "metadata": {},
   "outputs": [],
   "source": []
  },
  {
   "cell_type": "code",
   "execution_count": null,
   "id": "b6bc7fe6",
   "metadata": {},
   "outputs": [],
   "source": []
  },
  {
   "cell_type": "code",
   "execution_count": 21,
   "id": "af108dd5",
   "metadata": {},
   "outputs": [
    {
     "ename": "AssertionError",
     "evalue": "",
     "output_type": "error",
     "traceback": [
      "\u001b[0;31m---------------------------------------------------------------------------\u001b[0m",
      "\u001b[0;31mAssertionError\u001b[0m                            Traceback (most recent call last)",
      "Cell \u001b[0;32mIn [21], line 1\u001b[0m\n\u001b[0;32m----> 1\u001b[0m \u001b[38;5;28;01massert\u001b[39;00m \u001b[38;5;28;01mFalse\u001b[39;00m\n",
      "\u001b[0;31mAssertionError\u001b[0m: "
     ]
    }
   ],
   "source": [
    "assert False"
   ]
  },
  {
   "cell_type": "code",
   "execution_count": null,
   "id": "a36e24d5",
   "metadata": {},
   "outputs": [],
   "source": [
    "import ipywidgets as widgets"
   ]
  },
  {
   "cell_type": "markdown",
   "id": "ebce37db",
   "metadata": {},
   "source": [
    "https://ipywidgets.readthedocs.io/en/latest/examples/Widget%20List.html"
   ]
  },
  {
   "cell_type": "code",
   "execution_count": null,
   "id": "d149c98d",
   "metadata": {
    "scrolled": false
   },
   "outputs": [],
   "source": [
    "%matplotlib inline\n",
    "from ipywidgets import interactive\n",
    "import matplotlib.pyplot as plt\n",
    "import numpy as np\n",
    "\n",
    "def f(m, b):\n",
    "    plt.figure(2)\n",
    "    x = np.linspace(-10, 10, num=1000)\n",
    "    plt.plot(x, m * x + b)\n",
    "    plt.ylim(-5, 5)\n",
    "    plt.show()\n",
    "\n",
    "interactive_plot = interactive(f, m=(-2.0, 2.0), b=(-3, 3, 0.5))\n",
    "output = interactive_plot.children[-1]\n",
    "output.layout.height = '450px'\n",
    "interactive_plot"
   ]
  },
  {
   "cell_type": "code",
   "execution_count": null,
   "id": "8f6bbe7b",
   "metadata": {},
   "outputs": [],
   "source": [
    "from ipywidgets import IntProgress\n",
    "from IPython.display import display\n",
    "import time\n",
    "\n",
    "max_count = 100\n",
    "\n",
    "f = IntProgress(min=0, max=max_count) # instantiate the bar\n",
    "display(f) # display the bar\n",
    "\n",
    "count = 0\n",
    "while count <= max_count:\n",
    "    f.value += 1 # signal to increment the progress bar\n",
    "    time.sleep(.01)\n",
    "    count += 1"
   ]
  },
  {
   "cell_type": "code",
   "execution_count": null,
   "id": "8381792a",
   "metadata": {},
   "outputs": [],
   "source": [
    "caption = widgets.Label(value='Changes in source values are reflected in target1')\n",
    "source, target1 = widgets.IntSlider(description='Source'),\\\n",
    "                  widgets.IntSlider(description='Target 1')\n",
    "dl = widgets.dlink((source, 'value'), (target1, 'value'))\n",
    "display(caption, source, target1)\n"
   ]
  },
  {
   "cell_type": "code",
   "execution_count": null,
   "id": "c605124b",
   "metadata": {},
   "outputs": [],
   "source": [
    "data_labels = [\"ParentClass\", \"Class\", \"Property\", \"DataProperty\"]\n",
    "\n",
    "\n",
    "_user_mapping_name = widgets.Text(\n",
    "    value='Mapping_Name',\n",
    "    placeholder='Enter name of the mapping',\n",
    "    description='String:',\n",
    "    disabled=False   \n",
    ")\n",
    "\n",
    "mapping_target_options = {p[0][p[0].find(\"#\")+1:]:p for p in generate_meta_definitions(sample)}\n",
    "\n",
    "_user_mapping_target = widgets.Combobox(\n",
    "    # value='John',\n",
    "    placeholder='Choose Target',\n",
    "    options=list(mapping_target_options.keys()),\n",
    "    description='Combobox:',\n",
    "    ensure_option=True,\n",
    "    disabled=False\n",
    ")\n",
    "\n",
    "_user_label_or_domain = widgets.Combobox(\n",
    "    # value='John',\n",
    "    placeholder='Enter Label or Domain',\n",
    "    options=list(data_labels),\n",
    "    description='Combobox:',\n",
    "    ensure_option=True,\n",
    "    disabled=False\n",
    ")\n",
    "\n",
    "_user_range = widgets.Combobox(\n",
    "    # value='John',\n",
    "    placeholder='Enter Range',\n",
    "    options=list(data_labels),\n",
    "    description='Combobox:',\n",
    "    ensure_option=True,\n",
    "    disabled=False\n",
    ")\n",
    "\n",
    "\n",
    "\n",
    "\n",
    "def f(a,b,c):\n",
    "    print( str((a,b,c)))\n",
    "\n",
    "def get_ttype(umt):\n",
    "    return mapping_target_options[umt]\n",
    "    \n",
    "\n",
    "\n",
    "out_text = widgets.Text(\n",
    "    value=\"test\",\n",
    "    placeholder='Type something',\n",
    "    description='String:',\n",
    "    disabled=False   \n",
    ")\n",
    "\n",
    "input_widgets_list = [_user_mapping_name, _user_mapping_target, _user_label_or_domain, _user_range]\n",
    "\n",
    "#out = interactive(create_mapping, **{\"name\" : _user_mapping_name.value, \"target\" : _user_mapping_target.value, \"ttype\" : _user_label_or_domain.value,  \"properties\" : {}})\n",
    "\n",
    "widgets.HBox([widgets.VBox(input_widgets_list)])\n"
   ]
  },
  {
   "cell_type": "code",
   "execution_count": null,
   "id": "c94fbf76",
   "metadata": {},
   "outputs": [],
   "source": [
    "out"
   ]
  },
  {
   "cell_type": "code",
   "execution_count": null,
   "id": "5ac62cdb",
   "metadata": {},
   "outputs": [],
   "source": [
    "test = widgets.interactive_output(create_mapping, {'name': _user_mapping_name, 'target': _user_mapping_target, 'ttype': _user_label_or_domain})\n",
    "test"
   ]
  },
  {
   "cell_type": "code",
   "execution_count": null,
   "id": "13e4f7a7",
   "metadata": {},
   "outputs": [],
   "source": [
    "generate_meta_definitions(sample)[0][0].find(\"#\")"
   ]
  },
  {
   "cell_type": "code",
   "execution_count": null,
   "id": "0b0b920e",
   "metadata": {},
   "outputs": [],
   "source": [
    "a = widgets.IntSlider(description='a')\n",
    "b = widgets.IntSlider(description='b')\n",
    "c = widgets.IntSlider(description='c')\n",
    "def f(a, b, c):\n",
    "    print('{}*{}*{}={}'.format(a, b, c, a*b*c))\n",
    "\n",
    "out = widgets.interactive_output(f, {'a': a, 'b': b, 'c': c})\n",
    "\n",
    "widgets.HBox([widgets.VBox([a, b, c]), out])"
   ]
  },
  {
   "cell_type": "code",
   "execution_count": null,
   "id": "f86dc808",
   "metadata": {},
   "outputs": [],
   "source": []
  }
 ],
 "metadata": {
  "kernelspec": {
   "display_name": "devpy",
   "language": "python",
   "name": "devpy"
  },
  "language_info": {
   "codemirror_mode": {
    "name": "ipython",
    "version": 3
   },
   "file_extension": ".py",
   "mimetype": "text/x-python",
   "name": "python",
   "nbconvert_exporter": "python",
   "pygments_lexer": "ipython3",
   "version": "3.10.6"
  }
 },
 "nbformat": 4,
 "nbformat_minor": 5
}
