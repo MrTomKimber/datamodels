{
 "cells": [
  {
   "cell_type": "code",
   "execution_count": 1,
   "id": "663ffec1-f275-4392-9911-18a71a19c930",
   "metadata": {},
   "outputs": [],
   "source": [
    "from IPython.display import Image, Markdown, display\n",
    "\n",
    "import base64"
   ]
  },
  {
   "cell_type": "code",
   "execution_count": 2,
   "id": "d9c0ef2a-a234-4dca-a762-4adb6ec6fc54",
   "metadata": {},
   "outputs": [
    {
     "name": "stdout",
     "output_type": "stream",
     "text": [
      "['/usr/lib/python310.zip', '/usr/lib/python3.10', '/usr/lib/python3.10/lib-dynload', '', '/home/tomk/environment/devpy/lib/python3.10/site-packages', '/home/tomk/Documents/Coding/gitHub/digraph/src', '../src/models/DMCAR']\n"
     ]
    }
   ],
   "source": [
    "import pandas as pd\n",
    "import re\n",
    "\n",
    "import os, sys\n",
    "path_to_import = \"../src/models/DMCAR\"\n",
    "if path_to_import not in sys.path:\n",
    "    sys.path.append(path_to_import)\n",
    "import tomermaid\n",
    "\n",
    "print(sys.path)"
   ]
  },
  {
   "cell_type": "code",
   "execution_count": 3,
   "id": "7fec83d8-f43d-402e-aec2-ddef51b39e28",
   "metadata": {},
   "outputs": [],
   "source": [
    "def mm_ink(graphbytes):\n",
    "  \"\"\"Given a bytes object holding a Mermaid-format graph, return a URL that will generate the image.\"\"\"\n",
    "  base64_bytes = base64.b64encode(graphbytes)\n",
    "  base64_string = base64_bytes.decode(\"ascii\")\n",
    "  return \"https://mermaid.ink/img/\" + base64_string\n",
    "\n",
    "def mm_display(graphbytes):\n",
    "  \"\"\"Given a bytes object holding a Mermaid-format graph, display it.\"\"\"\n",
    "  display(Image(url=mm_ink(graphbytes)))\n",
    "\n",
    "def mm(graph):\n",
    "  \"\"\"Given a string containing a Mermaid-format graph, display it.\"\"\"\n",
    "  graphbytes = graph.encode(\"ascii\")\n",
    "  mm_display(graphbytes)\n",
    "\n",
    "def mm_link(graph):\n",
    "  \"\"\"Given a string containing a Mermaid-format graph, return URL for display.\"\"\"\n",
    "  graphbytes = graph.encode(\"ascii\")\n",
    "  return mm_ink(graphbytes)\n",
    "  \n",
    "def mm_path(path):\n",
    "  \"\"\"Given a path to a file containing a Mermaid-format graph, display it\"\"\"\n",
    "  with open(path, 'rb') as f:\n",
    "    graphbytes = f.read()\n",
    "  mm_display(graphbytes)\n",
    "\n"
   ]
  },
  {
   "cell_type": "code",
   "execution_count": 4,
   "id": "29da4405-964e-4a82-b0d5-562e2932b70a",
   "metadata": {},
   "outputs": [],
   "source": [
    "e = \"Payment\"\n",
    "attribs = [{\"type\" : \"str\", \n",
    "            \"name\" : \"id\", \n",
    "            \"isPK\" : \"Yes\", \n",
    "            \"isFK\" : \"No\", \n",
    "            \"nulls\" : \"No\", \n",
    "            \"description\" : \"Unique Identifier\"}, \n",
    "           {\"type\" : \"str\", \n",
    "            \"name\" : \"type\", \n",
    "            \"isPK\" : \"No\", \n",
    "            \"isFK\" : \"No\", \n",
    "            \"nulls\" : \"No\", \n",
    "            \"description\" : \"Describes the type of the payment\"}, \n",
    "           {\"type\" : \"float\", \n",
    "            \"name\" : \"Amount\", \n",
    "            \"isPK\" : \"No\", \n",
    "            \"isFK\" : \"No\", \n",
    "            \"nulls\" : \"No\", \n",
    "            \"description\" : \"The amount of the payment in associated currency\"}, \n",
    "           {\"type\" : \"str\", \n",
    "            \"name\" : \"Currency\", \n",
    "            \"isPK\" : \"No\", \n",
    "            \"isFK\" : \"No\", \n",
    "            \"nulls\" : \"No\", \n",
    "            \"description\" : \"The 3-char currency code of the amount in the payment\"}, \n",
    "          ]"
   ]
  },
  {
   "cell_type": "code",
   "execution_count": 5,
   "id": "e03a1abc-c2b2-4f0d-816c-791ee7b491f5",
   "metadata": {},
   "outputs": [
    {
     "name": "stdout",
     "output_type": "stream",
     "text": [
      "\tPayment {\n",
      "    \t\tstr id PK \"Unique Identifier\" \n",
      "\t\tstr type  \"Describes the type of the payment\" \n",
      "\t\tfloat Amount  \"The amount of the payment in associated currency\" \n",
      "\t\tstr Currency  \"The 3-char currency code of the amount in the payment\" \n",
      "    \t}\n",
      "LEFT ||--o{ RIGHT : JOIN\n"
     ]
    }
   ],
   "source": [
    "print(tomermaid.format_erd_node(e, attribs) + \"\\n\" + tomermaid.format_erd_relationship(\"JOIN\", \"LEFT\", \"RIGHT\", \"one\", \"no\", \"many\", \"yes\"))"
   ]
  },
  {
   "cell_type": "code",
   "execution_count": 6,
   "id": "eb2c420b-3659-48ca-bb6f-031b279e1835",
   "metadata": {},
   "outputs": [
    {
     "data": {
      "text/html": [
       "<img src=\"https://mermaid.ink/img/ZXJEaWFncmFtCiAJUGF5bWVudCB7CiAgICAJCXN0ciBpZCBQSyAiVW5pcXVlIElkZW50aWZpZXIiIAoJCXN0ciB0eXBlICAiRGVzY3JpYmVzIHRoZSB0eXBlIG9mIHRoZSBwYXltZW50IiAKCQlmbG9hdCBBbW91bnQgICJUaGUgYW1vdW50IG9mIHRoZSBwYXltZW50IGluIGFzc29jaWF0ZWQgY3VycmVuY3kiIAoJCXN0ciBDdXJyZW5jeSAgIlRoZSAzLWNoYXIgY3VycmVuY3kgY29kZSBvZiB0aGUgYW1vdW50IGluIHRoZSBwYXltZW50IiAKICAgIAl9CkxFRlQgfHwtLW97IFJJR0hUIDogSk9JTg==\"/>"
      ],
      "text/plain": [
       "<IPython.core.display.Image object>"
      ]
     },
     "metadata": {},
     "output_type": "display_data"
    }
   ],
   "source": [
    "mm(\"\"\"erDiagram\\n \"\"\" + tomermaid.format_erd_node(e, attribs) + \"\\n\" + tomermaid.format_erd_relationship(\"JOIN\", \"LEFT\", \"RIGHT\", \"one\", \"no\", \"many\", \"yes\"))"
   ]
  },
  {
   "cell_type": "code",
   "execution_count": 7,
   "id": "b9baa9d7-edc2-41d4-9d55-9bc5dde43001",
   "metadata": {},
   "outputs": [
    {
     "data": {
      "text/html": [
       "<img src=\"https://mermaid.ink/img/ZXJEaWFncmFtIAoJQ0FSIHx8LS1veyBOQU1FRC1EUklWRVIgOiBhbGxvd3MgCglDQVIgeyAKCQlzdHJpbmcgcmVnaXN0cmF0aW9uTnVtYmVyIFBLIAoJCXN0cmluZyBtYWtlIHN0cmluZyBtb2RlbCAKCQlzdHJpbmdbXSBwYXJ0cyAKCQl9IAoJUEVSU09OIHx8LS1veyBOQU1FRC1EUklWRVIgOiBpcyAKCVBFUlNPTiB7IAoJCXN0cmluZyBkcml2ZXJzTGljZW5zZSBQSyAiVGhlIGxpY2Vuc2UgIyIgCgkJc3RyaW5nKDk5KSBmaXJzdE5hbWUgIk9ubHkgOTkgY2hhcmFjdGVycyBhcmUgYWxsb3dlZCIgCgkJc3RyaW5nIGxhc3ROYW1lIAoJCXN0cmluZyBwaG9uZSBVSyBpbnQgYWdlIAoJCX0gCglOQU1FRC1EUklWRVIgeyAKCQlzdHJpbmcgY2FyUmVnaXN0cmF0aW9uTnVtYmVyIFBLLCBGSyAKCQlzdHJpbmcgZHJpdmVyTGljZW5jZSBQSywgRksgCgkJfSAKCU1BTlVGQUNUVVJFUiBvbmx5IG9uZSB0byB6ZXJvIG9yIG1vcmUgQ0FSIDogbWFrZXM=\"/>"
      ],
      "text/plain": [
       "<IPython.core.display.Image object>"
      ]
     },
     "metadata": {},
     "output_type": "display_data"
    }
   ],
   "source": [
    "mm(\"\"\"erDiagram \n",
    "\tCAR ||--o{ NAMED-DRIVER : allows \n",
    "\tCAR { \n",
    "\t\tstring registrationNumber PK \n",
    "\t\tstring make string model \n",
    "\t\tstring[] parts \n",
    "\t\t} \n",
    "\tPERSON ||--o{ NAMED-DRIVER : is \n",
    "\tPERSON { \n",
    "\t\tstring driversLicense PK \"The license #\" \n",
    "\t\tstring(99) firstName \"Only 99 characters are allowed\" \n",
    "\t\tstring lastName \n",
    "\t\tstring phone UK int age \n",
    "\t\t} \n",
    "\tNAMED-DRIVER { \n",
    "\t\tstring carRegistrationNumber PK, FK \n",
    "\t\tstring driverLicence PK, FK \n",
    "\t\t} \n",
    "\tMANUFACTURER only one to zero or more CAR : makes\"\"\")"
   ]
  },
  {
   "cell_type": "code",
   "execution_count": null,
   "id": "0f111de9-55d6-4f09-a80f-7cb6810edd3d",
   "metadata": {},
   "outputs": [],
   "source": []
  },
  {
   "cell_type": "code",
   "execution_count": null,
   "id": "1c76fdb1-d27a-4129-888e-242d7bc8aa4a",
   "metadata": {},
   "outputs": [],
   "source": []
  },
  {
   "cell_type": "code",
   "execution_count": 8,
   "id": "f0186e7c-f5e7-4667-9ed0-84d7fca9a9ce",
   "metadata": {},
   "outputs": [],
   "source": [
    "model_df = pd.read_excel(\"payment_example.xlsx\")"
   ]
  },
  {
   "cell_type": "code",
   "execution_count": 9,
   "id": "bd0dc52b-353c-4fed-840e-f28ab7073ca2",
   "metadata": {},
   "outputs": [],
   "source": [
    "import marshaller"
   ]
  },
  {
   "cell_type": "code",
   "execution_count": 10,
   "id": "d5a51d15-4862-4fcb-82ed-2745d1058657",
   "metadata": {},
   "outputs": [
    {
     "name": "stdout",
     "output_type": "stream",
     "text": [
      "hostedByChannel\n",
      "receivedOver\n",
      "referencedInMedia\n"
     ]
    },
    {
     "name": "stderr",
     "output_type": "stream",
     "text": [
      "/tmp/ipykernel_524426/807506178.py:15: FutureWarning: When grouping with a length-1 list-like, you will need to pass a length-1 tuple to get_group in a future version of pandas. Pass `(name,)` instead of `name` to silence this warning.\n",
      "  relationship = marshaller.Relationship.marshal_from_DMCAR(model_df.groupby([\"Relationship\"]).get_group(r).iloc[0])\n",
      "/tmp/ipykernel_524426/807506178.py:15: FutureWarning: When grouping with a length-1 list-like, you will need to pass a length-1 tuple to get_group in a future version of pandas. Pass `(name,)` instead of `name` to silence this warning.\n",
      "  relationship = marshaller.Relationship.marshal_from_DMCAR(model_df.groupby([\"Relationship\"]).get_group(r).iloc[0])\n",
      "/tmp/ipykernel_524426/807506178.py:15: FutureWarning: When grouping with a length-1 list-like, you will need to pass a length-1 tuple to get_group in a future version of pandas. Pass `(name,)` instead of `name` to silence this warning.\n",
      "  relationship = marshaller.Relationship.marshal_from_DMCAR(model_df.groupby([\"Relationship\"]).get_group(r).iloc[0])\n"
     ]
    }
   ],
   "source": [
    "classes=[]\n",
    "for g in model_df.groupby(\"Class\").groups:\n",
    "    classes.append( marshaller.Class.marshal_from_DMCAR(model_df.groupby(\"Class\").get_group(g).iloc[0]))\n",
    "\n",
    "attributes=[]\n",
    "for a in model_df.groupby([\"Class\", \"Attribute\"]).groups:\n",
    "    if all([not pd.isna(v) for v in a]):\n",
    "        attribute = marshaller.Attribute.marshal_from_DMCAR(model_df.groupby([\"Class\", \"Attribute\"]).get_group(a).iloc[0])\n",
    "        attribute.set_parents(classes)\n",
    "        attributes.append( attribute )\n",
    "\n",
    "relationships=[]\n",
    "for r in model_df.groupby([\"Relationship\"]).groups:\n",
    "    print(r)\n",
    "    relationship = marshaller.Relationship.marshal_from_DMCAR(model_df.groupby([\"Relationship\"]).get_group(r).iloc[0])\n",
    "    relationship.set_parents(classes, attributes)\n",
    "    relationships.append( relationship )\n"
   ]
  },
  {
   "cell_type": "code",
   "execution_count": 11,
   "id": "fcb532fe-3710-43c0-86f5-e442a37bbb3b",
   "metadata": {},
   "outputs": [
    {
     "data": {
      "text/plain": [
       "[Relationship(namespace='IconPaymentsConceptual', name='hostedByChannel', label=nan, description='references the channel that handled the originating media', type=nan, from_namespace='IconPaymentsConceptual', from_class_name='Media', from_cardinality='One', from_cardinality_one=True, to_namespace='IconPaymentsConceptual', to_class_name='Channel', to_cardinality='Many', to_cardinality_one=False, from_class=Class(namespace='IconPaymentsConceptual', name='Media', label='Media', description='Media containing payment messaging', attributes=None), from_attribute_name=nan, from_attribute=None, to_class=Class(namespace='IconPaymentsConceptual', name='Channel', label='Channel', description='Text describing a channel', attributes=None), to_attribute_name=nan, to_attribute=None),\n",
       " Relationship(namespace='IconPaymentsConceptual', name='receivedOver', label=nan, description='describes the channel over which the payment was initially triggered', type='Conceptual', from_namespace='IconPaymentsConceptual', from_class_name='Payment', from_cardinality='Many', from_cardinality_one=False, to_namespace='IconPaymentsConceptual', to_class_name='Channel', to_cardinality='One', to_cardinality_one=True, from_class=Class(namespace='IconPaymentsConceptual', name='Payment', label='Payment', description='Something to do with a payment', attributes=None), from_attribute_name=nan, from_attribute=None, to_class=Class(namespace='IconPaymentsConceptual', name='Channel', label='Channel', description='Text describing a channel', attributes=None), to_attribute_name=nan, to_attribute=None),\n",
       " Relationship(namespace='IconPaymentsConceptual', name='referencedInMedia', label=nan, description='references the media that contains the original instructions used to trigger the payment', type='Conceptual', from_namespace='IconPaymentsConceptual', from_class_name='Payment', from_cardinality='Many', from_cardinality_one=False, to_namespace='IconPaymentsConceptual', to_class_name='Media', to_cardinality='One', to_cardinality_one=True, from_class=Class(namespace='IconPaymentsConceptual', name='Payment', label='Payment', description='Something to do with a payment', attributes=None), from_attribute_name=nan, from_attribute=None, to_class=Class(namespace='IconPaymentsConceptual', name='Media', label='Media', description='Media containing payment messaging', attributes=None), to_attribute_name=nan, to_attribute=None)]"
      ]
     },
     "execution_count": 11,
     "metadata": {},
     "output_type": "execute_result"
    }
   ],
   "source": [
    "relationships"
   ]
  },
  {
   "cell_type": "code",
   "execution_count": 12,
   "id": "1246ed22-ca15-48c3-9bb1-c04718bd68c4",
   "metadata": {},
   "outputs": [
    {
     "data": {
      "text/plain": [
       "Relationship(namespace='IconPaymentsConceptual', name='hostedByChannel', label=nan, description='references the channel that handled the originating media', type=nan, from_namespace='IconPaymentsConceptual', from_class_name='Media', from_cardinality='One', from_cardinality_one=True, to_namespace='IconPaymentsConceptual', to_class_name='Channel', to_cardinality='Many', to_cardinality_one=False, from_class=Class(namespace='IconPaymentsConceptual', name='Media', label='Media', description='Media containing payment messaging', attributes=None), from_attribute_name=nan, from_attribute=None, to_class=Class(namespace='IconPaymentsConceptual', name='Channel', label='Channel', description='Text describing a channel', attributes=None), to_attribute_name=nan, to_attribute=None)"
      ]
     },
     "execution_count": 12,
     "metadata": {},
     "output_type": "execute_result"
    }
   ],
   "source": [
    "relationships[0]"
   ]
  },
  {
   "cell_type": "code",
   "execution_count": 13,
   "id": "d61d5ea2-5d54-4102-a680-dd8763f41df6",
   "metadata": {},
   "outputs": [
    {
     "data": {
      "text/html": [
       "<div>\n",
       "<style scoped>\n",
       "    .dataframe tbody tr th:only-of-type {\n",
       "        vertical-align: middle;\n",
       "    }\n",
       "\n",
       "    .dataframe tbody tr th {\n",
       "        vertical-align: top;\n",
       "    }\n",
       "\n",
       "    .dataframe thead th {\n",
       "        text-align: right;\n",
       "    }\n",
       "</style>\n",
       "<table border=\"1\" class=\"dataframe\">\n",
       "  <thead>\n",
       "    <tr style=\"text-align: right;\">\n",
       "      <th></th>\n",
       "      <th>Class</th>\n",
       "      <th>Attribute</th>\n",
       "    </tr>\n",
       "  </thead>\n",
       "  <tbody>\n",
       "    <tr>\n",
       "      <th>0</th>\n",
       "      <td>Payment</td>\n",
       "      <td>PaymentId</td>\n",
       "    </tr>\n",
       "    <tr>\n",
       "      <th>1</th>\n",
       "      <td>Channel</td>\n",
       "      <td>NaN</td>\n",
       "    </tr>\n",
       "    <tr>\n",
       "      <th>2</th>\n",
       "      <td>Media</td>\n",
       "      <td>NaN</td>\n",
       "    </tr>\n",
       "    <tr>\n",
       "      <th>3</th>\n",
       "      <td>Block</td>\n",
       "      <td>NaN</td>\n",
       "    </tr>\n",
       "    <tr>\n",
       "      <th>4</th>\n",
       "      <td>Entry</td>\n",
       "      <td>NaN</td>\n",
       "    </tr>\n",
       "    <tr>\n",
       "      <th>5</th>\n",
       "      <td>PartyRole</td>\n",
       "      <td>NaN</td>\n",
       "    </tr>\n",
       "    <tr>\n",
       "      <th>6</th>\n",
       "      <td>NaN</td>\n",
       "      <td>NaN</td>\n",
       "    </tr>\n",
       "  </tbody>\n",
       "</table>\n",
       "</div>"
      ],
      "text/plain": [
       "       Class  Attribute\n",
       "0    Payment  PaymentId\n",
       "1    Channel        NaN\n",
       "2      Media        NaN\n",
       "3      Block        NaN\n",
       "4      Entry        NaN\n",
       "5  PartyRole        NaN\n",
       "6        NaN        NaN"
      ]
     },
     "execution_count": 13,
     "metadata": {},
     "output_type": "execute_result"
    }
   ],
   "source": [
    "model_df[['Class','Attribute']]"
   ]
  },
  {
   "cell_type": "code",
   "execution_count": 14,
   "id": "82de903b-db71-4206-82c5-40f6b0b32972",
   "metadata": {},
   "outputs": [],
   "source": [
    "for a in attributes:\n",
    "    a.set_parents(classes)"
   ]
  },
  {
   "cell_type": "code",
   "execution_count": 15,
   "id": "b0c7ed3b-371a-42c1-9f68-f80831dcade4",
   "metadata": {},
   "outputs": [
    {
     "data": {
      "text/plain": [
       "[Class(namespace='IconPaymentsConceptual', name='Block', label='Block', description='Location within media where transaction is sourced/referenced', attributes=None),\n",
       " Class(namespace='IconPaymentsConceptual', name='Channel', label='Channel', description='Text describing a channel', attributes=None),\n",
       " Class(namespace='IconPaymentsConceptual', name='Entry', label='Entry', description='A booking entry made in an internal account', attributes=None),\n",
       " Class(namespace='IconPaymentsConceptual', name='Media', label='Media', description='Media containing payment messaging', attributes=None),\n",
       " Class(namespace='IconPaymentsConceptual', name='PartyRole', label='PartyRole', description='A confluence of a Party and a Role that party is playing in the context of this payment', attributes=None),\n",
       " Class(namespace='IconPaymentsConceptual', name='Payment', label='Payment', description='Something to do with a payment', attributes=None)]"
      ]
     },
     "execution_count": 15,
     "metadata": {},
     "output_type": "execute_result"
    }
   ],
   "source": [
    "classes"
   ]
  },
  {
   "cell_type": "code",
   "execution_count": 16,
   "id": "a72af201-71fd-4140-b4a2-35f3a3bbac02",
   "metadata": {},
   "outputs": [
    {
     "data": {
      "text/plain": [
       "[Attribute(parent_class_name='Payment', namespace='IconPaymentsConceptual', name='PaymentId', label='PaymentId', description='An identifier to uniquely reference an individual payment', sequence=0.0, datatype='String', nulls='No', ispk='Yes', parent_class=Class(namespace='IconPaymentsConceptual', name='Payment', label='Payment', description='Something to do with a payment', attributes=None))]"
      ]
     },
     "execution_count": 16,
     "metadata": {},
     "output_type": "execute_result"
    }
   ],
   "source": [
    "attributes"
   ]
  },
  {
   "cell_type": "code",
   "execution_count": 17,
   "id": "f1e3a11d-6dae-4184-b835-ae260e508ef8",
   "metadata": {},
   "outputs": [
    {
     "name": "stdout",
     "output_type": "stream",
     "text": [
      "[]\n",
      "[]\n",
      "[]\n",
      "[]\n",
      "[]\n",
      "[Attribute(parent_class_name='Payment', namespace='IconPaymentsConceptual', name='PaymentId', label='PaymentId', description='An identifier to uniquely reference an individual payment', sequence=0.0, datatype='String', nulls='No', ispk='Yes', parent_class=Class(namespace='IconPaymentsConceptual', name='Payment', label='Payment', description='Something to do with a payment', attributes=None))]\n"
     ]
    },
    {
     "name": "stderr",
     "output_type": "stream",
     "text": [
      "/home/tomk/Documents/Coding/gitHub/datamodels/IDE/../src/models/DMCAR/marshaller.py:256: FutureWarning: When grouping with a length-1 list-like, you will need to pass a length-1 tuple to get_group in a future version of pandas. Pass `(name,)` instead of `name` to silence this warning.\n",
      "  relationship = Relationship.marshal_from_DMCAR(df.groupby([\"Relationship\"]).get_group(r).iloc[0])\n",
      "/home/tomk/Documents/Coding/gitHub/datamodels/IDE/../src/models/DMCAR/marshaller.py:256: FutureWarning: When grouping with a length-1 list-like, you will need to pass a length-1 tuple to get_group in a future version of pandas. Pass `(name,)` instead of `name` to silence this warning.\n",
      "  relationship = Relationship.marshal_from_DMCAR(df.groupby([\"Relationship\"]).get_group(r).iloc[0])\n",
      "/home/tomk/Documents/Coding/gitHub/datamodels/IDE/../src/models/DMCAR/marshaller.py:256: FutureWarning: When grouping with a length-1 list-like, you will need to pass a length-1 tuple to get_group in a future version of pandas. Pass `(name,)` instead of `name` to silence this warning.\n",
      "  relationship = Relationship.marshal_from_DMCAR(df.groupby([\"Relationship\"]).get_group(r).iloc[0])\n"
     ]
    }
   ],
   "source": [
    "c,a,r = marshaller.from_pandas(model_df)"
   ]
  },
  {
   "cell_type": "code",
   "execution_count": 18,
   "id": "5697c52f-c36e-4a0b-9102-0c286315338a",
   "metadata": {},
   "outputs": [
    {
     "data": {
      "text/plain": [
       "[Class(namespace='IconPaymentsConceptual', name='Block', label='Block', description='Location within media where transaction is sourced/referenced', attributes=[]),\n",
       " Class(namespace='IconPaymentsConceptual', name='Channel', label='Channel', description='Text describing a channel', attributes=[]),\n",
       " Class(namespace='IconPaymentsConceptual', name='Entry', label='Entry', description='A booking entry made in an internal account', attributes=[]),\n",
       " Class(namespace='IconPaymentsConceptual', name='Media', label='Media', description='Media containing payment messaging', attributes=[]),\n",
       " Class(namespace='IconPaymentsConceptual', name='PartyRole', label='PartyRole', description='A confluence of a Party and a Role that party is playing in the context of this payment', attributes=[]),\n",
       " Class(namespace='IconPaymentsConceptual', name='Payment', label='Payment', description='Something to do with a payment', attributes=[Attribute(parent_class_name='Payment', namespace='IconPaymentsConceptual', name='PaymentId', label='PaymentId', description='An identifier to uniquely reference an individual payment', sequence=0.0, datatype='String', nulls='No', ispk='Yes', parent_class=...)])]"
      ]
     },
     "execution_count": 18,
     "metadata": {},
     "output_type": "execute_result"
    }
   ],
   "source": [
    "c"
   ]
  },
  {
   "cell_type": "code",
   "execution_count": 19,
   "id": "59ef19d1-ed0f-47bd-b582-3fc7bca34b8f",
   "metadata": {},
   "outputs": [
    {
     "data": {
      "text/plain": [
       "[Attribute(parent_class_name='Payment', namespace='IconPaymentsConceptual', name='PaymentId', label='PaymentId', description='An identifier to uniquely reference an individual payment', sequence=0.0, datatype='String', nulls='No', ispk='Yes', parent_class=Class(namespace='IconPaymentsConceptual', name='Payment', label='Payment', description='Something to do with a payment', attributes=[...]))]"
      ]
     },
     "execution_count": 19,
     "metadata": {},
     "output_type": "execute_result"
    }
   ],
   "source": [
    "a"
   ]
  },
  {
   "cell_type": "code",
   "execution_count": 20,
   "id": "ae56ccd9-1c3c-4733-9449-5015c89b0568",
   "metadata": {},
   "outputs": [
    {
     "data": {
      "text/plain": [
       "[(0, None, None), (1, None, None), (2, None, None)]"
      ]
     },
     "execution_count": 20,
     "metadata": {},
     "output_type": "execute_result"
    }
   ],
   "source": [
    "[(e, l.from_attribute, l.to_attribute) for e,l in enumerate(r)]"
   ]
  },
  {
   "cell_type": "code",
   "execution_count": 21,
   "id": "4be2db26-d493-49ff-a1e1-ba7cd332c8af",
   "metadata": {},
   "outputs": [
    {
     "data": {
      "text/plain": [
       "0"
      ]
     },
     "execution_count": 21,
     "metadata": {},
     "output_type": "execute_result"
    }
   ],
   "source": [
    "False * 1"
   ]
  },
  {
   "cell_type": "code",
   "execution_count": 22,
   "id": "598be4d9-8147-49c2-9c73-ac3805cfef18",
   "metadata": {},
   "outputs": [
    {
     "data": {
      "text/plain": [
       "1"
      ]
     },
     "execution_count": 22,
     "metadata": {},
     "output_type": "execute_result"
    }
   ],
   "source": [
    "True * 1"
   ]
  },
  {
   "cell_type": "code",
   "execution_count": 23,
   "id": "0ca5c3aa-ffb8-4fe0-8ad8-7a6b73882418",
   "metadata": {},
   "outputs": [
    {
     "data": {
      "text/plain": [
       "'UK'"
      ]
     },
     "execution_count": 23,
     "metadata": {},
     "output_type": "execute_result"
    }
   ],
   "source": [
    "pk = False\n",
    "fk = False\n",
    "uk = True\n",
    "option_keys = [\"PK\", \"FK\", \"UK\"]\n",
    "\",\".join([k for e,k in enumerate(option_keys) if [pk,fk,uk][e]])\n"
   ]
  },
  {
   "cell_type": "code",
   "execution_count": 24,
   "id": "2e971cad-e0ec-425e-bb84-67e74f517257",
   "metadata": {},
   "outputs": [],
   "source": [
    "nodes=[]\n",
    "for n in c:\n",
    "    nodes.append(marshaller.MermaidWrapper.format_erd_node(n))\n",
    "\n",
    "rels=[]\n",
    "for l in r:\n",
    "    rels.append(marshaller.MermaidWrapper.format_erd_relationship(l))"
   ]
  },
  {
   "cell_type": "code",
   "execution_count": 25,
   "id": "40af74aa-4b7b-499e-ae8d-070f52312dc8",
   "metadata": {},
   "outputs": [],
   "source": [
    "l.from_attribute"
   ]
  },
  {
   "cell_type": "code",
   "execution_count": 26,
   "id": "034dbbd5-7b56-4cd1-a3b8-50b5622b1188",
   "metadata": {},
   "outputs": [],
   "source": [
    "classes[-1].set_child_attributes(attributes)"
   ]
  },
  {
   "cell_type": "code",
   "execution_count": 27,
   "id": "839ec92e-d355-4f20-a66d-afa21dfbb624",
   "metadata": {},
   "outputs": [
    {
     "data": {
      "text/plain": [
       "[Attribute(parent_class_name='Payment', namespace='IconPaymentsConceptual', name='PaymentId', label='PaymentId', description='An identifier to uniquely reference an individual payment', sequence=0.0, datatype='String', nulls='No', ispk='Yes', parent_class=Class(namespace='IconPaymentsConceptual', name='Payment', label='Payment', description='Something to do with a payment', attributes=[...]))]"
      ]
     },
     "execution_count": 27,
     "metadata": {},
     "output_type": "execute_result"
    }
   ],
   "source": [
    "attributes"
   ]
  },
  {
   "cell_type": "code",
   "execution_count": 28,
   "id": "51655138-04e2-40db-9aac-f2f405a7170d",
   "metadata": {},
   "outputs": [],
   "source": [
    "a_list = [a for a in attributes if a.parent_class.name == 'Payment']"
   ]
  },
  {
   "cell_type": "code",
   "execution_count": 29,
   "id": "d2903068-3deb-4629-8c7d-c2d8be4054e9",
   "metadata": {},
   "outputs": [
    {
     "data": {
      "text/plain": [
       "[Attribute(parent_class_name='Payment', namespace='IconPaymentsConceptual', name='PaymentId', label='PaymentId', description='An identifier to uniquely reference an individual payment', sequence=0.0, datatype='String', nulls='No', ispk='Yes', parent_class=Class(namespace='IconPaymentsConceptual', name='Payment', label='Payment', description='Something to do with a payment', attributes=[...]))]"
      ]
     },
     "execution_count": 29,
     "metadata": {},
     "output_type": "execute_result"
    }
   ],
   "source": [
    "a_list"
   ]
  },
  {
   "cell_type": "code",
   "execution_count": 30,
   "id": "b4f230bd-446f-4e33-bfbe-f1fc5a80e58c",
   "metadata": {},
   "outputs": [
    {
     "data": {
      "text/plain": [
       "Attribute(parent_class_name='Payment', namespace='IconPaymentsConceptual', name='PaymentId', label='PaymentId', description='An identifier to uniquely reference an individual payment', sequence=0.0, datatype='String', nulls='No', ispk='Yes', parent_class=Class(namespace='IconPaymentsConceptual', name='Payment', label='Payment', description='Something to do with a payment', attributes=[...]))"
      ]
     },
     "execution_count": 30,
     "metadata": {},
     "output_type": "execute_result"
    }
   ],
   "source": [
    "classes[-1].attributes[0]"
   ]
  },
  {
   "cell_type": "code",
   "execution_count": 31,
   "id": "666d493a-57fe-43bb-8555-a1edfab00faf",
   "metadata": {},
   "outputs": [
    {
     "data": {
      "text/plain": [
       "['\\tBlock[Block] {\\n        \\n        \\t}',\n",
       " '\\tChannel[Channel] {\\n        \\n        \\t}',\n",
       " '\\tEntry[Entry] {\\n        \\n        \\t}',\n",
       " '\\tMedia[Media] {\\n        \\n        \\t}',\n",
       " '\\tPartyRole[PartyRole] {\\n        \\n        \\t}',\n",
       " '\\tPayment[Payment] {\\n        \\t\\tString PaymentId PK \"An identifier to uniquely reference an individual payment\" \\n        \\t}']"
      ]
     },
     "execution_count": 31,
     "metadata": {},
     "output_type": "execute_result"
    }
   ],
   "source": [
    "nodes"
   ]
  },
  {
   "cell_type": "code",
   "execution_count": 32,
   "id": "cb588cd1-c615-4196-a7f1-36c9fffd1839",
   "metadata": {},
   "outputs": [
    {
     "data": {
      "text/plain": [
       "['Media }o--|| Channel : hostedByChannel',\n",
       " 'Payment |o--|{ Channel : receivedOver',\n",
       " 'Payment |o--|{ Media : referencedInMedia']"
      ]
     },
     "execution_count": 32,
     "metadata": {},
     "output_type": "execute_result"
    }
   ],
   "source": [
    "rels"
   ]
  },
  {
   "cell_type": "code",
   "execution_count": 35,
   "id": "25cfcded-1198-4f85-9ee4-67c43790affc",
   "metadata": {},
   "outputs": [
    {
     "name": "stdout",
     "output_type": "stream",
     "text": [
      "erDiagram\n",
      " \tBlock[Block] {\n",
      "        \n",
      "        \t}\n",
      "\tChannel[Channel] {\n",
      "        \n",
      "        \t}\n",
      "\tEntry[Entry] {\n",
      "        \n",
      "        \t}\n",
      "\tMedia[Media] {\n",
      "        \n",
      "        \t}\n",
      "\tPartyRole[PartyRole] {\n",
      "        \n",
      "        \t}\n",
      "\tPayment[Payment] {\n",
      "        \t\tString PaymentId PK \"An identifier to uniquely reference an individual payment\" \n",
      "        \t}Media }o--|| Channel : hostedByChannel\n",
      "Payment |o--|{ Channel : receivedOver\n",
      "Payment |o--|{ Media : referencedInMedia\n"
     ]
    }
   ],
   "source": [
    "print(\"\"\"erDiagram\\n \"\"\" + \"\\n\".join(nodes) + \"\\n\".join(rels))"
   ]
  },
  {
   "cell_type": "code",
   "execution_count": 36,
   "id": "060a806a-fa18-4bbc-89f9-e5908ec9d70f",
   "metadata": {},
   "outputs": [
    {
     "data": {
      "text/html": [
       "<img src=\"https://mermaid.ink/img/ZXJEaWFncmFtCiAJQmxvY2tbQmxvY2tdIHsKICAgICAgICAKICAgICAgICAJfQoJQ2hhbm5lbFtDaGFubmVsXSB7CiAgICAgICAgCiAgICAgICAgCX0KCUVudHJ5W0VudHJ5XSB7CiAgICAgICAgCiAgICAgICAgCX0KCU1lZGlhW01lZGlhXSB7CiAgICAgICAgCiAgICAgICAgCX0KCVBhcnR5Um9sZVtQYXJ0eVJvbGVdIHsKICAgICAgICAKICAgICAgICAJfQoJUGF5bWVudFtQYXltZW50XSB7CiAgICAgICAgCQlTdHJpbmcgUGF5bWVudElkIFBLICJBbiBpZGVudGlmaWVyIHRvIHVuaXF1ZWx5IHJlZmVyZW5jZSBhbiBpbmRpdmlkdWFsIHBheW1lbnQiIAogICAgICAgIAl9TWVkaWEgfW8tLXx8IENoYW5uZWwgOiBob3N0ZWRCeUNoYW5uZWwKUGF5bWVudCB8by0tfHsgQ2hhbm5lbCA6IHJlY2VpdmVkT3ZlcgpQYXltZW50IHxvLS18eyBNZWRpYSA6IHJlZmVyZW5jZWRJbk1lZGlh\"/>"
      ],
      "text/plain": [
       "<IPython.core.display.Image object>"
      ]
     },
     "metadata": {},
     "output_type": "display_data"
    }
   ],
   "source": [
    "mm(\"\"\"erDiagram\\n \"\"\" + \"\\n\".join(nodes) + \"\\n\".join(rels))"
   ]
  },
  {
   "cell_type": "code",
   "execution_count": null,
   "id": "b076f07e-98e5-46d8-9712-787c7f3fdc19",
   "metadata": {},
   "outputs": [],
   "source": []
  }
 ],
 "metadata": {
  "kernelspec": {
   "display_name": "devpy",
   "language": "python",
   "name": "devpy"
  },
  "language_info": {
   "codemirror_mode": {
    "name": "ipython",
    "version": 3
   },
   "file_extension": ".py",
   "mimetype": "text/x-python",
   "name": "python",
   "nbconvert_exporter": "python",
   "pygments_lexer": "ipython3",
   "version": "3.10.12"
  }
 },
 "nbformat": 4,
 "nbformat_minor": 5
}
