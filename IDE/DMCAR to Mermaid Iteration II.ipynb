{
 "cells": [
  {
   "cell_type": "code",
   "execution_count": 1,
   "id": "afde2f41-bbdf-479a-bd49-87f4e15b5cbf",
   "metadata": {},
   "outputs": [],
   "source": [
    "from IPython.display import Image, Markdown, display\n",
    "\n",
    "import base64"
   ]
  },
  {
   "cell_type": "code",
   "execution_count": 2,
   "id": "cd0722dd-5dab-42c0-958d-30b630677bcc",
   "metadata": {},
   "outputs": [
    {
     "name": "stdout",
     "output_type": "stream",
     "text": [
      "['/usr/lib/python310.zip', '/usr/lib/python3.10', '/usr/lib/python3.10/lib-dynload', '', '/home/tomk/environment/devpy/lib/python3.10/site-packages', '/home/tomk/Documents/Coding/gitHub/digraph/src', '../src/models/DMCAR']\n"
     ]
    }
   ],
   "source": [
    "import pandas as pd\n",
    "import re\n",
    "\n",
    "import os, sys\n",
    "path_to_import = \"../src/models/DMCAR\"\n",
    "if path_to_import not in sys.path:\n",
    "    sys.path.append(path_to_import)\n",
    "import tomermaid\n",
    "\n",
    "print(sys.path)"
   ]
  },
  {
   "cell_type": "code",
   "execution_count": 3,
   "id": "d8971007-1269-4d81-818e-07b59b713a4e",
   "metadata": {},
   "outputs": [],
   "source": [
    "def mm_ink(graphbytes):\n",
    "  \"\"\"Given a bytes object holding a Mermaid-format graph, return a URL that will generate the image.\"\"\"\n",
    "  base64_bytes = base64.b64encode(graphbytes)\n",
    "  base64_string = base64_bytes.decode(\"ascii\")\n",
    "  return \"https://mermaid.ink/img/\" + base64_string\n",
    "\n",
    "def mm_display(graphbytes):\n",
    "  \"\"\"Given a bytes object holding a Mermaid-format graph, display it.\"\"\"\n",
    "  display(Image(url=mm_ink(graphbytes)))\n",
    "\n",
    "def mm(graph):\n",
    "  \"\"\"Given a string containing a Mermaid-format graph, display it.\"\"\"\n",
    "  graphbytes = graph.encode(\"ascii\")\n",
    "  mm_display(graphbytes)\n",
    "\n",
    "def mm_link(graph):\n",
    "  \"\"\"Given a string containing a Mermaid-format graph, return URL for display.\"\"\"\n",
    "  graphbytes = graph.encode(\"ascii\")\n",
    "  return mm_ink(graphbytes)\n",
    "  \n",
    "def mm_path(path):\n",
    "  \"\"\"Given a path to a file containing a Mermaid-format graph, display it\"\"\"\n",
    "  with open(path, 'rb') as f:\n",
    "    graphbytes = f.read()\n",
    "  mm_display(graphbytes)\n",
    "\n"
   ]
  },
  {
   "cell_type": "code",
   "execution_count": 4,
   "id": "1888fd28-3565-4af3-b795-3c39c0d0c98e",
   "metadata": {},
   "outputs": [],
   "source": [
    "import marshaller"
   ]
  },
  {
   "cell_type": "code",
   "execution_count": 5,
   "id": "ba26267d-5dfd-4876-9e0f-4d8cbb56d5e7",
   "metadata": {},
   "outputs": [],
   "source": [
    "model_df = pd.read_excel(\"Payments Conceptual Model (DMCAR) v0.2003.xlsx\")"
   ]
  },
  {
   "cell_type": "code",
   "execution_count": 6,
   "id": "17731aaa-4b6f-4fcd-9b7c-1b25e324fcf0",
   "metadata": {},
   "outputs": [],
   "source": [
    "popo = marshaller.popo_from_pandas(model_df)\n",
    "diagram = marshaller.mermaid_from_popo(popo)"
   ]
  },
  {
   "cell_type": "code",
   "execution_count": 7,
   "id": "a2266906-bccb-4370-a1b1-6a51a95f2e4c",
   "metadata": {},
   "outputs": [
    {
     "data": {
      "text/html": [
       "<img src=\"https://mermaid.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\"/>"
      ],
      "text/plain": [
       "<IPython.core.display.Image object>"
      ]
     },
     "metadata": {},
     "output_type": "display_data"
    }
   ],
   "source": [
    "mm(diagram)"
   ]
  },
  {
   "cell_type": "code",
   "execution_count": 8,
   "id": "11e8c723-ab68-4af6-b520-cfc8e5969af7",
   "metadata": {},
   "outputs": [],
   "source": [
    "%%capture captured\n",
    "print(diagram)"
   ]
  },
  {
   "cell_type": "code",
   "execution_count": 10,
   "id": "e68669e0-6331-4d07-beda-bc0cdf0f9af8",
   "metadata": {},
   "outputs": [],
   "source": [
    "import pyperclip as clip\n",
    "clip.copy(captured.stdout)"
   ]
  },
  {
   "cell_type": "code",
   "execution_count": null,
   "id": "445c06f3-e013-4eb2-88e4-96463b6637e3",
   "metadata": {},
   "outputs": [],
   "source": []
  },
  {
   "cell_type": "code",
   "execution_count": null,
   "id": "8a9a9ba1-b786-4c5d-aef1-af5ae7ac4ec6",
   "metadata": {},
   "outputs": [],
   "source": []
  },
  {
   "cell_type": "code",
   "execution_count": null,
   "id": "1717e22b-9016-4ede-84b7-cd213fad69c6",
   "metadata": {},
   "outputs": [],
   "source": []
  }
 ],
 "metadata": {
  "kernelspec": {
   "display_name": "devpy",
   "language": "python",
   "name": "devpy"
  },
  "language_info": {
   "codemirror_mode": {
    "name": "ipython",
    "version": 3
   },
   "file_extension": ".py",
   "mimetype": "text/x-python",
   "name": "python",
   "nbconvert_exporter": "python",
   "pygments_lexer": "ipython3",
   "version": "3.10.12"
  }
 },
 "nbformat": 4,
 "nbformat_minor": 5
}
