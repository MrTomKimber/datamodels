{
 "cells": [
  {
   "cell_type": "code",
   "execution_count": 1,
   "id": "afde2f41-bbdf-479a-bd49-87f4e15b5cbf",
   "metadata": {},
   "outputs": [],
   "source": [
    "from IPython.display import Image, Markdown, display\n",
    "\n",
    "import base64"
   ]
  },
  {
   "cell_type": "code",
   "execution_count": 2,
   "id": "cd0722dd-5dab-42c0-958d-30b630677bcc",
   "metadata": {},
   "outputs": [
    {
     "name": "stdout",
     "output_type": "stream",
     "text": [
      "['/usr/lib/python310.zip', '/usr/lib/python3.10', '/usr/lib/python3.10/lib-dynload', '', '/home/tomk/environment/devpy/lib/python3.10/site-packages', '/home/tomk/Documents/Coding/gitHub/digraph/src', '../src/models/DMCAR']\n"
     ]
    }
   ],
   "source": [
    "import pandas as pd\n",
    "import re\n",
    "\n",
    "import os, sys\n",
    "path_to_import = \"../src/models/DMCAR\"\n",
    "if path_to_import not in sys.path:\n",
    "    sys.path.append(path_to_import)\n",
    "import tomermaid\n",
    "\n",
    "print(sys.path)"
   ]
  },
  {
   "cell_type": "code",
   "execution_count": 3,
   "id": "d8971007-1269-4d81-818e-07b59b713a4e",
   "metadata": {},
   "outputs": [],
   "source": [
    "def mm_ink(graphbytes):\n",
    "  \"\"\"Given a bytes object holding a Mermaid-format graph, return a URL that will generate the image.\"\"\"\n",
    "  base64_bytes = base64.b64encode(graphbytes)\n",
    "  base64_string = base64_bytes.decode(\"ascii\")\n",
    "  return \"https://mermaid.ink/img/\" + base64_string\n",
    "\n",
    "def mm_display(graphbytes):\n",
    "  \"\"\"Given a bytes object holding a Mermaid-format graph, display it.\"\"\"\n",
    "  display(Image(url=mm_ink(graphbytes)))\n",
    "\n",
    "def mm(graph):\n",
    "  \"\"\"Given a string containing a Mermaid-format graph, display it.\"\"\"\n",
    "  graphbytes = graph.encode(\"ascii\")\n",
    "  mm_display(graphbytes)\n",
    "\n",
    "def mm_link(graph):\n",
    "  \"\"\"Given a string containing a Mermaid-format graph, return URL for display.\"\"\"\n",
    "  graphbytes = graph.encode(\"ascii\")\n",
    "  return mm_ink(graphbytes)\n",
    "  \n",
    "def mm_path(path):\n",
    "  \"\"\"Given a path to a file containing a Mermaid-format graph, display it\"\"\"\n",
    "  with open(path, 'rb') as f:\n",
    "    graphbytes = f.read()\n",
    "  mm_display(graphbytes)\n",
    "\n"
   ]
  },
  {
   "cell_type": "code",
   "execution_count": 4,
   "id": "1888fd28-3565-4af3-b795-3c39c0d0c98e",
   "metadata": {},
   "outputs": [],
   "source": [
    "import marshaller"
   ]
  },
  {
   "cell_type": "code",
   "execution_count": 5,
   "id": "ba26267d-5dfd-4876-9e0f-4d8cbb56d5e7",
   "metadata": {},
   "outputs": [],
   "source": [
    "model_df = pd.read_excel(\"payment_example.xlsx\")"
   ]
  },
  {
   "cell_type": "code",
   "execution_count": 6,
   "id": "17731aaa-4b6f-4fcd-9b7c-1b25e324fcf0",
   "metadata": {},
   "outputs": [
    {
     "name": "stdout",
     "output_type": "stream",
     "text": [
      "[]\n",
      "[]\n",
      "[]\n",
      "[]\n",
      "[]\n",
      "[Attribute(parent_class_name='Payment', namespace='IconPaymentsConceptual', name='PaymentId', label='PaymentId', description='An identifier to uniquely reference an individual payment', sequence=0.0, datatype='String', nulls='No', ispk='Yes', parent_class=Class(namespace='IconPaymentsConceptual', name='Payment', label='Payment', description='Something to do with a payment', attributes=None))]\n"
     ]
    },
    {
     "name": "stderr",
     "output_type": "stream",
     "text": [
      "/home/tomk/Documents/Coding/gitHub/datamodels/IDE/../src/models/DMCAR/marshaller.py:256: FutureWarning: When grouping with a length-1 list-like, you will need to pass a length-1 tuple to get_group in a future version of pandas. Pass `(name,)` instead of `name` to silence this warning.\n",
      "  relationship = Relationship.marshal_from_DMCAR(df.groupby([\"Relationship\"]).get_group(r).iloc[0])\n",
      "/home/tomk/Documents/Coding/gitHub/datamodels/IDE/../src/models/DMCAR/marshaller.py:256: FutureWarning: When grouping with a length-1 list-like, you will need to pass a length-1 tuple to get_group in a future version of pandas. Pass `(name,)` instead of `name` to silence this warning.\n",
      "  relationship = Relationship.marshal_from_DMCAR(df.groupby([\"Relationship\"]).get_group(r).iloc[0])\n",
      "/home/tomk/Documents/Coding/gitHub/datamodels/IDE/../src/models/DMCAR/marshaller.py:256: FutureWarning: When grouping with a length-1 list-like, you will need to pass a length-1 tuple to get_group in a future version of pandas. Pass `(name,)` instead of `name` to silence this warning.\n",
      "  relationship = Relationship.marshal_from_DMCAR(df.groupby([\"Relationship\"]).get_group(r).iloc[0])\n"
     ]
    }
   ],
   "source": [
    "c,a,r = marshaller.from_pandas(model_df)"
   ]
  },
  {
   "cell_type": "code",
   "execution_count": 7,
   "id": "b7e22718-ab56-470f-92dc-7befd20f068f",
   "metadata": {},
   "outputs": [],
   "source": [
    "nodes=[]\n",
    "for n in c:\n",
    "    nodes.append(marshaller.MermaidWrapper.format_erd_node(n))\n",
    "\n",
    "rels=[]\n",
    "for l in r:\n",
    "    rels.append(marshaller.MermaidWrapper.format_erd_relationship(l))"
   ]
  },
  {
   "cell_type": "code",
   "execution_count": 8,
   "id": "a2266906-bccb-4370-a1b1-6a51a95f2e4c",
   "metadata": {},
   "outputs": [
    {
     "data": {
      "text/html": [
       "<img src=\"https://mermaid.ink/img/ZXJEaWFncmFtCiAJQmxvY2tbQmxvY2tdIHsKICAgICAgICAKICAgICAgICAJfQoJQ2hhbm5lbFtDaGFubmVsXSB7CiAgICAgICAgCiAgICAgICAgCX0KCUVudHJ5W0VudHJ5XSB7CiAgICAgICAgCiAgICAgICAgCX0KCU1lZGlhW01lZGlhXSB7CiAgICAgICAgCiAgICAgICAgCX0KCVBhcnR5Um9sZVtQYXJ0eVJvbGVdIHsKICAgICAgICAKICAgICAgICAJfQoJUGF5bWVudFtQYXltZW50XSB7CiAgICAgICAgCQlTdHJpbmcgUGF5bWVudElkIFBLICJBbiBpZGVudGlmaWVyIHRvIHVuaXF1ZWx5IHJlZmVyZW5jZSBhbiBpbmRpdmlkdWFsIHBheW1lbnQiIAogICAgICAgIAl9TWVkaWEgfW8tLXx8IENoYW5uZWwgOiBob3N0ZWRCeUNoYW5uZWwKUGF5bWVudCB8by0tfHsgQ2hhbm5lbCA6IHJlY2VpdmVkT3ZlcgpQYXltZW50IHxvLS18eyBNZWRpYSA6IHJlZmVyZW5jZWRJbk1lZGlh\"/>"
      ],
      "text/plain": [
       "<IPython.core.display.Image object>"
      ]
     },
     "metadata": {},
     "output_type": "display_data"
    }
   ],
   "source": [
    "mm(\"\"\"erDiagram\\n \"\"\" + \"\\n\".join(nodes) + \"\\n\".join(rels))"
   ]
  },
  {
   "cell_type": "code",
   "execution_count": null,
   "id": "11e8c723-ab68-4af6-b520-cfc8e5969af7",
   "metadata": {},
   "outputs": [],
   "source": []
  }
 ],
 "metadata": {
  "kernelspec": {
   "display_name": "devpy",
   "language": "python",
   "name": "devpy"
  },
  "language_info": {
   "codemirror_mode": {
    "name": "ipython",
    "version": 3
   },
   "file_extension": ".py",
   "mimetype": "text/x-python",
   "name": "python",
   "nbconvert_exporter": "python",
   "pygments_lexer": "ipython3",
   "version": "3.10.12"
  }
 },
 "nbformat": 4,
 "nbformat_minor": 5
}
