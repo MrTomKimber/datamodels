{
 "cells": [
  {
   "cell_type": "code",
   "execution_count": 1,
   "id": "afde2f41-bbdf-479a-bd49-87f4e15b5cbf",
   "metadata": {},
   "outputs": [],
   "source": [
    "from IPython.display import Image, Markdown, display\n",
    "\n",
    "import base64"
   ]
  },
  {
   "cell_type": "code",
   "execution_count": 2,
   "id": "cd0722dd-5dab-42c0-958d-30b630677bcc",
   "metadata": {},
   "outputs": [
    {
     "name": "stdout",
     "output_type": "stream",
     "text": [
      "['/usr/lib/python310.zip', '/usr/lib/python3.10', '/usr/lib/python3.10/lib-dynload', '', '/home/tomk/environment/devpy/lib/python3.10/site-packages', '/home/tomk/Documents/Coding/gitHub/digraph/src', '../src/models/DMCAR']\n"
     ]
    }
   ],
   "source": [
    "import pandas as pd\n",
    "import re\n",
    "\n",
    "import os, sys\n",
    "path_to_import = \"../src/models/DMCAR\"\n",
    "if path_to_import not in sys.path:\n",
    "    sys.path.append(path_to_import)\n",
    "import tomermaid\n",
    "\n",
    "print(sys.path)"
   ]
  },
  {
   "cell_type": "code",
   "execution_count": 3,
   "id": "d8971007-1269-4d81-818e-07b59b713a4e",
   "metadata": {},
   "outputs": [],
   "source": [
    "def mm_ink(graphbytes):\n",
    "  \"\"\"Given a bytes object holding a Mermaid-format graph, return a URL that will generate the image.\"\"\"\n",
    "  base64_bytes = base64.b64encode(graphbytes)\n",
    "  base64_string = base64_bytes.decode(\"ascii\")\n",
    "  return \"https://mermaid.ink/img/\" + base64_string\n",
    "\n",
    "def mm_display(graphbytes):\n",
    "  \"\"\"Given a bytes object holding a Mermaid-format graph, display it.\"\"\"\n",
    "  display(Image(url=mm_ink(graphbytes)))\n",
    "\n",
    "def mm(graph):\n",
    "  \"\"\"Given a string containing a Mermaid-format graph, display it.\"\"\"\n",
    "  graphbytes = graph.encode(\"ascii\")\n",
    "  mm_display(graphbytes)\n",
    "\n",
    "def mm_link(graph):\n",
    "  \"\"\"Given a string containing a Mermaid-format graph, return URL for display.\"\"\"\n",
    "  graphbytes = graph.encode(\"ascii\")\n",
    "  return mm_ink(graphbytes)\n",
    "  \n",
    "def mm_path(path):\n",
    "  \"\"\"Given a path to a file containing a Mermaid-format graph, display it\"\"\"\n",
    "  with open(path, 'rb') as f:\n",
    "    graphbytes = f.read()\n",
    "  mm_display(graphbytes)\n",
    "\n"
   ]
  },
  {
   "cell_type": "code",
   "execution_count": 4,
   "id": "1888fd28-3565-4af3-b795-3c39c0d0c98e",
   "metadata": {},
   "outputs": [],
   "source": [
    "import marshaller"
   ]
  },
  {
   "cell_type": "code",
   "execution_count": 10,
   "id": "ba26267d-5dfd-4876-9e0f-4d8cbb56d5e7",
   "metadata": {},
   "outputs": [],
   "source": [
    "model_df = pd.read_excel(\"Payments Conceptual Model (DMCAR).xlsx\")"
   ]
  },
  {
   "cell_type": "code",
   "execution_count": 11,
   "id": "17731aaa-4b6f-4fcd-9b7c-1b25e324fcf0",
   "metadata": {},
   "outputs": [],
   "source": [
    "popo = marshaller.popo_from_pandas(model_df)\n",
    "diagram = marshaller.mermaid_from_popo(popo)"
   ]
  },
  {
   "cell_type": "code",
   "execution_count": 12,
   "id": "a2266906-bccb-4370-a1b1-6a51a95f2e4c",
   "metadata": {},
   "outputs": [
    {
     "data": {
      "text/html": [
       "<img src=\"https://mermaid.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\"/>"
      ],
      "text/plain": [
       "<IPython.core.display.Image object>"
      ]
     },
     "metadata": {},
     "output_type": "display_data"
    }
   ],
   "source": [
    "mm(diagram)"
   ]
  },
  {
   "cell_type": "code",
   "execution_count": 13,
   "id": "11e8c723-ab68-4af6-b520-cfc8e5969af7",
   "metadata": {},
   "outputs": [],
   "source": [
    "%%capture captured\n",
    "print(diagram)"
   ]
  },
  {
   "cell_type": "code",
   "execution_count": 14,
   "id": "e68669e0-6331-4d07-beda-bc0cdf0f9af8",
   "metadata": {},
   "outputs": [],
   "source": [
    "import pyperclip as clip\n",
    "clip.copy(captured.stdout)"
   ]
  },
  {
   "cell_type": "code",
   "execution_count": null,
   "id": "445c06f3-e013-4eb2-88e4-96463b6637e3",
   "metadata": {},
   "outputs": [],
   "source": []
  },
  {
   "cell_type": "code",
   "execution_count": null,
   "id": "8a9a9ba1-b786-4c5d-aef1-af5ae7ac4ec6",
   "metadata": {},
   "outputs": [],
   "source": []
  }
 ],
 "metadata": {
  "kernelspec": {
   "display_name": "devpy",
   "language": "python",
   "name": "devpy"
  },
  "language_info": {
   "codemirror_mode": {
    "name": "ipython",
    "version": 3
   },
   "file_extension": ".py",
   "mimetype": "text/x-python",
   "name": "python",
   "nbconvert_exporter": "python",
   "pygments_lexer": "ipython3",
   "version": "3.10.12"
  }
 },
 "nbformat": 4,
 "nbformat_minor": 5
}
