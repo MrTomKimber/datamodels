{
 "cells": [
  {
   "cell_type": "code",
   "execution_count": 1,
   "id": "afde2f41-bbdf-479a-bd49-87f4e15b5cbf",
   "metadata": {},
   "outputs": [],
   "source": [
    "from IPython.display import Image, Markdown, display\n",
    "\n",
    "import base64"
   ]
  },
  {
   "cell_type": "code",
   "execution_count": 2,
   "id": "cd0722dd-5dab-42c0-958d-30b630677bcc",
   "metadata": {},
   "outputs": [
    {
     "name": "stdout",
     "output_type": "stream",
     "text": [
      "['/usr/lib/python310.zip', '/usr/lib/python3.10', '/usr/lib/python3.10/lib-dynload', '', '/home/tomk/environment/devpy/lib/python3.10/site-packages', '/home/tomk/Documents/Coding/gitHub/digraph/src', '../src/models/DMCAR']\n"
     ]
    }
   ],
   "source": [
    "import pandas as pd\n",
    "import re\n",
    "\n",
    "import os, sys\n",
    "path_to_import = \"../src/models/DMCAR\"\n",
    "if path_to_import not in sys.path:\n",
    "    sys.path.append(path_to_import)\n",
    "import tomermaid\n",
    "\n",
    "print(sys.path)"
   ]
  },
  {
   "cell_type": "code",
   "execution_count": 3,
   "id": "d8971007-1269-4d81-818e-07b59b713a4e",
   "metadata": {},
   "outputs": [],
   "source": [
    "def mm_ink(graphbytes):\n",
    "  \"\"\"Given a bytes object holding a Mermaid-format graph, return a URL that will generate the image.\"\"\"\n",
    "  base64_bytes = base64.b64encode(graphbytes)\n",
    "  base64_string = base64_bytes.decode(\"ascii\")\n",
    "  return \"https://mermaid.ink/img/\" + base64_string\n",
    "\n",
    "def mm_display(graphbytes):\n",
    "  \"\"\"Given a bytes object holding a Mermaid-format graph, display it.\"\"\"\n",
    "  display(Image(url=mm_ink(graphbytes)))\n",
    "\n",
    "def mm(graph):\n",
    "  \"\"\"Given a string containing a Mermaid-format graph, display it.\"\"\"\n",
    "  graphbytes = graph.encode(\"ascii\")\n",
    "  mm_display(graphbytes)\n",
    "\n",
    "def mm_link(graph):\n",
    "  \"\"\"Given a string containing a Mermaid-format graph, return URL for display.\"\"\"\n",
    "  graphbytes = graph.encode(\"ascii\")\n",
    "  return mm_ink(graphbytes)\n",
    "  \n",
    "def mm_path(path):\n",
    "  \"\"\"Given a path to a file containing a Mermaid-format graph, display it\"\"\"\n",
    "  with open(path, 'rb') as f:\n",
    "    graphbytes = f.read()\n",
    "  mm_display(graphbytes)\n",
    "\n"
   ]
  },
  {
   "cell_type": "code",
   "execution_count": 4,
   "id": "1888fd28-3565-4af3-b795-3c39c0d0c98e",
   "metadata": {},
   "outputs": [],
   "source": [
    "import marshaller"
   ]
  },
  {
   "cell_type": "code",
   "execution_count": 5,
   "id": "ba26267d-5dfd-4876-9e0f-4d8cbb56d5e7",
   "metadata": {},
   "outputs": [],
   "source": [
    "#model_df = pd.read_excel(\"Payments Conceptual Model (DMCAR) v0.2003.xlsx\")\n",
    "model_df = pd.read_excel(\"Payments Logical Model (DMCAR) v0.001.xlsx\")"
   ]
  },
  {
   "cell_type": "code",
   "execution_count": 6,
   "id": "17731aaa-4b6f-4fcd-9b7c-1b25e324fcf0",
   "metadata": {},
   "outputs": [
    {
     "name": "stdout",
     "output_type": "stream",
     "text": [
      "InterfaceID unassigned PaymentsLogical.Interface.InterfaceID\n",
      "InterfaceID unassigned PaymentsLogical.Interface.InterfaceID\n",
      "InterfaceID unassigned PaymentsLogical.Interface.InterfaceID\n"
     ]
    }
   ],
   "source": [
    "popo = marshaller.popo_from_pandas(model_df)\n",
    "diagram = marshaller.mermaid_from_popo(popo)"
   ]
  },
  {
   "cell_type": "code",
   "execution_count": 7,
   "id": "a2266906-bccb-4370-a1b1-6a51a95f2e4c",
   "metadata": {},
   "outputs": [
    {
     "data": {
      "text/html": [
       "<img src=\"https://mermaid.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\"/>"
      ],
      "text/plain": [
       "<IPython.core.display.Image object>"
      ]
     },
     "metadata": {},
     "output_type": "display_data"
    }
   ],
   "source": [
    "mm(diagram)"
   ]
  },
  {
   "cell_type": "code",
   "execution_count": 8,
   "id": "11e8c723-ab68-4af6-b520-cfc8e5969af7",
   "metadata": {},
   "outputs": [],
   "source": [
    "%%capture captured\n",
    "print(diagram)"
   ]
  },
  {
   "cell_type": "code",
   "execution_count": 9,
   "id": "e68669e0-6331-4d07-beda-bc0cdf0f9af8",
   "metadata": {},
   "outputs": [],
   "source": [
    "import pyperclip as clip\n",
    "clip.copy(captured.stdout)"
   ]
  },
  {
   "cell_type": "code",
   "execution_count": null,
   "id": "445c06f3-e013-4eb2-88e4-96463b6637e3",
   "metadata": {},
   "outputs": [],
   "source": []
  },
  {
   "cell_type": "code",
   "execution_count": null,
   "id": "8a9a9ba1-b786-4c5d-aef1-af5ae7ac4ec6",
   "metadata": {},
   "outputs": [],
   "source": []
  },
  {
   "cell_type": "code",
   "execution_count": null,
   "id": "1717e22b-9016-4ede-84b7-cd213fad69c6",
   "metadata": {},
   "outputs": [],
   "source": []
  }
 ],
 "metadata": {
  "kernelspec": {
   "display_name": "devpy",
   "language": "python",
   "name": "devpy"
  },
  "language_info": {
   "codemirror_mode": {
    "name": "ipython",
    "version": 3
   },
   "file_extension": ".py",
   "mimetype": "text/x-python",
   "name": "python",
   "nbconvert_exporter": "python",
   "pygments_lexer": "ipython3",
   "version": "3.10.12"
  }
 },
 "nbformat": 4,
 "nbformat_minor": 5
}
