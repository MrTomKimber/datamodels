{
 "cells": [
  {
   "cell_type": "code",
   "execution_count": 1,
   "metadata": {},
   "outputs": [
    {
     "name": "stderr",
     "output_type": "stream",
     "text": [
      "* Owlready2 * Warning: optimized Cython parser module 'owlready2_optimized' is not available, defaulting to slower Python implementation\n",
      "* Owlready2 * WARNING: ObjectProperty http://www.semanticweb.org/tomk/ontologies/2022/11/serialization#MappingMetaTarget belongs to more than one entity types: [owl.AnnotationProperty, owl.ObjectProperty, owl.topObjectProperty]; I'm trying to fix it...\n",
      "* Owlready2 * Running HermiT...\n",
      "    java -Xmx2000M -cp /usr/local/python/py36/lib/python3.6/site-packages/owlready2/hermit:/usr/local/python/py36/lib/python3.6/site-packages/owlready2/hermit/HermiT.jar org.semanticweb.HermiT.cli.CommandLine -c -O -D -I file:////var/folders/rd/q3bhk6_n56x75m05pp2sq7dr0000gn/T/tmpbzuh114v\n"
     ]
    },
    {
     "name": "stdout",
     "output_type": "stream",
     "text": [
      "Serialization.Meta [Serialization.SerializationMetaData]\n",
      "Serialization.Mapping [Serialization.SerializationSpecs]\n",
      "Serialization.BatchDefinition [Serialization.SerializationSpecs]\n",
      "Serialization.SerializationSpecs [Serialization.SerializationMetaData]\n",
      "Serialization.BatchNode [Serialization.DataLoad]\n",
      "Serialization.DataLoad [Serialization.SerializationMetaData]\n",
      "Serialization.SerializationMetaData [owl.Thing]\n",
      "Serialization.DataPropertyMapping [Serialization.Mapping]\n",
      "Serialization.MetaDataProperty [Serialization.Meta]\n",
      "Serialization.EntityMapping [Serialization.Mapping]\n",
      "Serialization.MetaClass [Serialization.Meta]\n",
      "Serialization.JobNode [Serialization.DataLoad]\n",
      "Serialization.MetaProperty [Serialization.Meta]\n",
      "Serialization.PropertyMapping [Serialization.Mapping]\n",
      "Serialization.RowNode [Serialization.DataLoad]\n",
      "Serialization.Serialization [Serialization.SerializationSpecs]\n"
     ]
    },
    {
     "name": "stderr",
     "output_type": "stream",
     "text": [
      "* Owlready2 * HermiT took 0.5102579593658447 seconds\n",
      "* Owlready * (NB: only changes on entities loaded in Python are shown, other changes are done but not listed)\n"
     ]
    }
   ],
   "source": [
    "from rdflib.plugins.stores import sparqlstore\n",
    "import rdflib\n",
    "from rdflib import URIRef, Literal, Graph, Dataset\n",
    "\n",
    "import serialization\n",
    "import discourse\n",
    "\n",
    "import html\n",
    "#import loader\n",
    "import discourse\n",
    "import pandas as pd\n",
    "from rdflib import Graph, Namespace\n",
    "from rdflib.namespace import RDF, RDFS\n",
    "import io\n",
    "import pydotplus\n",
    "from IPython.display import display, Image\n",
    "from rdflib.tools.rdf2dot import rdf2dot\n",
    "from IPython.core.display import HTML\n",
    "\n",
    "import uuid\n",
    "\n",
    "from itertools import chain\n",
    "\n",
    "def visualize(g):\n",
    "    stream = io.StringIO()\n",
    "    rdf2dot(g, stream, opts = {display})\n",
    "    dg = pydotplus.graph_from_dot_data(stream.getvalue())\n",
    "    png = dg.create_png()\n",
    "\n",
    "    display(Image(png))\n",
    "\n",
    "def t2rdflibg(triples): #triples to rdflib graph\n",
    "    g = Graph()\n",
    "    for t in triples:\n",
    "        g.add(t)\n",
    "    return g\n",
    "\n",
    "\n",
    "def nan2None(value):\n",
    "    if pd.isnull(value) :\n",
    "        return None\n",
    "    else:\n",
    "        return value\n",
    "\n",
    "\n",
    "def get_data_rows(filename):\n",
    "    data_rows_df = pd.read_csv(filename)\n",
    "    data_rows=[]\n",
    "    for i,r in data_rows_df.iterrows():\n",
    "        r_d = {k:nan2None(v) for k,v in dict(r).items()}\n",
    "\n",
    "        data_rows.append(r_d)\n",
    "    del data_rows_df\n",
    "    return data_rows\n",
    "\n",
    "serial_key = { \"Business Domain\" : \"ModelDomain\", \n",
    "               \"Model\" : \"Model\", \n",
    "               \"ModelType\" : \"ModelType\", \n",
    "               \"Entity\" : \"Class\", \n",
    "               \"Attribute\" : \"Attribute\", \n",
    "               \"DataType\" : \"DataType\", \n",
    "               \"Context\" : \"Context\", \n",
    "               \"SubContext\" : \"SubContext\", \n",
    "               \"Relationship\" : \"Relationship\", \n",
    "               \"Entity From\" : \"FromClass\",\n",
    "               \"Attribute From\" : \"FromAttribute\", \n",
    "               \"Cardinality From\" : \"FromCardinality\",\n",
    "               \"Entity To\" : \"ToClass\",\n",
    "               \"Attribute To\" : \"ToAttribute\",\n",
    "               \"Cardinality To\" : \"ToCardinality\"\n",
    "}\n",
    "\n",
    "jena = sparqlstore.SPARQLUpdateStore(\"http://localhost:3030/models/query\",context_aware=True)\n",
    "jena.open((\"http://localhost:3030/models/query\", \"http://localhost:3030/models/update\"))\n",
    "\n",
    "# Create a Dataset\n",
    "ds = Dataset(store=jena, default_union=True, default_graph_base=\"http://base.raw\")\n",
    "# Define a named graph within the dataset, this will contain all nodes contained within the graph referenced, or none if it doesn't exist yet.\n",
    "sg = ds.graph(URIRef(\"http://config\"))\n",
    "\n",
    "master_g = ds.graph(URIRef(\"http://master\"))\n",
    "discourse_g = ds.graph(URIRef(\"http://discourse\"))\n",
    "\n"
   ]
  },
  {
   "cell_type": "code",
   "execution_count": 2,
   "metadata": {},
   "outputs": [],
   "source": [
    "model_data = pd.read_csv(r\"mdm_v11_3_pdm_additional.csv\").fillna(\"\")\n",
    "model_data.columns=['Sequence', 'ModelDomain', 'Model', 'ModelType', 'Class',\n",
    "       'ClassDescription', 'Attribute', 'AttributeDescription', 'DataType',\n",
    "       'Context', 'SubContext', 'Nulls', 'Is PK']"
   ]
  },
  {
   "cell_type": "code",
   "execution_count": 3,
   "metadata": {},
   "outputs": [],
   "source": [
    "def key_filter(keys,xlist=None):\n",
    "    s_keys = sorted(keys)\n",
    "    if xlist is not None:\n",
    "        if not tuple([k for k in s_keys if k not in xlist]) == tuple():\n",
    "            s_keys = tuple([k for k in s_keys if k not in xlist])\n",
    "        else:\n",
    "            s_keys = tuple(s_keys)\n",
    "\n",
    "    else:\n",
    "        s_keys = tuple([k for k in s_keys])\n",
    "    return s_keys\n",
    "\n",
    "from functools import partial\n",
    "from collections import Counter\n",
    "fkf = partial(key_filter, xlist=[\"LANG_TP_CD\"])"
   ]
  },
  {
   "cell_type": "code",
   "execution_count": 4,
   "metadata": {},
   "outputs": [
    {
     "data": {
      "text/plain": [
       "[(('BKTHASH', 'RECNO', 'SRCRECNO'), 1),\n",
       " (('CMPSEQNO', 'RECNO'), 1),\n",
       " (('SRCID', 'SRCRECNO'), 1),\n",
       " (('CITY_NAME',\n",
       "   'GIVEN_NAME_ONE',\n",
       "   'LAST_NAME',\n",
       "   'P_CITY_NAME',\n",
       "   'P_GIVEN_NAME_ONE',\n",
       "   'P_LAST_NAME'),\n",
       "  1)]"
      ]
     },
     "execution_count": 4,
     "metadata": {},
     "output_type": "execute_result"
    }
   ],
   "source": [
    "raw_keys = dict(model_data[model_data['Is PK']==\"Yes\"].groupby(\"Class\")['Attribute'].agg(fkf))\n",
    "[(k,v) for k,v in Counter(raw_keys.values()).items() if len(k)>1]"
   ]
  },
  {
   "cell_type": "code",
   "execution_count": 5,
   "metadata": {},
   "outputs": [
    {
     "name": "stdout",
     "output_type": "stream",
     "text": [
      "[(('LOCATION_GROUP_ID',), 3), (('PAYMENT_SOURCE_ID',), 4), (('CONT_ID',), 6), (('PRODUCT_ID',), 5), (('HOLDING_ID',), 3), (('PPREF_ID',), 3), (('SUSPECT_ID',), 2)]\n"
     ]
    }
   ],
   "source": [
    "# Contents here block the inversion of the table/pk mapping dict\n",
    "print([(k,v) for k,v in Counter(raw_keys.values()).items() if v>1])\n",
    "# FOR IBM products, sharing the same PK implies parent/sub-class relationships (though there's)\n",
    "# no systematic method for determining which one is the parent.\n",
    "sorted([(k,v) for k,v in raw_keys.items() if v in [k for k,v in Counter(raw_keys.values()).items() if v>1]], key=lambda x : x[1])\n",
    "manual_key_masters = { ('CONT_ID',) : 'CONTACT', \n",
    "                       ('HOLDING_ID',): 'HOLDING', \n",
    "                      ('LOCATION_GROUP_ID',) : 'LOCATIONGROUP', \n",
    "                      ('PAYMENT_SOURCE_ID', ): 'PAYMENTSOURCE',\n",
    "                      ('PPREF_ID',) : 'PRIVPREF',\n",
    "                      ('PRODUCT_ID',) : 'PRODUCT', \n",
    "                      ('SUSPECT_ID',) : 'SUSPECT' , \n",
    "                      ('LANG_TP_CD', ) : 'CDLANGTP'\n",
    "                     }\n",
    "\n",
    "key_map = {**{v:k for k,v in raw_keys.items()}, **manual_key_masters}\n"
   ]
  },
  {
   "cell_type": "code",
   "execution_count": 6,
   "metadata": {},
   "outputs": [],
   "source": [
    "def att_link(row):\n",
    "    attribute=row['Attribute']\n",
    "    table = row['Class']\n",
    "    t_att = tuple([attribute])\n",
    "    t_val = key_map.get(t_att)\n",
    "    relationship = str(table) + \" --> \" + str(t_val)\n",
    "    if t_val is not None and t_val != table:\n",
    "        return pd.Series((relationship, table, attribute, t_val, t_att[0]))\n",
    "    else:\n",
    "        return pd.Series((None, None, None, None, None))\n",
    "    "
   ]
  },
  {
   "cell_type": "code",
   "execution_count": 7,
   "metadata": {},
   "outputs": [
    {
     "data": {
      "text/html": [
       "<div>\n",
       "<style scoped>\n",
       "    .dataframe tbody tr th:only-of-type {\n",
       "        vertical-align: middle;\n",
       "    }\n",
       "\n",
       "    .dataframe tbody tr th {\n",
       "        vertical-align: top;\n",
       "    }\n",
       "\n",
       "    .dataframe thead th {\n",
       "        text-align: right;\n",
       "    }\n",
       "</style>\n",
       "<table border=\"1\" class=\"dataframe\">\n",
       "  <thead>\n",
       "    <tr style=\"text-align: right;\">\n",
       "      <th></th>\n",
       "      <th>Sequence</th>\n",
       "      <th>ModelDomain</th>\n",
       "      <th>Model</th>\n",
       "      <th>ModelType</th>\n",
       "      <th>Class</th>\n",
       "      <th>ClassDescription</th>\n",
       "      <th>Attribute</th>\n",
       "      <th>AttributeDescription</th>\n",
       "      <th>DataType</th>\n",
       "      <th>Context</th>\n",
       "      <th>SubContext</th>\n",
       "      <th>Nulls</th>\n",
       "      <th>Is PK</th>\n",
       "      <th>Relationship</th>\n",
       "      <th>FromClass</th>\n",
       "      <th>FromAttribute</th>\n",
       "      <th>ToClass</th>\n",
       "      <th>ToAttribute</th>\n",
       "    </tr>\n",
       "  </thead>\n",
       "  <tbody>\n",
       "    <tr>\n",
       "      <th>0</th>\n",
       "      <td>0</td>\n",
       "      <td>IBM MDM</td>\n",
       "      <td>IBM MDM Physical Datamodel v11.3_extract_1</td>\n",
       "      <td>Physical</td>\n",
       "      <td>ADDACTIONTYPE</td>\n",
       "      <td>The ADDACTIONTYPE table identifies an action t...</td>\n",
       "      <td>ADD_ACTION_ID</td>\n",
       "      <td>A unique, system-generated key that identifies...</td>\n",
       "      <td>BIGINT</td>\n",
       "      <td></td>\n",
       "      <td></td>\n",
       "      <td>Not Null</td>\n",
       "      <td>Yes</td>\n",
       "      <td>None</td>\n",
       "      <td>None</td>\n",
       "      <td>None</td>\n",
       "      <td>None</td>\n",
       "      <td>None</td>\n",
       "    </tr>\n",
       "    <tr>\n",
       "      <th>1</th>\n",
       "      <td>1</td>\n",
       "      <td>IBM MDM</td>\n",
       "      <td>IBM MDM Physical Datamodel v11.3_extract_1</td>\n",
       "      <td>Physical</td>\n",
       "      <td>ADDACTIONTYPE</td>\n",
       "      <td>The ADDACTIONTYPE table identifies an action t...</td>\n",
       "      <td>MATCH_RELEV_TP_CD</td>\n",
       "      <td>Identifies the CONTACT match relevancies - sco...</td>\n",
       "      <td>BIGINT</td>\n",
       "      <td></td>\n",
       "      <td></td>\n",
       "      <td>Not Null</td>\n",
       "      <td>No</td>\n",
       "      <td>ADDACTIONTYPE --&gt; CDMATCHRELEVTP</td>\n",
       "      <td>ADDACTIONTYPE</td>\n",
       "      <td>MATCH_RELEV_TP_CD</td>\n",
       "      <td>CDMATCHRELEVTP</td>\n",
       "      <td>MATCH_RELEV_TP_CD</td>\n",
       "    </tr>\n",
       "    <tr>\n",
       "      <th>2</th>\n",
       "      <td>2</td>\n",
       "      <td>IBM MDM</td>\n",
       "      <td>IBM MDM Physical Datamodel v11.3_extract_1</td>\n",
       "      <td>Physical</td>\n",
       "      <td>ADDACTIONTYPE</td>\n",
       "      <td>The ADDACTIONTYPE table identifies an action t...</td>\n",
       "      <td>SUSP_REASON_TP_CD</td>\n",
       "      <td>Describes the critical data that was considere...</td>\n",
       "      <td>BIGINT</td>\n",
       "      <td></td>\n",
       "      <td></td>\n",
       "      <td>Not Null</td>\n",
       "      <td>No</td>\n",
       "      <td>ADDACTIONTYPE --&gt; CDSUSPECTREASONTP</td>\n",
       "      <td>ADDACTIONTYPE</td>\n",
       "      <td>SUSP_REASON_TP_CD</td>\n",
       "      <td>CDSUSPECTREASONTP</td>\n",
       "      <td>SUSP_REASON_TP_CD</td>\n",
       "    </tr>\n",
       "    <tr>\n",
       "      <th>3</th>\n",
       "      <td>3</td>\n",
       "      <td>IBM MDM</td>\n",
       "      <td>IBM MDM Physical Datamodel v11.3_extract_1</td>\n",
       "      <td>Physical</td>\n",
       "      <td>ADDACTIONTYPE</td>\n",
       "      <td>The ADDACTIONTYPE table identifies an action t...</td>\n",
       "      <td>ORG_TP_CD</td>\n",
       "      <td>Identifies the classification of the organizat...</td>\n",
       "      <td>BIGINT</td>\n",
       "      <td></td>\n",
       "      <td></td>\n",
       "      <td>Null</td>\n",
       "      <td>No</td>\n",
       "      <td>ADDACTIONTYPE --&gt; CDORGTP</td>\n",
       "      <td>ADDACTIONTYPE</td>\n",
       "      <td>ORG_TP_CD</td>\n",
       "      <td>CDORGTP</td>\n",
       "      <td>ORG_TP_CD</td>\n",
       "    </tr>\n",
       "    <tr>\n",
       "      <th>4</th>\n",
       "      <td>4</td>\n",
       "      <td>IBM MDM</td>\n",
       "      <td>IBM MDM Physical Datamodel v11.3_extract_1</td>\n",
       "      <td>Physical</td>\n",
       "      <td>ADDACTIONTYPE</td>\n",
       "      <td>The ADDACTIONTYPE table identifies an action t...</td>\n",
       "      <td>PERSON_ORG_CODE</td>\n",
       "      <td>Indicates the type of CONTACT - person or orga...</td>\n",
       "      <td>CHAR(1)</td>\n",
       "      <td></td>\n",
       "      <td></td>\n",
       "      <td>Not Null</td>\n",
       "      <td>No</td>\n",
       "      <td>None</td>\n",
       "      <td>None</td>\n",
       "      <td>None</td>\n",
       "      <td>None</td>\n",
       "      <td>None</td>\n",
       "    </tr>\n",
       "    <tr>\n",
       "      <th>...</th>\n",
       "      <td>...</td>\n",
       "      <td>...</td>\n",
       "      <td>...</td>\n",
       "      <td>...</td>\n",
       "      <td>...</td>\n",
       "      <td>...</td>\n",
       "      <td>...</td>\n",
       "      <td>...</td>\n",
       "      <td>...</td>\n",
       "      <td>...</td>\n",
       "      <td>...</td>\n",
       "      <td>...</td>\n",
       "      <td>...</td>\n",
       "      <td>...</td>\n",
       "      <td>...</td>\n",
       "      <td>...</td>\n",
       "      <td>...</td>\n",
       "      <td>...</td>\n",
       "    </tr>\n",
       "    <tr>\n",
       "      <th>1939</th>\n",
       "      <td></td>\n",
       "      <td>IBM MDM</td>\n",
       "      <td>IBM MDM Physical Datamodel v11.3_extract_1</td>\n",
       "      <td>Physical</td>\n",
       "      <td>USERTABLE</td>\n",
       "      <td>A type of PERSON that is allowed to use the ap...</td>\n",
       "      <td>USER_ID</td>\n",
       "      <td>The unique user ID to identify the system user.\\</td>\n",
       "      <td>VARCHAR(30)</td>\n",
       "      <td></td>\n",
       "      <td></td>\n",
       "      <td>Not Null</td>\n",
       "      <td>No</td>\n",
       "      <td>None</td>\n",
       "      <td>None</td>\n",
       "      <td>None</td>\n",
       "      <td>None</td>\n",
       "      <td>None</td>\n",
       "    </tr>\n",
       "    <tr>\n",
       "      <th>1940</th>\n",
       "      <td></td>\n",
       "      <td>IBM MDM</td>\n",
       "      <td>IBM MDM Physical Datamodel v11.3_extract_1</td>\n",
       "      <td>Physical</td>\n",
       "      <td>USERTABLE</td>\n",
       "      <td>A type of PERSON that is allowed to use the ap...</td>\n",
       "      <td>PASSWORD</td>\n",
       "      <td>The password used by the user to authenticate ...</td>\n",
       "      <td>VARCHAR(20</td>\n",
       "      <td></td>\n",
       "      <td></td>\n",
       "      <td>Null</td>\n",
       "      <td>No</td>\n",
       "      <td>None</td>\n",
       "      <td>None</td>\n",
       "      <td>None</td>\n",
       "      <td>None</td>\n",
       "      <td>None</td>\n",
       "    </tr>\n",
       "    <tr>\n",
       "      <th>1941</th>\n",
       "      <td></td>\n",
       "      <td>IBM MDM</td>\n",
       "      <td>IBM MDM Physical Datamodel v11.3_extract_1</td>\n",
       "      <td>Physical</td>\n",
       "      <td>USERTABLE</td>\n",
       "      <td>A type of PERSON that is allowed to use the ap...</td>\n",
       "      <td>EXPIRY_DT</td>\n",
       "      <td>The date that the user is no longer valid.</td>\n",
       "      <td>TIMESTAMP</td>\n",
       "      <td></td>\n",
       "      <td></td>\n",
       "      <td>Null</td>\n",
       "      <td>No</td>\n",
       "      <td>None</td>\n",
       "      <td>None</td>\n",
       "      <td>None</td>\n",
       "      <td>None</td>\n",
       "      <td>None</td>\n",
       "    </tr>\n",
       "    <tr>\n",
       "      <th>1942</th>\n",
       "      <td></td>\n",
       "      <td>IBM MDM</td>\n",
       "      <td>IBM MDM Physical Datamodel v11.3_extract_1</td>\n",
       "      <td>Physical</td>\n",
       "      <td>USERTABLE</td>\n",
       "      <td>A type of PERSON that is allowed to use the ap...</td>\n",
       "      <td>LAST_UPDATE_DT</td>\n",
       "      <td>When a record is added or updated, this field ...</td>\n",
       "      <td>TIMESTAMP</td>\n",
       "      <td></td>\n",
       "      <td></td>\n",
       "      <td>Not Null</td>\n",
       "      <td>No</td>\n",
       "      <td>None</td>\n",
       "      <td>None</td>\n",
       "      <td>None</td>\n",
       "      <td>None</td>\n",
       "      <td>None</td>\n",
       "    </tr>\n",
       "    <tr>\n",
       "      <th>1943</th>\n",
       "      <td></td>\n",
       "      <td></td>\n",
       "      <td></td>\n",
       "      <td></td>\n",
       "      <td></td>\n",
       "      <td></td>\n",
       "      <td></td>\n",
       "      <td></td>\n",
       "      <td></td>\n",
       "      <td></td>\n",
       "      <td></td>\n",
       "      <td></td>\n",
       "      <td></td>\n",
       "      <td>None</td>\n",
       "      <td>None</td>\n",
       "      <td>None</td>\n",
       "      <td>None</td>\n",
       "      <td>None</td>\n",
       "    </tr>\n",
       "  </tbody>\n",
       "</table>\n",
       "<p>1944 rows × 18 columns</p>\n",
       "</div>"
      ],
      "text/plain": [
       "     Sequence ModelDomain                                       Model  \\\n",
       "0           0     IBM MDM  IBM MDM Physical Datamodel v11.3_extract_1   \n",
       "1           1     IBM MDM  IBM MDM Physical Datamodel v11.3_extract_1   \n",
       "2           2     IBM MDM  IBM MDM Physical Datamodel v11.3_extract_1   \n",
       "3           3     IBM MDM  IBM MDM Physical Datamodel v11.3_extract_1   \n",
       "4           4     IBM MDM  IBM MDM Physical Datamodel v11.3_extract_1   \n",
       "...       ...         ...                                         ...   \n",
       "1939              IBM MDM  IBM MDM Physical Datamodel v11.3_extract_1   \n",
       "1940              IBM MDM  IBM MDM Physical Datamodel v11.3_extract_1   \n",
       "1941              IBM MDM  IBM MDM Physical Datamodel v11.3_extract_1   \n",
       "1942              IBM MDM  IBM MDM Physical Datamodel v11.3_extract_1   \n",
       "1943                                                                    \n",
       "\n",
       "     ModelType          Class  \\\n",
       "0     Physical  ADDACTIONTYPE   \n",
       "1     Physical  ADDACTIONTYPE   \n",
       "2     Physical  ADDACTIONTYPE   \n",
       "3     Physical  ADDACTIONTYPE   \n",
       "4     Physical  ADDACTIONTYPE   \n",
       "...        ...            ...   \n",
       "1939  Physical      USERTABLE   \n",
       "1940  Physical      USERTABLE   \n",
       "1941  Physical      USERTABLE   \n",
       "1942  Physical      USERTABLE   \n",
       "1943                            \n",
       "\n",
       "                                       ClassDescription          Attribute  \\\n",
       "0     The ADDACTIONTYPE table identifies an action t...      ADD_ACTION_ID   \n",
       "1     The ADDACTIONTYPE table identifies an action t...  MATCH_RELEV_TP_CD   \n",
       "2     The ADDACTIONTYPE table identifies an action t...  SUSP_REASON_TP_CD   \n",
       "3     The ADDACTIONTYPE table identifies an action t...          ORG_TP_CD   \n",
       "4     The ADDACTIONTYPE table identifies an action t...    PERSON_ORG_CODE   \n",
       "...                                                 ...                ...   \n",
       "1939  A type of PERSON that is allowed to use the ap...            USER_ID   \n",
       "1940  A type of PERSON that is allowed to use the ap...           PASSWORD   \n",
       "1941  A type of PERSON that is allowed to use the ap...          EXPIRY_DT   \n",
       "1942  A type of PERSON that is allowed to use the ap...     LAST_UPDATE_DT   \n",
       "1943                                                                         \n",
       "\n",
       "                                   AttributeDescription     DataType Context  \\\n",
       "0     A unique, system-generated key that identifies...       BIGINT           \n",
       "1     Identifies the CONTACT match relevancies - sco...       BIGINT           \n",
       "2     Describes the critical data that was considere...       BIGINT           \n",
       "3     Identifies the classification of the organizat...       BIGINT           \n",
       "4     Indicates the type of CONTACT - person or orga...      CHAR(1)           \n",
       "...                                                 ...          ...     ...   \n",
       "1939   The unique user ID to identify the system user.\\  VARCHAR(30)           \n",
       "1940  The password used by the user to authenticate ...   VARCHAR(20           \n",
       "1941         The date that the user is no longer valid.    TIMESTAMP           \n",
       "1942  When a record is added or updated, this field ...    TIMESTAMP           \n",
       "1943                                                                           \n",
       "\n",
       "     SubContext     Nulls Is PK                         Relationship  \\\n",
       "0                Not Null   Yes                                 None   \n",
       "1                Not Null    No     ADDACTIONTYPE --> CDMATCHRELEVTP   \n",
       "2                Not Null    No  ADDACTIONTYPE --> CDSUSPECTREASONTP   \n",
       "3                    Null    No            ADDACTIONTYPE --> CDORGTP   \n",
       "4                Not Null    No                                 None   \n",
       "...         ...       ...   ...                                  ...   \n",
       "1939             Not Null    No                                 None   \n",
       "1940                 Null    No                                 None   \n",
       "1941                 Null    No                                 None   \n",
       "1942             Not Null    No                                 None   \n",
       "1943                                                            None   \n",
       "\n",
       "          FromClass      FromAttribute            ToClass        ToAttribute  \n",
       "0              None               None               None               None  \n",
       "1     ADDACTIONTYPE  MATCH_RELEV_TP_CD     CDMATCHRELEVTP  MATCH_RELEV_TP_CD  \n",
       "2     ADDACTIONTYPE  SUSP_REASON_TP_CD  CDSUSPECTREASONTP  SUSP_REASON_TP_CD  \n",
       "3     ADDACTIONTYPE          ORG_TP_CD            CDORGTP          ORG_TP_CD  \n",
       "4              None               None               None               None  \n",
       "...             ...                ...                ...                ...  \n",
       "1939           None               None               None               None  \n",
       "1940           None               None               None               None  \n",
       "1941           None               None               None               None  \n",
       "1942           None               None               None               None  \n",
       "1943           None               None               None               None  \n",
       "\n",
       "[1944 rows x 18 columns]"
      ]
     },
     "execution_count": 7,
     "metadata": {},
     "output_type": "execute_result"
    }
   ],
   "source": [
    "model_data[['Relationship','FromClass','FromAttribute','ToClass','ToAttribute']] = model_data.apply(att_link, axis=1)\n",
    "model_data"
   ]
  },
  {
   "cell_type": "code",
   "execution_count": 25,
   "metadata": {},
   "outputs": [
    {
     "data": {
      "text/plain": [
       "34992"
      ]
     },
     "execution_count": 25,
     "metadata": {},
     "output_type": "execute_result"
    }
   ],
   "source": [
    "1944*18"
   ]
  },
  {
   "cell_type": "code",
   "execution_count": 8,
   "metadata": {},
   "outputs": [],
   "source": [
    "def meta_data_package_template(field_d):\n",
    "    dc_terms_base = \"http://purl.org/dc/terms/\"\n",
    "    rdf_form = {}\n",
    "    for k,v in field_d.items():\n",
    "        rdf_form[URIRef(dc_terms_base + k)] = Literal(v)\n",
    "    return rdf_form\n",
    "\n",
    "\n",
    "\n",
    "d_p = meta_data_package_template( {\"created\" : \"2023-04-01\", \n",
    "                                   \"creator\" : \"tomk\", \n",
    "                                   \"description\" : \"test data package\", \n",
    "                                   \"title\" : \"some title\", \n",
    "                                   \"modified\" : \"2023-04-05\"})\n",
    "\n"
   ]
  },
  {
   "cell_type": "code",
   "execution_count": 9,
   "metadata": {},
   "outputs": [],
   "source": [
    "rows = [dict({rk:html.escape(str(rv)) for rk, rv in r.items()}) for i,r in model_data.iterrows()]"
   ]
  },
  {
   "cell_type": "code",
   "execution_count": 10,
   "metadata": {},
   "outputs": [],
   "source": [
    "import loader"
   ]
  },
  {
   "cell_type": "code",
   "execution_count": 11,
   "metadata": {},
   "outputs": [
    {
     "data": {
      "text/plain": [
       "{'Sequence': '0.0',\n",
       " 'ModelDomain': 'IBM MDM',\n",
       " 'Model': 'IBM MDM Physical Datamodel v11.3_extract_1',\n",
       " 'ModelType': 'Physical',\n",
       " 'Class': 'ADDACTIONTYPE',\n",
       " 'ClassDescription': 'The ADDACTIONTYPE table identifies an action taken as a result of suspect duplicate identification. This table is used by the following domain. v Party Domain ',\n",
       " 'Attribute': 'ADD_ACTION_ID',\n",
       " 'AttributeDescription': 'A unique, system-generated key that identifies an add action in the system.',\n",
       " 'DataType': 'BIGINT',\n",
       " 'Context': '',\n",
       " 'SubContext': '',\n",
       " 'Nulls': 'Not Null',\n",
       " 'Is PK': 'Yes',\n",
       " 'Relationship': 'None',\n",
       " 'FromClass': 'None',\n",
       " 'FromAttribute': 'None',\n",
       " 'ToClass': 'None',\n",
       " 'ToAttribute': 'None'}"
      ]
     },
     "execution_count": 11,
     "metadata": {},
     "output_type": "execute_result"
    }
   ],
   "source": [
    "rows[0]"
   ]
  },
  {
   "cell_type": "code",
   "execution_count": 12,
   "metadata": {},
   "outputs": [],
   "source": [
    "if len(sg)==0:\n",
    "    sg.parse(\"DMEAR_ser.rdf\")"
   ]
  },
  {
   "cell_type": "code",
   "execution_count": 13,
   "metadata": {},
   "outputs": [
    {
     "name": "stdout",
     "output_type": "stream",
     "text": [
      "0:00:10.384271 for 1944\n"
     ]
    }
   ],
   "source": [
    "# Here master_g is a master graph sourced from Fuseki\n",
    "mq,me_m = loader.get_triples(sg, \"EntityAttributeRecord\", rows, master_g, [])"
   ]
  },
  {
   "cell_type": "code",
   "execution_count": 16,
   "metadata": {},
   "outputs": [],
   "source": [
    "def generate_discourse(d_name, master_triples, payload, master_uri=URIRef(\"http://master\"), discourse_uri=URIRef(\"http://discourse\")):\n",
    "    posits = set()\n",
    "    declarations = set()\n",
    "    for triple in master_triples:\n",
    "        t_pos = discourse.Posit(triple)\n",
    "        posits.add(t_pos)\n",
    "        t_dec = discourse.Declaration(t_pos.uri, asserts=True)\n",
    "        declarations.add(t_dec)\n",
    "        \n",
    "    t_disc = discourse.Discourse(d_name, payload)\n",
    "    for t_dec in declarations:\n",
    "        t_disc.add_member_uri(t_dec.uri)\n",
    "\n",
    "    master_triples = set([(s,p,o) for s,p,o in master_triples])\n",
    "    posit_triples = set(chain(*[p.to_triples() for p in posits]))\n",
    "    declaration_triples = set(chain(*[p.to_triples() for p in declarations]))\n",
    "    discourse_triples = set(t_disc.to_triples())\n",
    "\n",
    "    # Need to return separate sets of triples, or attach quad graph names to these ones so they can be \n",
    "    # separated out later. \n",
    "    return master_triples, posit_triples, declaration_triples, discourse_triples\n",
    "    \n",
    "    \n"
   ]
  },
  {
   "cell_type": "code",
   "execution_count": 17,
   "metadata": {},
   "outputs": [],
   "source": [
    "m,p,de,di = generate_discourse(\"test_123\", mq, d_p)"
   ]
  },
  {
   "cell_type": "code",
   "execution_count": 18,
   "metadata": {},
   "outputs": [
    {
     "data": {
      "text/plain": [
       "(13775, 96425, 55100, 13783)"
      ]
     },
     "execution_count": 18,
     "metadata": {},
     "output_type": "execute_result"
    }
   ],
   "source": [
    "len(m), len(p), len(de), len(di)"
   ]
  },
  {
   "cell_type": "code",
   "execution_count": 30,
   "metadata": {},
   "outputs": [
    {
     "data": {
      "text/plain": [
       "Counter({rdflib.term.URIRef('http://www.semanticweb.org/tomk/ontologies/2022/11/discourse#DiscourseContains'): 13775,\n",
       "         rdflib.term.URIRef('http://purl.org/dc/terms/created'): 1,\n",
       "         rdflib.term.URIRef('http://www.w3.org/2000/01/rdf-schema#label'): 1,\n",
       "         rdflib.term.URIRef('http://www.w3.org/1999/02/22-rdf-syntax-ns#type'): 1,\n",
       "         rdflib.term.URIRef('http://purl.org/dc/terms/title'): 1,\n",
       "         rdflib.term.URIRef('http://purl.org/dc/terms/creator'): 1,\n",
       "         rdflib.term.URIRef('http://www.semanticweb.org/tomk/ontologies/2022/11/discourse#GeneratedOn'): 1,\n",
       "         rdflib.term.URIRef('http://purl.org/dc/terms/description'): 1,\n",
       "         rdflib.term.URIRef('http://purl.org/dc/terms/modified'): 1})"
      ]
     },
     "execution_count": 30,
     "metadata": {},
     "output_type": "execute_result"
    }
   ],
   "source": [
    "Counter([t[1] for t in di])"
   ]
  },
  {
   "cell_type": "code",
   "execution_count": 24,
   "metadata": {},
   "outputs": [
    {
     "data": {
      "text/plain": [
       "(rdflib.term.URIRef('http://www.semanticweb.org/tomk/ontologies/2022/11/6fb7e149f4c04746b2eb4488fff193d5'),\n",
       " rdflib.term.URIRef('http://www.w3.org/2000/01/rdf-schema#label'),\n",
       " rdflib.term.Literal('DOMAIN_TP_CD'))"
      ]
     },
     "execution_count": 24,
     "metadata": {},
     "output_type": "execute_result"
    }
   ],
   "source": [
    "list(m)[0]"
   ]
  },
  {
   "cell_type": "code",
   "execution_count": 28,
   "metadata": {},
   "outputs": [
    {
     "data": {
      "text/plain": [
       "4.230769230769231"
      ]
     },
     "execution_count": 28,
     "metadata": {},
     "output_type": "execute_result"
    }
   ],
   "source": [
    "55/13"
   ]
  },
  {
   "cell_type": "code",
   "execution_count": null,
   "metadata": {},
   "outputs": [],
   "source": [
    "\n",
    "\n",
    "posits=set()\n",
    "declarations=set()\n",
    "\n",
    "for t in mq: # Step over a set of triples\n",
    "\n",
    "    pp = discourse.Posit(t[0:3]) # For each triple, generate a posit (danger of duplication!)\n",
    "    posits.add(pp)\n",
    "    dd = discourse.Declaration(pp.uri, asserts=True) # For each posit, generate a declaration\n",
    "    declarations.add(dd)\n",
    "\n",
    "    # Once complete, generate a \"Discourse\" to act as a container for the set\n",
    "dc = discourse.Discourse(\"test_123\", payload=d_p) \n",
    "\n",
    "for dd in declarations:\n",
    "    dc.add_member_uri(dd.uri)\n",
    "    \n",
    "dc_triples = set(dc.to_triples())\n"
   ]
  },
  {
   "cell_type": "code",
   "execution_count": null,
   "metadata": {},
   "outputs": [],
   "source": []
  },
  {
   "cell_type": "code",
   "execution_count": null,
   "metadata": {},
   "outputs": [],
   "source": [
    "def c_getter(content):\n",
    "    for c in content:\n",
    "        yield c"
   ]
  },
  {
   "cell_type": "code",
   "execution_count": null,
   "metadata": {},
   "outputs": [],
   "source": [
    "len(mq)"
   ]
  },
  {
   "cell_type": "code",
   "execution_count": null,
   "metadata": {},
   "outputs": [],
   "source": [
    "mq[33]"
   ]
  },
  {
   "cell_type": "code",
   "execution_count": null,
   "metadata": {},
   "outputs": [],
   "source": [
    "# Bring all triples together into a single set\n",
    "# The contents of this set will be spread across different named graphs in the database.\n",
    "# mq_triples --> master\n",
    "# posit_triples --> \n",
    "mq_triples = set([(s,p,o) for s,p,o,g in mq])\n",
    "posit_triples = set(chain(*[p.to_triples() for p in posits]))\n",
    "declaration_triples = set(chain(*[p.to_triples() for p in declarations]))\n",
    "discourse_triples = set(dc.to_triples())\n",
    "\n",
    "all_triples = set(mq_triples).union(posit_triples.union(declaration_triples).union(discourse_triples))\n",
    "print(len(all_triples))\n"
   ]
  },
  {
   "cell_type": "code",
   "execution_count": null,
   "metadata": {},
   "outputs": [],
   "source": [
    "\n",
    "g_g = c_getter(all_triples)\n",
    "\n",
    "pred_list = []\n",
    "subj_list = []\n",
    "obj_list = []\n",
    "for s,p,o in g_g:\n",
    "    pred_list.append(p)\n",
    "    subj_list.append(s)\n",
    "    obj_list.append(o)\n",
    "p_counter = Counter(pred_list)\n",
    "subj_counter = Counter(subj_list)\n",
    "obj_counter = Counter(obj_list )\n"
   ]
  },
  {
   "cell_type": "code",
   "execution_count": null,
   "metadata": {},
   "outputs": [],
   "source": [
    "p_counter"
   ]
  },
  {
   "cell_type": "code",
   "execution_count": null,
   "metadata": {},
   "outputs": [],
   "source": []
  },
  {
   "cell_type": "code",
   "execution_count": null,
   "metadata": {},
   "outputs": [],
   "source": [
    "assert False"
   ]
  },
  {
   "cell_type": "code",
   "execution_count": null,
   "metadata": {},
   "outputs": [],
   "source": [
    "import hashlib"
   ]
  },
  {
   "cell_type": "code",
   "execution_count": null,
   "metadata": {},
   "outputs": [],
   "source": [
    "def uuid_format(hx):\n",
    "    return hx[0:12]+\"-\"+hx[12:16]+\"-\"+hx[16:20]+\"-\"+hx[20:]"
   ]
  },
  {
   "cell_type": "code",
   "execution_count": null,
   "metadata": {},
   "outputs": [],
   "source": [
    "uuid_format(hashlib.md5(b\"test\").hexdigest()), str(uuid.uuid4())\n"
   ]
  },
  {
   "cell_type": "code",
   "execution_count": null,
   "metadata": {},
   "outputs": [],
   "source": [
    "uuid_format(hashlib.md5(pp.to_triples()[-1][2].n3().encode(\"utf-8\")).hexdigest())"
   ]
  },
  {
   "cell_type": "code",
   "execution_count": null,
   "metadata": {},
   "outputs": [],
   "source": [
    "pp.to_triples()"
   ]
  },
  {
   "cell_type": "code",
   "execution_count": null,
   "metadata": {},
   "outputs": [],
   "source": [
    "\n",
    "lq = loader.master_on_predicate_g(mq, tq)\n",
    "master_g.addN(lq)"
   ]
  },
  {
   "cell_type": "code",
   "execution_count": null,
   "metadata": {},
   "outputs": [],
   "source": [
    "def quads_to_triples(qs):\n",
    "    return list(((t[0], t[1], t[2]) for t in qs))\n",
    "\n",
    "def rebase_quads(qs, base):\n",
    "    return list(((t[0], t[1], t[2], base) for t in qs))"
   ]
  },
  {
   "cell_type": "code",
   "execution_count": null,
   "metadata": {},
   "outputs": [],
   "source": [
    "\n",
    "\n"
   ]
  },
  {
   "cell_type": "code",
   "execution_count": null,
   "metadata": {},
   "outputs": [],
   "source": [
    "\n",
    "ds.addN(rebase_quads(tq, URIRef(\"http://test\")))\n",
    "test_g = ds.graph(URIRef(\"http://test\"))\n",
    "len(test_g)"
   ]
  },
  {
   "cell_type": "code",
   "execution_count": null,
   "metadata": {},
   "outputs": [],
   "source": [
    "master_g.commit()"
   ]
  },
  {
   "cell_type": "code",
   "execution_count": null,
   "metadata": {},
   "outputs": [],
   "source": [
    "mq"
   ]
  },
  {
   "cell_type": "code",
   "execution_count": null,
   "metadata": {},
   "outputs": [],
   "source": [
    "ds.add((URIRef(\"test\"), URIRef(\"test\"), URIRef(\"test\"), URIRef(\"http://test\")))"
   ]
  },
  {
   "cell_type": "code",
   "execution_count": null,
   "metadata": {},
   "outputs": [],
   "source": [
    "len(test_g)"
   ]
  },
  {
   "cell_type": "code",
   "execution_count": null,
   "metadata": {},
   "outputs": [],
   "source": []
  }
 ],
 "metadata": {
  "kernelspec": {
   "display_name": "Python 3",
   "language": "python",
   "name": "python3"
  },
  "language_info": {
   "codemirror_mode": {
    "name": "ipython",
    "version": 3
   },
   "file_extension": ".py",
   "mimetype": "text/x-python",
   "name": "python",
   "nbconvert_exporter": "python",
   "pygments_lexer": "ipython3",
   "version": "3.6.7"
  }
 },
 "nbformat": 4,
 "nbformat_minor": 2
}
