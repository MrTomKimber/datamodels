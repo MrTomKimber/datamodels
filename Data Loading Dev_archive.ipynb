{
 "cells": [
  {
   "cell_type": "code",
   "execution_count": 1,
   "metadata": {},
   "outputs": [
    {
     "name": "stderr",
     "output_type": "stream",
     "text": [
      "* Owlready2 * Warning: optimized Cython parser module 'owlready2_optimized' is not available, defaulting to slower Python implementation\n"
     ]
    }
   ],
   "source": [
    "import pandas as pd\n",
    "import owlready2 as owlr \n",
    "#https://pythonhosted.org/Owlready/\n",
    "import rdflib\n",
    "from collections import Counter\n",
    "import uuid"
   ]
  },
  {
   "cell_type": "code",
   "execution_count": 2,
   "metadata": {},
   "outputs": [],
   "source": [
    "raw_world = owlr.World(filename='raw_world.sqlite3')\n",
    "rawdms = raw_world.get_ontology(\"datamodels.owl\").load()\n",
    "clean_world = owlr.World(filename='clean_world.sqlite3')\n",
    "cleandms = clean_world.get_ontology(\"datamodels.owl\").load()\n",
    "onto = rawdms"
   ]
  },
  {
   "cell_type": "code",
   "execution_count": 61,
   "metadata": {},
   "outputs": [],
   "source": [
    "g = rdflib.Graph()"
   ]
  },
  {
   "cell_type": "code",
   "execution_count": 3,
   "metadata": {},
   "outputs": [
    {
     "name": "stdout",
     "output_type": "stream",
     "text": [
      "datamodels.DomainModelClassEntityRecord\n",
      "\t datamodels.AttributeMapping [datamodels.Mapping]\n",
      "\t datamodels.ClassMapping [datamodels.Mapping]\n",
      "\t datamodels.DomainMapping [datamodels.Mapping]\n",
      "\t datamodels.ModelMapping [datamodels.Mapping]\n",
      "\t datamodels.hasAttributeMapping [datamodels.Mapping]\n",
      "\t datamodels.hasClassMapping [datamodels.Mapping]\n",
      "\t datamodels.hasDataTypeMapping [datamodels.Mapping]\n",
      "\t datamodels.hasModelMapping [datamodels.Mapping]\n",
      "\t datamodels.hasModelTypeMapping [datamodels.Mapping]\n"
     ]
    }
   ],
   "source": [
    "onto_dataproperties = list(onto.data_properties())\n",
    "onto_individuals = list (onto.individuals())\n",
    "individuals = [(i, i.is_a.first()) for i in onto_individuals + onto_dataproperties]\n",
    "serializations = [i[0] for i in individuals if i[1] == onto.Serialization]\n",
    "\n",
    "for s in serializations:\n",
    "    print(s)\n",
    "    mappings = [m for m in s.SerializationContainsMapping]\n",
    "    for m in mappings:\n",
    "        print (\"\\t\", m, m.is_a)"
   ]
  },
  {
   "cell_type": "code",
   "execution_count": 4,
   "metadata": {},
   "outputs": [
    {
     "name": "stderr",
     "output_type": "stream",
     "text": [
      "* Owlready2 * Running HermiT...\n",
      "    java -Xmx2000M -cp /usr/local/python/py36/lib/python3.6/site-packages/owlready2/hermit:/usr/local/python/py36/lib/python3.6/site-packages/owlready2/hermit/HermiT.jar org.semanticweb.HermiT.cli.CommandLine -c -O -D -I file:////var/folders/rd/q3bhk6_n56x75m05pp2sq7dr0000gn/T/tmprxz3zm37\n",
      "* Owlready2 * HermiT took 0.9770960807800293 seconds\n",
      "* Owlready * Equivalenting: datamodels.PartialIdentifier datamodels.r_PartialIdentifier\n",
      "* Owlready * Equivalenting: datamodels.r_PartialIdentifier datamodels.PartialIdentifier\n",
      "* Owlready * Equivalenting: datamodels.Identifier datamodels.r_Identifier\n",
      "* Owlready * Equivalenting: datamodels.r_Identifier datamodels.Identifier\n",
      "* Owlready * Reparenting datamodels.r_PartialIdentifier: {owl.ObjectProperty} => {datamodels.Attribute}\n",
      "* Owlready * Reparenting datamodels.r_Identifier: {owl.ObjectProperty} => {datamodels.Attribute}\n",
      "* Owlready * Reparenting datamodels.RelationshipFeaturesInModel: {owl.ObjectProperty} => {datamodels.IdentityParent}\n",
      "* Owlready * Reparenting datamodels.IdentityClassParentModel: {datamodels.IdentityParent, owl.ObjectProperty} => {datamodels.IdentityParent}\n",
      "* Owlready * Reparenting datamodels.hasModelTypeMapping: {datamodels.Mapping} => {datamodels.PropertyMapping}\n",
      "* Owlready * Reparenting datamodels.AttributeMapping: {datamodels.Mapping} => {datamodels.EntityMapping}\n",
      "* Owlready * Reparenting datamodels.DomainMapping: {datamodels.Mapping} => {datamodels.EntityMapping}\n",
      "* Owlready * Reparenting datamodels.hasModelMapping: {datamodels.Mapping} => {datamodels.PropertyMapping}\n",
      "* Owlready * Reparenting datamodels.hasAttributeMapping: {datamodels.Mapping} => {datamodels.PropertyMapping}\n",
      "* Owlready * Reparenting datamodels.hasDataTypeMapping: {datamodels.Mapping} => {datamodels.PropertyMapping}\n",
      "* Owlready * Reparenting datamodels.ClassMapping: {datamodels.Mapping} => {datamodels.EntityMapping}\n",
      "* Owlready * Reparenting datamodels.hasClassMapping: {datamodels.Mapping} => {datamodels.PropertyMapping}\n",
      "* Owlready * Reparenting datamodels.ModelMapping: {datamodels.Mapping} => {datamodels.EntityMapping}\n",
      "* Owlready * (NB: only changes on entities loaded in Python are shown, other changes are done but not listed)\n"
     ]
    }
   ],
   "source": [
    "with onto:\n",
    "    owlr.sync_reasoner(raw_world)"
   ]
  },
  {
   "cell_type": "code",
   "execution_count": null,
   "metadata": {},
   "outputs": [],
   "source": []
  },
  {
   "cell_type": "code",
   "execution_count": 5,
   "metadata": {},
   "outputs": [
    {
     "data": {
      "text/plain": [
       "{'Attribute': (datamodels.Attribute, 'class'),\n",
       " 'Class': (datamodels.Class, 'class'),\n",
       " 'Context': (datamodels.Context, 'class'),\n",
       " 'DataModel': (datamodels.DataModel, 'class'),\n",
       " 'Mapping': (datamodels.Mapping, 'class'),\n",
       " 'Domain': (datamodels.ModelDomain, 'class'),\n",
       " 'Relationship': (datamodels.Relationship, 'class'),\n",
       " 'Serialization': (datamodels.Serialization, 'class'),\n",
       " 'hasDataType': (datamodels.DataType, 'data'),\n",
       " 'hasModelType': (datamodels.ModelType, 'data'),\n",
       " 'hasModelType_obsolete': (datamodels.ModelTypeCode, 'data'),\n",
       " 'hasAttribute': (datamodels.ClassHasAttribute, 'object'),\n",
       " 'isAttributeParent': (datamodels.IdentityAttributeParentClass, 'object'),\n",
       " 'isClassParent': (datamodels.IdentityClassParentModel, 'object'),\n",
       " 'isRelationshipParent': (datamodels.IdentityRelationshipParentModel,\n",
       "  'object'),\n",
       " 'hasClass': (datamodels.ModelContainsClass, 'object'),\n",
       " 'hasModel': (datamodels.ModelDomainContainsModel, 'object')}"
      ]
     },
     "execution_count": 5,
     "metadata": {},
     "output_type": "execute_result"
    }
   ],
   "source": [
    "mapped_things = [(c,c.MappingKey,\"class\") for c in onto.classes() if len(c.MappingKey) > 0] + \\\n",
    "                [(p, p.MappingKey,\"data\") for p in onto.data_properties() if len(p.MappingKey) > 0] + \\\n",
    "                [(p, p.MappingKey,\"object\") for p in onto.object_properties() if len(p.MappingKey) > 0] \n",
    "mappable_things = {v[0]:k for k,v,t in mapped_things}\n",
    "mappable_things_ext = {v[0]:(k,t) for k,v,t in mapped_things}\n",
    "assert all([v==1 for v in Counter([b for c in mapped_things for b in c[1]]).values()])\n",
    "#del mapped_things\n",
    "#mappable_things\n",
    "mappable_things_ext"
   ]
  },
  {
   "cell_type": "code",
   "execution_count": 6,
   "metadata": {},
   "outputs": [],
   "source": [
    "data_row = { \"Business Domain\" : \"Core\", \n",
    "             \"Model\" : \"Principal Interactions\", \n",
    "             \"ModelType\" : \"Conceptual\", \n",
    "             \"Entity\" : \"Person\", \n",
    "             \"Attribute\" : \"PersonID\", \n",
    "             \"DataType\" : \"string\"}"
   ]
  },
  {
   "cell_type": "code",
   "execution_count": null,
   "metadata": {},
   "outputs": [],
   "source": []
  },
  {
   "cell_type": "code",
   "execution_count": 7,
   "metadata": {},
   "outputs": [],
   "source": [
    "def instantiate_thing(label, tclass, space, test_for_existing=True):\n",
    "    # Check to see if this object of the same class contains the same label\n",
    "    # if so, then return the first item of that name\n",
    "    if test_for_existing:\n",
    "        matches = [i for i in space.search(type=tclass) if label in i.label]\n",
    "        if len(matches)>0:\n",
    "            return matches[0]\n",
    "    # Otherwise, generate a unique ID, create the item in the space and assign this label\n",
    "    guid = uuid.uuid4().hex\n",
    "    with space:\n",
    "        i = tclass(guid, namespace=space)\n",
    "    i.label=label\n",
    "    return i\n",
    "    "
   ]
  },
  {
   "cell_type": "code",
   "execution_count": 8,
   "metadata": {},
   "outputs": [],
   "source": [
    "def instantiate_property(subject_key, subject_domain, predicate, object_key, object_domain, space):\n",
    "    # Get classes for domains and ranges\n",
    "    sd_list = [c for c in list(space.classes()) if c==subject_domain]\n",
    "    od_list = [c for c in list(space.classes()) if c==object_domain]\n",
    "    \n",
    "    # Get instances of classes that match provided keys\n",
    "    if subject_key is None:\n",
    "        c_s = [s for l in sd_list for s in l.instances()]\n",
    "    else:\n",
    "        c_s = [s for s in sd_list for s in l.instances() if subject_key in s.label]\n",
    "        \n",
    "    if object_key is None:\n",
    "        c_o = [o for l in od_list for o in l.instances()]\n",
    "    else:\n",
    "        print (\"labels\", [(o.label, object_key in o.label, object_key) for o in od_list])\n",
    "        c_o = [o for l in od_list for o in l.instances()if object_key in o.label]\n",
    "    \n",
    "    print(od_list, object_key)\n",
    "    \n",
    "    print(predicate)\n",
    "    predicate.python_name=\"pp\"\n",
    "    print(c_s[0], predicate)\n",
    "    if len(c_o)==0:\n",
    "        print(\"property_data\", predicate, object_key, od_list, predicate.is_a)\n",
    "        # Sometimes fails for data_properties\n",
    "        # prop_relation = c_s[0].pp.append(object_key)\n",
    "        #prop_relation = space._add_obj_triple_spo(c_s[0].storid, predicate.storid, object_key)\n",
    "        try:\n",
    "            prop_relation=predicate[c_s[0]]=[object_key]\n",
    "        except AttributeError as e:\n",
    "            print(e)\n",
    "            prop_relation=predicate[c_s[0]]=[object_key]\n",
    "        print(\"success\", prop_relation)\n",
    "        print(\"value\", predicate[c_s[0]], c_s[0])\n",
    "    else:\n",
    "        if predicate.is_functional_for(c_o[0]):\n",
    "            prop_relation = c_s[0].pp=c_o[0]\n",
    "        else:\n",
    "            prop_relation = c_s[0].pp=[c_o[0]]\n",
    "    predicate.python_name = \"\"\n",
    "    return c_s, predicate, c_o, prop_relation"
   ]
  },
  {
   "cell_type": "code",
   "execution_count": 9,
   "metadata": {},
   "outputs": [],
   "source": [
    "#ont = cleandms\n",
    "#ont = onto\n",
    "#q = instantiate_thing(\"test\", onto.Class, cleandms, True)\n",
    "#q = instantiate_thing(\"test 2\", onto.Class, onto, True)\n",
    "\n",
    "#for i in ont.Class.instances():\n",
    "#    print (i.iri, i.label)"
   ]
  },
  {
   "cell_type": "code",
   "execution_count": 10,
   "metadata": {},
   "outputs": [],
   "source": [
    "#for i in onto.Class.instances():\n",
    "#    print (i.iri, i.label)"
   ]
  },
  {
   "cell_type": "code",
   "execution_count": 11,
   "metadata": {},
   "outputs": [
    {
     "name": "stdout",
     "output_type": "stream",
     "text": [
      "datamodels.DomainModelClassEntityRecord\n",
      "\t datamodels.AttributeMapping Attribute\n",
      "\t\tEntity:datamodels.AttributeMapping\n",
      "\t datamodels.ClassMapping Entity\n",
      "\t\tEntity:datamodels.ClassMapping\n",
      "\t datamodels.DomainMapping Business Domain\n",
      "\t\tEntity:datamodels.DomainMapping\n",
      "\t datamodels.ModelMapping Model\n",
      "\t\tEntity:datamodels.ModelMapping\n",
      "\t datamodels.hasAttributeMapping Attribute\n",
      "\t\tProperty:datamodels.hasAttributeMapping\n",
      "\t datamodels.hasClassMapping Entity\n",
      "\t\tProperty:datamodels.hasClassMapping\n",
      "\t datamodels.hasDataTypeMapping DataType\n",
      "\t\tProperty:datamodels.hasDataTypeMapping\n",
      "\t datamodels.hasModelMapping Model\n",
      "\t\tProperty:datamodels.hasModelMapping\n",
      "\t datamodels.hasModelTypeMapping ModelType\n",
      "\t\tProperty:datamodels.hasModelTypeMapping\n",
      "\n",
      "{'type': 'entity', 'mapping_name': 'Attribute', 'property': 'rdf:type:', 'range': datamodels.Attribute, 'property_type': (datamodels.Attribute, 'class'), 'subject_label': 'PersonID'}\n",
      "15 13 14\n",
      "{'type': 'entity', 'mapping_name': 'Attribute', 'property': 'rdf:type:', 'range': datamodels.Attribute, 'property_type': (datamodels.Attribute, 'class'), 'subject_label': 'PersonID'}\n",
      "{'type': 'property', 'mapping_name': 'hasAttribute', 'domain': datamodels.Class, 'property': datamodels.ClassHasAttribute, 'property_type': (datamodels.ClassHasAttribute, 'object'), 'range': datamodels.Attribute, 'range_search_value': 'PersonID'}\n",
      "{'type': 'entity', 'mapping_name': 'Class', 'property': 'rdf:type:', 'range': datamodels.Class, 'property_type': (datamodels.Class, 'class'), 'subject_label': 'Person'}\n",
      "15 13 14\n",
      "{'type': 'entity', 'mapping_name': 'Class', 'property': 'rdf:type:', 'range': datamodels.Class, 'property_type': (datamodels.Class, 'class'), 'subject_label': 'Person'}\n",
      "{'type': 'property', 'mapping_name': 'hasClass', 'domain': datamodels.DataModel, 'property': datamodels.ModelContainsClass, 'property_type': (datamodels.ModelContainsClass, 'object'), 'range': datamodels.Class, 'range_search_value': 'Person'}\n",
      "{'type': 'entity', 'mapping_name': 'Domain', 'property': 'rdf:type:', 'range': datamodels.ModelDomain, 'property_type': (datamodels.ModelDomain, 'class'), 'subject_label': 'Core'}\n",
      "15 13 14\n",
      "{'type': 'entity', 'mapping_name': 'Domain', 'property': 'rdf:type:', 'range': datamodels.ModelDomain, 'property_type': (datamodels.ModelDomain, 'class'), 'subject_label': 'Core'}\n",
      "{'type': 'entity', 'mapping_name': 'DataModel', 'property': 'rdf:type:', 'range': datamodels.DataModel, 'property_type': (datamodels.DataModel, 'class'), 'subject_label': 'Principal Interactions'}\n",
      "15 13 14\n",
      "{'type': 'entity', 'mapping_name': 'DataModel', 'property': 'rdf:type:', 'range': datamodels.DataModel, 'property_type': (datamodels.DataModel, 'class'), 'subject_label': 'Principal Interactions'}\n",
      "{'type': 'property', 'mapping_name': 'hasModel', 'domain': datamodels.ModelDomain, 'property': datamodels.ModelDomainContainsModel, 'property_type': (datamodels.ModelDomainContainsModel, 'object'), 'range': datamodels.DataModel, 'range_search_value': 'Principal Interactions'}\n",
      "{'type': 'property', 'mapping_name': 'hasDataType', 'domain': datamodels.Attribute, 'property': datamodels.DataType, 'property_type': (datamodels.DataType, 'data'), 'range': 'DataType', 'range_search_value': 'string'}\n",
      "{'type': 'property', 'mapping_name': 'hasModelType', 'domain': datamodels.DataModel, 'property': datamodels.ModelType, 'property_type': (datamodels.ModelType, 'data'), 'range': 'ModelType', 'range_search_value': 'Conceptual'}\n",
      "\n"
     ]
    }
   ],
   "source": [
    "s_objects = []\n",
    "p_objects = []\n",
    "for s in serializations:\n",
    "    print(s)\n",
    "    mappings = [m for m in s.SerializationContainsMapping]\n",
    "    serials = {}\n",
    "    for m in mappings:\n",
    "        s_key = m.SerializationLabel.first()\n",
    "        i_key = m.MappingLabel.first()\n",
    "\n",
    "        if s_key not in serials.keys():\n",
    "            serials[s_key]=[]\n",
    "\n",
    "        print (\"\\t\", m, s_key)\n",
    "            \n",
    "        if m.is_a.first() == onto.EntityMapping:\n",
    "            print(\"\\t\\tEntity:{e}\".format(e=m))\n",
    "            o_range = m.MappingRange.first()\n",
    "            property_d = { \"type\" : \"entity\", \n",
    "                           \"mapping_name\" : i_key, \n",
    "                           \"property\" : \"rdf:type:\", \n",
    "                           \"range\" :    mappable_things[o_range], \n",
    "                           \"property_type\" : mappable_things_ext[i_key],\n",
    "                           \"subject_label\" : data_row[s_key]}\n",
    "#            serials[s_key].append((data_row[s_key], \"rdf:type\", mappable_things[o_range]))\n",
    "            serials[s_key].append(property_d)\n",
    "    \n",
    "        elif m.is_a.first() == onto.PropertyMapping:\n",
    "            print(\"\\t\\tProperty:{e}\".format(e=m))\n",
    "            s_domain = m.MappingDomain.first()\n",
    "            o_range = m.MappingRange.first()\n",
    "            property_d = { \"type\" : \"property\", \n",
    "                           \"mapping_name\" : i_key, \n",
    "                           \"domain\" :   mappable_things[s_domain], \n",
    "                           \"property\" : mappable_things[i_key], \n",
    "                           \"property_type\" : mappable_things_ext[i_key],\n",
    "                           \"range\" :    mappable_things.get(o_range,o_range), \n",
    "                           \"range_search_value\" : data_row[s_key]}\n",
    "            serials[s_key].append(property_d)\n",
    "            \n",
    "        else:\n",
    "            print(m.is_a)\n",
    "            print(s_key)\n",
    "            assert False\n",
    "            \n",
    "print()\n",
    "\n",
    "# Instantiate temporary versions of all the in-row objects\n",
    "for v in serials.values():\n",
    "    for u in v:\n",
    "        print(u)\n",
    "        if u['type'] == \"entity\":#u[1]==\"rdf:type\":\n",
    "            #with onto:\n",
    "                #q = instantiate_thing(\"test\", onto.Class, cleandms, True)\n",
    "            s_objects.append(instantiate_thing(u['subject_label'], u['range'], onto, True))\n",
    "                #s_objects.append(instantiate_thing(u[0], u[2], onto, True))\n",
    "                #u[2](u[0], namespace=onto) # Create instances in the ontology\n",
    "            print(u)\n",
    "\n",
    "print()\n"
   ]
  },
  {
   "cell_type": "code",
   "execution_count": 12,
   "metadata": {},
   "outputs": [
    {
     "name": "stdout",
     "output_type": "stream",
     "text": [
      "labels [(['Attribute'], False, 'PersonID')]\n",
      "[datamodels.Attribute] PersonID\n",
      "datamodels.ClassHasAttribute\n",
      "datamodels.1e877a9d54b947ae9d416ade2ff1e80d datamodels.ClassHasAttribute\n",
      "13 13 14\n",
      "labels [(['Class'], False, 'Person')]\n",
      "[datamodels.Class] Person\n",
      "datamodels.ModelContainsClass\n",
      "datamodels.1d7149959fbe473ab47cb2db8437cac2 datamodels.ModelContainsClass\n",
      "13 13 14\n",
      "labels [([], False, 'Principal Interactions')]\n",
      "[datamodels.DataModel] Principal Interactions\n",
      "datamodels.ModelDomainContainsModel\n",
      "datamodels.a5b7171cb1094246808c88ae279bba43 datamodels.ModelDomainContainsModel\n",
      "13 13 14\n",
      "labels []\n",
      "[] string\n",
      "datamodels.DataType\n",
      "datamodels.67c3edfc375a44ea86edae5e746f399d datamodels.DataType\n",
      "property_data datamodels.DataType string [] [owl.DatatypeProperty]\n",
      "14 13 14\n",
      "success ['string']\n",
      "value ['string'] datamodels.67c3edfc375a44ea86edae5e746f399d\n",
      "labels []\n",
      "[] Conceptual\n",
      "datamodels.ModelType\n",
      "datamodels.1d7149959fbe473ab47cb2db8437cac2 datamodels.ModelType\n",
      "property_data datamodels.ModelType Conceptual [] [owl.DatatypeProperty]\n",
      "13 13 14\n",
      "'str' object has no attribute 'storid'\n",
      "13 13 14\n",
      "success ['Conceptual']\n",
      "value ['Conceptual'] datamodels.1d7149959fbe473ab47cb2db8437cac2\n"
     ]
    }
   ],
   "source": [
    "\n",
    "# Create property links for all identified in-row objects\n",
    "for v in serials.values():\n",
    "    for u in v:\n",
    "        if u['type'] == \"property\":\n",
    "\n",
    "            p_objects.append(u)\n",
    "            instantiate_property(None, u['domain'], u['property'], u[\"range_search_value\"], u['range'], onto)\n"
   ]
  },
  {
   "cell_type": "code",
   "execution_count": 16,
   "metadata": {},
   "outputs": [
    {
     "name": "stdout",
     "output_type": "stream",
     "text": [
      "datamodels.1d7149959fbe473ab47cb2db8437cac2 [datamodels.DataModel]\n",
      "datamodels.ModelIsMemberOfModelDomain [datamodels.a5b7171cb1094246808c88ae279bba43]\n",
      "rdf-schema.label ['Principal Interactions']\n",
      "datamodels.MappingKey []\n"
     ]
    }
   ],
   "source": [
    "dm=[i for i in onto.individuals() if 'Principal Interactions' in i.label][0]\n",
    "#dm.get_properties()\n",
    "print (dm, dm.is_a)\n",
    "for p in dm.INDIRECT_get_properties():\n",
    "    print(p,p[dm])"
   ]
  },
  {
   "cell_type": "code",
   "execution_count": 60,
   "metadata": {},
   "outputs": [
    {
     "ename": "ParsingError",
     "evalue": "('Error at BIND', 41)",
     "output_type": "error",
     "traceback": [
      "\u001b[0;31m---------------------------------------------------------------------------\u001b[0m",
      "\u001b[0;31mParsingError\u001b[0m                              Traceback (most recent call last)",
      "\u001b[0;32m<ipython-input-60-5a9da11be516>\u001b[0m in \u001b[0;36m<module>\u001b[0;34m\u001b[0m\n\u001b[1;32m      1\u001b[0m list(raw_world.sparql(\"\"\"SELECT ?s ?o \n\u001b[1;32m      2\u001b[0m \u001b[0mWHERE\u001b[0m \u001b[0;34m{\u001b[0m\u001b[0;31m \u001b[0m\u001b[0;31m?\u001b[0m\u001b[0ms\u001b[0m \u001b[0mrdfs\u001b[0m\u001b[0;34m:\u001b[0m\u001b[0mlabel\u001b[0m\u001b[0;31m \u001b[0m\u001b[0;31m?\u001b[0m\u001b[0mo\u001b[0m \u001b[0;34m}\u001b[0m\u001b[0;34m\u001b[0m\u001b[0;34m\u001b[0m\u001b[0m\n\u001b[0;32m----> 3\u001b[0;31m BIND \"Person\" as ?o \"\"\"))\n\u001b[0m",
      "\u001b[0;32m/usr/local/python/py36/lib/python3.6/site-packages/owlready2/namespace.py\u001b[0m in \u001b[0;36msparql\u001b[0;34m(self, sparql, params, error_on_undefined_entities)\u001b[0m\n\u001b[1;32m    533\u001b[0m   \u001b[0;32mdef\u001b[0m \u001b[0msparql\u001b[0m\u001b[0;34m(\u001b[0m\u001b[0mself\u001b[0m\u001b[0;34m,\u001b[0m \u001b[0msparql\u001b[0m\u001b[0;34m,\u001b[0m \u001b[0mparams\u001b[0m \u001b[0;34m=\u001b[0m \u001b[0;34m(\u001b[0m\u001b[0;34m)\u001b[0m\u001b[0;34m,\u001b[0m \u001b[0merror_on_undefined_entities\u001b[0m \u001b[0;34m=\u001b[0m \u001b[0;32mTrue\u001b[0m\u001b[0;34m)\u001b[0m\u001b[0;34m:\u001b[0m\u001b[0;34m\u001b[0m\u001b[0;34m\u001b[0m\u001b[0m\n\u001b[1;32m    534\u001b[0m     \u001b[0;32mimport\u001b[0m \u001b[0mowlready2\u001b[0m\u001b[0;34m.\u001b[0m\u001b[0msparql\u001b[0m\u001b[0;34m.\u001b[0m\u001b[0mmain\u001b[0m\u001b[0;34m\u001b[0m\u001b[0;34m\u001b[0m\u001b[0m\n\u001b[0;32m--> 535\u001b[0;31m     \u001b[0mquery\u001b[0m \u001b[0;34m=\u001b[0m \u001b[0mself\u001b[0m\u001b[0;34m.\u001b[0m\u001b[0m_prepare_sparql\u001b[0m\u001b[0;34m(\u001b[0m\u001b[0msparql\u001b[0m\u001b[0;34m,\u001b[0m \u001b[0merror_on_undefined_entities\u001b[0m\u001b[0;34m)\u001b[0m\u001b[0;34m\u001b[0m\u001b[0;34m\u001b[0m\u001b[0m\n\u001b[0m\u001b[1;32m    536\u001b[0m     \u001b[0;32mreturn\u001b[0m \u001b[0mquery\u001b[0m\u001b[0;34m.\u001b[0m\u001b[0mexecute\u001b[0m\u001b[0;34m(\u001b[0m\u001b[0mparams\u001b[0m\u001b[0;34m)\u001b[0m\u001b[0;34m\u001b[0m\u001b[0;34m\u001b[0m\u001b[0m\n\u001b[1;32m    537\u001b[0m \u001b[0;34m\u001b[0m\u001b[0m\n",
      "\u001b[0;32m/usr/local/python/py36/lib/python3.6/site-packages/owlready2/namespace.py\u001b[0m in \u001b[0;36m_prepare_sparql\u001b[0;34m(self, sparql, error_on_undefined_entities)\u001b[0m\n\u001b[1;32m    539\u001b[0m   \u001b[0;32mdef\u001b[0m \u001b[0m_prepare_sparql\u001b[0m\u001b[0;34m(\u001b[0m\u001b[0mself\u001b[0m\u001b[0;34m,\u001b[0m \u001b[0msparql\u001b[0m\u001b[0;34m,\u001b[0m \u001b[0merror_on_undefined_entities\u001b[0m\u001b[0;34m)\u001b[0m\u001b[0;34m:\u001b[0m\u001b[0;34m\u001b[0m\u001b[0;34m\u001b[0m\u001b[0m\n\u001b[1;32m    540\u001b[0m     \u001b[0;32mimport\u001b[0m \u001b[0mowlready2\u001b[0m\u001b[0;34m.\u001b[0m\u001b[0msparql\u001b[0m\u001b[0;34m.\u001b[0m\u001b[0mmain\u001b[0m\u001b[0;34m\u001b[0m\u001b[0;34m\u001b[0m\u001b[0m\n\u001b[0;32m--> 541\u001b[0;31m     \u001b[0;32mreturn\u001b[0m \u001b[0mowlready2\u001b[0m\u001b[0;34m.\u001b[0m\u001b[0msparql\u001b[0m\u001b[0;34m.\u001b[0m\u001b[0mmain\u001b[0m\u001b[0;34m.\u001b[0m\u001b[0mTranslator\u001b[0m\u001b[0;34m(\u001b[0m\u001b[0mself\u001b[0m\u001b[0;34m,\u001b[0m \u001b[0merror_on_undefined_entities\u001b[0m\u001b[0;34m)\u001b[0m\u001b[0;34m.\u001b[0m\u001b[0mparse\u001b[0m\u001b[0;34m(\u001b[0m\u001b[0msparql\u001b[0m\u001b[0;34m)\u001b[0m\u001b[0;34m\u001b[0m\u001b[0;34m\u001b[0m\u001b[0m\n\u001b[0m\u001b[1;32m    542\u001b[0m \u001b[0;34m\u001b[0m\u001b[0m\n\u001b[1;32m    543\u001b[0m   \u001b[0;32mdef\u001b[0m \u001b[0mprepare_sparql\u001b[0m\u001b[0;34m(\u001b[0m\u001b[0mself\u001b[0m\u001b[0;34m,\u001b[0m \u001b[0msparql\u001b[0m\u001b[0;34m,\u001b[0m \u001b[0merror_on_undefined_entities\u001b[0m \u001b[0;34m=\u001b[0m \u001b[0;32mTrue\u001b[0m\u001b[0;34m)\u001b[0m\u001b[0;34m:\u001b[0m \u001b[0;31m# lru_cache does not handle optional args\u001b[0m\u001b[0;34m\u001b[0m\u001b[0;34m\u001b[0m\u001b[0m\n",
      "\u001b[0;32m/usr/local/python/py36/lib/python3.6/site-packages/owlready2/sparql/main.py\u001b[0m in \u001b[0;36mparse\u001b[0;34m(self, sparql)\u001b[0m\n\u001b[1;32m     59\u001b[0m       \u001b[0mself\u001b[0m\u001b[0;34m.\u001b[0m\u001b[0mescape_mark\u001b[0m \u001b[0;34m+=\u001b[0m \u001b[0;34m\"ç\"\u001b[0m\u001b[0;34m\u001b[0m\u001b[0;34m\u001b[0m\u001b[0m\n\u001b[1;32m     60\u001b[0m     \u001b[0mCURRENT_TRANSLATOR\u001b[0m\u001b[0;34m.\u001b[0m\u001b[0mset\u001b[0m\u001b[0;34m(\u001b[0m\u001b[0mself\u001b[0m\u001b[0;34m)\u001b[0m\u001b[0;34m\u001b[0m\u001b[0;34m\u001b[0m\u001b[0m\n\u001b[0;32m---> 61\u001b[0;31m     \u001b[0mself\u001b[0m\u001b[0;34m.\u001b[0m\u001b[0mmain_query\u001b[0m \u001b[0;34m=\u001b[0m \u001b[0mPARSER\u001b[0m\u001b[0;34m.\u001b[0m\u001b[0mparse\u001b[0m\u001b[0;34m(\u001b[0m\u001b[0mLEXER\u001b[0m\u001b[0;34m.\u001b[0m\u001b[0mlex\u001b[0m\u001b[0;34m(\u001b[0m\u001b[0msparql\u001b[0m\u001b[0;34m)\u001b[0m\u001b[0;34m)\u001b[0m\u001b[0;34m\u001b[0m\u001b[0;34m\u001b[0m\u001b[0m\n\u001b[0m\u001b[1;32m     62\u001b[0m     \u001b[0;32mreturn\u001b[0m \u001b[0mself\u001b[0m\u001b[0;34m.\u001b[0m\u001b[0mfinalize\u001b[0m\u001b[0;34m(\u001b[0m\u001b[0;34m)\u001b[0m\u001b[0;34m\u001b[0m\u001b[0;34m\u001b[0m\u001b[0m\n\u001b[1;32m     63\u001b[0m \u001b[0;34m\u001b[0m\u001b[0m\n",
      "\u001b[0;32m/usr/local/python/py36/lib/python3.6/site-packages/owlready2/rply.py\u001b[0m in \u001b[0;36mparse\u001b[0;34m(self, tokenizer, state)\u001b[0m\n\u001b[1;32m    449\u001b[0m           \u001b[0;32mraise\u001b[0m \u001b[0mAssertionError\u001b[0m\u001b[0;34m(\u001b[0m\u001b[0;34m\"For now, error_handler must raise.\"\u001b[0m\u001b[0;34m)\u001b[0m\u001b[0;34m\u001b[0m\u001b[0;34m\u001b[0m\u001b[0m\n\u001b[1;32m    450\u001b[0m         \u001b[0;32melse\u001b[0m\u001b[0;34m:\u001b[0m\u001b[0;34m\u001b[0m\u001b[0;34m\u001b[0m\u001b[0m\n\u001b[0;32m--> 451\u001b[0;31m           \u001b[0;32mraise\u001b[0m \u001b[0mParsingError\u001b[0m\u001b[0;34m(\u001b[0m\u001b[0;34m\"Error at %s\"\u001b[0m \u001b[0;34m%\u001b[0m \u001b[0mlookahead\u001b[0m\u001b[0;34m,\u001b[0m \u001b[0mlookahead\u001b[0m\u001b[0;34m.\u001b[0m\u001b[0msource_pos\u001b[0m\u001b[0;34m)\u001b[0m\u001b[0;34m\u001b[0m\u001b[0;34m\u001b[0m\u001b[0m\n\u001b[0m\u001b[1;32m    452\u001b[0m \u001b[0;34m\u001b[0m\u001b[0m\n\u001b[1;32m    453\u001b[0m   \u001b[0;32mdef\u001b[0m \u001b[0m_reduce_production\u001b[0m\u001b[0;34m(\u001b[0m\u001b[0mself\u001b[0m\u001b[0;34m,\u001b[0m \u001b[0mt\u001b[0m\u001b[0;34m,\u001b[0m \u001b[0msymstack\u001b[0m\u001b[0;34m,\u001b[0m \u001b[0mstatestack\u001b[0m\u001b[0;34m,\u001b[0m \u001b[0mstate\u001b[0m\u001b[0;34m)\u001b[0m\u001b[0;34m:\u001b[0m\u001b[0;34m\u001b[0m\u001b[0;34m\u001b[0m\u001b[0m\n",
      "\u001b[0;31mParsingError\u001b[0m: ('Error at BIND', 41)"
     ]
    }
   ],
   "source": [
    "list(raw_world.sparql(\"\"\"SELECT ?s ?o \n",
    "WHERE { ?s rdfs:label ?o }\n",
    "BIND \"Person\" as ?o \"\"\"))"
   ]
  },
  {
   "cell_type": "code",
   "execution_count": 19,
   "metadata": {},
   "outputs": [
    {
     "data": {
      "text/plain": [
       "{'type': 'property',\n",
       " 'mapping_name': 'hasModelType',\n",
       " 'domain': datamodels.DataModel,\n",
       " 'property': datamodels.ModelType,\n",
       " 'property_type': (datamodels.ModelType, 'data'),\n",
       " 'range': 'ModelType',\n",
       " 'range_search_value': 'Conceptual'}"
      ]
     },
     "execution_count": 19,
     "metadata": {},
     "output_type": "execute_result"
    }
   ],
   "source": [
    "p_objects[-1]"
   ]
  },
  {
   "cell_type": "code",
   "execution_count": 21,
   "metadata": {},
   "outputs": [
    {
     "data": {
      "text/plain": [
       "{'type': 'property',\n",
       " 'mapping_name': 'hasDataType',\n",
       " 'domain': datamodels.Attribute,\n",
       " 'property': datamodels.DataType,\n",
       " 'property_type': (datamodels.DataType, 'data'),\n",
       " 'range': 'DataType',\n",
       " 'range_search_value': 'string'}"
      ]
     },
     "execution_count": 21,
     "metadata": {},
     "output_type": "execute_result"
    }
   ],
   "source": [
    "p_objects[-2]"
   ]
  },
  {
   "cell_type": "code",
   "execution_count": 32,
   "metadata": {},
   "outputs": [
    {
     "name": "stdout",
     "output_type": "stream",
     "text": [
      "[]\n",
      "[]\n",
      "[]\n",
      "['string']\n",
      "[]\n"
     ]
    }
   ],
   "source": [
    "for p in p_objects:\n",
    "    print(p['property'][attrib])#dm)"
   ]
  },
  {
   "cell_type": "code",
   "execution_count": 14,
   "metadata": {},
   "outputs": [
    {
     "ename": "AssertionError",
     "evalue": "",
     "output_type": "error",
     "traceback": [
      "\u001b[0;31m---------------------------------------------------------------------------\u001b[0m",
      "\u001b[0;31mAssertionError\u001b[0m                            Traceback (most recent call last)",
      "\u001b[0;32m<ipython-input-14-a871fdc9ebee>\u001b[0m in \u001b[0;36m<module>\u001b[0;34m\u001b[0m\n\u001b[0;32m----> 1\u001b[0;31m \u001b[0;32massert\u001b[0m \u001b[0;32mFalse\u001b[0m\u001b[0;34m\u001b[0m\u001b[0;34m\u001b[0m\u001b[0m\n\u001b[0m",
      "\u001b[0;31mAssertionError\u001b[0m: "
     ]
    }
   ],
   "source": [
    "assert False"
   ]
  },
  {
   "cell_type": "code",
   "execution_count": null,
   "metadata": {},
   "outputs": [],
   "source": [
    "onto.ModelTypeCode._python_name"
   ]
  },
  {
   "cell_type": "code",
   "execution_count": null,
   "metadata": {},
   "outputs": [],
   "source": [
    "onto.ModelTypeCode.is_a[0].iri==\"http://www.w3.org/2002/07/owl#DatatypeProperty\""
   ]
  },
  {
   "cell_type": "code",
   "execution_count": null,
   "metadata": {},
   "outputs": [],
   "source": [
    "dir(onto.ModelTypeCode)"
   ]
  },
  {
   "cell_type": "code",
   "execution_count": null,
   "metadata": {},
   "outputs": [],
   "source": [
    "[(i, i.is_a, i.label) for i in list(onto.individuals())]"
   ]
  },
  {
   "cell_type": "code",
   "execution_count": 31,
   "metadata": {},
   "outputs": [
    {
     "data": {
      "text/plain": [
       "{datamodels.DataType, rdf-schema.label, datamodels.AttributeIsMemberOfClass}"
      ]
     },
     "execution_count": 31,
     "metadata": {},
     "output_type": "execute_result"
    }
   ],
   "source": [
    "attrib=[i for i in onto.individuals() if 'PersonID' in i.label][0]\n",
    "attrib.get_properties()\n"
   ]
  },
  {
   "cell_type": "code",
   "execution_count": null,
   "metadata": {},
   "outputs": [],
   "source": [
    "for p in attrib.INDIRECT_get_properties():\n",
    "    print(p,p[attrib])"
   ]
  },
  {
   "cell_type": "code",
   "execution_count": 25,
   "metadata": {},
   "outputs": [
    {
     "name": "stdout",
     "output_type": "stream",
     "text": [
      "datamodels.1d7149959fbe473ab47cb2db8437cac2 [datamodels.DataModel]\n",
      "datamodels.ModelIsMemberOfModelDomain [datamodels.a5b7171cb1094246808c88ae279bba43]\n",
      "rdf-schema.label ['Principal Interactions']\n",
      "datamodels.MappingKey []\n"
     ]
    }
   ],
   "source": [
    "dm=[i for i in onto.individuals() if 'Principal Interactions' in i.label][0]\n",
    "#dm.get_properties()\n",
    "print (dm, dm.is_a)\n",
    "for p in dm.INDIRECT_get_properties():\n",
    "    print(p,p[dm])"
   ]
  },
  {
   "cell_type": "code",
   "execution_count": null,
   "metadata": {},
   "outputs": [],
   "source": [
    "for e,p in enumerate(onto.data_properties()):\n",
    "    print(p[dm])"
   ]
  },
  {
   "cell_type": "code",
   "execution_count": null,
   "metadata": {},
   "outputs": [],
   "source": [
    "assert False"
   ]
  },
  {
   "cell_type": "code",
   "execution_count": null,
   "metadata": {},
   "outputs": [],
   "source": [
    "for e,p in enumerate(onto.data_properties()):\n",
    "    p[dm]=[\"Test\"]\n",
    "    print(e,p==[p for p in list(onto.data_properties()) ][8])\n",
    "print(\"Done\")\n",
    "[p for p in list(onto.data_properties()) ][8][dm]=[\"Tester\"]"
   ]
  },
  {
   "cell_type": "code",
   "execution_count": null,
   "metadata": {},
   "outputs": [],
   "source": [
    "dir(onto)"
   ]
  },
  {
   "cell_type": "code",
   "execution_count": null,
   "metadata": {},
   "outputs": [],
   "source": [
    "onto.Class.instances(), onto.Attribute.instances(), onto.DataModel.instances(), onto.ModelDomain.instances()"
   ]
  },
  {
   "cell_type": "code",
   "execution_count": null,
   "metadata": {},
   "outputs": [],
   "source": [
    "onto.Attribute.instances()[0].get_properties()"
   ]
  },
  {
   "cell_type": "code",
   "execution_count": null,
   "metadata": {},
   "outputs": [],
   "source": [
    "list(onto.Attribute.instances()[0]._get_instance_possible_relations())"
   ]
  },
  {
   "cell_type": "code",
   "execution_count": null,
   "metadata": {},
   "outputs": [],
   "source": [
    "dir(onto.DataModel.instances()[0])"
   ]
  },
  {
   "cell_type": "code",
   "execution_count": null,
   "metadata": {},
   "outputs": [],
   "source": [
    "for p in onto.Attribute.instances()[0].get_properties():\n",
    "    print(p, p.python_name, p[onto.DataModel.instances()[0]])\n",
    "        "
   ]
  },
  {
   "cell_type": "code",
   "execution_count": null,
   "metadata": {},
   "outputs": [],
   "source": [
    "for p in onto.DataModel.instances()[0].get_properties():\n",
    "    print(p, p.python_name, p[onto.DataModel.instances()[0]])\n",
    "        "
   ]
  },
  {
   "cell_type": "code",
   "execution_count": null,
   "metadata": {},
   "outputs": [],
   "source": [
    "onto.ModelTypeCode[onto.DataModel.instances()[0]]=['Test']"
   ]
  },
  {
   "cell_type": "code",
   "execution_count": null,
   "metadata": {},
   "outputs": [],
   "source": [
    "onto.ModelTypeCode.python_name = \"mtc\"\n",
    "#onto.DataModel.instances()[0].mtc=[\"Conceptual\"]"
   ]
  },
  {
   "cell_type": "code",
   "execution_count": null,
   "metadata": {},
   "outputs": [],
   "source": [
    "onto.DataModel.instances()[0].ModelTypeCode"
   ]
  },
  {
   "cell_type": "code",
   "execution_count": null,
   "metadata": {},
   "outputs": [],
   "source": [
    "with onto:\n",
    "    owlr.sync_reasoner(raw_world)"
   ]
  },
  {
   "cell_type": "code",
   "execution_count": null,
   "metadata": {},
   "outputs": [],
   "source": [
    "[c for c in list(onto.classes()) if c==p_objects[0]['domain']][0].instances()"
   ]
  },
  {
   "cell_type": "code",
   "execution_count": null,
   "metadata": {},
   "outputs": [],
   "source": [
    "p_objects[0]['property'].is_functional_for(p_objects[0]['range'])"
   ]
  },
  {
   "cell_type": "code",
   "execution_count": null,
   "metadata": {},
   "outputs": [],
   "source": [
    "instantiate_property(None, p_objects[0]['domain'], p_objects[0]['property'], p_objects[0]['range_search_value'], p_objects[0]['range'], onto)"
   ]
  },
  {
   "cell_type": "code",
   "execution_count": null,
   "metadata": {},
   "outputs": [],
   "source": [
    "[(s,s.is_a, s.label) for s in s_objects]"
   ]
  },
  {
   "cell_type": "code",
   "execution_count": null,
   "metadata": {},
   "outputs": [],
   "source": [
    "[(c,c.iri, c.is_a, c.label) for c in onto.Class.instances()]"
   ]
  },
  {
   "cell_type": "code",
   "execution_count": null,
   "metadata": {},
   "outputs": [],
   "source": [
    "assert False"
   ]
  },
  {
   "cell_type": "code",
   "execution_count": null,
   "metadata": {},
   "outputs": [],
   "source": [
    "serials['Entity']"
   ]
  },
  {
   "cell_type": "code",
   "execution_count": null,
   "metadata": {},
   "outputs": [],
   "source": [
    "with onto:\n",
    "    owlr.sync_reasoner()"
   ]
  },
  {
   "cell_type": "code",
   "execution_count": null,
   "metadata": {},
   "outputs": [],
   "source": [
    "onto.get_properties()"
   ]
  },
  {
   "cell_type": "code",
   "execution_count": null,
   "metadata": {},
   "outputs": [],
   "source": [
    "list(onto.inconsistent_classes())"
   ]
  },
  {
   "cell_type": "code",
   "execution_count": null,
   "metadata": {},
   "outputs": [],
   "source": [
    "for c in list(onto.classes()):\n",
    "    print (c, c.instances())"
   ]
  },
  {
   "cell_type": "code",
   "execution_count": null,
   "metadata": {},
   "outputs": [],
   "source": []
  }
 ],
 "metadata": {
  "kernelspec": {
   "display_name": "Python 3",
   "language": "python",
   "name": "python3"
  },
  "language_info": {
   "codemirror_mode": {
    "name": "ipython",
    "version": 3
   },
   "file_extension": ".py",
   "mimetype": "text/x-python",
   "name": "python",
   "nbconvert_exporter": "python",
   "pygments_lexer": "ipython3",
   "version": "3.6.7"
  }
 },
 "nbformat": 4,
 "nbformat_minor": 2
}
