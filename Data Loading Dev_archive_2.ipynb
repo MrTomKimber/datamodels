{
 "cells": [
  {
   "cell_type": "code",
   "execution_count": 1,
   "metadata": {},
   "outputs": [
    {
     "name": "stderr",
     "output_type": "stream",
     "text": [
      "* Owlready2 * Warning: optimized Cython parser module 'owlready2_optimized' is not available, defaulting to slower Python implementation\n"
     ]
    }
   ],
   "source": [
    "import pandas as pd\n",
    "import owlready2 as owlr \n",
    "#https://pythonhosted.org/Owlready/\n",
    "import rdflib\n",
    "from rdflib import URIRef, Literal\n",
    "from rdflib.namespace import RDF, RDFS\n",
    "from rdflib import Namespace\n",
    "\n",
    "from collections import Counter\n",
    "import uuid\n",
    "\n",
    "import io\n",
    "import pydotplus\n",
    "from IPython.display import display, Image\n",
    "from rdflib.tools.rdf2dot import rdf2dot\n",
    "from IPython.core.display import HTML\n",
    "\n",
    "def visualize(g):\n",
    "    stream = io.StringIO()\n",
    "    rdf2dot(g, stream, opts = {display})\n",
    "    dg = pydotplus.graph_from_dot_data(stream.getvalue())\n",
    "    png = dg.create_png()\n",
    "\n",
    "    display(Image(png))\n",
    "\n",
    "\n",
    "import networkx as nx\n",
    "from rdflib.extras.external_graph_libs import rdflib_to_networkx_multidigraph"
   ]
  },
  {
   "cell_type": "code",
   "execution_count": 2,
   "metadata": {},
   "outputs": [
    {
     "ename": "OperationalError",
     "evalue": "database is locked",
     "output_type": "error",
     "traceback": [
      "\u001b[0;31m---------------------------------------------------------------------------\u001b[0m",
      "\u001b[0;31mOperationalError\u001b[0m                          Traceback (most recent call last)",
      "\u001b[0;32m<ipython-input-2-80ad437fd17b>\u001b[0m in \u001b[0;36m<module>\u001b[0;34m\u001b[0m\n\u001b[0;32m----> 1\u001b[0;31m \u001b[0mraw_world\u001b[0m \u001b[0;34m=\u001b[0m \u001b[0mowlr\u001b[0m\u001b[0;34m.\u001b[0m\u001b[0mWorld\u001b[0m\u001b[0;34m(\u001b[0m\u001b[0mfilename\u001b[0m\u001b[0;34m=\u001b[0m\u001b[0;34m'raw_world.sqlite3'\u001b[0m\u001b[0;34m)\u001b[0m\u001b[0;34m\u001b[0m\u001b[0;34m\u001b[0m\u001b[0m\n\u001b[0m\u001b[1;32m      2\u001b[0m \u001b[0mrawdms\u001b[0m \u001b[0;34m=\u001b[0m \u001b[0mraw_world\u001b[0m\u001b[0;34m.\u001b[0m\u001b[0mget_ontology\u001b[0m\u001b[0;34m(\u001b[0m\u001b[0;34m\"datamodels_rdf.owl\"\u001b[0m\u001b[0;34m)\u001b[0m\u001b[0;34m.\u001b[0m\u001b[0mload\u001b[0m\u001b[0;34m(\u001b[0m\u001b[0;34m)\u001b[0m\u001b[0;34m\u001b[0m\u001b[0;34m\u001b[0m\u001b[0m\n\u001b[1;32m      3\u001b[0m \u001b[0mDMNS\u001b[0m \u001b[0;34m=\u001b[0m \u001b[0mNamespace\u001b[0m\u001b[0;34m(\u001b[0m\u001b[0;34m\"datamodels_rdf.owl\"\u001b[0m\u001b[0;34m)\u001b[0m\u001b[0;34m\u001b[0m\u001b[0;34m\u001b[0m\u001b[0m\n\u001b[1;32m      4\u001b[0m \u001b[0monto\u001b[0m \u001b[0;34m=\u001b[0m \u001b[0mrawdms\u001b[0m\u001b[0;34m\u001b[0m\u001b[0;34m\u001b[0m\u001b[0m\n",
      "\u001b[0;32m/usr/local/python/py36/lib/python3.6/site-packages/owlready2/namespace.py\u001b[0m in \u001b[0;36m__init__\u001b[0;34m(self, backend, filename, dbname, **kargs)\u001b[0m\n\u001b[1;32m    453\u001b[0m       \u001b[0mself\u001b[0m\u001b[0;34m.\u001b[0m\u001b[0mset_backend\u001b[0m\u001b[0;34m(\u001b[0m\u001b[0mbackend\u001b[0m\u001b[0;34m,\u001b[0m \u001b[0mfilename\u001b[0m\u001b[0;34m,\u001b[0m \u001b[0mdbname\u001b[0m\u001b[0;34m,\u001b[0m \u001b[0;34m**\u001b[0m\u001b[0mkargs\u001b[0m\u001b[0;34m)\u001b[0m\u001b[0;34m\u001b[0m\u001b[0;34m\u001b[0m\u001b[0m\n\u001b[1;32m    454\u001b[0m \u001b[0;34m\u001b[0m\u001b[0m\n\u001b[0;32m--> 455\u001b[0;31m     \u001b[0mself\u001b[0m\u001b[0;34m.\u001b[0m\u001b[0mget_ontology\u001b[0m\u001b[0;34m(\u001b[0m\u001b[0;34m\"http://anonymous/\"\u001b[0m\u001b[0;34m)\u001b[0m \u001b[0;31m# Pre-create, in order to avoird creation during a reading sequence\u001b[0m\u001b[0;34m\u001b[0m\u001b[0;34m\u001b[0m\u001b[0m\n\u001b[0m\u001b[1;32m    456\u001b[0m \u001b[0;34m\u001b[0m\u001b[0m\n\u001b[1;32m    457\u001b[0m   \u001b[0;32mdef\u001b[0m \u001b[0mset_backend\u001b[0m\u001b[0;34m(\u001b[0m\u001b[0mself\u001b[0m\u001b[0;34m,\u001b[0m \u001b[0mbackend\u001b[0m \u001b[0;34m=\u001b[0m \u001b[0;34m\"sqlite\"\u001b[0m\u001b[0;34m,\u001b[0m \u001b[0mfilename\u001b[0m \u001b[0;34m=\u001b[0m \u001b[0;34m\":memory:\"\u001b[0m\u001b[0;34m,\u001b[0m \u001b[0mdbname\u001b[0m \u001b[0;34m=\u001b[0m \u001b[0;34m\"owlready2_quadstore\"\u001b[0m\u001b[0;34m,\u001b[0m \u001b[0;34m**\u001b[0m\u001b[0mkargs\u001b[0m\u001b[0;34m)\u001b[0m\u001b[0;34m:\u001b[0m\u001b[0;34m\u001b[0m\u001b[0;34m\u001b[0m\u001b[0m\n",
      "\u001b[0;32m/usr/local/python/py36/lib/python3.6/site-packages/owlready2/namespace.py\u001b[0m in \u001b[0;36mget_ontology\u001b[0;34m(self, base_iri, OntologyClass)\u001b[0m\n\u001b[1;32m    551\u001b[0m       \u001b[0;32melse\u001b[0m\u001b[0;34m:\u001b[0m                                             \u001b[0mbase_iri\u001b[0m \u001b[0;34m=\u001b[0m \u001b[0mbase_iri\u001b[0m \u001b[0;34m=\u001b[0m \u001b[0;34m\"%s#\"\u001b[0m \u001b[0;34m%\u001b[0m \u001b[0mbase_iri\u001b[0m\u001b[0;34m\u001b[0m\u001b[0;34m\u001b[0m\u001b[0m\n\u001b[1;32m    552\u001b[0m     \u001b[0;32mif\u001b[0m \u001b[0mbase_iri\u001b[0m \u001b[0;32min\u001b[0m \u001b[0mself\u001b[0m\u001b[0;34m.\u001b[0m\u001b[0montologies\u001b[0m\u001b[0;34m:\u001b[0m \u001b[0;32mreturn\u001b[0m \u001b[0mself\u001b[0m\u001b[0;34m.\u001b[0m\u001b[0montologies\u001b[0m\u001b[0;34m[\u001b[0m\u001b[0mbase_iri\u001b[0m\u001b[0;34m]\u001b[0m\u001b[0;34m\u001b[0m\u001b[0;34m\u001b[0m\u001b[0m\n\u001b[0;32m--> 553\u001b[0;31m     \u001b[0;32mreturn\u001b[0m \u001b[0;34m(\u001b[0m\u001b[0mOntologyClass\u001b[0m \u001b[0;32mor\u001b[0m \u001b[0mOntology\u001b[0m\u001b[0;34m)\u001b[0m\u001b[0;34m(\u001b[0m\u001b[0mself\u001b[0m\u001b[0;34m,\u001b[0m \u001b[0mbase_iri\u001b[0m\u001b[0;34m)\u001b[0m\u001b[0;34m\u001b[0m\u001b[0;34m\u001b[0m\u001b[0m\n\u001b[0m\u001b[1;32m    554\u001b[0m \u001b[0;34m\u001b[0m\u001b[0m\n\u001b[1;32m    555\u001b[0m   \u001b[0;32mdef\u001b[0m \u001b[0mget_namespace\u001b[0m\u001b[0;34m(\u001b[0m\u001b[0mself\u001b[0m\u001b[0;34m,\u001b[0m \u001b[0mbase_iri\u001b[0m\u001b[0;34m,\u001b[0m \u001b[0mname\u001b[0m \u001b[0;34m=\u001b[0m \u001b[0;34m\"\"\u001b[0m\u001b[0;34m,\u001b[0m \u001b[0mNamespaceClass\u001b[0m \u001b[0;34m=\u001b[0m \u001b[0;32mNone\u001b[0m\u001b[0;34m)\u001b[0m\u001b[0;34m:\u001b[0m\u001b[0;34m\u001b[0m\u001b[0;34m\u001b[0m\u001b[0m\n",
      "\u001b[0;32m/usr/local/python/py36/lib/python3.6/site-packages/owlready2/namespace.py\u001b[0m in \u001b[0;36m__init__\u001b[0;34m(self, world, base_iri, name)\u001b[0m\n\u001b[1;32m    874\u001b[0m   \u001b[0;32mdef\u001b[0m \u001b[0m__init__\u001b[0m\u001b[0;34m(\u001b[0m\u001b[0mself\u001b[0m\u001b[0;34m,\u001b[0m \u001b[0mworld\u001b[0m\u001b[0;34m,\u001b[0m \u001b[0mbase_iri\u001b[0m\u001b[0;34m,\u001b[0m \u001b[0mname\u001b[0m \u001b[0;34m=\u001b[0m \u001b[0;32mNone\u001b[0m\u001b[0;34m)\u001b[0m\u001b[0;34m:\u001b[0m\u001b[0;34m\u001b[0m\u001b[0;34m\u001b[0m\u001b[0m\n\u001b[1;32m    875\u001b[0m     \u001b[0;31m#need_write = False\u001b[0m\u001b[0;34m\u001b[0m\u001b[0;34m\u001b[0m\u001b[0;34m\u001b[0m\u001b[0m\n\u001b[0;32m--> 876\u001b[0;31m     \u001b[0;32mif\u001b[0m \u001b[0mworld\u001b[0m\u001b[0;34m.\u001b[0m\u001b[0mgraph\u001b[0m\u001b[0;34m:\u001b[0m \u001b[0mworld\u001b[0m\u001b[0;34m.\u001b[0m\u001b[0mgraph\u001b[0m\u001b[0;34m.\u001b[0m\u001b[0macquire_write_lock\u001b[0m\u001b[0;34m(\u001b[0m\u001b[0;34m)\u001b[0m\u001b[0;34m\u001b[0m\u001b[0;34m\u001b[0m\u001b[0m\n\u001b[0m\u001b[1;32m    877\u001b[0m \u001b[0;34m\u001b[0m\u001b[0m\n\u001b[1;32m    878\u001b[0m     \u001b[0mself\u001b[0m\u001b[0;34m.\u001b[0m\u001b[0mworld\u001b[0m       \u001b[0;34m=\u001b[0m \u001b[0mworld\u001b[0m \u001b[0;31m# Those 2 attributes are required before calling Namespace.__init__\u001b[0m\u001b[0;34m\u001b[0m\u001b[0;34m\u001b[0m\u001b[0m\n",
      "\u001b[0;32m/usr/local/python/py36/lib/python3.6/site-packages/owlready2/triplelite.py\u001b[0m in \u001b[0;36macquire_write_lock\u001b[0;34m(self)\u001b[0m\n\u001b[1;32m    445\u001b[0m \u001b[0;34m\u001b[0m\u001b[0m\n\u001b[1;32m    446\u001b[0m   \u001b[0;32mdef\u001b[0m \u001b[0macquire_write_lock\u001b[0m\u001b[0;34m(\u001b[0m\u001b[0mself\u001b[0m\u001b[0;34m)\u001b[0m\u001b[0;34m:\u001b[0m\u001b[0;34m\u001b[0m\u001b[0;34m\u001b[0m\u001b[0m\n\u001b[0;32m--> 447\u001b[0;31m     \u001b[0;32mif\u001b[0m \u001b[0;32mnot\u001b[0m \u001b[0mself\u001b[0m\u001b[0;34m.\u001b[0m\u001b[0mdb\u001b[0m\u001b[0;34m.\u001b[0m\u001b[0min_transaction\u001b[0m\u001b[0;34m:\u001b[0m \u001b[0mself\u001b[0m\u001b[0;34m.\u001b[0m\u001b[0mexecute\u001b[0m\u001b[0;34m(\u001b[0m\u001b[0;34m\"BEGIN IMMEDIATE\"\u001b[0m\u001b[0;34m)\u001b[0m\u001b[0;34m\u001b[0m\u001b[0;34m\u001b[0m\u001b[0m\n\u001b[0m\u001b[1;32m    448\u001b[0m     \u001b[0mself\u001b[0m\u001b[0;34m.\u001b[0m\u001b[0mlock_level\u001b[0m \u001b[0;34m+=\u001b[0m \u001b[0;36m1\u001b[0m\u001b[0;34m\u001b[0m\u001b[0;34m\u001b[0m\u001b[0m\n\u001b[1;32m    449\u001b[0m   \u001b[0;32mdef\u001b[0m \u001b[0mrelease_write_lock\u001b[0m\u001b[0;34m(\u001b[0m\u001b[0mself\u001b[0m\u001b[0;34m)\u001b[0m\u001b[0;34m:\u001b[0m\u001b[0;34m\u001b[0m\u001b[0;34m\u001b[0m\u001b[0m\n",
      "\u001b[0;31mOperationalError\u001b[0m: database is locked"
     ]
    }
   ],
   "source": [
    "raw_world = owlr.World(filename='raw_world.sqlite3')\n",
    "rawdms = raw_world.get_ontology(\"datamodels_rdf.owl\").load()\n",
    "DMNS = Namespace(\"datamodels_rdf.owl\")\n",
    "onto = rawdms"
   ]
  },
  {
   "cell_type": "code",
   "execution_count": null,
   "metadata": {},
   "outputs": [],
   "source": [
    "DMNS.DataModel"
   ]
  },
  {
   "cell_type": "code",
   "execution_count": null,
   "metadata": {},
   "outputs": [],
   "source": [
    "onto_dataproperties = list(onto.data_properties())\n",
    "onto_individuals = list (onto.individuals())\n",
    "individuals = [(i, i.is_a.first()) for i in onto_individuals + onto_dataproperties]\n",
    "serializations = [i[0] for i in individuals if i[1] == onto.Serialization]\n",
    "\n",
    "for s in serializations:\n",
    "    print(s)\n",
    "    mappings = [m for m in s.SerializationContainsMapping] \n",
    "    for m in mappings:\n",
    "        print (\"\\t\", m, m.is_a)"
   ]
  },
  {
   "cell_type": "code",
   "execution_count": null,
   "metadata": {},
   "outputs": [],
   "source": [
    "with onto:\n",
    "    owlr.sync_reasoner(raw_world)"
   ]
  },
  {
   "cell_type": "code",
   "execution_count": null,
   "metadata": {},
   "outputs": [],
   "source": [
    "mapped_things = [(c,c.MappingKey,\"class\") for c in onto.classes() if len(c.MappingKey) > 0] + \\\n",
    "                [(p, p.MappingKey,\"data\") for p in onto.data_properties() if len(p.MappingKey) > 0] + \\\n",
    "                [(p, p.MappingKey,\"object\") for p in onto.object_properties() if len(p.MappingKey) > 0] \n",
    "mappable_things = {vv:k for k,v,t in mapped_things for vv in v}\n",
    "mappable_things_ext = {vv:(k,t) for k,v,t in mapped_things for vv in v}\n",
    "assert all([v==1 for v in Counter([b for c in mapped_things for b in c[1]]).values()])\n",
    "#del mapped_things\n",
    "#mappable_things\n",
    "mappable_things_ext\n",
    "\n",
    "row_node_class = [c for c in onto.classes() if c.name == 'RowNode']\n",
    "row_node_participant = [p for p in onto.properties() if p.name == 'RowNodeParticipant']\n",
    "row_node_class, row_node_participant\n",
    "mappable_things_ext"
   ]
  },
  {
   "cell_type": "code",
   "execution_count": null,
   "metadata": {},
   "outputs": [],
   "source": [
    "mapped_things"
   ]
  },
  {
   "cell_type": "code",
   "execution_count": null,
   "metadata": {},
   "outputs": [],
   "source": [
    "mapping_data = {}\n",
    "for s in serializations:\n",
    "    mapping_data[s.name]={}\n",
    "    mappings = [m for m in s.SerializationContainsMapping] \n",
    "    for m in mappings:\n",
    "        mapping_data[s.name][m.name]={}\n",
    "        for p in m.get_properties():\n",
    "            mapping_data[s.name][m.name][p.name]=p[m].first()\n",
    "    "
   ]
  },
  {
   "cell_type": "code",
   "execution_count": null,
   "metadata": {},
   "outputs": [],
   "source": [
    "mapping_data['DomainModelClassEntityRecord']['AttributeMapping']"
   ]
  },
  {
   "cell_type": "code",
   "execution_count": null,
   "metadata": {},
   "outputs": [],
   "source": [
    "data_rows = [{ \"Business Domain\" : \"Core\", \n",
    "             \"Model\" : \"Principal Interactions\", \n",
    "             \"ModelType\" : \"Conceptual\", \n",
    "             \"Entity\" : \"Person\", \n",
    "             \"Attribute\" : \"PersonID\", \n",
    "             \"DataType\" : \"string\"}]"
   ]
  },
  {
   "cell_type": "code",
   "execution_count": null,
   "metadata": {},
   "outputs": [],
   "source": [
    "    \n",
    "\n",
    "def gen_temp_entity_triples_from_row(s_mappings, onto_map, namespace, row, row_id):\n",
    "\n",
    "    object_triples=[]\n",
    "    row_node_uri = URIRef(uuid.uuid4().hex, namespace)\n",
    "    rne = URIRef(onto_map['isRowNode'][0].iri)\n",
    "    rnp = URIRef(onto_map['isParticipant'][0].iri)\n",
    "    \n",
    "    row_node_triple = (row_node_uri, RDF.type, rne)\n",
    "    row_node_identifier_p = URIRef(onto_map['UniqueIdentifier'][0].iri)\n",
    "    row_node_identifier_triple = (row_node_uri, row_node_identifier_p, Literal(row_id))\n",
    "    \n",
    "    for m_key, m_d in mapping_data['DomainModelClassEntityRecord'].items():\n",
    "        #print(m_key, m_d)\n",
    "        if m_d['MappingSubType']==\"Entity\":\n",
    "#            print(\"Create Temporary Entity\")\n",
    "            if m_d['SerializationLabel'] in row:\n",
    "                data = row[m_d['SerializationLabel']]\n",
    "                e_type = onto_map[m_d['MappingLabel']]\n",
    "#                print(e_type[0], \":\", data)\n",
    "                key = uuid.uuid4().hex\n",
    "                thing_URI = URIRef(key, namespace)\n",
    "                # RDF:type, RDFS:label\n",
    "                props = { RDF.type : URIRef(e_type[0].iri), \n",
    "                          RDFS.label : Literal(data)}\n",
    "\n",
    "                for k,v in props.items():\n",
    "                    object_triples.append((thing_URI, k, v))\n",
    "#                print()\n",
    "\n",
    "    object_triples.append(row_node_triple)\n",
    "\n",
    "\n",
    "\n",
    "# Create a graph containing the newly created object_triples\n",
    "    row_g = rdflib.Graph()\n",
    "    \n",
    "    for triple in object_triples:\n",
    "#        print(triple)\n",
    "        row_g.add(triple)\n",
    "        \n",
    "    property_triples=[]\n",
    "    property_triples.append(row_node_identifier_triple)\n",
    "    \n",
    "    # Assign all objects downstream of RowNodeParticipant \n",
    "    for s,p,o in object_triples:\n",
    "        property_triples.append((row_node_uri, rnp, s))\n",
    "        \n",
    "    \n",
    "    for m_key, m_d in mapping_data['DomainModelClassEntityRecord'].items():\n",
    "        #print(m_key, m_d)\n",
    "        if m_d['MappingSubType']==\"Property\":\n",
    "#            print(\"Create Property Link\")\n",
    "            if m_d['SerializationLabel'] in row:\n",
    "                data = row[m_d['SerializationLabel']] # Get the value in the row - normally the target object label\n",
    "                prop = onto_map[m_d['MappingLabel']][0] # Get the property being referenced\n",
    "                prop_domain = onto_map[m_d['MappingDomain']][0] # Get the domain class (used for search in the graph)\n",
    "                prop_range = onto_map[m_d['MappingRange']][0] # Get the range class (used for search)\n",
    "                prop_type = onto_map[m_d['MappingRange']][1]\n",
    "#                print(\"!\", prop, prop_domain, prop_range, prop_type)\n",
    "                prop_iri = URIRef(prop.iri)\n",
    "                subj_node = get_thing_from_label_graphsearch(row_g, prop_domain, search_key=None)[0]\n",
    "                if prop_type == \"class\":\n",
    "                    obj_node = get_thing_from_label_graphsearch(row_g, prop_range, search_key=data)[0]\n",
    "                elif prop_type == \"data\" : \n",
    "                    obj_node = Literal(data)\n",
    "#                print (\"triple\", subj_node, prop_iri, obj_node)\n",
    "                property_triples.append((subj_node, prop_iri, obj_node))\n",
    "    \n",
    "    \n",
    "\n",
    "    for triple in property_triples:\n",
    "#        print(triple)\n",
    "        row_g.add(triple)\n",
    "    \n",
    "    # Now there exist object_triples, property_triples\n",
    "    # Additionally, we want some extra ontology driven triples for uniqueidentifiers \n",
    "    # build from the row-level class hierarchy\n",
    "    \n",
    "    \n",
    "    return row_g\n",
    "\n",
    "\n",
    "def t2rdflibg(triples): #triples to rdflib graph\n",
    "    g = rdflib.Graph()\n",
    "    for t in triples:\n",
    "        g.add(t)\n",
    "    return g\n",
    "\n",
    "def get_key_values(g, key=RDFS.label, invert=False):\n",
    "    if not invert:\n",
    "        return list([(s, o.value) for s,p,o in g.triples((None, key, None))])\n",
    "    else:\n",
    "        return list([(o.value,s) for s,p,o in g.triples((None, key, None))])\n",
    "    \n",
    "    \n",
    "\n",
    "def get_thing_from_label_graphsearch(graph, domain, search_key=None):\n",
    "    #sd_list = [c for c in list(space.classes()) if c==domain]\n",
    "    \n",
    "    sd_list = [s for s,p,o in graph.triples((None, RDF.type, URIRef(domain.iri)))]\n",
    "#    print(\"sd_list:\", sd_list)\n",
    "    # Get instances of classes that match provided keys\n",
    "    if search_key is None:\n",
    "        c_s = [s for s in sd_list]\n",
    "    else:\n",
    "        c_s = [s for l in sd_list for s,p,o in graph.triples((None, RDFS.label, Literal(search_key)))]\n",
    "    \n",
    "    return c_s\n",
    "\n",
    "def text_process(text):\n",
    "    return text.lower().replace(\" \", \"_\")\n",
    "\n",
    "# Traverse a graph g, from some source s and generate a list of all precursor items.\n",
    "def nx_walk_predecessors(g,s,l=None,invert=False,process=None):\n",
    "    if l is None:\n",
    "        l=[]\n",
    "    nxt=list(g.predecessors(s))\n",
    "\n",
    "    if process is None:\n",
    "        p_s=s\n",
    "    else:\n",
    "        p_s=process(s)\n",
    "        \n",
    "    if len(nxt)>0:\n",
    "\n",
    "        l.extend([p_s])            \n",
    "\n",
    "        for n in nxt:\n",
    "\n",
    "            nx_walk_predecessors(g,n,l,process=process)\n",
    "    else:\n",
    "        l.extend([p_s])     \n",
    "    if invert:\n",
    "        return l[::-1]\n",
    "    else:\n",
    "        return l\n",
    "\n",
    "# Prepare Unique Identity Annotation Triples \n",
    "# Get container tree\n",
    "def gen_unique_identity_triples(graph, namespace_d):\n",
    "    row_hierarchy_sparql=\"\"\"SELECT distinct ?sl ?ol\n",
    "    WHERE\n",
    "\n",
    "    {\n",
    "\n",
    "         {?s ?p ?o .\n",
    "         ?p rdfs:subPropertyOf dm:HierarchicalRelations.\n",
    "         ?s rdfs:label ?sl .\n",
    "         ?o rdfs:label ?ol .    \n",
    "         }\n",
    "\n",
    "         }\n",
    "\n",
    "     \"\"\"\n",
    "\n",
    "    get_s_nodes=\"\"\"\n",
    "    SELECT ?s ?q ?l\n",
    "    WHERE\n",
    "        {\n",
    "        ?s ?p ?o.\n",
    "        ?o rdfs:subClassOf dm:Definition.\n",
    "        BIND ( rdf:type as ?p )\n",
    "        BIND ( dm:UniqueIdentifier as ?q)\n",
    "        ?s rdfs:label ?l\n",
    "        }\n",
    "\n",
    "    \"\"\"\n",
    "\n",
    "    ng = nx.DiGraph()\n",
    "    c_tree = list(graph.query(row_hierarchy_sparql, initNs=namespace_d))\n",
    "    print(c_tree)\n",
    "    for e in [(e[0].value, e[1].value)  for e in c_tree ]:\n",
    "        ng.add_edge(*e)\n",
    "\n",
    "#    source = [n for n,d in  ng.out_degree() if d==0][0]\n",
    "\n",
    "    unique_id_triples = []\n",
    "    for uri, prop, lab in list(graph.query(get_s_nodes, initNs=namespace_d)):\n",
    "        unique_id_triples.append((uri, prop, Literal(\".\".join(nx_walk_predecessors(ng,lab.value,invert=True,process=text_process)))))\n",
    "    \n",
    "    return unique_id_triples\n"
   ]
  },
  {
   "cell_type": "code",
   "execution_count": null,
   "metadata": {},
   "outputs": [],
   "source": [
    "mappable_things_ext"
   ]
  },
  {
   "cell_type": "code",
   "execution_count": null,
   "metadata": {},
   "outputs": [],
   "source": [
    "row_graph = gen_temp_entity_triples_from_row(mapping_data, mappable_things_ext, \"http://temp\", data_rows[0], row_id='row_1')\n",
    "\n",
    "\n"
   ]
  },
  {
   "cell_type": "code",
   "execution_count": null,
   "metadata": {},
   "outputs": [],
   "source": [
    "visualize(row_graph)"
   ]
  },
  {
   "cell_type": "code",
   "execution_count": null,
   "metadata": {},
   "outputs": [],
   "source": [
    "# connect additional context to row-graph\n",
    "row_graph.parse (\"datamodels_rdf.owl\", format='xml')\n",
    "dmns = rdflib.Namespace(onto.base_iri)\n",
    "row_graph.bind('dm', dmns)\n",
    "row_graph.bind('rdfs', RDFS)\n",
    "namespace_d = {'dm': dmns, 'rdfs' : RDFS, 'rdf' : RDF}\n"
   ]
  },
  {
   "cell_type": "code",
   "execution_count": null,
   "metadata": {},
   "outputs": [],
   "source": [
    "row_node_assignment_sparql = \"\"\"SELECT distinct ?s ?p ?o \n",
    "WHERE \n",
    "{\n",
    "    {?s dm:RowNodeParticipant ?o.\n",
    "    BIND (dm:RowNodeParticipant as ?p)\n",
    "    }\n",
    "    UNION\n",
    "    {?s dm:UniqueIdentifier ?o.\n",
    "    BIND (dm:UniqueIdentifier as ?p)\n",
    "    }\n",
    "    UNION\n",
    "\n",
    "    {?row dm:RowNodeParticipant ?s.\n",
    "    ?s ?p ?o\n",
    "    }\n",
    "\n",
    "}\n",
    "\"\"\"\n",
    "\n",
    "qg = t2rdflibg(row_graph.query(row_node_assignment_sparql, initNs={'dm': dmns, 'rdfs' : RDFS, 'rdf' : RDF}))\n",
    "\n",
    "visualize(qg)"
   ]
  },
  {
   "cell_type": "code",
   "execution_count": null,
   "metadata": {},
   "outputs": [],
   "source": [
    "unique_id_triples=gen_unique_identity_triples(row_graph, namespace_d)\n",
    "for t in unique_id_triples:\n",
    "    row_graph.add(t)"
   ]
  },
  {
   "cell_type": "code",
   "execution_count": null,
   "metadata": {},
   "outputs": [],
   "source": [
    "q=\"\"\"SELECT distinct ?s ?p ?o\n",
    "WHERE\n",
    "    {?s ?p ?o .\n",
    "     ?p rdfs:subPropertyOf dm:HierarchicalRelations.}\n",
    " \n",
    " \"\"\"\n",
    "\n",
    "\n",
    "q=\"\"\"SELECT distinct ?s ?o\n",
    "WHERE\n",
    "\n",
    "{\n",
    "    {?s ?p ?o .\n",
    "     ?h rdfs:subPropertyOf dm:HierarchicalRelations.\n",
    "     BIND (dm:UniqueIdentifier as ?p)\n",
    "     ?s dm:UniqueIdentifier ?o .\n",
    "     }\n",
    "     \n",
    "}\n",
    " \n",
    " \"\"\"\n",
    "\n",
    "for t in row_graph.query(q, initNs={'dm': dmns, 'rdfs' : RDFS, 'rdf' : RDF}):\n",
    "    print(t)\n",
    "    print()\n",
    "\n",
    "qg = row_graph.query(q, initNs={'dm': dmns, 'rdfs' : RDFS, 'rdf' : RDF})\n",
    "list(qg)"
   ]
  },
  {
   "cell_type": "code",
   "execution_count": null,
   "metadata": {},
   "outputs": [],
   "source": [
    "#{dir(k):v for k,v in list(row_graph.query(q, initNs={'dm': dmns, 'rdfs' : RDFS, 'rdf' : RDF}))}\n",
    "\n",
    "{v.value:k.n3()[1:-1] for k,v in list(row_graph.query(q, initNs={'dm': dmns, 'rdfs' : RDFS, 'rdf' : RDF}))}"
   ]
  },
  {
   "cell_type": "code",
   "execution_count": null,
   "metadata": {},
   "outputs": [],
   "source": [
    "q=\"\"\"SELECT distinct ?s ?p ?o\n",
    "WHERE\n",
    "    {?s ?p ?o .\n",
    "     ?p rdfs:subPropertyOf dm:HierarchicalRelations.}\n",
    " \n",
    " \"\"\"\n",
    "\n",
    "\n",
    "q=\"\"\"SELECT distinct ?s ?p ?o\n",
    "WHERE\n",
    "\n",
    "{\n",
    "    {?s ?p ?o .\n",
    "     ?p rdfs:subPropertyOf dm:HierarchicalRelations.}\n",
    "     UNION\n",
    "    {?s ?h ?q .\n",
    "     ?h rdfs:subPropertyOf dm:HierarchicalRelations.\n",
    "     BIND (rdfs:label as ?p)\n",
    "    ?s rdfs:label ?o}\n",
    "     UNION\n",
    "    {?q ?h ?s .\n",
    "     ?h rdfs:subPropertyOf dm:HierarchicalRelations.\n",
    "     BIND (rdfs:label as ?p)\n",
    "    ?s rdfs:label ?o}\n",
    "     UNION\n",
    "    {?s ?h ?q .\n",
    "     ?h rdfs:subPropertyOf dm:HierarchicalRelations.\n",
    "     BIND (rdf:type as ?p)\n",
    "     ?s rdf:type ?o .\n",
    "     }\n",
    "     UNION\n",
    "    {?a ?h ?b .\n",
    "     ?h rdfs:subPropertyOf dm:HierarchicalRelations.\n",
    "     ?a rdf:type ?s .\n",
    "     ?s rdfs:subClassOf ?o\n",
    "     BIND (rdfs:subClassOf as ?p)\n",
    "     }\n",
    "     UNION\n",
    "    {?q ?h ?s .\n",
    "     ?h rdfs:subPropertyOf dm:HierarchicalRelations.\n",
    "     BIND (dm:UniqueIdentifier as ?p)\n",
    "    ?s dm:UniqueIdentifier ?o}\n",
    "     UNION\n",
    "    {?s ?h ?q .\n",
    "     ?h rdfs:subPropertyOf dm:HierarchicalRelations.\n",
    "     BIND (dm:UniqueIdentifier as ?p)\n",
    "     ?s dm:UniqueIdentifier ?o .\n",
    "     }\n",
    "     \n",
    "}\n",
    " \n",
    " \"\"\"\n",
    "\n",
    "for t in row_graph.query(q, initNs={'dm': dmns, 'rdfs' : RDFS, 'rdf' : RDF}):\n",
    "    print(t)\n",
    "    print()\n",
    "\n",
    "qg = t2rdflibg(row_graph.query(q, initNs={'dm': dmns, 'rdfs' : RDFS, 'rdf' : RDF}))\n",
    "\n",
    "visualize(qg)"
   ]
  },
  {
   "cell_type": "code",
   "execution_count": null,
   "metadata": {},
   "outputs": [],
   "source": [
    "def search_on_key_value(graph, key, search):\n",
    "    search= str(search)\n",
    "    sparql_base = \"\"\"SELECT distinct ?s\n",
    "    WHERE\n",
    "        {\n",
    "        ?s %%key%% ?q FILTER ( ?q = str(\"%%search%%\") ) .\n",
    "        }\"\"\".replace(\"%%search%%\",search).replace(\"%%key%%\", key)\n",
    "\n",
    "    matches = graph.query(sparql_base, initNs={'dm': dmns, 'rdfs' : RDFS, 'rdf' : RDF})\n",
    "    return matches\n",
    "\n",
    "\n",
    "def get_row_objects(graph, row_id):\n",
    "    \n",
    "\n",
    "list(get_obj_rels(row_graph, \"rdfs:label\", \"Core\"))\n",
    "\n"
   ]
  },
  {
   "cell_type": "code",
   "execution_count": null,
   "metadata": {},
   "outputs": [],
   "source": [
    "search= 'row_1'\n",
    "sparql_base = \"\"\"SELECT ?s ?p ?o\n",
    "WHERE\n",
    "    {\n",
    "    {\n",
    "    ?s dm:RowNodeParticipant ?o.\n",
    "    ?s dm:UniqueIdentifier ?q FILTER ( ?q = str(\"search\") ) .\n",
    "    BIND ( dm:RowNodeParticipant as ?p)\n",
    "    }\n",
    "    UNION\n",
    "    {\n",
    "    ?s rdfs:label ?o.\n",
    "    ?h dm:UniqueIdentifier ?q FILTER ( ?q = str(\"search\") ) .\n",
    "    ?h dm:RowNodeParticipant ?s.\n",
    "    BIND ( rdfs:label as ?p)\n",
    "    }\n",
    "    UNION\n",
    "    {\n",
    "    ?s dm:UniqueIdentifier ?o.\n",
    "    ?h dm:UniqueIdentifier ?q FILTER ( ?q = str(\"search\") ) .\n",
    "    ?h dm:RowNodeParticipant ?s.\n",
    "    BIND ( dm:UniqueIdentifier as ?p)\n",
    "    }\n",
    "    }\n",
    "    \"\"\".replace(\"search\",search)\n",
    "\n",
    "print(sparql_base)\n",
    "print(list(row_graph.query(sparql_base, initNs={'dm': dmns, 'rdfs' : RDFS, 'rdf' : RDF})))\n",
    "qg = t2rdflibg(row_graph.query(sparql_base, initNs={'dm': dmns, 'rdfs' : RDFS, 'rdf' : RDF}))\n",
    "\n",
    "visualize(qg)"
   ]
  },
  {
   "cell_type": "code",
   "execution_count": null,
   "metadata": {},
   "outputs": [],
   "source": [
    "list(onto.individuals())"
   ]
  },
  {
   "cell_type": "code",
   "execution_count": null,
   "metadata": {},
   "outputs": [],
   "source": [
    "# Instantiate Empty graph fro this (and only this) data row:\n"
   ]
  },
  {
   "cell_type": "code",
   "execution_count": null,
   "metadata": {},
   "outputs": [],
   "source": [
    "# Get all mappings:\n",
    "\n",
    "dict(get_key_values(row_g, invert=True))"
   ]
  },
  {
   "cell_type": "code",
   "execution_count": null,
   "metadata": {},
   "outputs": [],
   "source": [
    "del row_g"
   ]
  },
  {
   "cell_type": "code",
   "execution_count": null,
   "metadata": {},
   "outputs": [],
   "source": []
  },
  {
   "cell_type": "code",
   "execution_count": null,
   "metadata": {},
   "outputs": [],
   "source": [
    "def create_thing_triples(thing_label, owl_class, namespace, graph=None, pkey = None, test_for_existing=True):\n",
    "    if graph is None:\n",
    "        graph = rdflib.Graph()\n",
    "    if test_for_existing:\n",
    "        matches = [s for s,l in get_key_values(graph, pkey) if thing_label in l]\n",
    "    if len(matches)>0:\n",
    "        key = matches[0]\n",
    "    else:\n",
    "        key = uuid.uuid4().hex\n",
    "    thing_URI = URIRef(key, namespace)\n",
    "    # RDF:type, RDFS:label\n",
    "    triples=[]\n",
    "    props = { RDF.type : URIRef(owl_class.iri), \n",
    "              RDFS.label : Literal(thing_label)}\n",
    "    for k,v in props.items():\n",
    "        triples.append((thing_URI, k, v))\n",
    "    return triples\n",
    "    \n",
    "def create_subject_spoes(ontology, subject, owl_property, obj_raw, graph=None, pkey = None, test_for_existing=True):\n",
    "    namespace = ontology.base_iri\n",
    "    if graph is None:\n",
    "        graph = rdflib.Graph()\n",
    "    subj_uri = URIRef(subject.iri)\n",
    "    prop_uri = URIRef(owl_property.iri)\n",
    "    if owl_property.is_a[0].iri in ['http://www.w3.org/2002/07/owl#DatatypeProperty']:\n",
    "        obj = Literal(obj_raw)\n",
    "    else:\n",
    "        print(owl_property.is_a[0])\n",
    "        obj = URIRef(obj_raw.iri)\n",
    "    spo = (subj_uri, prop_uri, obj)\n",
    "    return spo\n",
    "    "
   ]
  },
  {
   "cell_type": "code",
   "execution_count": null,
   "metadata": {},
   "outputs": [],
   "source": [
    "def instantiate_thing(label, tclass, space, test_for_existing=True):\n",
    "    # Check to see if this object of the same class contains the same label\n",
    "    # if so, then return the first item of that name\n",
    "    if test_for_existing:\n",
    "        matches = [i for i in space.search(type=tclass) if label in i.label]\n",
    "        if len(matches)>0:\n",
    "            return matches[0]\n",
    "    # Otherwise, generate a unique ID, create the item in the space and assign this label\n",
    "    guid = uuid.uuid4().hex\n",
    "    with space:\n",
    "        i = tclass(guid, namespace=space)\n",
    "    i.label=label\n",
    "    return i\n",
    "    "
   ]
  },
  {
   "cell_type": "code",
   "execution_count": null,
   "metadata": {},
   "outputs": [],
   "source": []
  },
  {
   "cell_type": "code",
   "execution_count": null,
   "metadata": {},
   "outputs": [],
   "source": [
    "\n",
    "def get_thing_from_label_graphsearch(graph, domain, search_key=None):\n",
    "    #sd_list = [c for c in list(space.classes()) if c==domain]\n",
    "    \n",
    "    sd_list = [s for s,p,o in graph.triples((None, RDF.type, URIRef(domain.iri)))]\n",
    "    \n",
    "    # Get instances of classes that match provided keys\n",
    "    if search_key is None:\n",
    "        c_s = [s for l in sd_list for s in l.instances()]\n",
    "    else:\n",
    "        c_s = [s for l in sd_list for s,p,o in graph.triples((None, RDFS.label, Literal(search_key)))]\n",
    "    \n",
    "    return c_s\n",
    "\n",
    "def get_thing_from_label(space, domain, search_key=None):\n",
    "    sd_list = [c for c in list(space.classes()) if c==domain]\n",
    "    \n",
    "    # Get instances of classes that match provided keys\n",
    "    if search_key is None:\n",
    "        c_s = [s for l in sd_list for s in l.instances()]\n",
    "    else:\n",
    "        c_s = [s for l in sd_list for s in l.instances() if search_key in s.label]\n",
    "    \n",
    "    return c_s\n",
    "    \n",
    "\n",
    "def instantiate_property(subject_key, subject_domain, predicate, object_key, object_domain, space):\n",
    "    # Get classes for domains and ranges\n",
    "    sd_list = [c for c in list(space.classes()) if c==subject_domain]\n",
    "    od_list = [c for c in list(space.classes()) if c==object_domain]\n",
    "    \n",
    "    # Get instances of classes that match provided keys\n",
    "    if subject_key is None:\n",
    "        c_s = [s for l in sd_list for s in l.instances()]\n",
    "    else:\n",
    "        c_s = [s for s in sd_list for s in l.instances() if subject_key in s.label]\n",
    "        \n",
    "    if object_key is None:\n",
    "        c_o = [o for l in od_list for o in l.instances()]\n",
    "    else:\n",
    "        print (\"labels\", [(o.label, object_key in o.label, object_key) for o in od_list])\n",
    "        c_o = [o for l in od_list for o in l.instances()if object_key in o.label]\n",
    "    \n",
    "    print(od_list, object_key)\n",
    "    \n",
    "    print(predicate)\n",
    "    predicate.python_name=\"pp\"\n",
    "    print(c_s[0], predicate)\n",
    "    if len(c_o)==0:\n",
    "        print(\"property_data\", predicate, object_key, od_list, predicate.is_a)\n",
    "        # Sometimes fails for data_properties\n",
    "        # prop_relation = c_s[0].pp.append(object_key)\n",
    "        #prop_relation = space._add_obj_triple_spo(c_s[0].storid, predicate.storid, object_key)\n",
    "        try:\n",
    "            prop_relation=predicate[c_s[0]]=[object_key]\n",
    "        except AttributeError as e:\n",
    "            print(e)\n",
    "            prop_relation=predicate[c_s[0]]=[object_key]\n",
    "        print(\"success\", prop_relation)\n",
    "        print(\"value\", predicate[c_s[0]], c_s[0])\n",
    "    else:\n",
    "        if predicate.is_functional_for(c_o[0]):\n",
    "            prop_relation = c_s[0].pp=c_o[0]\n",
    "        else:\n",
    "            prop_relation = c_s[0].pp=[c_o[0]]\n",
    "    predicate.python_name = \"\"\n",
    "    return c_s, predicate, c_o, prop_relation"
   ]
  },
  {
   "cell_type": "code",
   "execution_count": null,
   "metadata": {},
   "outputs": [],
   "source": [
    "#ont = cleandms\n",
    "#ont = onto\n",
    "#q = instantiate_thing(\"test\", onto.Class, cleandms, True)\n",
    "#q = instantiate_thing(\"test 2\", onto.Class, onto, True)\n",
    "\n",
    "#for i in ont.Class.instances():\n",
    "#    print (i.iri, i.label)"
   ]
  },
  {
   "cell_type": "code",
   "execution_count": null,
   "metadata": {},
   "outputs": [],
   "source": [
    "#for i in onto.Class.instances():\n",
    "#    print (i.iri, i.label)"
   ]
  },
  {
   "cell_type": "code",
   "execution_count": null,
   "metadata": {},
   "outputs": [],
   "source": [
    "s_objects = []\n",
    "p_objects = []\n",
    "for s in serializations:\n",
    "    print(s)\n",
    "    mappings = [m for m in s.SerializationContainsMapping]\n",
    "    serials = {}\n",
    "    for m in mappings:\n",
    "        s_key = m.SerializationLabel.first()\n",
    "        i_key = m.MappingLabel.first()\n",
    "\n",
    "        if s_key not in serials.keys():\n",
    "            serials[s_key]=[]\n",
    "\n",
    "        print (\"\\t\", m, s_key)\n",
    "            \n",
    "        if m.is_a.first() == onto.EntityMapping:\n",
    "            print(\"\\t\\tEntity:{e}\".format(e=m))\n",
    "            o_range = m.MappingRange.first()\n",
    "            property_d = { \"type\" : \"entity\", \n",
    "                           \"mapping_name\" : i_key, \n",
    "                           \"property\" : \"rdf:type:\", \n",
    "                           \"range\" :    mappable_things[o_range], \n",
    "                           \"property_type\" : mappable_things_ext[i_key],\n",
    "                           \"subject_label\" : data_row[s_key]}\n",
    "#            serials[s_key].append((data_row[s_key], \"rdf:type\", mappable_things[o_range]))\n",
    "            serials[s_key].append(property_d)\n",
    "    \n",
    "        elif m.is_a.first() == onto.PropertyMapping:\n",
    "            print(\"\\t\\tProperty:{e}\".format(e=m))\n",
    "            s_domain = m.MappingDomain.first()\n",
    "            o_range = m.MappingRange.first()\n",
    "            property_d = { \"type\" : \"property\", \n",
    "                           \"mapping_name\" : i_key, \n",
    "                           \"domain\" :   mappable_things[s_domain], \n",
    "                           \"property\" : mappable_things[i_key], \n",
    "                           \"property_type\" : mappable_things_ext[i_key],\n",
    "                           \"range\" :    mappable_things.get(o_range,o_range), \n",
    "                           \"range_search_value\" : data_row[s_key]}\n",
    "            serials[s_key].append(property_d)\n",
    "            \n",
    "        else:\n",
    "            print(m.is_a)\n",
    "            print(s_key)\n",
    "            assert False\n",
    "            \n",
    "print()\n",
    "\n",
    "# Instantiate temporary versions of all the in-row objects\n",
    "for v in serials.values():\n",
    "    for u in v:\n",
    "        print(u)\n",
    "        if u['type'] == \"entity\":#u[1]==\"rdf:type\":\n",
    "            #with onto:\n",
    "                #q = instantiate_thing(\"test\", onto.Class, cleandms, True)\n",
    "            #s_objects.append(instantiate_thing(u['subject_label'], u['range'], onto, True))\n",
    "            s_objects.append(create_thing_triples(u['subject_label'], u['range'], onto.iri, graph=None, pkey=RDFS.label, test_for_existing=True))\n",
    "                #s_objects.append(instantiate_thing(u[0], u[2], onto, True))\n",
    "                #u[2](u[0], namespace=onto) # Create instances in the ontology\n",
    "            print(u)\n",
    "\n",
    "print()\n"
   ]
  },
  {
   "cell_type": "code",
   "execution_count": null,
   "metadata": {},
   "outputs": [],
   "source": [
    "# Instantiate Empty graph fro this (and only this) data row:\n",
    "row_g = rdflib.Graph()\n",
    "\n",
    "for obj_def in s_objects:\n",
    "    for triple in obj_def:\n",
    "        print(triple)\n",
    "        row_g.add(triple)"
   ]
  },
  {
   "cell_type": "code",
   "execution_count": null,
   "metadata": {},
   "outputs": [],
   "source": []
  },
  {
   "cell_type": "code",
   "execution_count": null,
   "metadata": {},
   "outputs": [],
   "source": [
    "\n",
    "# Create property links for all identified in-row objects\n",
    "for v in serials.values():\n",
    "    for u in v:\n",
    "        if u['type'] == \"property\":\n",
    "\n",
    "            p_objects.append(u)\n",
    "            # instantiate_property(None, u['domain'], u['property'], u[\"range_search_value\"], u['range'], onto)\n",
    "            subject = get_thing_from_label(onto, u['domain'], search_key=None)\n",
    "            print(u['domain'], subject)\n",
    "            cand_obj = get_thing_from_label(onto, u['range'], search_key=u[\"range_search_value\"])\n",
    "            create_subject_spoes(onto, subject, u['property'], cand_obj, graph=None, pkey = None, test_for_existing=True)\n"
   ]
  },
  {
   "cell_type": "code",
   "execution_count": null,
   "metadata": {},
   "outputs": [],
   "source": [
    "g = onto.world.as_rdflib_graph()\n",
    "for s,p,o in g.triples((URIRef(\"http://www.semanticweb.org/tomk/ontologies/2022/9/datamodel#9cd507c514af420ea52a9e7fa46f06f4\"), None, None)):\n",
    "    print(s,p,o)"
   ]
  },
  {
   "cell_type": "code",
   "execution_count": null,
   "metadata": {},
   "outputs": [],
   "source": [
    "for s,p,o in g.triples((None, RDF.type, None)):\n",
    "    print(s,p,o)"
   ]
  },
  {
   "cell_type": "code",
   "execution_count": null,
   "metadata": {},
   "outputs": [],
   "source": [
    "am = list(onto.individuals())[0]"
   ]
  },
  {
   "cell_type": "code",
   "execution_count": null,
   "metadata": {},
   "outputs": [],
   "source": [
    "assert False"
   ]
  },
  {
   "cell_type": "code",
   "execution_count": null,
   "metadata": {},
   "outputs": [],
   "source": [
    "dm=[i for i in onto.individuals() if 'test' in i.label][0]\n",
    "#dm.get_properties()\n",
    "print (dm, dm.is_a)\n",
    "for p in dm.INDIRECT_get_properties():\n",
    "    print(p,p[dm])"
   ]
  },
  {
   "cell_type": "code",
   "execution_count": null,
   "metadata": {},
   "outputs": [],
   "source": [
    "p_objects"
   ]
  },
  {
   "cell_type": "code",
   "execution_count": null,
   "metadata": {},
   "outputs": [],
   "source": [
    "p_objects[-2]"
   ]
  },
  {
   "cell_type": "code",
   "execution_count": null,
   "metadata": {},
   "outputs": [],
   "source": [
    "for p in p_objects:\n",
    "    print(p['property'][attrib])#dm)"
   ]
  },
  {
   "cell_type": "code",
   "execution_count": null,
   "metadata": {},
   "outputs": [],
   "source": [
    "assert False"
   ]
  },
  {
   "cell_type": "code",
   "execution_count": null,
   "metadata": {},
   "outputs": [],
   "source": [
    "onto.ModelTypeCode._python_name"
   ]
  },
  {
   "cell_type": "code",
   "execution_count": null,
   "metadata": {},
   "outputs": [],
   "source": [
    "onto.ModelTypeCode.is_a[0].iri==\"http://www.w3.org/2002/07/owl#DatatypeProperty\""
   ]
  },
  {
   "cell_type": "code",
   "execution_count": null,
   "metadata": {},
   "outputs": [],
   "source": [
    "dir(onto.ModelTypeCode)"
   ]
  },
  {
   "cell_type": "code",
   "execution_count": null,
   "metadata": {},
   "outputs": [],
   "source": [
    "[(i, i.is_a, i.label) for i in list(onto.individuals())]"
   ]
  },
  {
   "cell_type": "code",
   "execution_count": null,
   "metadata": {},
   "outputs": [],
   "source": [
    "attrib=[i for i in onto.individuals() if 'PersonID' in i.label][0]\n",
    "attrib.get_properties()\n"
   ]
  },
  {
   "cell_type": "code",
   "execution_count": null,
   "metadata": {},
   "outputs": [],
   "source": [
    "for p in attrib.INDIRECT_get_properties():\n",
    "    print(p,p[attrib])"
   ]
  },
  {
   "cell_type": "code",
   "execution_count": null,
   "metadata": {},
   "outputs": [],
   "source": [
    "dm=[i for i in onto.individuals() if 'Principal Interactions' in i.label][0]\n",
    "#dm.get_properties()\n",
    "print (dm, dm.is_a)\n",
    "for p in dm.INDIRECT_get_properties():\n",
    "    print(p,p[dm])"
   ]
  },
  {
   "cell_type": "code",
   "execution_count": null,
   "metadata": {},
   "outputs": [],
   "source": [
    "for e,p in enumerate(onto.data_properties()):\n",
    "    print(p[dm])"
   ]
  },
  {
   "cell_type": "code",
   "execution_count": null,
   "metadata": {},
   "outputs": [],
   "source": [
    "assert False"
   ]
  },
  {
   "cell_type": "code",
   "execution_count": null,
   "metadata": {},
   "outputs": [],
   "source": [
    "for e,p in enumerate(onto.data_properties()):\n",
    "    p[dm]=[\"Test\"]\n",
    "    print(e,p==[p for p in list(onto.data_properties()) ][8])\n",
    "print(\"Done\")\n",
    "[p for p in list(onto.data_properties()) ][8][dm]=[\"Tester\"]"
   ]
  },
  {
   "cell_type": "code",
   "execution_count": null,
   "metadata": {},
   "outputs": [],
   "source": [
    "dir(onto)"
   ]
  },
  {
   "cell_type": "code",
   "execution_count": null,
   "metadata": {},
   "outputs": [],
   "source": [
    "onto.Class.instances(), onto.Attribute.instances(), onto.DataModel.instances(), onto.ModelDomain.instances()"
   ]
  },
  {
   "cell_type": "code",
   "execution_count": null,
   "metadata": {},
   "outputs": [],
   "source": [
    "onto.Attribute.instances()[0].get_properties()"
   ]
  },
  {
   "cell_type": "code",
   "execution_count": null,
   "metadata": {},
   "outputs": [],
   "source": [
    "list(onto.Attribute.instances()[0]._get_instance_possible_relations())"
   ]
  },
  {
   "cell_type": "code",
   "execution_count": null,
   "metadata": {},
   "outputs": [],
   "source": [
    "dir(onto.DataModel.instances()[0])"
   ]
  },
  {
   "cell_type": "code",
   "execution_count": null,
   "metadata": {},
   "outputs": [],
   "source": [
    "for p in onto.Attribute.instances()[0].get_properties():\n",
    "    print(p, p.python_name, p[onto.DataModel.instances()[0]])\n",
    "        "
   ]
  },
  {
   "cell_type": "code",
   "execution_count": null,
   "metadata": {},
   "outputs": [],
   "source": [
    "for p in onto.DataModel.instances()[0].get_properties():\n",
    "    print(p, p.python_name, p[onto.DataModel.instances()[0]])\n",
    "        "
   ]
  },
  {
   "cell_type": "code",
   "execution_count": null,
   "metadata": {},
   "outputs": [],
   "source": [
    "onto.ModelTypeCode[onto.DataModel.instances()[0]]=['Test']"
   ]
  },
  {
   "cell_type": "code",
   "execution_count": null,
   "metadata": {},
   "outputs": [],
   "source": [
    "onto.ModelTypeCode.python_name = \"mtc\"\n",
    "#onto.DataModel.instances()[0].mtc=[\"Conceptual\"]"
   ]
  },
  {
   "cell_type": "code",
   "execution_count": null,
   "metadata": {},
   "outputs": [],
   "source": [
    "onto.DataModel.instances()[0].ModelTypeCode"
   ]
  },
  {
   "cell_type": "code",
   "execution_count": null,
   "metadata": {},
   "outputs": [],
   "source": [
    "with onto:\n",
    "    owlr.sync_reasoner(raw_world)"
   ]
  },
  {
   "cell_type": "code",
   "execution_count": null,
   "metadata": {},
   "outputs": [],
   "source": [
    "[c for c in list(onto.classes()) if c==p_objects[0]['domain']][0].instances()"
   ]
  },
  {
   "cell_type": "code",
   "execution_count": null,
   "metadata": {},
   "outputs": [],
   "source": [
    "p_objects[0]['property'].is_functional_for(p_objects[0]['range'])"
   ]
  },
  {
   "cell_type": "code",
   "execution_count": null,
   "metadata": {},
   "outputs": [],
   "source": [
    "instantiate_property(None, p_objects[0]['domain'], p_objects[0]['property'], p_objects[0]['range_search_value'], p_objects[0]['range'], onto)"
   ]
  },
  {
   "cell_type": "code",
   "execution_count": null,
   "metadata": {},
   "outputs": [],
   "source": [
    "[(s,s.is_a, s.label) for s in s_objects]"
   ]
  },
  {
   "cell_type": "code",
   "execution_count": null,
   "metadata": {},
   "outputs": [],
   "source": [
    "[(c,c.iri, c.is_a, c.label) for c in onto.Class.instances()]"
   ]
  },
  {
   "cell_type": "code",
   "execution_count": null,
   "metadata": {},
   "outputs": [],
   "source": [
    "assert False"
   ]
  },
  {
   "cell_type": "code",
   "execution_count": null,
   "metadata": {},
   "outputs": [],
   "source": [
    "serials['Entity']"
   ]
  },
  {
   "cell_type": "code",
   "execution_count": null,
   "metadata": {},
   "outputs": [],
   "source": [
    "with onto:\n",
    "    owlr.sync_reasoner()"
   ]
  },
  {
   "cell_type": "code",
   "execution_count": null,
   "metadata": {},
   "outputs": [],
   "source": [
    "onto.get_properties()"
   ]
  },
  {
   "cell_type": "code",
   "execution_count": null,
   "metadata": {},
   "outputs": [],
   "source": [
    "list(onto.inconsistent_classes())"
   ]
  },
  {
   "cell_type": "code",
   "execution_count": null,
   "metadata": {},
   "outputs": [],
   "source": [
    "for c in list(onto.classes()):\n",
    "    print (c, c.instances())"
   ]
  },
  {
   "cell_type": "code",
   "execution_count": null,
   "metadata": {},
   "outputs": [],
   "source": []
  }
 ],
 "metadata": {
  "kernelspec": {
   "display_name": "Python 3",
   "language": "python",
   "name": "python3"
  },
  "language_info": {
   "codemirror_mode": {
    "name": "ipython",
    "version": 3
   },
   "file_extension": ".py",
   "mimetype": "text/x-python",
   "name": "python",
   "nbconvert_exporter": "python",
   "pygments_lexer": "ipython3",
   "version": "3.6.7"
  }
 },
 "nbformat": 4,
 "nbformat_minor": 2
}
